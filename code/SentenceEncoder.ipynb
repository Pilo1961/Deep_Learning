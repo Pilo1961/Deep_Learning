{
  "nbformat": 4,
  "nbformat_minor": 0,
  "metadata": {
    "colab": {
      "name": "SentenceEncoder.ipynb",
      "provenance": [],
      "authorship_tag": "ABX9TyOawmEmbeNwpzu3arzLr4Pc",
      "include_colab_link": true
    },
    "kernelspec": {
      "name": "python3",
      "display_name": "Python 3"
    },
    "accelerator": "GPU"
  },
  "cells": [
    {
      "cell_type": "markdown",
      "metadata": {
        "id": "view-in-github",
        "colab_type": "text"
      },
      "source": [
        "<a href=\"https://colab.research.google.com/github/Pilo1961/Deep_Learning/blob/master/code/SentenceEncoder.ipynb\" target=\"_parent\"><img src=\"https://colab.research.google.com/assets/colab-badge.svg\" alt=\"Open In Colab\"/></a>"
      ]
    },
    {
      "cell_type": "code",
      "metadata": {
        "id": "3EpgOu1TV38Q",
        "colab_type": "code",
        "colab": {}
      },
      "source": [
        "import numpy as np\n",
        "import pandas as pd\n",
        "import json\n",
        "\n",
        "\n",
        "# import stuff\n",
        "%load_ext autoreload\n",
        "%autoreload 2\n",
        "%matplotlib inline\n",
        "\n",
        "from random import randint\n",
        "import numpy as np\n",
        "import torch"
      ],
      "execution_count": 0,
      "outputs": []
    },
    {
      "cell_type": "markdown",
      "metadata": {
        "id": "F34FcKKrc7yN",
        "colab_type": "text"
      },
      "source": [
        "## Leer dataset"
      ]
    },
    {
      "cell_type": "code",
      "metadata": {
        "id": "TOvDf-vDWAz9",
        "colab_type": "code",
        "colab": {
          "base_uri": "https://localhost:8080/",
          "height": 129
        },
        "outputId": "98607d61-fe7c-47f9-b464-3c9719f83383"
      },
      "source": [
        "#load data from google drive\n",
        "from google.colab import drive\n",
        "drive.mount('/content/drive')\n",
        "path= \"/content/drive/My Drive/QA/train-v1.0.json\"\n",
        "train=pd.read_json(path,orient='columns')\n",
        "#path= \"/content/drive/My Drive/data/QA/dev-v2.0.json\"\n",
        "#test=pd.read_json(path)"
      ],
      "execution_count": 2,
      "outputs": [
        {
          "output_type": "stream",
          "text": [
            "Go to this URL in a browser: https://accounts.google.com/o/oauth2/auth?client_id=947318989803-6bn6qk8qdgf4n4g3pfee6491hc0brc4i.apps.googleusercontent.com&redirect_uri=urn%3aietf%3awg%3aoauth%3a2.0%3aoob&response_type=code&scope=email%20https%3a%2f%2fwww.googleapis.com%2fauth%2fdocs.test%20https%3a%2f%2fwww.googleapis.com%2fauth%2fdrive%20https%3a%2f%2fwww.googleapis.com%2fauth%2fdrive.photos.readonly%20https%3a%2f%2fwww.googleapis.com%2fauth%2fpeopleapi.readonly\n",
            "\n",
            "Enter your authorization code:\n",
            "··········\n",
            "Mounted at /content/drive\n"
          ],
          "name": "stdout"
        }
      ]
    },
    {
      "cell_type": "code",
      "metadata": {
        "id": "Ei6niZsVWFgu",
        "colab_type": "code",
        "colab": {
          "base_uri": "https://localhost:8080/",
          "height": 554
        },
        "outputId": "6d60a026-a070-45de-85ca-a580b326e466"
      },
      "source": [
        "# Lectura de datos\n",
        "with open(path) as f: \n",
        "    d = json.load(f) \n",
        "\n",
        "df=pd.json_normalize(data=d['data'],\n",
        "                        record_path=['paragraphs','qas','answers'],\n",
        "                        record_prefix=None,\n",
        "                        meta_prefix=None,\n",
        "                        meta=['title',\n",
        "                              ['paragraph','context'],\n",
        "                              ['paragraph','qas','question'],\n",
        "                              ['paragraph','qas','id']])\n",
        "\n",
        "df.rename(columns={'paragraph.context':'context','paragraph.qas.question':'question','paragraph.qas.id':'id'},inplace=True)\n",
        "df.head()"
      ],
      "execution_count": 3,
      "outputs": [
        {
          "output_type": "execute_result",
          "data": {
            "text/html": [
              "<div>\n",
              "<style scoped>\n",
              "    .dataframe tbody tr th:only-of-type {\n",
              "        vertical-align: middle;\n",
              "    }\n",
              "\n",
              "    .dataframe tbody tr th {\n",
              "        vertical-align: top;\n",
              "    }\n",
              "\n",
              "    .dataframe thead th {\n",
              "        text-align: right;\n",
              "    }\n",
              "</style>\n",
              "<table border=\"1\" class=\"dataframe\">\n",
              "  <thead>\n",
              "    <tr style=\"text-align: right;\">\n",
              "      <th></th>\n",
              "      <th>answer_start</th>\n",
              "      <th>text</th>\n",
              "      <th>title</th>\n",
              "      <th>context</th>\n",
              "      <th>question</th>\n",
              "      <th>id</th>\n",
              "    </tr>\n",
              "  </thead>\n",
              "  <tbody>\n",
              "    <tr>\n",
              "      <th>0</th>\n",
              "      <td>515</td>\n",
              "      <td>Saint Bernadette Soubirous</td>\n",
              "      <td>University_of_Notre_Dame</td>\n",
              "      <td>Architecturally, the school has a Catholic cha...</td>\n",
              "      <td>To whom did the Virgin Mary allegedly appear i...</td>\n",
              "      <td>5733be284776f41900661182</td>\n",
              "    </tr>\n",
              "    <tr>\n",
              "      <th>1</th>\n",
              "      <td>187</td>\n",
              "      <td>a copper statue of Christ</td>\n",
              "      <td>University_of_Notre_Dame</td>\n",
              "      <td>Architecturally, the school has a Catholic cha...</td>\n",
              "      <td>What is in front of the Notre Dame Main Building?</td>\n",
              "      <td>5733be284776f4190066117f</td>\n",
              "    </tr>\n",
              "    <tr>\n",
              "      <th>2</th>\n",
              "      <td>279</td>\n",
              "      <td>the Main Building</td>\n",
              "      <td>University_of_Notre_Dame</td>\n",
              "      <td>Architecturally, the school has a Catholic cha...</td>\n",
              "      <td>The Basilica of the Sacred heart at Notre Dame...</td>\n",
              "      <td>5733be284776f41900661180</td>\n",
              "    </tr>\n",
              "    <tr>\n",
              "      <th>3</th>\n",
              "      <td>381</td>\n",
              "      <td>a Marian place of prayer and reflection</td>\n",
              "      <td>University_of_Notre_Dame</td>\n",
              "      <td>Architecturally, the school has a Catholic cha...</td>\n",
              "      <td>What is the Grotto at Notre Dame?</td>\n",
              "      <td>5733be284776f41900661181</td>\n",
              "    </tr>\n",
              "    <tr>\n",
              "      <th>4</th>\n",
              "      <td>92</td>\n",
              "      <td>a golden statue of the Virgin Mary</td>\n",
              "      <td>University_of_Notre_Dame</td>\n",
              "      <td>Architecturally, the school has a Catholic cha...</td>\n",
              "      <td>What sits on top of the Main Building at Notre...</td>\n",
              "      <td>5733be284776f4190066117e</td>\n",
              "    </tr>\n",
              "  </tbody>\n",
              "</table>\n",
              "</div>"
            ],
            "text/plain": [
              "   answer_start  ...                        id\n",
              "0           515  ...  5733be284776f41900661182\n",
              "1           187  ...  5733be284776f4190066117f\n",
              "2           279  ...  5733be284776f41900661180\n",
              "3           381  ...  5733be284776f41900661181\n",
              "4            92  ...  5733be284776f4190066117e\n",
              "\n",
              "[5 rows x 6 columns]"
            ]
          },
          "metadata": {
            "tags": []
          },
          "execution_count": 3
        }
      ]
    },
    {
      "cell_type": "markdown",
      "metadata": {
        "id": "GWRrOo_QdCha",
        "colab_type": "text"
      },
      "source": [
        "## Infersent \n",
        "\n",
        "Usamos el embedding preentrenado de InferSent. El modelo se entreno con GLoVE"
      ]
    },
    {
      "cell_type": "code",
      "metadata": {
        "id": "q-IYAkjUWotB",
        "colab_type": "code",
        "colab": {
          "base_uri": "https://localhost:8080/",
          "height": 35
        },
        "outputId": "bdc8500d-2e16-401f-9ded-a3342c8660e8"
      },
      "source": [
        "#Importamos el pickle de infersent\n",
        "\n",
        "#importa el modulo models de infersent\n",
        "import sys\n",
        "sys.path.append('/content/drive/My Drive/QA/')\n",
        "from models import InferSent\n",
        "\n",
        "model_version = 1\n",
        "MODEL_PATH = \"/content/drive/My Drive/QA/infersent%s.pkl\" % model_version\n",
        "params_model = {'bsize': 64, 'word_emb_dim': 300, 'enc_lstm_dim': 2048,\n",
        "                'pool_type': 'max', 'dpout_model': 0.0, 'version': model_version}\n",
        "model = InferSent(params_model)\n",
        "model.load_state_dict(torch.load(MODEL_PATH))"
      ],
      "execution_count": 4,
      "outputs": [
        {
          "output_type": "execute_result",
          "data": {
            "text/plain": [
              "<All keys matched successfully>"
            ]
          },
          "metadata": {
            "tags": []
          },
          "execution_count": 4
        }
      ]
    },
    {
      "cell_type": "code",
      "metadata": {
        "id": "sKvpnUbqZREg",
        "colab_type": "code",
        "colab": {}
      },
      "source": [
        "# Importa el embedding word2Vec GLovE preentrnado\n",
        "W2V_PATH = '/content/drive/My Drive/QA/glove.840B.300d.txt' if model_version == 1 else 'fastText/crawl-300d-2M.vec'\n",
        "model.set_w2v_path(W2V_PATH)"
      ],
      "execution_count": 0,
      "outputs": []
    },
    {
      "cell_type": "markdown",
      "metadata": {
        "id": "wJZYXWkJxIZd",
        "colab_type": "text"
      },
      "source": [
        "### Embedding de contextos"
      ]
    },
    {
      "cell_type": "code",
      "metadata": {
        "id": "3-eBXvIpgAbJ",
        "colab_type": "code",
        "colab": {
          "base_uri": "https://localhost:8080/",
          "height": 54
        },
        "outputId": "7a9c6877-5733-4837-bc8a-0556032e5170"
      },
      "source": [
        "#tockeniza nuestros datos a oraciones\n",
        "import nltk\n",
        "nltk.download('punkt')\n",
        "from nltk.tokenize import sent_tokenize, word_tokenize\n",
        "\n",
        "\n",
        "contextos=df['context'].unique()\n",
        "data=[]\n",
        "for cont in contextos: # para cada contexto\n",
        "  sample=cont\n",
        "  for sent in sent_tokenize(sample): #Extrae las oraciones\n",
        "    data.append(sent.lower())"
      ],
      "execution_count": 30,
      "outputs": [
        {
          "output_type": "stream",
          "text": [
            "[nltk_data] Downloading package punkt to /root/nltk_data...\n",
            "[nltk_data]   Package punkt is already up-to-date!\n"
          ],
          "name": "stdout"
        }
      ]
    },
    {
      "cell_type": "code",
      "metadata": {
        "id": "_hom5aE-Z-8A",
        "colab_type": "code",
        "colab": {
          "base_uri": "https://localhost:8080/",
          "height": 54
        },
        "outputId": "6903a968-4b3a-4e97-e3db-5aa6247f9e61"
      },
      "source": [
        "# Load embeddings of K most frequent words\n",
        "model.build_vocab(data,tokenize=True)"
      ],
      "execution_count": 7,
      "outputs": [
        {
          "output_type": "stream",
          "text": [
            "Found 67305(/97682) words with w2v vectors\n",
            "Vocab size : 67305\n"
          ],
          "name": "stdout"
        }
      ]
    },
    {
      "cell_type": "code",
      "metadata": {
        "id": "SVNXaE1AaPB9",
        "colab_type": "code",
        "colab": {
          "base_uri": "https://localhost:8080/",
          "height": 35
        },
        "outputId": "320f792b-9767-4421-85ac-bf5502b93789"
      },
      "source": [
        "# numero de oraciones\n",
        "len(data)"
      ],
      "execution_count": 8,
      "outputs": [
        {
          "output_type": "execute_result",
          "data": {
            "text/plain": [
              "93576"
            ]
          },
          "metadata": {
            "tags": []
          },
          "execution_count": 8
        }
      ]
    },
    {
      "cell_type": "code",
      "metadata": {
        "id": "x8phkpY5bzyr",
        "colab_type": "code",
        "colab": {
          "base_uri": "https://localhost:8080/",
          "height": 129
        },
        "outputId": "635ebb82-0df2-4bc4-d432-eb47ef0bb072"
      },
      "source": [
        "data[:5]"
      ],
      "execution_count": 31,
      "outputs": [
        {
          "output_type": "execute_result",
          "data": {
            "text/plain": [
              "['architecturally, the school has a catholic character.',\n",
              " \"atop the main building's gold dome is a golden statue of the virgin mary.\",\n",
              " 'immediately in front of the main building and facing it, is a copper statue of christ with arms upraised with the legend \"venite ad me omnes\".',\n",
              " 'next to the main building is the basilica of the sacred heart.',\n",
              " 'immediately behind the basilica is the grotto, a marian place of prayer and reflection.']"
            ]
          },
          "metadata": {
            "tags": []
          },
          "execution_count": 31
        }
      ]
    },
    {
      "cell_type": "code",
      "metadata": {
        "id": "5pnDWEWJcMiL",
        "colab_type": "code",
        "colab": {
          "base_uri": "https://localhost:8080/",
          "height": 72
        },
        "outputId": "427e4ba3-83a2-49d6-f5d9-fcfac256bf05"
      },
      "source": [
        "#hacemos el encoding\n",
        "embeddings = model.encode(data, bsize=128, tokenize=False, verbose=True)\n",
        "print('nb sentences encoded : {0}'.format(len(embeddings)))"
      ],
      "execution_count": 10,
      "outputs": [
        {
          "output_type": "stream",
          "text": [
            "Nb words kept : 2067656/2391953 (86.4%)\n",
            "Speed : 46.4 sentences/s (cpu mode, bsize=128)\n",
            "nb sentences encoded : 93576\n"
          ],
          "name": "stdout"
        }
      ]
    },
    {
      "cell_type": "code",
      "metadata": {
        "id": "Rl_Pd0vQngBS",
        "colab_type": "code",
        "colab": {
          "base_uri": "https://localhost:8080/",
          "height": 35
        },
        "outputId": "fe24b241-28b5-4cc9-8255-8a3f7ac4219a"
      },
      "source": [
        "# dimensiones del embedding\n",
        "embeddings.shape"
      ],
      "execution_count": 15,
      "outputs": [
        {
          "output_type": "execute_result",
          "data": {
            "text/plain": [
              "(93576, 4096)"
            ]
          },
          "metadata": {
            "tags": []
          },
          "execution_count": 15
        }
      ]
    },
    {
      "cell_type": "code",
      "metadata": {
        "id": "K7CpgPzpunaI",
        "colab_type": "code",
        "colab": {}
      },
      "source": [
        "#diccionario con los embeddings\n",
        "dict_context_embedding=dict(zip(data,embeddings))"
      ],
      "execution_count": 0,
      "outputs": []
    },
    {
      "cell_type": "markdown",
      "metadata": {
        "id": "SJRFodOJxlEj",
        "colab_type": "text"
      },
      "source": [
        "### Embedding de preguntas"
      ]
    },
    {
      "cell_type": "code",
      "metadata": {
        "id": "udovufEcw9kh",
        "colab_type": "code",
        "colab": {}
      },
      "source": [
        "questions=list(df['question'])\n",
        "q_tokens=[]\n",
        "for q in questions: # para ca\n",
        "  #qq=sent_tokenize(q) #Extrae las oraciones\n",
        "  q_tokens.append(sent_tokenize(q.lower()))"
      ],
      "execution_count": 0,
      "outputs": []
    },
    {
      "cell_type": "code",
      "metadata": {
        "id": "I6UwjqXOyEIy",
        "colab_type": "code",
        "colab": {
          "base_uri": "https://localhost:8080/",
          "height": 109
        },
        "outputId": "dfd390d0-fabd-4351-8cc2-93c721c28174"
      },
      "source": [
        "q_tokens[:5]"
      ],
      "execution_count": 58,
      "outputs": [
        {
          "output_type": "execute_result",
          "data": {
            "text/plain": [
              "[['to whom did the virgin mary allegedly appear in 1858 in lourdes france?'],\n",
              " ['what is in front of the notre dame main building?'],\n",
              " ['the basilica of the sacred heart at notre dame is beside to which structure?'],\n",
              " ['what is the grotto at notre dame?'],\n",
              " ['what sits on top of the main building at notre dame?']]"
            ]
          },
          "metadata": {
            "tags": []
          },
          "execution_count": 58
        }
      ]
    },
    {
      "cell_type": "code",
      "metadata": {
        "id": "oJNJO20syEOl",
        "colab_type": "code",
        "colab": {
          "base_uri": "https://localhost:8080/",
          "height": 35
        },
        "outputId": "eb529e13-1aa6-4d68-e682-12bed5882b58"
      },
      "source": [
        "#hacemos el encoding\n",
        "q_embeddings = model.encode(questions, bsize=128, tokenize=False, verbose=True)\n",
        "print('nb sentences encoded : {0}'.format(len(embeddings)))"
      ],
      "execution_count": 0,
      "outputs": [
        {
          "output_type": "stream",
          "text": [
            "Nb words kept : 774596/1056966 (73.3%)\n"
          ],
          "name": "stdout"
        }
      ]
    },
    {
      "cell_type": "code",
      "metadata": {
        "id": "FNu3KItG4u8e",
        "colab_type": "code",
        "colab": {}
      },
      "source": [
        "# dimensiones del embedding\n",
        "q_embeddings.shape"
      ],
      "execution_count": 0,
      "outputs": []
    },
    {
      "cell_type": "code",
      "metadata": {
        "id": "atsEYYI14vR3",
        "colab_type": "code",
        "colab": {}
      },
      "source": [
        "#diccionario con los embeddings\n",
        "dict_context_embedding=dict(zip(questions,q_embeddings))"
      ],
      "execution_count": 0,
      "outputs": []
    },
    {
      "cell_type": "code",
      "metadata": {
        "id": "LTUK7SqSwDQO",
        "colab_type": "code",
        "colab": {}
      },
      "source": [
        "import pickle\n",
        "with open(\"/content/drive/My Drive/QA/q-embedding.pickle\", 'wb') as handle:\n",
        "    pickle.dump(df, handle)"
      ],
      "execution_count": 0,
      "outputs": []
    },
    {
      "cell_type": "markdown",
      "metadata": {
        "id": "_kcs0gxQ45Cl",
        "colab_type": "text"
      },
      "source": [
        "## Distancia entre oraciones"
      ]
    },
    {
      "cell_type": "code",
      "metadata": {
        "id": "dDp8eZ9c4-Nw",
        "colab_type": "code",
        "colab": {}
      },
      "source": [
        "def cosine(u, v):\n",
        "    return np.dot(u, v) / (np.linalg.norm(u) * np.linalg.norm(v))"
      ],
      "execution_count": 0,
      "outputs": []
    },
    {
      "cell_type": "code",
      "metadata": {
        "id": "eKNnZPwn5Hen",
        "colab_type": "code",
        "colab": {}
      },
      "source": [
        "print(\"Pregunta:\")\n",
        "print(questions[0])\n",
        "for i in range(10):\n",
        "  print(i)\n",
        "  print(data[i])\n",
        "  print(cosine(embeddings[i], q_embeddings[0]))"
      ],
      "execution_count": 0,
      "outputs": []
    },
    {
      "cell_type": "code",
      "metadata": {
        "id": "guFF49PA5StU",
        "colab_type": "code",
        "colab": {}
      },
      "source": [
        ""
      ],
      "execution_count": 0,
      "outputs": []
    },
    {
      "cell_type": "code",
      "metadata": {
        "id": "Bb74aHlT5S4o",
        "colab_type": "code",
        "colab": {}
      },
      "source": [
        ":\n",
        "\n",
        "idx = randint(0, len(sentences))\n",
        "_, _ = model.visualize(sentences[idx])\n",
        "\n"
      ],
      "execution_count": 0,
      "outputs": []
    }
  ]
}
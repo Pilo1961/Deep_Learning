{
  "nbformat": 4,
  "nbformat_minor": 0,
  "metadata": {
    "colab": {
      "name": "embedding_encoder.ipynb",
      "provenance": [],
      "authorship_tag": "ABX9TyOpWnoxVAh6RlZTirEQPIzq",
      "include_colab_link": true
    },
    "kernelspec": {
      "name": "python3",
      "display_name": "Python 3"
    },
    "accelerator": "GPU"
  },
  "cells": [
    {
      "cell_type": "markdown",
      "metadata": {
        "id": "view-in-github",
        "colab_type": "text"
      },
      "source": [
        "<a href=\"https://colab.research.google.com/github/Pilo1961/Deep_Learning/blob/master/proyecto_final/embedding_encoder.ipynb\" target=\"_parent\"><img src=\"https://colab.research.google.com/assets/colab-badge.svg\" alt=\"Open In Colab\"/></a>"
      ]
    },
    {
      "cell_type": "markdown",
      "metadata": {
        "id": "Gy4N52_i3eqN",
        "colab_type": "text"
      },
      "source": [
        "# Notebook settings"
      ]
    },
    {
      "cell_type": "code",
      "metadata": {
        "id": "fY31a_-J3inM",
        "colab_type": "code",
        "colab": {}
      },
      "source": [
        "# mount drive \n",
        "from google.colab import drive\n",
        "drive.mount('/content/drive')"
      ],
      "execution_count": 0,
      "outputs": []
    },
    {
      "cell_type": "code",
      "metadata": {
        "id": "o5VViq7s6b4r",
        "colab_type": "code",
        "colab": {}
      },
      "source": [
        "import pandas as pd\n",
        "import numpy as np"
      ],
      "execution_count": 0,
      "outputs": []
    },
    {
      "cell_type": "markdown",
      "metadata": {
        "id": "zdvBmJ_Y3nh0",
        "colab_type": "text"
      },
      "source": [
        "# Load original embedding"
      ]
    },
    {
      "cell_type": "code",
      "metadata": {
        "id": "MeuS-1q75h80",
        "colab_type": "code",
        "colab": {}
      },
      "source": [
        "import pickle\n",
        "with open(\"/content/drive/My Drive/embeddings_jp/infersent.pkl\", 'rb') as f:\n",
        "  embedding = pickle.load(f) "
      ],
      "execution_count": 0,
      "outputs": []
    },
    {
      "cell_type": "code",
      "metadata": {
        "id": "VB1WAlbF5sl1",
        "colab_type": "code",
        "colab": {
          "base_uri": "https://localhost:8080/",
          "height": 134
        },
        "outputId": "921bcd57-3479-467b-9a6f-28e0872d6955"
      },
      "source": [
        "print(embedding.shape)\n",
        "embedding[:3]"
      ],
      "execution_count": 29,
      "outputs": [
        {
          "output_type": "stream",
          "text": [
            "(40455, 4096)\n"
          ],
          "name": "stdout"
        },
        {
          "output_type": "execute_result",
          "data": {
            "text/plain": [
              "array([[ 0.11873719,  0.10112942,  0.12876803, ...,  0.00032374,\n",
              "         0.04836883, -0.02892261],\n",
              "       [ 0.07628956,  0.06044864,  0.06517435, ...,  0.06192993,\n",
              "        -0.02031367, -0.02892261],\n",
              "       [ 0.0685316 ,  0.04440689,  0.05773415, ...,  0.04789802,\n",
              "        -0.03814263, -0.02892261]], dtype=float32)"
            ]
          },
          "metadata": {
            "tags": []
          },
          "execution_count": 29
        }
      ]
    },
    {
      "cell_type": "markdown",
      "metadata": {
        "id": "AWR_BsMl35Sd",
        "colab_type": "text"
      },
      "source": [
        "# train y test"
      ]
    },
    {
      "cell_type": "code",
      "metadata": {
        "id": "BRtT6XH56AJf",
        "colab_type": "code",
        "colab": {}
      },
      "source": [
        "def train_test(df):\n",
        "  x_train = df[df.index % 5 != 0]     # Excludes every 5th row starting from 0\n",
        "  x_test = df[df.index % 5 == 0]      # Selects every 5th row starting from 0\n",
        "  return x_train, x_test"
      ],
      "execution_count": 0,
      "outputs": []
    },
    {
      "cell_type": "code",
      "metadata": {
        "id": "5KJYz9wO6KAS",
        "colab_type": "code",
        "outputId": "aa184196-5cea-44da-adb0-89ed02481f19",
        "colab": {
          "base_uri": "https://localhost:8080/",
          "height": 50
        }
      },
      "source": [
        "df_emb=pd.DataFrame(embedding)\n",
        "df_emb.head()\n",
        "\n",
        "emb_train, emb_test= train_test(df_emb)\n",
        "print(emb_train.shape)\n",
        "print(emb_test.shape)"
      ],
      "execution_count": 13,
      "outputs": [
        {
          "output_type": "stream",
          "text": [
            "(32364, 4096)\n",
            "(8091, 4096)\n"
          ],
          "name": "stdout"
        }
      ]
    },
    {
      "cell_type": "markdown",
      "metadata": {
        "id": "iXSK674S3_jO",
        "colab_type": "text"
      },
      "source": [
        "# Variational AE"
      ]
    },
    {
      "cell_type": "code",
      "metadata": {
        "id": "b51MIXm66Kg7",
        "colab_type": "code",
        "colab": {}
      },
      "source": [
        "from tensorflow.keras.losses import binary_crossentropy\n",
        "from keras.optimizers import adam\n",
        "from keras import backend as K\n",
        "from tensorflow.keras.models import Sequential, Model\n",
        "import tensorflow as tf\n",
        "tf.config.experimental_run_functions_eagerly(True)\n",
        "from tensorflow.keras.layers import concatenate, Embedding, Dense, Dropout, Reshape, UpSampling2D, Conv2D, BatchNormalization, Activation, Input, Concatenate, LeakyReLU, Flatten, Lambda"
      ],
      "execution_count": 0,
      "outputs": []
    },
    {
      "cell_type": "code",
      "metadata": {
        "id": "G8qfv0gw4Zef",
        "colab_type": "code",
        "colab": {}
      },
      "source": [
        "# AUX -- VAE custom loss (DKL + BCE)\n",
        "def vae_loss(x, x_hat):\n",
        "\n",
        "    # E[log P(X|z)] - BCE\n",
        "    reconst = binary_crossentropy(tf.keras.backend.flatten(x), tf.keras.backend.flatten(x_hat))\n",
        "    # D_KL(Q(z|X) || P(z|X))\n",
        "    dkl = -0.5 * tf.reduce_sum(1 + log_sigma - tf.square(mu) - tf.exp(log_sigma), axis=-1)\n",
        "    return reconst + 0.00003 * dkl"
      ],
      "execution_count": 0,
      "outputs": []
    },
    {
      "cell_type": "code",
      "metadata": {
        "id": "egbUpYje6nRf",
        "colab_type": "code",
        "outputId": "4ca2d3c8-6a4a-4205-9f9b-c26a37809b51",
        "colab": {
          "base_uri": "https://localhost:8080/",
          "height": 252
        }
      },
      "source": [
        "latent_len=1024\n",
        "\n",
        "# AUX function -- Sampler\n",
        "def sample_z(args):\n",
        "    mean, var = args\n",
        "    batch_size = tf.shape(mean)[0]\n",
        "    eps = tf.random.normal(shape=(batch_size, latent_len))\n",
        "    return mean + tf.exp(var) * eps\n",
        "\n",
        "# Esto se debe de ir a models\n",
        "#def create_embedding_compressor(len_embedding=20):\n",
        "'''\n",
        "Crea la red discrimidaora de la primera etapa\n",
        "'''\n",
        "# Q(z|x) -- Define encoder\n",
        "in_layer = Input(shape=(4096,), name='INPUT')\n",
        "h_q = Dense(1024, activation='relu', name='H_Q')(in_layer)\n",
        "\n",
        "mu = Dense(latent_len, activation='linear', name='MU')(h_q)\n",
        "log_sigma = Dense(latent_len, activation='linear', name='SIGMA')(h_q)\n",
        "\n",
        "# Espacio latente\n",
        "z = Lambda(sample_z, name='Z')([mu, log_sigma])\n",
        "\n",
        "# P(x|z) -- Define decoder\n",
        "decode_in_layer = Input(shape=(latent_len,), name='IN_DECOD')\n",
        "decode_hidden = Dense(1024, activation='relu', name='H_P')(decode_in_layer)\n",
        "decode_out_layer = Dense(4096, activation='sigmoid', name='OUT')(decode_hidden)\n",
        "\n",
        "encoder = Model(in_layer, z, name='ENCODER')\n",
        "decoder = Model(decode_in_layer, decode_out_layer, name='DECODER')\n",
        "\n",
        "# Create full Variational Autoencoder\n",
        "out_layer = decoder(encoder(in_layer))\n",
        "vae = Model(in_layer, out_layer, name='VAE')\n",
        "\n",
        "vae.summary()\n",
        "\n",
        "\n",
        "#return Model(inputs=[input_layer],outputs=[emb])\n"
      ],
      "execution_count": 0,
      "outputs": [
        {
          "output_type": "stream",
          "text": [
            "Model: \"VAE\"\n",
            "_________________________________________________________________\n",
            "Layer (type)                 Output Shape              Param #   \n",
            "=================================================================\n",
            "INPUT (InputLayer)           [(None, 4096)]            0         \n",
            "_________________________________________________________________\n",
            "ENCODER (Model)              (None, 1024)              6294528   \n",
            "_________________________________________________________________\n",
            "DECODER (Model)              (None, 4096)              5248000   \n",
            "=================================================================\n",
            "Total params: 11,542,528\n",
            "Trainable params: 11,542,528\n",
            "Non-trainable params: 0\n",
            "_________________________________________________________________\n"
          ],
          "name": "stdout"
        }
      ]
    },
    {
      "cell_type": "code",
      "metadata": {
        "id": "V397ZOwb4Llm",
        "colab_type": "code",
        "colab": {}
      },
      "source": [
        "#compilar"
      ],
      "execution_count": 0,
      "outputs": []
    },
    {
      "cell_type": "code",
      "metadata": {
        "id": "xj9jzGt24Lr2",
        "colab_type": "code",
        "colab": {}
      },
      "source": [
        ""
      ],
      "execution_count": 0,
      "outputs": []
    },
    {
      "cell_type": "markdown",
      "metadata": {
        "id": "pU4A8c1K4OoH",
        "colab_type": "text"
      },
      "source": [
        "# "
      ]
    },
    {
      "cell_type": "markdown",
      "metadata": {
        "id": "ffimT4A04QOI",
        "colab_type": "text"
      },
      "source": [
        "# Autoencoder\n",
        "con espacio latente de 1024"
      ]
    },
    {
      "cell_type": "code",
      "metadata": {
        "id": "YTuz5NJc8Fwm",
        "colab_type": "code",
        "outputId": "9a247a44-da11-4b9e-f5ed-c58ee602bb8e",
        "colab": {
          "base_uri": "https://localhost:8080/",
          "height": 252
        }
      },
      "source": [
        "latent_len=1024\n",
        "# Q(z|x) -- Define encoder\n",
        "in_layer = Input(shape=(4096,), name='INPUT')\n",
        "h_q = Dense(latent_len, activation='relu', name='H_Q')(in_layer)\n",
        "\n",
        "decode_in_layer = Input(shape=(latent_len,), name='IN_DECOD')\n",
        "decode_out_layer = Dense(4096, activation='sigmoid', name='OUT')(decode_in_layer)\n",
        "\n",
        "encoder = Model(in_layer, h_q, name='ENCODER')\n",
        "decoder = Model(decode_in_layer, decode_out_layer, name='DECODER')\n",
        "\n",
        "# Create full Variational Autoencoder\n",
        "out_layer = decoder(encoder(in_layer))\n",
        "ae = Model(in_layer, out_layer, name='VAE')\n",
        "\n",
        "ae.summary()\n",
        "\n"
      ],
      "execution_count": 16,
      "outputs": [
        {
          "output_type": "stream",
          "text": [
            "Model: \"VAE\"\n",
            "_________________________________________________________________\n",
            "Layer (type)                 Output Shape              Param #   \n",
            "=================================================================\n",
            "INPUT (InputLayer)           [(None, 4096)]            0         \n",
            "_________________________________________________________________\n",
            "ENCODER (Model)              (None, 1024)              4195328   \n",
            "_________________________________________________________________\n",
            "DECODER (Model)              (None, 4096)              4198400   \n",
            "=================================================================\n",
            "Total params: 8,393,728\n",
            "Trainable params: 8,393,728\n",
            "Non-trainable params: 0\n",
            "_________________________________________________________________\n"
          ],
          "name": "stdout"
        }
      ]
    },
    {
      "cell_type": "code",
      "metadata": {
        "id": "n7Fn0r-t6to_",
        "colab_type": "code",
        "outputId": "5da5a87d-f6d1-447d-e289-7a16bef229c7",
        "colab": {
          "base_uri": "https://localhost:8080/",
          "height": 1000
        }
      },
      "source": [
        "# Compile and train\n",
        "batch_size=100\n",
        "ae.compile(optimizer='adam', loss='mse', experimental_run_tf_function=False)\n",
        "history = ae.fit(emb_train, emb_train, epochs=50, batch_size=batch_size, validation_split=0.2)"
      ],
      "execution_count": 17,
      "outputs": [
        {
          "output_type": "stream",
          "text": [
            "Epoch 1/50\n",
            "259/259 [==============================] - 3s 12ms/step - loss: 0.0084 - val_loss: 0.0044\n",
            "Epoch 2/50\n",
            "259/259 [==============================] - 3s 11ms/step - loss: 0.0043 - val_loss: 0.0042\n",
            "Epoch 3/50\n",
            "259/259 [==============================] - 3s 11ms/step - loss: 0.0041 - val_loss: 0.0041\n",
            "Epoch 4/50\n",
            "259/259 [==============================] - 3s 11ms/step - loss: 0.0041 - val_loss: 0.0041\n",
            "Epoch 5/50\n",
            "259/259 [==============================] - 3s 11ms/step - loss: 0.0040 - val_loss: 0.0039\n",
            "Epoch 6/50\n",
            "259/259 [==============================] - 3s 11ms/step - loss: 0.0039 - val_loss: 0.0038\n",
            "Epoch 7/50\n",
            "259/259 [==============================] - 3s 11ms/step - loss: 0.0037 - val_loss: 0.0037\n",
            "Epoch 8/50\n",
            "259/259 [==============================] - 3s 11ms/step - loss: 0.0036 - val_loss: 0.0035\n",
            "Epoch 9/50\n",
            "259/259 [==============================] - 3s 11ms/step - loss: 0.0034 - val_loss: 0.0033\n",
            "Epoch 10/50\n",
            "259/259 [==============================] - 3s 11ms/step - loss: 0.0031 - val_loss: 0.0028\n",
            "Epoch 11/50\n",
            "259/259 [==============================] - 3s 11ms/step - loss: 0.0020 - val_loss: 0.0013\n",
            "Epoch 12/50\n",
            "259/259 [==============================] - 3s 11ms/step - loss: 0.0011 - val_loss: 0.0011\n",
            "Epoch 13/50\n",
            "259/259 [==============================] - 3s 11ms/step - loss: 0.0010 - val_loss: 9.9023e-04\n",
            "Epoch 14/50\n",
            "259/259 [==============================] - 3s 12ms/step - loss: 9.6495e-04 - val_loss: 9.5201e-04\n",
            "Epoch 15/50\n",
            "259/259 [==============================] - 3s 11ms/step - loss: 9.3019e-04 - val_loss: 9.2223e-04\n",
            "Epoch 16/50\n",
            "259/259 [==============================] - 3s 11ms/step - loss: 9.0261e-04 - val_loss: 9.0042e-04\n",
            "Epoch 17/50\n",
            "259/259 [==============================] - 3s 11ms/step - loss: 8.8008e-04 - val_loss: 8.8055e-04\n",
            "Epoch 18/50\n",
            "259/259 [==============================] - 3s 11ms/step - loss: 8.6070e-04 - val_loss: 8.6311e-04\n",
            "Epoch 19/50\n",
            "259/259 [==============================] - 3s 11ms/step - loss: 8.4427e-04 - val_loss: 8.4870e-04\n",
            "Epoch 20/50\n",
            "259/259 [==============================] - 3s 11ms/step - loss: 8.2903e-04 - val_loss: 8.3665e-04\n",
            "Epoch 21/50\n",
            "259/259 [==============================] - 3s 11ms/step - loss: 8.1524e-04 - val_loss: 8.2178e-04\n",
            "Epoch 22/50\n",
            "259/259 [==============================] - 3s 11ms/step - loss: 8.0208e-04 - val_loss: 8.1180e-04\n",
            "Epoch 23/50\n",
            "259/259 [==============================] - 3s 11ms/step - loss: 7.9056e-04 - val_loss: 8.0098e-04\n",
            "Epoch 24/50\n",
            "259/259 [==============================] - 3s 11ms/step - loss: 7.7958e-04 - val_loss: 7.9319e-04\n",
            "Epoch 25/50\n",
            "259/259 [==============================] - 3s 11ms/step - loss: 7.6967e-04 - val_loss: 7.8205e-04\n",
            "Epoch 26/50\n",
            "259/259 [==============================] - 3s 11ms/step - loss: 7.6017e-04 - val_loss: 7.7445e-04\n",
            "Epoch 27/50\n",
            "259/259 [==============================] - 3s 11ms/step - loss: 7.5132e-04 - val_loss: 7.7352e-04\n",
            "Epoch 28/50\n",
            "259/259 [==============================] - 3s 11ms/step - loss: 7.4311e-04 - val_loss: 7.5896e-04\n",
            "Epoch 29/50\n",
            "259/259 [==============================] - 3s 11ms/step - loss: 7.3507e-04 - val_loss: 7.5251e-04\n",
            "Epoch 30/50\n",
            "259/259 [==============================] - 3s 11ms/step - loss: 7.2773e-04 - val_loss: 7.4873e-04\n",
            "Epoch 31/50\n",
            "259/259 [==============================] - 3s 11ms/step - loss: 7.2032e-04 - val_loss: 7.3870e-04\n",
            "Epoch 32/50\n",
            "259/259 [==============================] - 3s 11ms/step - loss: 7.1336e-04 - val_loss: 7.3380e-04\n",
            "Epoch 33/50\n",
            "259/259 [==============================] - 3s 11ms/step - loss: 7.0692e-04 - val_loss: 7.2895e-04\n",
            "Epoch 34/50\n",
            "259/259 [==============================] - 3s 11ms/step - loss: 7.0169e-04 - val_loss: 7.2378e-04\n",
            "Epoch 35/50\n",
            "259/259 [==============================] - 3s 11ms/step - loss: 6.9531e-04 - val_loss: 7.1728e-04\n",
            "Epoch 36/50\n",
            "259/259 [==============================] - 3s 11ms/step - loss: 6.9014e-04 - val_loss: 7.1314e-04\n",
            "Epoch 37/50\n",
            "259/259 [==============================] - 3s 11ms/step - loss: 6.8473e-04 - val_loss: 7.0838e-04\n",
            "Epoch 38/50\n",
            "259/259 [==============================] - 3s 12ms/step - loss: 6.7946e-04 - val_loss: 7.0507e-04\n",
            "Epoch 39/50\n",
            "259/259 [==============================] - 3s 12ms/step - loss: 6.7502e-04 - val_loss: 7.0013e-04\n",
            "Epoch 40/50\n",
            "259/259 [==============================] - 3s 12ms/step - loss: 6.7031e-04 - val_loss: 7.0947e-04\n",
            "Epoch 41/50\n",
            "259/259 [==============================] - 3s 11ms/step - loss: 6.6588e-04 - val_loss: 6.9239e-04\n",
            "Epoch 42/50\n",
            "259/259 [==============================] - 3s 11ms/step - loss: 6.6162e-04 - val_loss: 6.8884e-04\n",
            "Epoch 43/50\n",
            "259/259 [==============================] - 3s 11ms/step - loss: 6.5752e-04 - val_loss: 6.8731e-04\n",
            "Epoch 44/50\n",
            "259/259 [==============================] - 3s 11ms/step - loss: 6.5378e-04 - val_loss: 6.8210e-04\n",
            "Epoch 45/50\n",
            "259/259 [==============================] - 3s 11ms/step - loss: 6.4993e-04 - val_loss: 6.8027e-04\n",
            "Epoch 46/50\n",
            "259/259 [==============================] - 3s 11ms/step - loss: 6.4627e-04 - val_loss: 6.7678e-04\n",
            "Epoch 47/50\n",
            "259/259 [==============================] - 3s 11ms/step - loss: 6.4279e-04 - val_loss: 6.7342e-04\n",
            "Epoch 48/50\n",
            "259/259 [==============================] - 3s 12ms/step - loss: 6.3972e-04 - val_loss: 6.7098e-04\n",
            "Epoch 49/50\n",
            "259/259 [==============================] - 3s 12ms/step - loss: 6.3632e-04 - val_loss: 6.6796e-04\n",
            "Epoch 50/50\n",
            "259/259 [==============================] - 3s 11ms/step - loss: 6.3325e-04 - val_loss: 6.6674e-04\n"
          ],
          "name": "stdout"
        }
      ]
    },
    {
      "cell_type": "code",
      "metadata": {
        "id": "x9m3hCmr6wnW",
        "colab_type": "code",
        "colab": {}
      },
      "source": [
        "import matplotlib.pyplot as plt\n",
        "\n",
        "# Plot distribution of latent space\n",
        "x_test_encoded = encoder.predict(emb_test, batch_size=100)\n",
        "x_train_encoded = encoder.predict(emb_train, batch_size=100)"
      ],
      "execution_count": 0,
      "outputs": []
    },
    {
      "cell_type": "code",
      "metadata": {
        "id": "kLUH99Ub-kjD",
        "colab_type": "code",
        "outputId": "65e50637-a7fa-4b0f-e6c5-5dbb971d4ad3",
        "colab": {
          "base_uri": "https://localhost:8080/",
          "height": 151
        }
      },
      "source": [
        "x_test_encoded[:,:5]"
      ],
      "execution_count": 19,
      "outputs": [
        {
          "output_type": "execute_result",
          "data": {
            "text/plain": [
              "array([[0.        , 0.5610996 , 0.        , 0.34479994, 0.        ],\n",
              "       [0.        , 0.30461955, 0.12039989, 0.12426432, 0.7890891 ],\n",
              "       [0.        , 0.90518224, 0.39800376, 0.22064382, 0.        ],\n",
              "       ...,\n",
              "       [0.        , 1.9959584 , 0.        , 0.30751395, 0.61663896],\n",
              "       [0.        , 1.144478  , 0.7492657 , 0.6294413 , 0.29044333],\n",
              "       [0.        , 1.1893557 , 0.        , 0.15808952, 0.        ]],\n",
              "      dtype=float32)"
            ]
          },
          "metadata": {
            "tags": []
          },
          "execution_count": 19
        }
      ]
    },
    {
      "cell_type": "code",
      "metadata": {
        "id": "-jPc2nCeA58n",
        "colab_type": "code",
        "outputId": "91dce20d-776c-4d9e-ef4d-2352f0d46969",
        "colab": {
          "base_uri": "https://localhost:8080/",
          "height": 34
        }
      },
      "source": [
        "x_train_encoded.shape"
      ],
      "execution_count": 20,
      "outputs": [
        {
          "output_type": "execute_result",
          "data": {
            "text/plain": [
              "(32364, 1024)"
            ]
          },
          "metadata": {
            "tags": []
          },
          "execution_count": 20
        }
      ]
    },
    {
      "cell_type": "code",
      "metadata": {
        "id": "tx5JIUOK-kpG",
        "colab_type": "code",
        "outputId": "ee362445-c792-44fd-e927-8008339e8e13",
        "colab": {
          "base_uri": "https://localhost:8080/",
          "height": 178
        }
      },
      "source": [
        "plt.figure(figsize=(32, 3))\n",
        "plt.boxplot(x_test_encoded[:,:150])\n",
        "plt.xlabel('Latent space variables')\n",
        "plt.ylabel('Values distribution')\n",
        "plt.grid()\n",
        "plt.show()"
      ],
      "execution_count": 21,
      "outputs": [
        {
          "output_type": "display_data",
          "data": {
            "image/png": "[encoded data removed]",
            "text/plain": [
              "<Figure size 2304x216 with 1 Axes>"
            ]
          },
          "metadata": {
            "tags": [],
            "needs_background": "light"
          }
        }
      ]
    },
    {
      "cell_type": "code",
      "metadata": {
        "id": "NNEvDAXj_PJG",
        "colab_type": "code",
        "colab": {}
      },
      "source": [
        "  with open(\"/content/drive/My Drive/embeddings_jp/infersent_1024_encoding.pkl\", 'wb') as f:\n",
        "    pickle.dump(x_train_encoded,f) "
      ],
      "execution_count": 0,
      "outputs": []
    },
    {
      "cell_type": "markdown",
      "metadata": {
        "id": "aQoJUp5j5FZK",
        "colab_type": "text"
      },
      "source": [
        "# Autoencoder\n",
        "con espacio latente de 2048"
      ]
    },
    {
      "cell_type": "code",
      "metadata": {
        "id": "quw9YTtLAiZY",
        "colab_type": "code",
        "colab": {
          "base_uri": "https://localhost:8080/",
          "height": 252
        },
        "outputId": "cd231301-bb29-4d01-c20e-c83bb00b6208"
      },
      "source": [
        "latent_len=2048\n",
        "# Q(z|x) -- Define encoder\n",
        "in_layer = Input(shape=(4096,), name='INPUT')\n",
        "h_q = Dense(latent_len, activation='relu', name='H_Q')(in_layer)\n",
        "\n",
        "decode_in_layer = Input(shape=(latent_len,), name='IN_DECOD')\n",
        "decode_out_layer = Dense(4096, activation='sigmoid', name='OUT')(decode_in_layer)\n",
        "\n",
        "encoder = Model(in_layer, h_q, name='ENCODER')\n",
        "decoder = Model(decode_in_layer, decode_out_layer, name='DECODER')\n",
        "\n",
        "# Create full Variational Autoencoder\n",
        "out_layer = decoder(encoder(in_layer))\n",
        "ae = Model(in_layer, out_layer, name='VAE')\n",
        "\n",
        "ae.summary()\n",
        "\n"
      ],
      "execution_count": 22,
      "outputs": [
        {
          "output_type": "stream",
          "text": [
            "Model: \"VAE\"\n",
            "_________________________________________________________________\n",
            "Layer (type)                 Output Shape              Param #   \n",
            "=================================================================\n",
            "INPUT (InputLayer)           [(None, 4096)]            0         \n",
            "_________________________________________________________________\n",
            "ENCODER (Model)              (None, 2048)              8390656   \n",
            "_________________________________________________________________\n",
            "DECODER (Model)              (None, 4096)              8392704   \n",
            "=================================================================\n",
            "Total params: 16,783,360\n",
            "Trainable params: 16,783,360\n",
            "Non-trainable params: 0\n",
            "_________________________________________________________________\n"
          ],
          "name": "stdout"
        }
      ]
    },
    {
      "cell_type": "code",
      "metadata": {
        "id": "rMwftRf75NEP",
        "colab_type": "code",
        "colab": {
          "base_uri": "https://localhost:8080/",
          "height": 1000
        },
        "outputId": "9599ef0e-6911-4a0a-c05a-e3c5e365d5b9"
      },
      "source": [
        "# Compile and train\n",
        "batch_size=100\n",
        "ae.compile(optimizer='adam', loss='mse', experimental_run_tf_function=False)\n",
        "history = ae.fit(emb_train, emb_train, epochs=50, batch_size=batch_size, validation_split=0.2)"
      ],
      "execution_count": 23,
      "outputs": [
        {
          "output_type": "stream",
          "text": [
            "Epoch 1/50\n",
            "259/259 [==============================] - 3s 13ms/step - loss: 0.0077 - val_loss: 0.0045\n",
            "Epoch 2/50\n",
            "259/259 [==============================] - 3s 12ms/step - loss: 0.0044 - val_loss: 0.0045\n",
            "Epoch 3/50\n",
            "259/259 [==============================] - 3s 12ms/step - loss: 0.0044 - val_loss: 0.0045\n",
            "Epoch 4/50\n",
            "259/259 [==============================] - 3s 12ms/step - loss: 0.0044 - val_loss: 0.0045\n",
            "Epoch 5/50\n",
            "259/259 [==============================] - 3s 12ms/step - loss: 0.0044 - val_loss: 0.0045\n",
            "Epoch 6/50\n",
            "259/259 [==============================] - 3s 12ms/step - loss: 0.0044 - val_loss: 0.0045\n",
            "Epoch 7/50\n",
            "259/259 [==============================] - 3s 12ms/step - loss: 0.0044 - val_loss: 0.0045\n",
            "Epoch 8/50\n",
            "259/259 [==============================] - 3s 12ms/step - loss: 0.0044 - val_loss: 0.0045\n",
            "Epoch 9/50\n",
            "259/259 [==============================] - 3s 13ms/step - loss: 0.0044 - val_loss: 0.0045\n",
            "Epoch 10/50\n",
            "259/259 [==============================] - 3s 12ms/step - loss: 0.0044 - val_loss: 0.0045\n",
            "Epoch 11/50\n",
            "259/259 [==============================] - 3s 12ms/step - loss: 0.0044 - val_loss: 0.0045\n",
            "Epoch 12/50\n",
            "259/259 [==============================] - 3s 13ms/step - loss: 0.0044 - val_loss: 0.0045\n",
            "Epoch 13/50\n",
            "259/259 [==============================] - 3s 12ms/step - loss: 0.0044 - val_loss: 0.0045\n",
            "Epoch 14/50\n",
            "259/259 [==============================] - 3s 12ms/step - loss: 0.0044 - val_loss: 0.0045\n",
            "Epoch 15/50\n",
            "259/259 [==============================] - 3s 13ms/step - loss: 0.0044 - val_loss: 0.0045\n",
            "Epoch 16/50\n",
            "259/259 [==============================] - 3s 12ms/step - loss: 0.0044 - val_loss: 0.0045\n",
            "Epoch 17/50\n",
            "259/259 [==============================] - 3s 12ms/step - loss: 0.0044 - val_loss: 0.0045\n",
            "Epoch 18/50\n",
            "259/259 [==============================] - 3s 12ms/step - loss: 0.0044 - val_loss: 0.0045\n",
            "Epoch 19/50\n",
            "259/259 [==============================] - 3s 12ms/step - loss: 0.0044 - val_loss: 0.0045\n",
            "Epoch 20/50\n",
            "259/259 [==============================] - 3s 12ms/step - loss: 0.0044 - val_loss: 0.0045\n",
            "Epoch 21/50\n",
            "259/259 [==============================] - 3s 12ms/step - loss: 0.0044 - val_loss: 0.0044\n",
            "Epoch 22/50\n",
            "259/259 [==============================] - 3s 12ms/step - loss: 0.0044 - val_loss: 0.0044\n",
            "Epoch 23/50\n",
            "259/259 [==============================] - 3s 12ms/step - loss: 0.0044 - val_loss: 0.0044\n",
            "Epoch 24/50\n",
            "259/259 [==============================] - 3s 12ms/step - loss: 0.0044 - val_loss: 0.0044\n",
            "Epoch 25/50\n",
            "259/259 [==============================] - 3s 12ms/step - loss: 0.0044 - val_loss: 0.0044\n",
            "Epoch 26/50\n",
            "259/259 [==============================] - 3s 13ms/step - loss: 0.0044 - val_loss: 0.0044\n",
            "Epoch 27/50\n",
            "259/259 [==============================] - 3s 12ms/step - loss: 0.0044 - val_loss: 0.0044\n",
            "Epoch 28/50\n",
            "259/259 [==============================] - 3s 12ms/step - loss: 0.0044 - val_loss: 0.0044\n",
            "Epoch 29/50\n",
            "259/259 [==============================] - 3s 12ms/step - loss: 0.0044 - val_loss: 0.0044\n",
            "Epoch 30/50\n",
            "259/259 [==============================] - 3s 13ms/step - loss: 0.0044 - val_loss: 0.0044\n",
            "Epoch 31/50\n",
            "259/259 [==============================] - 3s 12ms/step - loss: 0.0044 - val_loss: 0.0044\n",
            "Epoch 32/50\n",
            "259/259 [==============================] - 3s 12ms/step - loss: 0.0044 - val_loss: 0.0044\n",
            "Epoch 33/50\n",
            "259/259 [==============================] - 3s 13ms/step - loss: 0.0044 - val_loss: 0.0044\n",
            "Epoch 34/50\n",
            "259/259 [==============================] - 3s 12ms/step - loss: 0.0044 - val_loss: 0.0044\n",
            "Epoch 35/50\n",
            "259/259 [==============================] - 3s 12ms/step - loss: 0.0044 - val_loss: 0.0044\n",
            "Epoch 36/50\n",
            "259/259 [==============================] - 3s 12ms/step - loss: 0.0044 - val_loss: 0.0044\n",
            "Epoch 37/50\n",
            "259/259 [==============================] - 3s 12ms/step - loss: 0.0044 - val_loss: 0.0044\n",
            "Epoch 38/50\n",
            "259/259 [==============================] - 3s 12ms/step - loss: 0.0044 - val_loss: 0.0044\n",
            "Epoch 39/50\n",
            "259/259 [==============================] - 3s 12ms/step - loss: 0.0044 - val_loss: 0.0044\n",
            "Epoch 40/50\n",
            "259/259 [==============================] - 3s 12ms/step - loss: 0.0044 - val_loss: 0.0044\n",
            "Epoch 41/50\n",
            "259/259 [==============================] - 3s 13ms/step - loss: 0.0044 - val_loss: 0.0044\n",
            "Epoch 42/50\n",
            "259/259 [==============================] - 3s 12ms/step - loss: 0.0044 - val_loss: 0.0044\n",
            "Epoch 43/50\n",
            "259/259 [==============================] - 3s 13ms/step - loss: 0.0044 - val_loss: 0.0044\n",
            "Epoch 44/50\n",
            "259/259 [==============================] - 3s 12ms/step - loss: 0.0043 - val_loss: 0.0044\n",
            "Epoch 45/50\n",
            "259/259 [==============================] - 3s 12ms/step - loss: 0.0043 - val_loss: 0.0043\n",
            "Epoch 46/50\n",
            "259/259 [==============================] - 3s 12ms/step - loss: 0.0028 - val_loss: 0.0017\n",
            "Epoch 47/50\n",
            "259/259 [==============================] - 3s 12ms/step - loss: 0.0014 - val_loss: 0.0012\n",
            "Epoch 48/50\n",
            "259/259 [==============================] - 3s 12ms/step - loss: 0.0011 - val_loss: 0.0010\n",
            "Epoch 49/50\n",
            "259/259 [==============================] - 3s 13ms/step - loss: 9.8531e-04 - val_loss: 9.5886e-04\n",
            "Epoch 50/50\n",
            "259/259 [==============================] - 3s 12ms/step - loss: 9.1959e-04 - val_loss: 8.9823e-04\n"
          ],
          "name": "stdout"
        }
      ]
    },
    {
      "cell_type": "code",
      "metadata": {
        "id": "6rJg7a0N5RVn",
        "colab_type": "code",
        "colab": {}
      },
      "source": [
        "# Plot distribution of latent space\n",
        "x_test_encoded = encoder.predict(emb_test, batch_size=100)\n",
        "x_train_encoded = encoder.predict(emb_train, batch_size=100)\n",
        "encoded_embedding=encoder.predict(embedding, batch_size=100)"
      ],
      "execution_count": 0,
      "outputs": []
    },
    {
      "cell_type": "code",
      "metadata": {
        "id": "FpCu1ZQL5XfN",
        "colab_type": "code",
        "colab": {
          "base_uri": "https://localhost:8080/",
          "height": 177
        },
        "outputId": "62739a51-ba3a-449b-8809-dada75830123"
      },
      "source": [
        "#asi se ven los primeros 150 entradas del espacio latente\n",
        "plt.figure(figsize=(32, 3))\n",
        "plt.boxplot(encoded_embedding[:,:150])\n",
        "plt.xlabel('Latent space variables')\n",
        "plt.ylabel('Values distribution')\n",
        "plt.grid()\n",
        "plt.show()"
      ],
      "execution_count": 31,
      "outputs": [
        {
          "output_type": "display_data",
          "data": {
            "image/png": "[encoded data removed]",
            "text/plain": [
              "<Figure size 2304x216 with 1 Axes>"
            ]
          },
          "metadata": {
            "tags": [],
            "needs_background": "light"
          }
        }
      ]
    },
    {
      "cell_type": "code",
      "metadata": {
        "id": "dB17XpfW5afq",
        "colab_type": "code",
        "colab": {}
      },
      "source": [
        "  with open(\"/content/drive/My Drive/embeddings_jp/infersent_2048_encoding.pkl\", 'wb') as f:\n",
        "    pickle.dump(encoded_embedding,f)"
      ],
      "execution_count": 0,
      "outputs": []
    },
    {
      "cell_type": "code",
      "metadata": {
        "id": "5ko3BQTO6bcv",
        "colab_type": "code",
        "colab": {}
      },
      "source": [
        ""
      ],
      "execution_count": 0,
      "outputs": []
    }
  ]
}
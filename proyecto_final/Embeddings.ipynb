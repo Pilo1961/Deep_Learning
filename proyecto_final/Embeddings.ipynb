{
  "nbformat": 4,
  "nbformat_minor": 0,
  "metadata": {
    "colab": {
      "name": "Embeddings.ipynb",
      "provenance": [],
      "authorship_tag": "ABX9TyNcGMOKrqSnTmZEaHiY+WcB",
      "include_colab_link": true
    },
    "kernelspec": {
      "name": "python3",
      "display_name": "Python 3"
    },
    "accelerator": "GPU"
  },
  "cells": [
    {
      "cell_type": "markdown",
      "metadata": {
        "id": "view-in-github",
        "colab_type": "text"
      },
      "source": [
        "<a href=\"https://colab.research.google.com/github/Pilo1961/Deep_Learning/blob/master/proyecto_final/Embeddings.ipynb\" target=\"_parent\"><img src=\"https://colab.research.google.com/assets/colab-badge.svg\" alt=\"Open In Colab\"/></a>"
      ]
    },
    {
      "cell_type": "code",
      "metadata": {
        "id": "B3uDHK7_9wJg",
        "colab_type": "code",
        "outputId": "d717bb0b-1bd2-4e6c-cb42-70bdd7c85344",
        "colab": {
          "base_uri": "https://localhost:8080/",
          "height": 121
        }
      },
      "source": [
        "# mount drive \n",
        "from google.colab import drive\n",
        "drive.mount('/content/drive')"
      ],
      "execution_count": 0,
      "outputs": [
        {
          "output_type": "stream",
          "text": [
            "Go to this URL in a browser: https://accounts.google.com/o/oauth2/auth?client_id=947318989803-6bn6qk8qdgf4n4g3pfee6491hc0brc4i.apps.googleusercontent.com&redirect_uri=urn%3aietf%3awg%3aoauth%3a2.0%3aoob&response_type=code&scope=email%20https%3a%2f%2fwww.googleapis.com%2fauth%2fdocs.test%20https%3a%2f%2fwww.googleapis.com%2fauth%2fdrive%20https%3a%2f%2fwww.googleapis.com%2fauth%2fdrive.photos.readonly%20https%3a%2f%2fwww.googleapis.com%2fauth%2fpeopleapi.readonly\n",
            "\n",
            "Enter your authorization code:\n",
            "··········\n",
            "Mounted at /content/drive\n"
          ],
          "name": "stdout"
        }
      ]
    },
    {
      "cell_type": "code",
      "metadata": {
        "id": "Pw2zj01ZAuHE",
        "colab_type": "code",
        "colab": {}
      },
      "source": [
        "import pandas as pd\n",
        "import numpy as np"
      ],
      "execution_count": 0,
      "outputs": []
    },
    {
      "cell_type": "code",
      "metadata": {
        "id": "2FHbS3y5Az0l",
        "colab_type": "code",
        "colab": {}
      },
      "source": [
        "#esto se debe de ir al modulo util\n",
        "def add_fileName(df):\n",
        "  '''\n",
        "    Add filename column to the ID-description list\n",
        "  '''\n",
        "  df['filename']='a'\n",
        "  for index, row in df.iterrows():\n",
        "      try:\n",
        "        new_name = row['ID'][:-6] + '_' + row['ID'][-1] + '.jpg'\n",
        "        row['filename']=new_name\n",
        "      except:\n",
        "        found_n.append(row['ID'])\n",
        "\n",
        "  return df\n"
      ],
      "execution_count": 0,
      "outputs": []
    },
    {
      "cell_type": "markdown",
      "metadata": {
        "id": "wRin4d8F94ve",
        "colab_type": "text"
      },
      "source": [
        "Primero hay que poner como construimos el mbedding chafa\n"
      ]
    },
    {
      "cell_type": "code",
      "metadata": {
        "id": "5TYoOnmM9zMS",
        "colab_type": "code",
        "outputId": "3fe105de-164b-4856-cc93-79e50c2e0614",
        "colab": {
          "base_uri": "https://localhost:8080/",
          "height": 104
        }
      },
      "source": [
        "# Libraries required\n",
        "from textblob import TextBlob\n",
        "import matplotlib.pyplot as  plt\n",
        "import nltk\n",
        "import seaborn as sns\n",
        "nltk.download('punkt')\n",
        "\n",
        "%matplotlib inline"
      ],
      "execution_count": 0,
      "outputs": [
        {
          "output_type": "stream",
          "text": [
            "/usr/local/lib/python3.6/dist-packages/statsmodels/tools/_testing.py:19: FutureWarning: pandas.util.testing is deprecated. Use the functions in the public API at pandas.testing instead.\n",
            "  import pandas.util.testing as tm\n"
          ],
          "name": "stderr"
        },
        {
          "output_type": "stream",
          "text": [
            "[nltk_data] Downloading package punkt to /root/nltk_data...\n",
            "[nltk_data]   Unzipping tokenizers/punkt.zip.\n"
          ],
          "name": "stdout"
        }
      ]
    },
    {
      "cell_type": "code",
      "metadata": {
        "id": "FaC8tuSmAZUM",
        "colab_type": "code",
        "outputId": "237c3121-e4c9-4a17-ce64-23d736c397b2",
        "colab": {
          "base_uri": "https://localhost:8080/",
          "height": 50
        }
      },
      "source": [
        "# Load data\n",
        "df = pd.read_csv(\"/content/drive/My Drive/Flickr8k.token.txt\", sep='\\t', names=['ID', 'Text'], index_col=False)\n",
        "df=add_fileName(df)\n",
        "print(df.shape)\n",
        "\n",
        "# Remove entries with nan values\n",
        "df.dropna(inplace=True)\n",
        "df.isnull().values.any()\n",
        "df.head()\n",
        "\n",
        "#Quito los registros de una imagen que falta\n",
        "df.drop([6730,6731,6732,6733,6734],inplace=True)\n",
        "df.reset_index()\n",
        "df.shape"
      ],
      "execution_count": 0,
      "outputs": [
        {
          "output_type": "stream",
          "text": [
            "(40460, 3)\n"
          ],
          "name": "stdout"
        },
        {
          "output_type": "execute_result",
          "data": {
            "text/plain": [
              "(40455, 3)"
            ]
          },
          "metadata": {
            "tags": []
          },
          "execution_count": 8
        }
      ]
    },
    {
      "cell_type": "code",
      "metadata": {
        "id": "bqzNcS3lVcK0",
        "colab_type": "code",
        "outputId": "6fcd1e8d-219a-46d9-8c36-821e175eae42",
        "colab": {
          "base_uri": "https://localhost:8080/",
          "height": 87
        }
      },
      "source": [
        "from nltk.corpus import stopwords\n",
        "nltk.download('stopwords')\n",
        "STOPWORDS = set(stopwords.words('english'))\n",
        "\n",
        "# Imprime el set\n",
        "print(STOPWORDS)\n",
        "\n",
        "# Aux funcción para substituir abreciacioes\n",
        "import re\n",
        "def decontracted(phrase):\n",
        "  phrase = re.sub(r\"won't\", \"will not\", phrase)\n",
        "  phrase = re.sub(r\"can\\'t\", \"can not\", phrase)\n",
        "  phrase = re.sub(r\"n\\'t\", \" not\", phrase)\n",
        "  phrase = re.sub(r\"\\'re\", \" are\", phrase)\n",
        "  phrase = re.sub(r\"\\'s\", \" is\", phrase)\n",
        "  phrase = re.sub(r\"\\'d\", \" would\", phrase)\n",
        "  phrase = re.sub(r\"\\'ll\", \" will\", phrase)\n",
        "  phrase = re.sub(r\"\\'t\", \" not\", phrase)\n",
        "  phrase = re.sub(r\"\\'ve\", \" have\", phrase)\n",
        "  phrase = re.sub(r\"\\'m\", \" am\", phrase)\n",
        "  return phrase\n",
        "\n",
        "  # Set adicional de stopwords, removeremos palabras tanto de este set como del que\n",
        "# viene definido en el nltk\n",
        "stopwords= set(['br', 'the', 'i', 'me', 'my', 'myself', 'we', 'our', 'ours', 'ourselves', 'you', \"you're\", \"you've\",\\\n",
        "            \"you'll\", \"you'd\", 'your', 'yours', 'yourself', 'yourselves', 'he', 'him', 'his', 'himself', \\\n",
        "            'she', \"she's\", 'her', 'hers', 'herself', 'it', \"it's\", 'its', 'itself', 'they', 'them', 'their',\\\n",
        "            'theirs', 'themselves', 'what', 'which', 'who', 'whom', 'this', 'that', \"that'll\", 'these', 'those', \\\n",
        "            'am', 'is', 'are', 'was', 'were', 'be', 'been', 'being', 'have', 'has', 'had', 'having', 'do', 'does', \\\n",
        "            'did', 'doing', 'a', 'an', 'the', 'and', 'but', 'if', 'or', 'because', 'as', 'until', 'while', 'of', \\\n",
        "            'at', 'by', 'for', 'with', 'about', 'against', 'between', 'into', 'through', 'during', 'before', 'after',\\\n",
        "            'above', 'below', 'to', 'from', 'up', 'down', 'in', 'out', 'on', 'off', 'over', 'under', 'again', 'further',\\\n",
        "            'then', 'once', 'here', 'there', 'when', 'where', 'why', 'how', 'all', 'any', 'both', 'each', 'few', 'more',\\\n",
        "            'most', 'other', 'some', 'such', 'only', 'own', 'same', 'so', 'than', 'too', 'very', \\\n",
        "            's', 't', 'can', 'will', 'just', 'don', \"don't\", 'should', \"should've\", 'now', 'd', 'll', 'm', 'o', 're', \\\n",
        "            've', 'y', 'ain', 'aren', \"aren't\", 'couldn', \"couldn't\", 'didn', \"didn't\", 'doesn', \"doesn't\", 'hadn',\\\n",
        "            \"hadn't\", 'hasn', \"hasn't\", 'haven', \"haven't\", 'isn', \"isn't\", 'ma', 'mightn', \"mightn't\", 'mustn',\\\n",
        "            \"mustn't\", 'needn', \"needn't\", 'shan', \"shan't\", 'shouldn', \"shouldn't\", 'wasn', \"wasn't\", 'weren', \"weren't\", \\\n",
        "            'won', \"won't\", 'wouldn', \"wouldn't\"])"
      ],
      "execution_count": 0,
      "outputs": [
        {
          "output_type": "stream",
          "text": [
            "[nltk_data] Downloading package stopwords to /root/nltk_data...\n",
            "[nltk_data]   Package stopwords is already up-to-date!\n",
            "{'having', 'themselves', 'they', 'until', \"haven't\", \"mightn't\", 'don', 'in', 'we', 'down', 've', 'ma', 'or', 'now', 'by', 'did', \"needn't\", 'then', 'ours', 'for', 'myself', 'further', 'which', 'both', 'been', 'after', 'nor', 'him', 'had', 'them', 'this', 'should', 're', 'haven', 'with', 'during', \"you've\", 'y', 'and', 'himself', 'each', 'same', \"it's\", 'why', 's', 'aren', 'o', 'who', 'have', 'he', \"should've\", 'd', 'how', 'above', \"you'll\", 'just', 'too', 'into', 'through', 'their', 'while', \"hadn't\", 'can', 'out', 'wouldn', \"you're\", 'here', 'yourself', 'before', \"don't\", 'most', 'all', 'needn', 'ourselves', 'were', 'me', \"couldn't\", 'will', 'up', 'itself', 'his', 'no', 'has', 'once', 'hadn', 'when', 'own', \"mustn't\", 'over', 'be', 'there', 'it', 'yourselves', \"hasn't\", 'any', \"won't\", 'herself', 'because', 'than', 'being', 'are', \"isn't\", 'shan', 'theirs', 'whom', 'ain', 'those', 'between', 'am', 'if', 'to', 'couldn', \"shan't\", \"wouldn't\", 'what', \"weren't\", 'about', 'such', 'she', \"wasn't\", 'doesn', 'weren', 'didn', 'doing', 'mightn', 'i', 'more', 'm', 'where', 'your', 'won', 'isn', 'against', 'on', 'but', 'few', 'my', 'other', 'shouldn', 'you', 'only', 'hasn', \"you'd\", 'below', \"shouldn't\", 'is', 'so', 'hers', \"she's\", 'that', 'under', 'yours', 'at', 'these', 'wasn', 'of', 'do', \"didn't\", 'not', 'a', 'again', 'very', 'our', 'll', 'the', 'off', 't', 'does', 'its', 'as', 'an', \"aren't\", 'some', 'her', 'was', \"that'll\", 'mustn', 'from', \"doesn't\"}\n"
          ],
          "name": "stdout"
        }
      ]
    },
    {
      "cell_type": "code",
      "metadata": {
        "id": "DnyMlszbVihf",
        "colab_type": "code",
        "colab": {}
      },
      "source": [
        "# Función auxiliar para remover stopwords y otras normalizaciones de texto\n",
        "# (Aqui puedes incluir el lematizador o stemming si gustas explorarlos)\n",
        "def remove_stopwords(dataframe):\n",
        "  SYNS = []\n",
        "  for sentance in dataframe:\n",
        "    sentance = re.sub(r\"http\\S+\", \"\", sentance)\n",
        "    sentance = decontracted(sentance)\n",
        "    sentance = re.sub(\"\\S*\\d\\S*\", \"\", sentance).strip()\n",
        "    sentance = re.sub('[^A-Za-z]+', ' ', sentance)\n",
        "    sentance = ' '.join(e.lower() for e in sentance.split() if e.lower() not in stopwords)\n",
        "    sentance = ' '.join(e.lower() for e in sentance.split() if e.lower() not in STOPWORDS)\n",
        "    SYNS.append(sentance.strip())\n",
        "  return SYNS"
      ],
      "execution_count": 0,
      "outputs": []
    },
    {
      "cell_type": "code",
      "metadata": {
        "id": "eTg2qadEVnsH",
        "colab_type": "code",
        "outputId": "fd20a65d-8390-4c63-d10d-1ea60e41d659",
        "colab": {
          "base_uri": "https://localhost:8080/",
          "height": 101
        }
      },
      "source": [
        "print(df[\"Text\"][1:5])\n",
        "contextos=remove_stopwords(df[\"Text\"])"
      ],
      "execution_count": 0,
      "outputs": [
        {
          "output_type": "stream",
          "text": [
            "1                A girl going into a wooden building .\n",
            "2     A little girl climbing into a wooden playhouse .\n",
            "3    A little girl climbing the stairs to her playh...\n",
            "4    A little girl in a pink dress going into a woo...\n",
            "Name: Text, dtype: object\n"
          ],
          "name": "stdout"
        }
      ]
    },
    {
      "cell_type": "code",
      "metadata": {
        "id": "vD3iTQdsX2sh",
        "colab_type": "code",
        "outputId": "7915ee53-c048-4f03-f841-bd00a5f3541c",
        "colab": {
          "base_uri": "https://localhost:8080/",
          "height": 50
        }
      },
      "source": [
        "print(len(contextos))\n",
        "len(df[\"Text\"])"
      ],
      "execution_count": 0,
      "outputs": [
        {
          "output_type": "stream",
          "text": [
            "40455\n"
          ],
          "name": "stdout"
        },
        {
          "output_type": "execute_result",
          "data": {
            "text/plain": [
              "40455"
            ]
          },
          "metadata": {
            "tags": []
          },
          "execution_count": 86
        }
      ]
    },
    {
      "cell_type": "code",
      "metadata": {
        "id": "eQ-ROiMRAZZI",
        "colab_type": "code",
        "colab": {}
      },
      "source": [
        "\n",
        "# Numero de oraciones por contexto\n",
        "num_sent=[]\n",
        "for i in range(len(contextos)):\n",
        "  num_sent=np.append(num_sent, len(TextBlob(contextos[i]).sentences))"
      ],
      "execution_count": 0,
      "outputs": []
    },
    {
      "cell_type": "code",
      "metadata": {
        "id": "j267T57WAZbk",
        "colab_type": "code",
        "outputId": "3097e101-c075-4a72-eb34-5624e9884650",
        "colab": {
          "base_uri": "https://localhost:8080/",
          "height": 284
        }
      },
      "source": [
        "sns.set(style=\"darkgrid\")\n",
        "g = sns.distplot(num_sent, kde=False, rug =True, color=\"b\", bins=15)\n",
        "g.set_title(\"Oraciones por contexto\")\n",
        "g.set_ylabel('Conteo')\n",
        "plt.show()"
      ],
      "execution_count": 0,
      "outputs": [
        {
          "output_type": "display_data",
          "data": {
            "image/png": "[encoded data removed]",
            "text/plain": [
              "<Figure size 432x288 with 1 Axes>"
            ]
          },
          "metadata": {
            "tags": []
          }
        }
      ]
    },
    {
      "cell_type": "code",
      "metadata": {
        "id": "9xDsMT5aBLEV",
        "colab_type": "code",
        "outputId": "a3181a39-5f70-4c24-c1ab-746165330bb9",
        "colab": {
          "base_uri": "https://localhost:8080/",
          "height": 301
        }
      },
      "source": [
        "#Todos son de 1 sola oracion\n",
        "print(np.quantile(num_sent,.99))\n",
        "pd.DataFrame(num_sent).describe()"
      ],
      "execution_count": 0,
      "outputs": [
        {
          "output_type": "stream",
          "text": [
            "1.0\n"
          ],
          "name": "stdout"
        },
        {
          "output_type": "execute_result",
          "data": {
            "text/html": [
              "<div>\n",
              "<style scoped>\n",
              "    .dataframe tbody tr th:only-of-type {\n",
              "        vertical-align: middle;\n",
              "    }\n",
              "\n",
              "    .dataframe tbody tr th {\n",
              "        vertical-align: top;\n",
              "    }\n",
              "\n",
              "    .dataframe thead th {\n",
              "        text-align: right;\n",
              "    }\n",
              "</style>\n",
              "<table border=\"1\" class=\"dataframe\">\n",
              "  <thead>\n",
              "    <tr style=\"text-align: right;\">\n",
              "      <th></th>\n",
              "      <th>0</th>\n",
              "    </tr>\n",
              "  </thead>\n",
              "  <tbody>\n",
              "    <tr>\n",
              "      <th>count</th>\n",
              "      <td>40455.000000</td>\n",
              "    </tr>\n",
              "    <tr>\n",
              "      <th>mean</th>\n",
              "      <td>0.999951</td>\n",
              "    </tr>\n",
              "    <tr>\n",
              "      <th>std</th>\n",
              "      <td>0.007031</td>\n",
              "    </tr>\n",
              "    <tr>\n",
              "      <th>min</th>\n",
              "      <td>0.000000</td>\n",
              "    </tr>\n",
              "    <tr>\n",
              "      <th>25%</th>\n",
              "      <td>1.000000</td>\n",
              "    </tr>\n",
              "    <tr>\n",
              "      <th>50%</th>\n",
              "      <td>1.000000</td>\n",
              "    </tr>\n",
              "    <tr>\n",
              "      <th>75%</th>\n",
              "      <td>1.000000</td>\n",
              "    </tr>\n",
              "    <tr>\n",
              "      <th>max</th>\n",
              "      <td>1.000000</td>\n",
              "    </tr>\n",
              "  </tbody>\n",
              "</table>\n",
              "</div>"
            ],
            "text/plain": [
              "                  0\n",
              "count  40455.000000\n",
              "mean       0.999951\n",
              "std        0.007031\n",
              "min        0.000000\n",
              "25%        1.000000\n",
              "50%        1.000000\n",
              "75%        1.000000\n",
              "max        1.000000"
            ]
          },
          "metadata": {
            "tags": []
          },
          "execution_count": 89
        }
      ]
    },
    {
      "cell_type": "code",
      "metadata": {
        "id": "dwOyHu3fBLJW",
        "colab_type": "code",
        "outputId": "e8198bff-5d29-4502-b706-0942c2fb6539",
        "colab": {
          "base_uri": "https://localhost:8080/",
          "height": 34
        }
      },
      "source": [
        "#Numero de palabras en todos los contextos\n",
        "corpus= TextBlob(\" \".join(contextos)).words\n",
        "len(corpus)"
      ],
      "execution_count": 0,
      "outputs": [
        {
          "output_type": "execute_result",
          "data": {
            "text/plain": [
              "251805"
            ]
          },
          "metadata": {
            "tags": []
          },
          "execution_count": 90
        }
      ]
    },
    {
      "cell_type": "code",
      "metadata": {
        "id": "I5RBUOtuBLLq",
        "colab_type": "code",
        "outputId": "6b02d8ec-600a-4285-95c0-5f89951295e8",
        "colab": {
          "base_uri": "https://localhost:8080/",
          "height": 318
        }
      },
      "source": [
        "\n",
        "#palabras por oracion\n",
        "word_sent=[len(TextBlob(sentence).words) for sentence in contextos]\n",
        "\n",
        "\n",
        "sns.set(style=\"darkgrid\")\n",
        "g = sns.distplot(word_sent, kde=False, rug =True, color=\"b\", bins=15)\n",
        "g.set_title(\"Palabras por oración\")\n",
        "g.set_ylabel('Conteo')\n",
        "plt.show()\n",
        "\n",
        "\n",
        "print(\"max= \",max(word_sent))\n",
        "print(\"min= \",min(word_sent))"
      ],
      "execution_count": 0,
      "outputs": [
        {
          "output_type": "display_data",
          "data": {
            "image/png": "[encoded data removed]",
            "text/plain": [
              "<Figure size 432x288 with 1 Axes>"
            ]
          },
          "metadata": {
            "tags": []
          }
        },
        {
          "output_type": "stream",
          "text": [
            "max=  21\n",
            "min=  0\n"
          ],
          "name": "stdout"
        }
      ]
    },
    {
      "cell_type": "code",
      "metadata": {
        "id": "KOPoxHw9icsj",
        "colab_type": "code",
        "outputId": "68d4360a-3a5e-4423-c7f1-7b1ab4760bf2",
        "colab": {
          "base_uri": "https://localhost:8080/",
          "height": 34
        }
      },
      "source": [
        "contextos[900]"
      ],
      "execution_count": 0,
      "outputs": [
        {
          "output_type": "execute_result",
          "data": {
            "text/plain": [
              "'two children laughing grass'"
            ]
          },
          "metadata": {
            "tags": []
          },
          "execution_count": 92
        }
      ]
    },
    {
      "cell_type": "code",
      "metadata": {
        "id": "gW_EIJBmBLNu",
        "colab_type": "code",
        "outputId": "d2067c00-f96c-4938-b2a8-7a634c26f545",
        "colab": {
          "base_uri": "https://localhost:8080/",
          "height": 301
        }
      },
      "source": [
        "print(np.quantile(word_sent,.96))\n",
        "pd.DataFrame(word_sent).describe()"
      ],
      "execution_count": 0,
      "outputs": [
        {
          "output_type": "stream",
          "text": [
            "10.0\n"
          ],
          "name": "stdout"
        },
        {
          "output_type": "execute_result",
          "data": {
            "text/html": [
              "<div>\n",
              "<style scoped>\n",
              "    .dataframe tbody tr th:only-of-type {\n",
              "        vertical-align: middle;\n",
              "    }\n",
              "\n",
              "    .dataframe tbody tr th {\n",
              "        vertical-align: top;\n",
              "    }\n",
              "\n",
              "    .dataframe thead th {\n",
              "        text-align: right;\n",
              "    }\n",
              "</style>\n",
              "<table border=\"1\" class=\"dataframe\">\n",
              "  <thead>\n",
              "    <tr style=\"text-align: right;\">\n",
              "      <th></th>\n",
              "      <th>0</th>\n",
              "    </tr>\n",
              "  </thead>\n",
              "  <tbody>\n",
              "    <tr>\n",
              "      <th>count</th>\n",
              "      <td>40455.000000</td>\n",
              "    </tr>\n",
              "    <tr>\n",
              "      <th>mean</th>\n",
              "      <td>6.224323</td>\n",
              "    </tr>\n",
              "    <tr>\n",
              "      <th>std</th>\n",
              "      <td>2.083165</td>\n",
              "    </tr>\n",
              "    <tr>\n",
              "      <th>min</th>\n",
              "      <td>0.000000</td>\n",
              "    </tr>\n",
              "    <tr>\n",
              "      <th>25%</th>\n",
              "      <td>5.000000</td>\n",
              "    </tr>\n",
              "    <tr>\n",
              "      <th>50%</th>\n",
              "      <td>6.000000</td>\n",
              "    </tr>\n",
              "    <tr>\n",
              "      <th>75%</th>\n",
              "      <td>7.000000</td>\n",
              "    </tr>\n",
              "    <tr>\n",
              "      <th>max</th>\n",
              "      <td>21.000000</td>\n",
              "    </tr>\n",
              "  </tbody>\n",
              "</table>\n",
              "</div>"
            ],
            "text/plain": [
              "                  0\n",
              "count  40455.000000\n",
              "mean       6.224323\n",
              "std        2.083165\n",
              "min        0.000000\n",
              "25%        5.000000\n",
              "50%        6.000000\n",
              "75%        7.000000\n",
              "max       21.000000"
            ]
          },
          "metadata": {
            "tags": []
          },
          "execution_count": 121
        }
      ]
    },
    {
      "cell_type": "code",
      "metadata": {
        "id": "0EVPWKi2BLR6",
        "colab_type": "code",
        "colab": {}
      },
      "source": [
        "import torch\n",
        "import cython\n",
        "from nltk.tokenize import sent_tokenize, word_tokenize\n",
        "import gensim\n",
        "from gensim.models import Word2Vec"
      ],
      "execution_count": 0,
      "outputs": []
    },
    {
      "cell_type": "code",
      "metadata": {
        "id": "7Ir8iWiZBLUR",
        "colab_type": "code",
        "colab": {}
      },
      "source": [
        "\n",
        "#Hace el corpus\n",
        "data=[]\n",
        "i=0\n",
        "for cont in contextos: # para cada contexto\n",
        "  sample=cont\n",
        "  for sent in sent_tokenize(sample): # Extrae las oraciones\n",
        "    temp=[]\n",
        "    for j in word_tokenize(sent): #Extrae las palabras\n",
        "      temp.append(j.lower())\n",
        "\n",
        "    data.append(temp)"
      ],
      "execution_count": 0,
      "outputs": []
    },
    {
      "cell_type": "code",
      "metadata": {
        "id": "fvbieo7nBLQD",
        "colab_type": "code",
        "outputId": "3b3188fc-d532-48ac-cc3a-2cf821be4b42",
        "colab": {
          "base_uri": "https://localhost:8080/",
          "height": 50
        }
      },
      "source": [
        "# La estructura que queda de data tiene la forma de lista de oraciones.\n",
        "# Cada oracion es una lista de palabras\n",
        "# Con este metodo tenemos 93576 oraciones, anteriormente teniamos 92659\n",
        "# Tiene un 0.1% de variacion\n",
        "print(len(data))\n",
        "data[1]"
      ],
      "execution_count": 0,
      "outputs": [
        {
          "output_type": "stream",
          "text": [
            "40453\n"
          ],
          "name": "stdout"
        },
        {
          "output_type": "execute_result",
          "data": {
            "text/plain": [
              "['girl', 'going', 'wooden', 'building']"
            ]
          },
          "metadata": {
            "tags": []
          },
          "execution_count": 96
        }
      ]
    },
    {
      "cell_type": "code",
      "metadata": {
        "id": "4xZhJbjdBiPC",
        "colab_type": "code",
        "colab": {}
      },
      "source": [
        "# Entrena un modelo Word2Vec CBOW con nuestro corpus\n",
        "model1 = gensim.models.Word2Vec(data, min_count = 1,  size = 100, window = 5,workers=8)"
      ],
      "execution_count": 0,
      "outputs": []
    },
    {
      "cell_type": "code",
      "metadata": {
        "id": "2NhPN6RnBiRv",
        "colab_type": "code",
        "outputId": "6514f5e3-5b01-40b5-dba0-74905766aa45",
        "colab": {
          "base_uri": "https://localhost:8080/",
          "height": 34
        }
      },
      "source": [
        "# Longitud del vocabulario\n",
        "len(model1.wv.vocab)"
      ],
      "execution_count": 0,
      "outputs": [
        {
          "output_type": "execute_result",
          "data": {
            "text/plain": [
              "8322"
            ]
          },
          "metadata": {
            "tags": []
          },
          "execution_count": 98
        }
      ]
    },
    {
      "cell_type": "code",
      "metadata": {
        "id": "I-QkOiD0BiUa",
        "colab_type": "code",
        "outputId": "7e8a5ed7-e748-42aa-c9f0-41188ee8abb6",
        "colab": {
          "base_uri": "https://localhost:8080/",
          "height": 423
        }
      },
      "source": [
        "# La representaciones las podemos ver:\n",
        "model1['girl']"
      ],
      "execution_count": 0,
      "outputs": [
        {
          "output_type": "stream",
          "text": [
            "/usr/local/lib/python3.6/dist-packages/ipykernel_launcher.py:2: DeprecationWarning: Call to deprecated `__getitem__` (Method will be removed in 4.0.0, use self.wv.__getitem__() instead).\n",
            "  \n"
          ],
          "name": "stderr"
        },
        {
          "output_type": "execute_result",
          "data": {
            "text/plain": [
              "array([-0.07247873, -0.41407046,  1.5334915 , -1.1876758 , -0.06591301,\n",
              "        0.802107  , -0.6205854 ,  0.70208305, -0.13732287,  0.6276151 ,\n",
              "       -0.5920715 ,  0.5342545 , -0.37674958,  0.20838134,  0.7606562 ,\n",
              "       -0.51744944, -0.15870005, -0.16328898,  0.01969972,  1.3993155 ,\n",
              "        0.28505453,  0.47587407,  1.0312358 , -0.09777164,  0.14397086,\n",
              "       -0.49190688,  0.09751461, -0.133599  , -0.8711931 ,  0.03306094,\n",
              "        0.1003688 , -0.12767963,  0.70238966,  0.07547157, -0.01485913,\n",
              "       -1.817775  ,  0.39401004,  0.31994838,  0.0574664 , -0.1537738 ,\n",
              "       -0.9381442 , -0.2811696 ,  0.38871413,  0.72386104, -0.71758866,\n",
              "       -0.73285705,  1.7309679 , -0.23833697, -0.5050395 , -0.7893795 ,\n",
              "        0.63449967,  0.12705526,  0.37287074,  0.70048094,  0.70142245,\n",
              "        0.10840399, -1.0148753 , -0.8986158 ,  1.0645579 , -0.21242979,\n",
              "       -0.81210065,  0.740452  , -1.2958746 ,  0.27263978, -0.09831876,\n",
              "       -0.28157204, -0.04100332, -0.11305153, -0.08484934, -0.15945593,\n",
              "       -0.25486237, -0.7153258 ,  0.5204421 ,  0.7028263 , -0.08911907,\n",
              "       -0.09579577,  0.20376857, -0.91382957, -1.2377704 ,  0.0387555 ,\n",
              "        0.39603743, -0.714121  ,  1.3647262 ,  0.54587036,  0.6572744 ,\n",
              "        0.47722057, -0.01738571, -0.55388427,  0.30670828,  0.9831071 ,\n",
              "        0.7179917 , -0.10500767,  0.71795714, -0.37252173, -1.1003317 ,\n",
              "       -0.88214886, -0.33851442,  0.31692138,  0.01676475, -1.1677202 ],\n",
              "      dtype=float32)"
            ]
          },
          "metadata": {
            "tags": []
          },
          "execution_count": 100
        }
      ]
    },
    {
      "cell_type": "code",
      "metadata": {
        "id": "AXhEMpBwBiW0",
        "colab_type": "code",
        "outputId": "4b2437cc-b16c-47fb-cbf7-103fed74f248",
        "colab": {
          "base_uri": "https://localhost:8080/",
          "height": 138
        }
      },
      "source": [
        "\n",
        "# Buscamos palabras similares a otras\n",
        "# Una pregunta es:\n",
        "print(\"La pregunta 1 es: \")\n",
        "print(df[\"Text\"][1])\n",
        "print(\"Palabras similares a girl: \")\n",
        "print(model1.wv.most_similar(positive=['girl'], topn=5))"
      ],
      "execution_count": 0,
      "outputs": [
        {
          "output_type": "stream",
          "text": [
            "La pregunta 1 es: \n",
            "A girl going into a wooden building .\n",
            "Palabras similares a girl: \n",
            "[('child', 0.9655029773712158), ('boy', 0.9606728553771973), ('kid', 0.8886665105819702), ('suit', 0.8661897778511047), ('toddler', 0.8651593923568726)]\n"
          ],
          "name": "stdout"
        },
        {
          "output_type": "stream",
          "text": [
            "/usr/local/lib/python3.6/dist-packages/gensim/matutils.py:737: FutureWarning: Conversion of the second argument of issubdtype from `int` to `np.signedinteger` is deprecated. In future, it will be treated as `np.int64 == np.dtype(int).type`.\n",
            "  if np.issubdtype(vec.dtype, np.int):\n"
          ],
          "name": "stderr"
        }
      ]
    },
    {
      "cell_type": "code",
      "metadata": {
        "id": "9k2kzhTgBiZc",
        "colab_type": "code",
        "colab": {}
      },
      "source": [
        "# Entrena un modelo Word2Vec skip-gram con nuestro corpus\n",
        "model2 = gensim.models.Word2Vec(data, min_count = 1, size = 100, window = 5, sg = 1, workers=8)"
      ],
      "execution_count": 0,
      "outputs": []
    },
    {
      "cell_type": "code",
      "metadata": {
        "id": "90iKhK_jBicb",
        "colab_type": "code",
        "outputId": "6eb2098c-ddcf-49e6-cb42-bb101a0e873e",
        "colab": {
          "base_uri": "https://localhost:8080/",
          "height": 138
        }
      },
      "source": [
        "# Buscamos palabras similares a otras\n",
        "# Una pregunta es:\n",
        "print(\"La pregunta 1 es: \")\n",
        "print(df[\"Text\"][1])\n",
        "print(\"Palabras similares a girl: \")\n",
        "print(model2.wv.most_similar(positive=['girl'], topn=5))"
      ],
      "execution_count": 0,
      "outputs": [
        {
          "output_type": "stream",
          "text": [
            "La pregunta 1 es: \n",
            "A girl going into a wooden building .\n",
            "Palabras similares a girl: \n",
            "[('toddler', 0.8492792844772339), ('boy', 0.8377078175544739), ('flowered', 0.8166711330413818), ('blowing', 0.8131659626960754), ('swimsuit', 0.8092123866081238)]\n"
          ],
          "name": "stdout"
        },
        {
          "output_type": "stream",
          "text": [
            "/usr/local/lib/python3.6/dist-packages/gensim/matutils.py:737: FutureWarning: Conversion of the second argument of issubdtype from `int` to `np.signedinteger` is deprecated. In future, it will be treated as `np.int64 == np.dtype(int).type`.\n",
            "  if np.issubdtype(vec.dtype, np.int):\n"
          ],
          "name": "stderr"
        }
      ]
    },
    {
      "cell_type": "code",
      "metadata": {
        "id": "SgKVPCdy03RI",
        "colab_type": "code",
        "colab": {}
      },
      "source": [
        "#vamos a hacer unba compresion con una red lstm\n",
        "from tensorflow.keras.models import Sequential\n",
        "from tensorflow.keras.layers import Embedding, LSTM, Dense, Dropout, Conv2D\n"
      ],
      "execution_count": 0,
      "outputs": []
    },
    {
      "cell_type": "code",
      "metadata": {
        "id": "75mY6NuR03WU",
        "colab_type": "code",
        "outputId": "193be8ed-1170-4542-ecc8-7c78bdcad007",
        "colab": {
          "base_uri": "https://localhost:8080/",
          "height": 185
        }
      },
      "source": [
        "# Crea una red con layers Embedding, LSTM, Dense\n",
        "model = Sequential()\n",
        "model.add(LSTM(units=1024, input_shape=(2,100), return_sequences=False))\n",
        "\n",
        "model.summary()"
      ],
      "execution_count": 0,
      "outputs": [
        {
          "output_type": "stream",
          "text": [
            "Model: \"sequential\"\n",
            "_________________________________________________________________\n",
            "Layer (type)                 Output Shape              Param #   \n",
            "=================================================================\n",
            "lstm (LSTM)                  (None, 1024)              4608000   \n",
            "=================================================================\n",
            "Total params: 4,608,000\n",
            "Trainable params: 4,608,000\n",
            "Non-trainable params: 0\n",
            "_________________________________________________________________\n"
          ],
          "name": "stdout"
        }
      ]
    },
    {
      "cell_type": "code",
      "metadata": {
        "id": "SOUsiRD403Yy",
        "colab_type": "code",
        "outputId": "5f8655ca-57eb-4535-a1dc-bfbd9335e4ac",
        "colab": {
          "base_uri": "https://localhost:8080/",
          "height": 70
        }
      },
      "source": [
        "#datos de entrada\n",
        "t=3\n",
        "temp=[]\n",
        "embedding=[]\n",
        "for i in range(len(contextos)):\n",
        "  temp=[]\n",
        "  for j, word in enumerate(TextBlob(contextos[i]).words):\n",
        "    temp=np.append(temp,model1[word])\n",
        "    if j==9: break\n",
        "  temp=np.append(temp,np.zeros(1024-len(temp)))\n",
        "  embedding.append(temp)"
      ],
      "execution_count": 0,
      "outputs": [
        {
          "output_type": "stream",
          "text": [
            "/usr/local/lib/python3.6/dist-packages/ipykernel_launcher.py:8: DeprecationWarning: Call to deprecated `__getitem__` (Method will be removed in 4.0.0, use self.wv.__getitem__() instead).\n",
            "  \n"
          ],
          "name": "stderr"
        }
      ]
    },
    {
      "cell_type": "code",
      "metadata": {
        "id": "Xw9x0YmH73-8",
        "colab_type": "code",
        "outputId": "92fa9efd-65d4-4e9d-ec06-62119afb9456",
        "colab": {
          "base_uri": "https://localhost:8080/",
          "height": 34
        }
      },
      "source": [
        "embedding=np.array(embedding)\n",
        "embedding.shape"
      ],
      "execution_count": 0,
      "outputs": [
        {
          "output_type": "execute_result",
          "data": {
            "text/plain": [
              "(40455, 1024)"
            ]
          },
          "metadata": {
            "tags": []
          },
          "execution_count": 137
        }
      ]
    },
    {
      "cell_type": "code",
      "metadata": {
        "id": "hAB143P303hU",
        "colab_type": "code",
        "colab": {}
      },
      "source": [
        "# Dump model1 in a pickle\n",
        "import pickle\n",
        "with open(\"/content/drive/My Drive/embeddings_jp/word2vec_append.pkl\", 'wb') as handle:\n",
        "    pickle.dump(embedding, handle)"
      ],
      "execution_count": 0,
      "outputs": []
    },
    {
      "cell_type": "code",
      "metadata": {
        "id": "Xrs6LgKx03Ts",
        "colab_type": "code",
        "colab": {}
      },
      "source": [
        ""
      ],
      "execution_count": 0,
      "outputs": []
    },
    {
      "cell_type": "code",
      "metadata": {
        "id": "ik_44s2BCk1P",
        "colab_type": "code",
        "colab": {}
      },
      "source": [
        ""
      ],
      "execution_count": 0,
      "outputs": []
    },
    {
      "cell_type": "code",
      "metadata": {
        "id": "1CrMoVseCk4E",
        "colab_type": "code",
        "colab": {}
      },
      "source": [
        "# Dump model2 in a pickle\n",
        "with open(\"/content/drive/My Drive/embeddings_jp/word2vec_skipgram.pkl\", 'wb') as handle:\n",
        "    pickle.dump(model2, handle)"
      ],
      "execution_count": 0,
      "outputs": []
    },
    {
      "cell_type": "code",
      "metadata": {
        "id": "rbp6gs3fCk6-",
        "colab_type": "code",
        "colab": {}
      },
      "source": [
        ""
      ],
      "execution_count": 0,
      "outputs": []
    },
    {
      "cell_type": "markdown",
      "metadata": {
        "id": "feBVMyXd-AJD",
        "colab_type": "text"
      },
      "source": [
        "Hacer el embedding Word2Vec\n"
      ]
    },
    {
      "cell_type": "markdown",
      "metadata": {
        "id": "WPjdS1w2-AOe",
        "colab_type": "text"
      },
      "source": [
        "Hacer infersent"
      ]
    },
    {
      "cell_type": "code",
      "metadata": {
        "id": "7VQRqa2rgcIG",
        "colab_type": "code",
        "colab": {}
      },
      "source": [
        "import numpy as np\n",
        "import pandas as pd\n",
        "import json\n",
        "from random import randint\n",
        "import torch\n",
        "import pickle\n",
        "\n",
        "%load_ext autoreload\n",
        "%autoreload 2"
      ],
      "execution_count": 0,
      "outputs": []
    },
    {
      "cell_type": "code",
      "metadata": {
        "id": "xjVKLdtC-Eac",
        "colab_type": "code",
        "outputId": "803aeb84-4171-453d-e581-e3897b215aec",
        "colab": {
          "base_uri": "https://localhost:8080/",
          "height": 34
        }
      },
      "source": [
        "# Usa cuda si está disponible\n",
        "cuda=torch.cuda.is_available()\n",
        "use_cuda = cuda\n",
        "print(\"Use cuda: \",cuda)"
      ],
      "execution_count": 0,
      "outputs": [
        {
          "output_type": "stream",
          "text": [
            "Use cuda:  True\n"
          ],
          "name": "stdout"
        }
      ]
    },
    {
      "cell_type": "code",
      "metadata": {
        "id": "sTR0zUTXgZoT",
        "colab_type": "code",
        "colab": {}
      },
      "source": [
        "# Importa el modulo models de infersent\n",
        "import sys\n",
        "sys.path.append('/content/drive/My Drive/QA/')\n",
        "from models import InferSent\n",
        "\n",
        "model_version = 1\n",
        "MODEL_PATH = \"/content/drive/My Drive/QA/infersent%s.pkl\" % model_version\n",
        "params_model = {'bsize': 64, 'word_emb_dim': 300, 'enc_lstm_dim': 2048,\n",
        "                'pool_type': 'max', 'dpout_model': 0.0, 'version': model_version}\n",
        "model = InferSent(params_model)\n",
        "model.load_state_dict(torch.load(MODEL_PATH))\n",
        "\n",
        "# Keep it on CPU or put it on GPU\n",
        "model = model.cuda() if use_cuda else model"
      ],
      "execution_count": 0,
      "outputs": []
    },
    {
      "cell_type": "code",
      "metadata": {
        "id": "N6iqFtHbhvYT",
        "colab_type": "code",
        "colab": {}
      },
      "source": [
        "# Importa el embedding word2Vec GLovE preentrnado\n",
        "W2V_PATH = '/content/drive/My Drive/QA/glove.840B.300d.txt' if model_version == 1 else 'fastText/crawl-300d-2M.vec'\n",
        "model.set_w2v_path(W2V_PATH)"
      ],
      "execution_count": 0,
      "outputs": []
    },
    {
      "cell_type": "code",
      "metadata": {
        "id": "Slxsf2Sxhhu_",
        "colab_type": "code",
        "outputId": "6df7f0ac-a4ac-49e9-e2f8-942553a474ab",
        "colab": {
          "base_uri": "https://localhost:8080/",
          "height": 50
        }
      },
      "source": [
        "import nltk\n",
        "nltk.download('punkt')\n",
        "from nltk.tokenize import sent_tokenize, word_tokenize"
      ],
      "execution_count": 0,
      "outputs": [
        {
          "output_type": "stream",
          "text": [
            "[nltk_data] Downloading package punkt to /root/nltk_data...\n",
            "[nltk_data]   Package punkt is already up-to-date!\n"
          ],
          "name": "stdout"
        }
      ]
    },
    {
      "cell_type": "code",
      "metadata": {
        "id": "4m6ppr4PhyhK",
        "colab_type": "code",
        "colab": {}
      },
      "source": [
        "# Tokeniza datos test\n",
        "# Hace cada oracion un token\n",
        "# Convierte todo el texto a minusculas\n",
        "contextos=df['Text']\n",
        "data=[]\n",
        "for cont in contextos: # para cada contexto\n",
        "  sample=cont\n",
        "  for sent in sent_tokenize(sample): #Extrae las oraciones\n",
        "    data.append(sent.lower())"
      ],
      "execution_count": 0,
      "outputs": []
    },
    {
      "cell_type": "code",
      "metadata": {
        "id": "ggb9u5B3h0-T",
        "colab_type": "code",
        "outputId": "f70b233f-b032-4bd5-aae9-76b707eea1d4",
        "colab": {
          "base_uri": "https://localhost:8080/",
          "height": 118
        }
      },
      "source": [
        "# Hay 93576 oraciones en el train, cada una es un token en la lista data\n",
        "print(len(data))\n",
        "data[:5]"
      ],
      "execution_count": 0,
      "outputs": [
        {
          "output_type": "stream",
          "text": [
            "40474\n"
          ],
          "name": "stdout"
        },
        {
          "output_type": "execute_result",
          "data": {
            "text/plain": [
              "['a child in a pink dress is climbing up a set of stairs in an entry way .',\n",
              " 'a girl going into a wooden building .',\n",
              " 'a little girl climbing into a wooden playhouse .',\n",
              " 'a little girl climbing the stairs to her playhouse .',\n",
              " 'a little girl in a pink dress going into a wooden cabin .']"
            ]
          },
          "metadata": {
            "tags": []
          },
          "execution_count": 19
        }
      ]
    },
    {
      "cell_type": "code",
      "metadata": {
        "id": "jXTID2wbiKL4",
        "colab_type": "code",
        "colab": {}
      },
      "source": [
        "\n",
        "# Tokeniza datos train\n",
        "# Hace cada oracion un token\n",
        "# Convierte todo el texto a minusculas\n",
        "contextos=df['Text']\n",
        "data2=[]\n",
        "for cont in contextos: # para cada contexto\n",
        "  sample=cont\n",
        "  for j,sent in enumerate(sent_tokenize(sample)): #Extrae las oraciones\n",
        "    data2.append(sent.lower())"
      ],
      "execution_count": 0,
      "outputs": []
    },
    {
      "cell_type": "code",
      "metadata": {
        "id": "Rcn8kaLsj05_",
        "colab_type": "code",
        "outputId": "e848159c-93b9-44e8-875d-9605688fc7f3",
        "colab": {
          "base_uri": "https://localhost:8080/",
          "height": 34
        }
      },
      "source": [
        ""
      ],
      "execution_count": 0,
      "outputs": [
        {
          "output_type": "execute_result",
          "data": {
            "text/plain": [
              "40455"
            ]
          },
          "metadata": {
            "tags": []
          },
          "execution_count": 36
        }
      ]
    },
    {
      "cell_type": "code",
      "metadata": {
        "id": "0DfXNfzgiArA",
        "colab_type": "code",
        "outputId": "aae88f15-d3b1-43d0-ef1f-dad6add187b5",
        "colab": {
          "base_uri": "https://localhost:8080/",
          "height": 118
        }
      },
      "source": [
        "# Hay 10458 oraciones en el test, cada una es un token en la lista data\n",
        "print(len(data2))\n",
        "data2[:5]"
      ],
      "execution_count": 0,
      "outputs": [
        {
          "output_type": "stream",
          "text": [
            "40474\n"
          ],
          "name": "stdout"
        },
        {
          "output_type": "execute_result",
          "data": {
            "text/plain": [
              "['a child in a pink dress is climbing up a set of stairs in an entry way .',\n",
              " 'a girl going into a wooden building .',\n",
              " 'a little girl climbing into a wooden playhouse .',\n",
              " 'a little girl climbing the stairs to her playhouse .',\n",
              " 'a little girl in a pink dress going into a wooden cabin .']"
            ]
          },
          "metadata": {
            "tags": []
          },
          "execution_count": 27
        }
      ]
    },
    {
      "cell_type": "code",
      "metadata": {
        "id": "dTzzuwxAiZsU",
        "colab_type": "code",
        "outputId": "7f274e7b-db32-4b44-d573-3af2627fe2e1",
        "colab": {
          "base_uri": "https://localhost:8080/",
          "height": 50
        }
      },
      "source": [
        "# Construimos el vocabulario con las palabras en las oraciones\n",
        "model.build_vocab(data,tokenize=False)"
      ],
      "execution_count": 0,
      "outputs": [
        {
          "output_type": "stream",
          "text": [
            "Found 8526(/8920) words with w2v vectors\n",
            "Vocab size : 8526\n"
          ],
          "name": "stdout"
        }
      ]
    },
    {
      "cell_type": "code",
      "metadata": {
        "id": "XaAwa9w9jMKd",
        "colab_type": "code",
        "outputId": "b8c911c1-56ac-4032-e18d-498a7703ec4b",
        "colab": {
          "base_uri": "https://localhost:8080/",
          "height": 67
        }
      },
      "source": [
        "# Generamos el encoding\n",
        "embeddings = model.encode(data, bsize=128, tokenize=True, verbose=True)\n",
        "print('nb sentences encoded : {0}'.format(len(embeddings)))"
      ],
      "execution_count": 0,
      "outputs": [
        {
          "output_type": "stream",
          "text": [
            "Nb words kept : 556950/557627 (99.9%)\n",
            "Speed : 3115.8 sentences/s (gpu mode, bsize=128)\n",
            "nb sentences encoded : 40474\n"
          ],
          "name": "stdout"
        }
      ]
    },
    {
      "cell_type": "code",
      "metadata": {
        "id": "CEDkc0IjjQX7",
        "colab_type": "code",
        "outputId": "b09e01d3-1d2c-45b2-f453-8ab46ad56ef0",
        "colab": {
          "base_uri": "https://localhost:8080/",
          "height": 34
        }
      },
      "source": [
        "# Dimensiones del embedding\n",
        "embeddings.shape"
      ],
      "execution_count": 0,
      "outputs": [
        {
          "output_type": "execute_result",
          "data": {
            "text/plain": [
              "(40474, 4096)"
            ]
          },
          "metadata": {
            "tags": []
          },
          "execution_count": 31
        }
      ]
    },
    {
      "cell_type": "code",
      "metadata": {
        "id": "uSk-0SBHjXaY",
        "colab_type": "code",
        "outputId": "f2691541-87fa-4707-c0d4-a094ca014919",
        "colab": {
          "base_uri": "https://localhost:8080/",
          "height": 34
        }
      },
      "source": [
        "len(df[\"Text\"])"
      ],
      "execution_count": 0,
      "outputs": [
        {
          "output_type": "execute_result",
          "data": {
            "text/plain": [
              "40455"
            ]
          },
          "metadata": {
            "tags": []
          },
          "execution_count": 30
        }
      ]
    },
    {
      "cell_type": "code",
      "metadata": {
        "id": "pUKsEcxojcpx",
        "colab_type": "code",
        "outputId": "008199ba-7b8d-4b85-cac5-0f55b33eca59",
        "colab": {
          "base_uri": "https://localhost:8080/",
          "height": 34
        }
      },
      "source": [
        "\n",
        "# Tokeniza datos train\n",
        "# Hace cada oracion un token\n",
        "# Convierte todo el texto a minusculas\n",
        "contextos=list(df['Text'])\n",
        "len(contextos)"
      ],
      "execution_count": 0,
      "outputs": [
        {
          "output_type": "execute_result",
          "data": {
            "text/plain": [
              "40455"
            ]
          },
          "metadata": {
            "tags": []
          },
          "execution_count": 37
        }
      ]
    },
    {
      "cell_type": "code",
      "metadata": {
        "id": "pvRLcLyPkkv1",
        "colab_type": "code",
        "outputId": "37fee734-0e58-4a27-a509-2a4d920a0842",
        "colab": {
          "base_uri": "https://localhost:8080/",
          "height": 67
        }
      },
      "source": [
        "# Generamos el encoding\n",
        "embeddings = model.encode(contextos, bsize=128, tokenize=True, verbose=True)\n",
        "print('nb sentences encoded : {0}'.format(len(embeddings)))"
      ],
      "execution_count": 0,
      "outputs": [
        {
          "output_type": "stream",
          "text": [
            "Nb words kept : 517290/557589 (92.8%)\n",
            "Speed : 3289.2 sentences/s (gpu mode, bsize=128)\n",
            "nb sentences encoded : 40455\n"
          ],
          "name": "stdout"
        }
      ]
    },
    {
      "cell_type": "code",
      "metadata": {
        "id": "HkfbX9X3kpt3",
        "colab_type": "code",
        "outputId": "b0805706-7c7c-4098-8224-4d872bca7a94",
        "colab": {
          "base_uri": "https://localhost:8080/",
          "height": 50
        }
      },
      "source": [
        "# Dimensiones del embedding\n",
        "print(embeddings.shape)\n",
        "print(len(embeddings))"
      ],
      "execution_count": 0,
      "outputs": [
        {
          "output_type": "stream",
          "text": [
            "(40455, 4096)\n",
            "40455\n"
          ],
          "name": "stdout"
        }
      ]
    },
    {
      "cell_type": "code",
      "metadata": {
        "id": "55t1zC9pkwmh",
        "colab_type": "code",
        "colab": {}
      },
      "source": [
        "with open(\"/content/drive/My Drive/QA/infersent.pkl\", 'wb') as handle:\n",
        "    pickle.dump(embeddings, handle)"
      ],
      "execution_count": 0,
      "outputs": []
    },
    {
      "cell_type": "code",
      "metadata": {
        "id": "dCDVvchPk3hB",
        "colab_type": "code",
        "colab": {}
      },
      "source": [
        ""
      ],
      "execution_count": 0,
      "outputs": []
    }
  ]
}
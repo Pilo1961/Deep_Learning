{
  "nbformat": 4,
  "nbformat_minor": 0,
  "metadata": {
    "colab": {
      "name": "Copia de StackGan_jp.ipynb",
      "provenance": [],
      "authorship_tag": "ABX9TyMyOKolPrOttH4I5YCxBbAu",
      "include_colab_link": true
    },
    "kernelspec": {
      "name": "python3",
      "display_name": "Python 3"
    }
  },
  "cells": [
    {
      "cell_type": "markdown",
      "metadata": {
        "id": "view-in-github",
        "colab_type": "text"
      },
      "source": [
        "<a href=\"https://colab.research.google.com/github/Pilo1961/Deep_Learning/blob/master/Copia_de_StackGan_jp.ipynb\" target=\"_parent\"><img src=\"https://colab.research.google.com/assets/colab-badge.svg\" alt=\"Open In Colab\"/></a>"
      ]
    },
    {
      "cell_type": "code",
      "metadata": {
        "id": "LKwcCMHqrsc1",
        "colab_type": "code",
        "outputId": "9da26540-884a-4491-cb24-d356e6a49db7",
        "colab": {
          "base_uri": "https://localhost:8080/",
          "height": 121
        }
      },
      "source": [
        "# mount drive \n",
        "from google.colab import drive\n",
        "drive.mount('/content/drive')"
      ],
      "execution_count": 1,
      "outputs": [
        {
          "output_type": "stream",
          "text": [
            "Go to this URL in a browser: https://accounts.google.com/o/oauth2/auth?client_id=947318989803-6bn6qk8qdgf4n4g3pfee6491hc0brc4i.apps.googleusercontent.com&redirect_uri=urn%3aietf%3awg%3aoauth%3a2.0%3aoob&response_type=code&scope=email%20https%3a%2f%2fwww.googleapis.com%2fauth%2fdocs.test%20https%3a%2f%2fwww.googleapis.com%2fauth%2fdrive%20https%3a%2f%2fwww.googleapis.com%2fauth%2fdrive.photos.readonly%20https%3a%2f%2fwww.googleapis.com%2fauth%2fpeopleapi.readonly\n",
            "\n",
            "Enter your authorization code:\n",
            "··········\n",
            "Mounted at /content/drive\n"
          ],
          "name": "stdout"
        }
      ]
    },
    {
      "cell_type": "code",
      "metadata": {
        "id": "nrGnmynhB4xR",
        "colab_type": "code",
        "colab": {
          "base_uri": "https://localhost:8080/",
          "height": 34
        },
        "outputId": "7ab617a3-1bc4-4e2a-ceaf-ed093beaed8a"
      },
      "source": [
        "# importa modulos propios\n",
        "import sys\n",
        "sys.path.append('/content/drive/My Drive/')\n",
        "\n",
        "import model\n",
        "#import util"
      ],
      "execution_count": 2,
      "outputs": [
        {
          "output_type": "stream",
          "text": [
            "Using TensorFlow backend.\n"
          ],
          "name": "stderr"
        }
      ]
    },
    {
      "cell_type": "code",
      "metadata": {
        "id": "rNqBV38ewQjx",
        "colab_type": "code",
        "colab": {}
      },
      "source": [
        "import os\n",
        "import numpy as np\n",
        "import pandas as pd\n",
        "import matplotlib.pyplot as plt\n",
        "from skimage.io import imread, imsave\n",
        "from skimage.transform import rescale\n",
        "from skimage import img_as_ubyte\n",
        "import pickle\n",
        "import datetime as dt"
      ],
      "execution_count": 0,
      "outputs": []
    },
    {
      "cell_type": "markdown",
      "metadata": {
        "id": "oNyfxXF1wfj_",
        "colab_type": "text"
      },
      "source": [
        "Especificamo hiperparametros"
      ]
    },
    {
      "cell_type": "code",
      "metadata": {
        "id": "EMOso4WGwU3g",
        "colab_type": "code",
        "colab": {}
      },
      "source": [
        "data_dir = '/content/drive/My Drive'\n",
        "train_dir = data_dir + \"/train_64\"\n",
        "test_dir = data_dir + \"/test_64\"\n",
        "image_size = 64\n",
        "batch_size = 64\n",
        "z_dim = 100\n",
        "stage1_generator_lr = 0.0002\n",
        "stage1_discriminator_lr = 0.0002\n",
        "stage1_lr_decay_step = 600\n",
        "epochs = 1000\n",
        "condition_dim = 128\n",
        "\n",
        "#embeddings_file_path_train = train_dir + \"/char-CNN-RNN-embeddings.pickle\"\n",
        "#embeddings_file_path_test = test_dir + \"/char-CNN-RNN-embeddings.pickle\"\n",
        "\n",
        "#filenames_file_path_train = train_dir + \"/filenames.pickle\"\n",
        "#filenames_file_path_test = test_dir + \"/filenames.pickle\"\n",
        "\n",
        "#class_info_file_path_train = train_dir + \"/class_info.pickle\"\n",
        "#class_info_file_path_test = test_dir + \"/class_info.pickle\"\n",
        "\n",
        "#cub_dataset_dir = data_dir + \"/CUB_200_2011\""
      ],
      "execution_count": 0,
      "outputs": []
    },
    {
      "cell_type": "markdown",
      "metadata": {
        "id": "FgQ8ok-a7vC6",
        "colab_type": "text"
      },
      "source": [
        "# Load data\n",
        "## Image list"
      ]
    },
    {
      "cell_type": "code",
      "metadata": {
        "id": "aDkDKDkgzsyl",
        "colab_type": "code",
        "colab": {}
      },
      "source": [
        "#esto se debe de ir al modulo util\n",
        "def add_fileName(df):\n",
        "  '''\n",
        "    Add filename column to the ID-description list\n",
        "  '''\n",
        "  df['filename']='a'\n",
        "  for index, row in df.iterrows():\n",
        "      try:\n",
        "        new_name = row['ID'][:-6] + '_' + row['ID'][-1] + '.jpg'\n",
        "        row['filename']=new_name\n",
        "      except:\n",
        "        found_n.append(row['ID'])\n",
        "\n",
        "  return df\n",
        "\n",
        "def train_test(df):\n",
        "  x_train = df[df.index % 5 != 0]     # Excludes every 5th row starting from 0\n",
        "  x_test = df[df.index % 5 == 0]      # Selects every 5th row starting from 0\n",
        "  #print(x_train.shape)\n",
        "  #print(x_test.shape)  \n",
        "  return x_train, x_test\n",
        "\n",
        "\n",
        "# Load image\n",
        "def load_image(img_id,src='Flicker8k_Dataset/'):\n",
        "    I = imread('/content/drive/My Drive/'+src+img_id)\n",
        "    #I = margin_img(I)\n",
        "    return I"
      ],
      "execution_count": 0,
      "outputs": []
    },
    {
      "cell_type": "code",
      "metadata": {
        "id": "WY52LMsuzs1U",
        "colab_type": "code",
        "outputId": "12d1c44c-d67e-49c3-df01-cc01aeade9e3",
        "colab": {
          "base_uri": "https://localhost:8080/",
          "height": 50
        }
      },
      "source": [
        "# Load data\n",
        "df = pd.read_csv(\"/content/drive/My Drive/Flickr8k.token.txt\", sep='\\t', names=['ID', 'Text'], index_col=False)\n",
        "df=add_fileName(df)\n",
        "print(df.shape)\n",
        "\n",
        "# Remove entries with nan values\n",
        "df.dropna(inplace=True)\n",
        "df.isnull().values.any()\n",
        "df.head()\n",
        "\n",
        "#Quito los registros de una imagen que falta\n",
        "df.drop([6730,6731,6732,6733,6734],inplace=True)\n",
        "df.reset_index()\n",
        "df.shape"
      ],
      "execution_count": 59,
      "outputs": [
        {
          "output_type": "stream",
          "text": [
            "(40460, 3)\n"
          ],
          "name": "stdout"
        },
        {
          "output_type": "execute_result",
          "data": {
            "text/plain": [
              "(40455, 3)"
            ]
          },
          "metadata": {
            "tags": []
          },
          "execution_count": 59
        }
      ]
    },
    {
      "cell_type": "code",
      "metadata": {
        "id": "RlMuFszh1RHM",
        "colab_type": "code",
        "colab": {}
      },
      "source": [
        ""
      ],
      "execution_count": 0,
      "outputs": []
    },
    {
      "cell_type": "code",
      "metadata": {
        "id": "TFJFsvWDDiZz",
        "colab_type": "code",
        "colab": {}
      },
      "source": [
        ""
      ],
      "execution_count": 0,
      "outputs": []
    },
    {
      "cell_type": "markdown",
      "metadata": {
        "id": "-v6oPqorCQgj",
        "colab_type": "text"
      },
      "source": [
        "# Embedding"
      ]
    },
    {
      "cell_type": "code",
      "metadata": {
        "id": "k_wFVCDnzs4L",
        "colab_type": "code",
        "colab": {}
      },
      "source": [
        "with open(\"/content/drive/My Drive/embedding_chafa.pkl\", 'rb') as f:\n",
        "  embedding = pickle.load(f) "
      ],
      "execution_count": 0,
      "outputs": []
    },
    {
      "cell_type": "code",
      "metadata": {
        "id": "k8YrhJk8DGI3",
        "colab_type": "code",
        "outputId": "c997cdd0-c90a-4aef-c720-9359c8962d94",
        "colab": {
          "base_uri": "https://localhost:8080/",
          "height": 202
        }
      },
      "source": [
        "print(embedding.shape)\n",
        "embedding[:5]"
      ],
      "execution_count": 62,
      "outputs": [
        {
          "output_type": "stream",
          "text": [
            "(40460, 20)\n"
          ],
          "name": "stdout"
        },
        {
          "output_type": "execute_result",
          "data": {
            "text/plain": [
              "array([[  0,   0,   0,   2,  42,   3,   2,  89, 171,   6, 118,  50,   2,\n",
              "        393,  11, 394,   3,  27,   1, 669],\n",
              "       [  0,   0,   0,   0,   0,   0,   0,   0,   0,   0,   0,   0,   0,\n",
              "          2,  18, 315,  63,   2, 195, 116],\n",
              "       [  0,   0,   0,   0,   0,   0,   0,   0,   0,   0,   0,   0,   2,\n",
              "         39,  18, 118,  63,   2, 195,   1],\n",
              "       [  0,   0,   0,   0,   0,   0,   0,   0,   0,   0,   0,   2,  39,\n",
              "         18, 118,   4, 394,  19,  59,   1],\n",
              "       [  0,   0,   0,   0,   0,   0,   0,   0,   2,  39,  18,   3,   2,\n",
              "         89, 171, 315,  63,   2, 195,   1]], dtype=int32)"
            ]
          },
          "metadata": {
            "tags": []
          },
          "execution_count": 62
        }
      ]
    },
    {
      "cell_type": "code",
      "metadata": {
        "id": "X32yOjfFEl_Q",
        "colab_type": "code",
        "outputId": "93fc130b-a2db-4150-8b07-38d6010cb5ef",
        "colab": {
          "base_uri": "https://localhost:8080/",
          "height": 34
        }
      },
      "source": [
        "df_emb=pd.DataFrame(embedding)\n",
        "df_emb.head()\n",
        "\n",
        "#Quito los registros de una imagen que falta\n",
        "df_emb.drop([6730,6731,6732,6733,6734],inplace=True)\n",
        "df_emb.reset_index()\n",
        "df_emb.shape"
      ],
      "execution_count": 63,
      "outputs": [
        {
          "output_type": "execute_result",
          "data": {
            "text/plain": [
              "(40455, 20)"
            ]
          },
          "metadata": {
            "tags": []
          },
          "execution_count": 63
        }
      ]
    },
    {
      "cell_type": "markdown",
      "metadata": {
        "id": "JyE5zirIDtzS",
        "colab_type": "text"
      },
      "source": [
        "# Train test split"
      ]
    },
    {
      "cell_type": "code",
      "metadata": {
        "id": "F-8wXURlDGMX",
        "colab_type": "code",
        "outputId": "8083c50b-e578-46d5-aa52-ef2b23eb4a39",
        "colab": {
          "base_uri": "https://localhost:8080/",
          "height": 229
        }
      },
      "source": [
        "x_train, x_test= train_test(df)\n",
        "print(x_train.shape)\n",
        "print(x_test.shape)\n",
        "x_train.head()"
      ],
      "execution_count": 64,
      "outputs": [
        {
          "output_type": "stream",
          "text": [
            "(32364, 3)\n",
            "(8091, 3)\n"
          ],
          "name": "stdout"
        },
        {
          "output_type": "execute_result",
          "data": {
            "text/html": [
              "<div>\n",
              "<style scoped>\n",
              "    .dataframe tbody tr th:only-of-type {\n",
              "        vertical-align: middle;\n",
              "    }\n",
              "\n",
              "    .dataframe tbody tr th {\n",
              "        vertical-align: top;\n",
              "    }\n",
              "\n",
              "    .dataframe thead th {\n",
              "        text-align: right;\n",
              "    }\n",
              "</style>\n",
              "<table border=\"1\" class=\"dataframe\">\n",
              "  <thead>\n",
              "    <tr style=\"text-align: right;\">\n",
              "      <th></th>\n",
              "      <th>ID</th>\n",
              "      <th>Text</th>\n",
              "      <th>filename</th>\n",
              "    </tr>\n",
              "  </thead>\n",
              "  <tbody>\n",
              "    <tr>\n",
              "      <th>1</th>\n",
              "      <td>1000268201_693b08cb0e.jpg#1</td>\n",
              "      <td>A girl going into a wooden building .</td>\n",
              "      <td>1000268201_693b08cb0e_1.jpg</td>\n",
              "    </tr>\n",
              "    <tr>\n",
              "      <th>2</th>\n",
              "      <td>1000268201_693b08cb0e.jpg#2</td>\n",
              "      <td>A little girl climbing into a wooden playhouse .</td>\n",
              "      <td>1000268201_693b08cb0e_2.jpg</td>\n",
              "    </tr>\n",
              "    <tr>\n",
              "      <th>3</th>\n",
              "      <td>1000268201_693b08cb0e.jpg#3</td>\n",
              "      <td>A little girl climbing the stairs to her playh...</td>\n",
              "      <td>1000268201_693b08cb0e_3.jpg</td>\n",
              "    </tr>\n",
              "    <tr>\n",
              "      <th>4</th>\n",
              "      <td>1000268201_693b08cb0e.jpg#4</td>\n",
              "      <td>A little girl in a pink dress going into a woo...</td>\n",
              "      <td>1000268201_693b08cb0e_4.jpg</td>\n",
              "    </tr>\n",
              "    <tr>\n",
              "      <th>6</th>\n",
              "      <td>1001773457_577c3a7d70.jpg#1</td>\n",
              "      <td>A black dog and a tri-colored dog playing with...</td>\n",
              "      <td>1001773457_577c3a7d70_1.jpg</td>\n",
              "    </tr>\n",
              "  </tbody>\n",
              "</table>\n",
              "</div>"
            ],
            "text/plain": [
              "                            ID  ...                     filename\n",
              "1  1000268201_693b08cb0e.jpg#1  ...  1000268201_693b08cb0e_1.jpg\n",
              "2  1000268201_693b08cb0e.jpg#2  ...  1000268201_693b08cb0e_2.jpg\n",
              "3  1000268201_693b08cb0e.jpg#3  ...  1000268201_693b08cb0e_3.jpg\n",
              "4  1000268201_693b08cb0e.jpg#4  ...  1000268201_693b08cb0e_4.jpg\n",
              "6  1001773457_577c3a7d70.jpg#1  ...  1001773457_577c3a7d70_1.jpg\n",
              "\n",
              "[5 rows x 3 columns]"
            ]
          },
          "metadata": {
            "tags": []
          },
          "execution_count": 64
        }
      ]
    },
    {
      "cell_type": "code",
      "metadata": {
        "id": "hWEYHagWEP0V",
        "colab_type": "code",
        "outputId": "0e5c311d-93ae-4764-d2d9-ab9027856d3a",
        "colab": {
          "base_uri": "https://localhost:8080/",
          "height": 50
        }
      },
      "source": [
        "emb_train, emb_test= train_test(df_emb)\n",
        "print(emb_train.shape)\n",
        "print(emb_test.shape)"
      ],
      "execution_count": 65,
      "outputs": [
        {
          "output_type": "stream",
          "text": [
            "(32364, 20)\n",
            "(8091, 20)\n"
          ],
          "name": "stdout"
        }
      ]
    },
    {
      "cell_type": "markdown",
      "metadata": {
        "id": "SmunFw6tEQXd",
        "colab_type": "text"
      },
      "source": [
        "# Prepara imagenes"
      ]
    },
    {
      "cell_type": "code",
      "metadata": {
        "id": "QzLU_b4Rv0bs",
        "colab_type": "code",
        "colab": {}
      },
      "source": [
        "batch_size = 20\n",
        "dir_train= '/content/drive/My Drive/train_64/'\n",
        "dir_test= '/content/drive/My Drive/test_64/'"
      ],
      "execution_count": 0,
      "outputs": []
    },
    {
      "cell_type": "code",
      "metadata": {
        "id": "aJxIuIQAza0k",
        "colab_type": "code",
        "colab": {}
      },
      "source": [
        "# Hacemos un pickle que tiene un arreglo de numpy con toda la informacion de las imagenes\n",
        "# ojo:\n",
        "#file not found:  2258277193_586949ec62.j_1.jpg\n",
        "#file not found:  2258277193_586949ec62.j_2.jpg\n",
        "#file not found:  2258277193_586949ec62.j_3.jpg\n",
        "#file not found:  2258277193_586949ec62.j_4.jpg\n",
        "\n",
        "def img_train_pickle():\n",
        "  src='train_64/'\n",
        "  img_train=[]\n",
        "  print(\"Images to load: \", len(x_train[\"filename\"]))\n",
        "  for i, img_name in enumerate(x_train[\"filename\"]):\n",
        "    try:\n",
        "      img=load_image(img_name,src)\n",
        "      img_train.append(img)\n",
        "    except:\n",
        "      print(\"file not found: \",img_name)\n",
        "    if i%3000==0: print(\"Loaded images: \",i)\n",
        "\n",
        "  with open(\"/content/drive/My Drive/img_train_data.pkl\", 'wb') as f:\n",
        "    pickle.dump(img_train,f) \n",
        "\n",
        "#img_train=np.array(img_train)"
      ],
      "execution_count": 0,
      "outputs": []
    },
    {
      "cell_type": "code",
      "metadata": {
        "id": "MSWhDygs1qmU",
        "colab_type": "code",
        "colab": {
          "base_uri": "https://localhost:8080/",
          "height": 34
        },
        "outputId": "29333493-a9b4-4ce5-c312-199d4b01b19d"
      },
      "source": [
        "# Tenemos las dimensiones correctas\n",
        "len(img_train)"
      ],
      "execution_count": 69,
      "outputs": [
        {
          "output_type": "execute_result",
          "data": {
            "text/plain": [
              "32364"
            ]
          },
          "metadata": {
            "tags": []
          },
          "execution_count": 69
        }
      ]
    },
    {
      "cell_type": "markdown",
      "metadata": {
        "id": "3YR88lIBztP6",
        "colab_type": "text"
      },
      "source": [
        "# Creating models\n"
      ]
    },
    {
      "cell_type": "code",
      "metadata": {
        "id": "4J4j_04oz38t",
        "colab_type": "code",
        "colab": {}
      },
      "source": [
        "from keras.optimizers import adam\n",
        "from keras import backend as K\n",
        "from tensorflow.keras.models import Sequential, Model\n",
        "from tensorflow.keras.layers import concatenate, Embedding, Dense, Dropout, Reshape, UpSampling2D, Conv2D, BatchNormalization, Activation, Input, Concatenate, LeakyReLU, Flatten, Lambda"
      ],
      "execution_count": 0,
      "outputs": []
    },
    {
      "cell_type": "code",
      "metadata": {
        "id": "HqSj5dIkzva6",
        "colab_type": "code",
        "colab": {}
      },
      "source": [
        "dis_optimizer = adam(lr=stage1_discriminator_lr, beta_1=0.5, beta_2=0.999)\n",
        "gen_optimizer = adam(lr=stage1_generator_lr, beta_1=0.5, beta_2=0.999)"
      ],
      "execution_count": 0,
      "outputs": []
    },
    {
      "cell_type": "code",
      "metadata": {
        "id": "kxIpCGnX2cL9",
        "colab_type": "code",
        "colab": {}
      },
      "source": [
        "def KL_loss(y_true, y_pred):\n",
        "    mean = y_pred[:, :128]\n",
        "    logsigma = y_pred[:, :128]\n",
        "    loss = -logsigma + .5 * (-1 + K.exp(2. * logsigma) + K.square(mean))\n",
        "    loss = K.mean(loss)\n",
        "    return loss"
      ],
      "execution_count": 0,
      "outputs": []
    },
    {
      "cell_type": "code",
      "metadata": {
        "id": "_zuSWRxi48v9",
        "colab_type": "code",
        "colab": {}
      },
      "source": [
        "# Esto se debe de ir a models\n",
        "def create_embedding_compressor(len_embedding=20):\n",
        "  '''\n",
        "  Crea la red discrimidaora de la primera etapa\n",
        "  '''\n",
        "  input_layer=Input(shape=(len_embedding,))\n",
        "  emb=Dense(128,activation='relu')(input_layer)\n",
        "  #out=Reshape((4,4,128),input_shape=(128*4*4,))(emb)\n",
        "  \n",
        "  return Model(inputs=[input_layer],outputs=[emb])\n"
      ],
      "execution_count": 0,
      "outputs": []
    },
    {
      "cell_type": "code",
      "metadata": {
        "id": "HFshF-ZSzycK",
        "colab_type": "code",
        "colab": {}
      },
      "source": [
        "ca_model = model.create_CA_model()\n",
        "ca_model.compile(loss=\"binary_crossentropy\", optimizer=\"adam\")\n",
        "\n",
        "stage1_dis = model.create_disc_st1()\n",
        "stage1_dis.compile(loss='binary_crossentropy', optimizer=\"adam\")#dis_optimizer)\n",
        "\n",
        "stage1_gen = model.create_gen_st1()\n",
        "stage1_gen.compile(loss=\"mse\", optimizer=\"adam\")#gen_optimizer)\n",
        "\n",
        "embedding_compressor_model = create_embedding_compressor()\n",
        "embedding_compressor_model.compile(loss=\"binary_crossentropy\", optimizer=\"adam\")\n",
        "\n",
        "adversarial_model = model.create_adversarial_model(gen=stage1_gen, disc=stage1_dis)\n",
        "adversarial_model.compile(loss=['binary_crossentropy', KL_loss], loss_weights=[1, 2.0],\n",
        "                          optimizer=\"adam\", metrics=None)#gen_optimizer, metrics=None)"
      ],
      "execution_count": 0,
      "outputs": []
    },
    {
      "cell_type": "markdown",
      "metadata": {
        "id": "jKhtEMf9GAh1",
        "colab_type": "text"
      },
      "source": [
        "# Train"
      ]
    },
    {
      "cell_type": "markdown",
      "metadata": {
        "id": "pRt9Kq2uvkOb",
        "colab_type": "text"
      },
      "source": [
        "Earlier, label/target values for a classifier were 0 or 1; 0 for fake images and 1 for real images. Because of this, GANs were prone to adversarial examples, which are inputs to a neural network that result in an incorrect output from the network. Label smoothing is an approach to provide smoothed labels to the discriminator network. This means we can have decimal values such as 0.9 (true), 0.8 (true), 0.1 (fake), or 0.2 (fake), instead of labeling every example as either 1 (true) or 0 (fake). We smooth the target values (label values) of the real images as well as of the fake images. Label smoothing can reduce the risk of adversarial examples in GANs. To apply label smoothing, assign the labels 0.9, 0.8, and 0.7, and 0.1, 0.2, and 0.3, to the images. To find out more about label smoothing, refer to the following paper.\n",
        "\n",
        "[Improved techniques for training GAN](https://arxiv.org/pdf/1606.03498.pdf)"
      ]
    },
    {
      "cell_type": "code",
      "metadata": {
        "id": "33c4gr7A2PGq",
        "colab_type": "code",
        "colab": {}
      },
      "source": [
        "real_labels = np.ones((batch_size, 1), dtype=float) * 0.9\n",
        "fake_labels = np.zeros((batch_size, 1), dtype=float) * 0.1"
      ],
      "execution_count": 0,
      "outputs": []
    },
    {
      "cell_type": "code",
      "metadata": {
        "id": "_Ew0otTFGGoj",
        "colab_type": "code",
        "outputId": "e5d7a96b-04d8-40da-8052-34b22962be02",
        "colab": {
          "base_uri": "https://localhost:8080/",
          "height": 1000
        }
      },
      "source": [
        "epochs=10\n",
        "batch_size=64\n",
        "for epoch in range(epochs):\n",
        "  print(\"========================================\")\n",
        "  print(\"Epoch is:\", epoch)\n",
        "  print(\"Number of batches\", int(img_train.shape[0] / batch_size))\n",
        "\n",
        "  gen_losses = []\n",
        "  dis_losses = []\n",
        "\n",
        "  number_of_batches = int(img_train.shape[0] / batch_size)\n",
        "  for index in range(number_of_batches):\n",
        "    print(\"Batch:{}\".format(index+1))\n",
        "\n",
        "     # Create a batch of noise vectors\n",
        "    z_noise = np.random.normal(0, 1, size=(batch_size, z_dim))\n",
        "    image_batch = img_train[index * batch_size:(index + 1) * batch_size]\n",
        "    embedding_batch = emb_train[index * batch_size:(index + 1) * batch_size]\n",
        "    print(\"emb sample: \",sum(embedding_batch[1]))\n",
        "    print(\"z_noise sample: \",z_noise[1])\n",
        "    print(\"imgb sample: \",image_batch[1])\n",
        "\n",
        "    # Normalize images\n",
        "    image_batch = (image_batch - 127.5) / 127.5\n",
        "\n",
        "    fake_images, _ = stage1_gen.predict([embedding_batch, z_noise], verbose=3)\n",
        "    print(fake_images[1])\n",
        "    compressed_embedding = embedding_compressor_model.predict_on_batch(embedding_batch)\n",
        "    print(\"Salida red compressed embeding \",compressed_embedding.shape)\n",
        "    compressed_embedding = np.reshape(compressed_embedding, (-1, 1, 1, condition_dim))\n",
        "    print(\"reshape salida: \",compressed_embedding.shape)\n",
        "    compressed_embedding = np.tile(compressed_embedding, (1, 4, 4, 1))\n",
        "    print(\"final compressed embedding: \",compressed_embedding[1])\n",
        "\n",
        "    np.reshape(real_labels, (batch_size, 1))\n",
        "\n",
        "    dis_loss_real = stage1_dis.train_on_batch([image_batch, compressed_embedding],np.reshape(real_labels, (batch_size, 1)))\n",
        "    dis_loss_fake = stage1_dis.train_on_batch([fake_images, compressed_embedding],np.reshape(fake_labels, (batch_size, 1)))\n",
        "    dis_loss_wrong = stage1_dis.train_on_batch([image_batch[:(batch_size - 1)], compressed_embedding[1:]],np.reshape(fake_labels[1:], (batch_size-1, 1)))\n",
        "\n",
        "    g_loss = adversarial_model.train_on_batch([embedding_batch, z_noise, compressed_embedding],[K.ones((batch_size, 1)) * 0.9, K.ones((batch_size, 256)) * 0.9])\n",
        "\n",
        "    d_loss = 0.5 * np.add(dis_loss_real, 0.5 * np.add(dis_loss_wrong, dis_loss_fake))\n",
        "\n",
        "    print(\"d_loss:{}\".format(d_loss))\n",
        "            \n",
        "    print(\"g_loss:{}\".format(g_loss))\n",
        "\n",
        "    dis_losses.append(d_loss)\n",
        "    gen_losses.append(g_loss)"
      ],
      "execution_count": 93,
      "outputs": [
        {
          "output_type": "stream",
          "text": [
            "========================================\n",
            "Epoch is: 0\n",
            "Number of batches 505\n",
            "Batch:1\n",
            "emb sample:  368\n",
            "z_noise sample:  [-0.09664526 -0.31356039 -0.22465826 -0.1444633  -1.94868572  0.86167821\n",
            "  0.6802996  -1.77972119 -1.08934859 -2.31336948  0.1721643   0.194875\n",
            " -0.85157603  0.17776879 -1.43694385  0.87035804 -0.48268739 -0.1955283\n",
            " -1.35699327 -0.39990885  0.46339748  0.74630552 -0.33317655 -0.81911794\n",
            "  1.64407317 -0.86127661  1.54318293 -0.59406323 -0.57415176  0.97857379\n",
            " -0.09651224  2.19998594 -0.09102715  0.83239422 -1.72393167 -0.4765823\n",
            "  0.38947615  1.00436622  1.73185639 -1.30329027 -0.55672799 -0.74020204\n",
            "  1.53430606  1.17837456  0.7306935  -0.74017585  0.87022757  0.30298978\n",
            " -0.33960675  2.36779588 -0.02735585 -1.27319223 -0.57193867 -0.8186097\n",
            "  2.7741256   0.15232765 -0.64692178  0.32817102 -1.31082661  1.06710513\n",
            "  0.27302203 -0.86994491  0.18626638  0.25024717 -0.70469578 -2.03392706\n",
            " -1.54657011 -0.54912944 -0.84570582  1.38821088  0.78482714  1.06770625\n",
            " -0.89937267 -0.38775814 -1.77757947  0.00316997  0.05085665 -1.96575165\n",
            "  0.18626242  0.2764481   0.95619949 -0.08448059 -0.98872719 -0.97538037\n",
            " -1.49199207  0.30149729 -0.67251524 -0.45110077 -1.53315324 -1.78242067\n",
            " -0.32790164 -1.2874682   0.39176279 -1.01352747  0.04802787 -0.00348722\n",
            "  0.04430638  0.62065173 -0.52662171  0.01871057]\n",
            "imgb sample:  [[[1 1 0]\n",
            "  [1 0 0]\n",
            "  [0 0 0]\n",
            "  ...\n",
            "  [0 3 0]\n",
            "  [0 5 0]\n",
            "  [0 6 0]]\n",
            "\n",
            " [[1 1 0]\n",
            "  [1 0 0]\n",
            "  [0 0 0]\n",
            "  ...\n",
            "  [0 2 0]\n",
            "  [0 4 0]\n",
            "  [0 5 0]]\n",
            "\n",
            " [[1 1 0]\n",
            "  [1 0 0]\n",
            "  [0 0 0]\n",
            "  ...\n",
            "  [0 2 0]\n",
            "  [0 4 0]\n",
            "  [0 5 0]]\n",
            "\n",
            " ...\n",
            "\n",
            " [[4 0 0]\n",
            "  [3 0 0]\n",
            "  [1 0 4]\n",
            "  ...\n",
            "  [0 0 0]\n",
            "  [0 0 5]\n",
            "  [0 1 7]]\n",
            "\n",
            " [[4 0 0]\n",
            "  [4 0 0]\n",
            "  [1 0 4]\n",
            "  ...\n",
            "  [0 0 0]\n",
            "  [0 1 5]\n",
            "  [0 1 9]]\n",
            "\n",
            " [[6 0 0]\n",
            "  [4 0 0]\n",
            "  [3 0 4]\n",
            "  ...\n",
            "  [0 0 0]\n",
            "  [0 1 5]\n",
            "  [0 1 9]]]\n",
            "[[[nan nan nan]\n",
            "  [nan nan nan]\n",
            "  [nan nan nan]\n",
            "  ...\n",
            "  [nan nan nan]\n",
            "  [nan nan nan]\n",
            "  [nan nan nan]]\n",
            "\n",
            " [[nan nan nan]\n",
            "  [nan nan nan]\n",
            "  [nan nan nan]\n",
            "  ...\n",
            "  [nan nan nan]\n",
            "  [nan nan nan]\n",
            "  [nan nan nan]]\n",
            "\n",
            " [[nan nan nan]\n",
            "  [nan nan nan]\n",
            "  [nan nan nan]\n",
            "  ...\n",
            "  [nan nan nan]\n",
            "  [nan nan nan]\n",
            "  [nan nan nan]]\n",
            "\n",
            " ...\n",
            "\n",
            " [[nan nan nan]\n",
            "  [nan nan nan]\n",
            "  [nan nan nan]\n",
            "  ...\n",
            "  [nan nan nan]\n",
            "  [nan nan nan]\n",
            "  [nan nan nan]]\n",
            "\n",
            " [[nan nan nan]\n",
            "  [nan nan nan]\n",
            "  [nan nan nan]\n",
            "  ...\n",
            "  [nan nan nan]\n",
            "  [nan nan nan]\n",
            "  [nan nan nan]]\n",
            "\n",
            " [[nan nan nan]\n",
            "  [nan nan nan]\n",
            "  [nan nan nan]\n",
            "  ...\n",
            "  [nan nan nan]\n",
            "  [nan nan nan]\n",
            "  [nan nan nan]]]\n",
            "Salida red compressed embeding  (64, 128)\n",
            "reshape salida:  (64, 1, 1, 128)\n",
            "final compressed embedding:  [[[38.827496  0.        0.       ...  0.        0.       24.334068]\n",
            "  [38.827496  0.        0.       ...  0.        0.       24.334068]\n",
            "  [38.827496  0.        0.       ...  0.        0.       24.334068]\n",
            "  [38.827496  0.        0.       ...  0.        0.       24.334068]]\n",
            "\n",
            " [[38.827496  0.        0.       ...  0.        0.       24.334068]\n",
            "  [38.827496  0.        0.       ...  0.        0.       24.334068]\n",
            "  [38.827496  0.        0.       ...  0.        0.       24.334068]\n",
            "  [38.827496  0.        0.       ...  0.        0.       24.334068]]\n",
            "\n",
            " [[38.827496  0.        0.       ...  0.        0.       24.334068]\n",
            "  [38.827496  0.        0.       ...  0.        0.       24.334068]\n",
            "  [38.827496  0.        0.       ...  0.        0.       24.334068]\n",
            "  [38.827496  0.        0.       ...  0.        0.       24.334068]]\n",
            "\n",
            " [[38.827496  0.        0.       ...  0.        0.       24.334068]\n",
            "  [38.827496  0.        0.       ...  0.        0.       24.334068]\n",
            "  [38.827496  0.        0.       ...  0.        0.       24.334068]\n",
            "  [38.827496  0.        0.       ...  0.        0.       24.334068]]]\n",
            "d_loss:nan\n",
            "g_loss:[nan, nan, nan]\n",
            "Batch:2\n",
            "emb sample:  4\n",
            "z_noise sample:  [ 0.74972549  1.5206833   1.60379445 -1.48132205  0.21330484  0.96588445\n",
            "  0.08002773 -1.58080232  0.45000616 -0.59577351 -0.28808323 -1.70494967\n",
            " -1.62665938  0.46746538  0.35328768 -0.55197577  0.81824793 -0.50056686\n",
            " -1.1284229   0.11409706 -0.5811175  -0.57943764  2.65935853  0.13169593\n",
            "  0.32035004 -0.41088593  1.01196839 -0.27706675  0.23352481 -0.32914939\n",
            " -0.20090901 -0.51130626  2.04315976  0.35747318 -1.23715207 -0.24671443\n",
            "  0.33863375 -1.5067487  -0.82117321 -2.38540109 -0.8019962   1.01383676\n",
            " -1.48048665 -1.72292847  1.57363328  0.57111627 -1.73558012 -1.4714037\n",
            "  0.42171684 -1.86134313 -1.53827017 -0.78090919 -1.24209175 -1.37962872\n",
            "  0.05562329 -0.44892719 -1.23965552 -1.20047399 -1.50855393  1.64145888\n",
            "  1.10527996 -0.61838535 -2.11500881 -0.73813171 -1.31808962 -0.44956538\n",
            " -0.10292653  0.16361571 -0.3274072   0.25649849 -1.16419371 -1.37371779\n",
            " -0.66614686 -0.24224871 -0.24495602 -0.83002436  0.13408727 -0.2098256\n",
            "  0.73338079 -1.23776871  0.75489617 -0.69162997  0.28666602  0.14575831\n",
            "  0.93795521 -1.0922007   0.73307304  2.52618413  0.74749552  1.27878833\n",
            " -1.02812271 -0.45203034 -1.49501575  0.90211986  2.06188934  0.0539777\n",
            "  0.49237747  0.44254145 -0.56668291 -1.14107836]\n",
            "imgb sample:  [[[0 1 0]\n",
            "  [0 1 0]\n",
            "  [0 1 0]\n",
            "  ...\n",
            "  [0 0 2]\n",
            "  [0 0 2]\n",
            "  [0 0 2]]\n",
            "\n",
            " [[0 1 0]\n",
            "  [0 1 0]\n",
            "  [0 1 0]\n",
            "  ...\n",
            "  [0 0 2]\n",
            "  [0 0 2]\n",
            "  [0 0 2]]\n",
            "\n",
            " [[0 0 2]\n",
            "  [0 0 2]\n",
            "  [0 0 2]\n",
            "  ...\n",
            "  [0 0 0]\n",
            "  [0 0 2]\n",
            "  [0 0 2]]\n",
            "\n",
            " ...\n",
            "\n",
            " [[1 0 0]\n",
            "  [1 0 0]\n",
            "  [1 0 0]\n",
            "  ...\n",
            "  [0 1 0]\n",
            "  [0 1 0]\n",
            "  [0 1 0]]\n",
            "\n",
            " [[0 0 4]\n",
            "  [0 0 4]\n",
            "  [0 0 4]\n",
            "  ...\n",
            "  [0 1 0]\n",
            "  [0 1 0]\n",
            "  [0 1 0]]\n",
            "\n",
            " [[0 0 5]\n",
            "  [0 0 5]\n",
            "  [0 0 5]\n",
            "  ...\n",
            "  [0 0 0]\n",
            "  [0 1 0]\n",
            "  [0 1 0]]]\n",
            "[[[nan nan nan]\n",
            "  [nan nan nan]\n",
            "  [nan nan nan]\n",
            "  ...\n",
            "  [nan nan nan]\n",
            "  [nan nan nan]\n",
            "  [nan nan nan]]\n",
            "\n",
            " [[nan nan nan]\n",
            "  [nan nan nan]\n",
            "  [nan nan nan]\n",
            "  ...\n",
            "  [nan nan nan]\n",
            "  [nan nan nan]\n",
            "  [nan nan nan]]\n",
            "\n",
            " [[nan nan nan]\n",
            "  [nan nan nan]\n",
            "  [nan nan nan]\n",
            "  ...\n",
            "  [nan nan nan]\n",
            "  [nan nan nan]\n",
            "  [nan nan nan]]\n",
            "\n",
            " ...\n",
            "\n",
            " [[nan nan nan]\n",
            "  [nan nan nan]\n",
            "  [nan nan nan]\n",
            "  ...\n",
            "  [nan nan nan]\n",
            "  [nan nan nan]\n",
            "  [nan nan nan]]\n",
            "\n",
            " [[nan nan nan]\n",
            "  [nan nan nan]\n",
            "  [nan nan nan]\n",
            "  ...\n",
            "  [nan nan nan]\n",
            "  [nan nan nan]\n",
            "  [nan nan nan]]\n",
            "\n",
            " [[nan nan nan]\n",
            "  [nan nan nan]\n",
            "  [nan nan nan]\n",
            "  ...\n",
            "  [nan nan nan]\n",
            "  [nan nan nan]\n",
            "  [nan nan nan]]]\n",
            "Salida red compressed embeding  (64, 128)\n",
            "reshape salida:  (64, 1, 1, 128)\n",
            "final compressed embedding:  [[[ 0.        39.91623   84.88322   ...  1.0694643  0.         0.       ]\n",
            "  [ 0.        39.91623   84.88322   ...  1.0694643  0.         0.       ]\n",
            "  [ 0.        39.91623   84.88322   ...  1.0694643  0.         0.       ]\n",
            "  [ 0.        39.91623   84.88322   ...  1.0694643  0.         0.       ]]\n",
            "\n",
            " [[ 0.        39.91623   84.88322   ...  1.0694643  0.         0.       ]\n",
            "  [ 0.        39.91623   84.88322   ...  1.0694643  0.         0.       ]\n",
            "  [ 0.        39.91623   84.88322   ...  1.0694643  0.         0.       ]\n",
            "  [ 0.        39.91623   84.88322   ...  1.0694643  0.         0.       ]]\n",
            "\n",
            " [[ 0.        39.91623   84.88322   ...  1.0694643  0.         0.       ]\n",
            "  [ 0.        39.91623   84.88322   ...  1.0694643  0.         0.       ]\n",
            "  [ 0.        39.91623   84.88322   ...  1.0694643  0.         0.       ]\n",
            "  [ 0.        39.91623   84.88322   ...  1.0694643  0.         0.       ]]\n",
            "\n",
            " [[ 0.        39.91623   84.88322   ...  1.0694643  0.         0.       ]\n",
            "  [ 0.        39.91623   84.88322   ...  1.0694643  0.         0.       ]\n",
            "  [ 0.        39.91623   84.88322   ...  1.0694643  0.         0.       ]\n",
            "  [ 0.        39.91623   84.88322   ...  1.0694643  0.         0.       ]]]\n"
          ],
          "name": "stdout"
        },
        {
          "output_type": "error",
          "ename": "KeyboardInterrupt",
          "evalue": "ignored",
          "traceback": [
            "\u001b[0;31m---------------------------------------------------------------------------\u001b[0m",
            "\u001b[0;31mKeyboardInterrupt\u001b[0m                         Traceback (most recent call last)",
            "\u001b[0;32m<ipython-input-93-21c4ed0db489>\u001b[0m in \u001b[0;36m<module>\u001b[0;34m()\u001b[0m\n\u001b[1;32m     35\u001b[0m     \u001b[0mnp\u001b[0m\u001b[0;34m.\u001b[0m\u001b[0mreshape\u001b[0m\u001b[0;34m(\u001b[0m\u001b[0mreal_labels\u001b[0m\u001b[0;34m,\u001b[0m \u001b[0;34m(\u001b[0m\u001b[0mbatch_size\u001b[0m\u001b[0;34m,\u001b[0m \u001b[0;36m1\u001b[0m\u001b[0;34m)\u001b[0m\u001b[0;34m)\u001b[0m\u001b[0;34m\u001b[0m\u001b[0;34m\u001b[0m\u001b[0m\n\u001b[1;32m     36\u001b[0m \u001b[0;34m\u001b[0m\u001b[0m\n\u001b[0;32m---> 37\u001b[0;31m     \u001b[0mdis_loss_real\u001b[0m \u001b[0;34m=\u001b[0m \u001b[0mstage1_dis\u001b[0m\u001b[0;34m.\u001b[0m\u001b[0mtrain_on_batch\u001b[0m\u001b[0;34m(\u001b[0m\u001b[0;34m[\u001b[0m\u001b[0mimage_batch\u001b[0m\u001b[0;34m,\u001b[0m \u001b[0mcompressed_embedding\u001b[0m\u001b[0;34m]\u001b[0m\u001b[0;34m,\u001b[0m\u001b[0mnp\u001b[0m\u001b[0;34m.\u001b[0m\u001b[0mreshape\u001b[0m\u001b[0;34m(\u001b[0m\u001b[0mreal_labels\u001b[0m\u001b[0;34m,\u001b[0m \u001b[0;34m(\u001b[0m\u001b[0mbatch_size\u001b[0m\u001b[0;34m,\u001b[0m \u001b[0;36m1\u001b[0m\u001b[0;34m)\u001b[0m\u001b[0;34m)\u001b[0m\u001b[0;34m)\u001b[0m\u001b[0;34m\u001b[0m\u001b[0;34m\u001b[0m\u001b[0m\n\u001b[0m\u001b[1;32m     38\u001b[0m     \u001b[0mdis_loss_fake\u001b[0m \u001b[0;34m=\u001b[0m \u001b[0mstage1_dis\u001b[0m\u001b[0;34m.\u001b[0m\u001b[0mtrain_on_batch\u001b[0m\u001b[0;34m(\u001b[0m\u001b[0;34m[\u001b[0m\u001b[0mfake_images\u001b[0m\u001b[0;34m,\u001b[0m \u001b[0mcompressed_embedding\u001b[0m\u001b[0;34m]\u001b[0m\u001b[0;34m,\u001b[0m\u001b[0mnp\u001b[0m\u001b[0;34m.\u001b[0m\u001b[0mreshape\u001b[0m\u001b[0;34m(\u001b[0m\u001b[0mfake_labels\u001b[0m\u001b[0;34m,\u001b[0m \u001b[0;34m(\u001b[0m\u001b[0mbatch_size\u001b[0m\u001b[0;34m,\u001b[0m \u001b[0;36m1\u001b[0m\u001b[0;34m)\u001b[0m\u001b[0;34m)\u001b[0m\u001b[0;34m)\u001b[0m\u001b[0;34m\u001b[0m\u001b[0;34m\u001b[0m\u001b[0m\n\u001b[1;32m     39\u001b[0m     \u001b[0mdis_loss_wrong\u001b[0m \u001b[0;34m=\u001b[0m \u001b[0mstage1_dis\u001b[0m\u001b[0;34m.\u001b[0m\u001b[0mtrain_on_batch\u001b[0m\u001b[0;34m(\u001b[0m\u001b[0;34m[\u001b[0m\u001b[0mimage_batch\u001b[0m\u001b[0;34m[\u001b[0m\u001b[0;34m:\u001b[0m\u001b[0;34m(\u001b[0m\u001b[0mbatch_size\u001b[0m \u001b[0;34m-\u001b[0m \u001b[0;36m1\u001b[0m\u001b[0;34m)\u001b[0m\u001b[0;34m]\u001b[0m\u001b[0;34m,\u001b[0m \u001b[0mcompressed_embedding\u001b[0m\u001b[0;34m[\u001b[0m\u001b[0;36m1\u001b[0m\u001b[0;34m:\u001b[0m\u001b[0;34m]\u001b[0m\u001b[0;34m]\u001b[0m\u001b[0;34m,\u001b[0m\u001b[0mnp\u001b[0m\u001b[0;34m.\u001b[0m\u001b[0mreshape\u001b[0m\u001b[0;34m(\u001b[0m\u001b[0mfake_labels\u001b[0m\u001b[0;34m[\u001b[0m\u001b[0;36m1\u001b[0m\u001b[0;34m:\u001b[0m\u001b[0;34m]\u001b[0m\u001b[0;34m,\u001b[0m \u001b[0;34m(\u001b[0m\u001b[0mbatch_size\u001b[0m\u001b[0;34m-\u001b[0m\u001b[0;36m1\u001b[0m\u001b[0;34m,\u001b[0m \u001b[0;36m1\u001b[0m\u001b[0;34m)\u001b[0m\u001b[0;34m)\u001b[0m\u001b[0;34m)\u001b[0m\u001b[0;34m\u001b[0m\u001b[0;34m\u001b[0m\u001b[0m\n",
            "\u001b[0;32m/usr/local/lib/python3.6/dist-packages/tensorflow/python/keras/engine/training.py\u001b[0m in \u001b[0;36mtrain_on_batch\u001b[0;34m(self, x, y, sample_weight, class_weight, reset_metrics, return_dict)\u001b[0m\n\u001b[1;32m   1346\u001b[0m                                                     class_weight)\n\u001b[1;32m   1347\u001b[0m       \u001b[0mtrain_function\u001b[0m \u001b[0;34m=\u001b[0m \u001b[0mself\u001b[0m\u001b[0;34m.\u001b[0m\u001b[0mmake_train_function\u001b[0m\u001b[0;34m(\u001b[0m\u001b[0;34m)\u001b[0m\u001b[0;34m\u001b[0m\u001b[0;34m\u001b[0m\u001b[0m\n\u001b[0;32m-> 1348\u001b[0;31m       \u001b[0mlogs\u001b[0m \u001b[0;34m=\u001b[0m \u001b[0mtrain_function\u001b[0m\u001b[0;34m(\u001b[0m\u001b[0miterator\u001b[0m\u001b[0;34m)\u001b[0m\u001b[0;34m\u001b[0m\u001b[0;34m\u001b[0m\u001b[0m\n\u001b[0m\u001b[1;32m   1349\u001b[0m \u001b[0;34m\u001b[0m\u001b[0m\n\u001b[1;32m   1350\u001b[0m     \u001b[0;32mif\u001b[0m \u001b[0mreset_metrics\u001b[0m\u001b[0;34m:\u001b[0m\u001b[0;34m\u001b[0m\u001b[0;34m\u001b[0m\u001b[0m\n",
            "\u001b[0;32m/usr/local/lib/python3.6/dist-packages/tensorflow/python/eager/def_function.py\u001b[0m in \u001b[0;36m__call__\u001b[0;34m(self, *args, **kwds)\u001b[0m\n\u001b[1;32m    578\u001b[0m         \u001b[0mxla_context\u001b[0m\u001b[0;34m.\u001b[0m\u001b[0mExit\u001b[0m\u001b[0;34m(\u001b[0m\u001b[0;34m)\u001b[0m\u001b[0;34m\u001b[0m\u001b[0;34m\u001b[0m\u001b[0m\n\u001b[1;32m    579\u001b[0m     \u001b[0;32melse\u001b[0m\u001b[0;34m:\u001b[0m\u001b[0;34m\u001b[0m\u001b[0;34m\u001b[0m\u001b[0m\n\u001b[0;32m--> 580\u001b[0;31m       \u001b[0mresult\u001b[0m \u001b[0;34m=\u001b[0m \u001b[0mself\u001b[0m\u001b[0;34m.\u001b[0m\u001b[0m_call\u001b[0m\u001b[0;34m(\u001b[0m\u001b[0;34m*\u001b[0m\u001b[0margs\u001b[0m\u001b[0;34m,\u001b[0m \u001b[0;34m**\u001b[0m\u001b[0mkwds\u001b[0m\u001b[0;34m)\u001b[0m\u001b[0;34m\u001b[0m\u001b[0;34m\u001b[0m\u001b[0m\n\u001b[0m\u001b[1;32m    581\u001b[0m \u001b[0;34m\u001b[0m\u001b[0m\n\u001b[1;32m    582\u001b[0m     \u001b[0;32mif\u001b[0m \u001b[0mtracing_count\u001b[0m \u001b[0;34m==\u001b[0m \u001b[0mself\u001b[0m\u001b[0;34m.\u001b[0m\u001b[0m_get_tracing_count\u001b[0m\u001b[0;34m(\u001b[0m\u001b[0;34m)\u001b[0m\u001b[0;34m:\u001b[0m\u001b[0;34m\u001b[0m\u001b[0;34m\u001b[0m\u001b[0m\n",
            "\u001b[0;32m/usr/local/lib/python3.6/dist-packages/tensorflow/python/eager/def_function.py\u001b[0m in \u001b[0;36m_call\u001b[0;34m(self, *args, **kwds)\u001b[0m\n\u001b[1;32m    609\u001b[0m       \u001b[0;31m# In this case we have created variables on the first call, so we run the\u001b[0m\u001b[0;34m\u001b[0m\u001b[0;34m\u001b[0m\u001b[0;34m\u001b[0m\u001b[0m\n\u001b[1;32m    610\u001b[0m       \u001b[0;31m# defunned version which is guaranteed to never create variables.\u001b[0m\u001b[0;34m\u001b[0m\u001b[0;34m\u001b[0m\u001b[0;34m\u001b[0m\u001b[0m\n\u001b[0;32m--> 611\u001b[0;31m       \u001b[0;32mreturn\u001b[0m \u001b[0mself\u001b[0m\u001b[0;34m.\u001b[0m\u001b[0m_stateless_fn\u001b[0m\u001b[0;34m(\u001b[0m\u001b[0;34m*\u001b[0m\u001b[0margs\u001b[0m\u001b[0;34m,\u001b[0m \u001b[0;34m**\u001b[0m\u001b[0mkwds\u001b[0m\u001b[0;34m)\u001b[0m  \u001b[0;31m# pylint: disable=not-callable\u001b[0m\u001b[0;34m\u001b[0m\u001b[0;34m\u001b[0m\u001b[0m\n\u001b[0m\u001b[1;32m    612\u001b[0m     \u001b[0;32melif\u001b[0m \u001b[0mself\u001b[0m\u001b[0;34m.\u001b[0m\u001b[0m_stateful_fn\u001b[0m \u001b[0;32mis\u001b[0m \u001b[0;32mnot\u001b[0m \u001b[0;32mNone\u001b[0m\u001b[0;34m:\u001b[0m\u001b[0;34m\u001b[0m\u001b[0;34m\u001b[0m\u001b[0m\n\u001b[1;32m    613\u001b[0m       \u001b[0;31m# Release the lock early so that multiple threads can perform the call\u001b[0m\u001b[0;34m\u001b[0m\u001b[0;34m\u001b[0m\u001b[0;34m\u001b[0m\u001b[0m\n",
            "\u001b[0;32m/usr/local/lib/python3.6/dist-packages/tensorflow/python/eager/function.py\u001b[0m in \u001b[0;36m__call__\u001b[0;34m(self, *args, **kwargs)\u001b[0m\n\u001b[1;32m   2418\u001b[0m     \u001b[0;32mwith\u001b[0m \u001b[0mself\u001b[0m\u001b[0;34m.\u001b[0m\u001b[0m_lock\u001b[0m\u001b[0;34m:\u001b[0m\u001b[0;34m\u001b[0m\u001b[0;34m\u001b[0m\u001b[0m\n\u001b[1;32m   2419\u001b[0m       \u001b[0mgraph_function\u001b[0m\u001b[0;34m,\u001b[0m \u001b[0margs\u001b[0m\u001b[0;34m,\u001b[0m \u001b[0mkwargs\u001b[0m \u001b[0;34m=\u001b[0m \u001b[0mself\u001b[0m\u001b[0;34m.\u001b[0m\u001b[0m_maybe_define_function\u001b[0m\u001b[0;34m(\u001b[0m\u001b[0margs\u001b[0m\u001b[0;34m,\u001b[0m \u001b[0mkwargs\u001b[0m\u001b[0;34m)\u001b[0m\u001b[0;34m\u001b[0m\u001b[0;34m\u001b[0m\u001b[0m\n\u001b[0;32m-> 2420\u001b[0;31m     \u001b[0;32mreturn\u001b[0m \u001b[0mgraph_function\u001b[0m\u001b[0;34m.\u001b[0m\u001b[0m_filtered_call\u001b[0m\u001b[0;34m(\u001b[0m\u001b[0margs\u001b[0m\u001b[0;34m,\u001b[0m \u001b[0mkwargs\u001b[0m\u001b[0;34m)\u001b[0m  \u001b[0;31m# pylint: disable=protected-access\u001b[0m\u001b[0;34m\u001b[0m\u001b[0;34m\u001b[0m\u001b[0m\n\u001b[0m\u001b[1;32m   2421\u001b[0m \u001b[0;34m\u001b[0m\u001b[0m\n\u001b[1;32m   2422\u001b[0m   \u001b[0;34m@\u001b[0m\u001b[0mproperty\u001b[0m\u001b[0;34m\u001b[0m\u001b[0;34m\u001b[0m\u001b[0m\n",
            "\u001b[0;32m/usr/local/lib/python3.6/dist-packages/tensorflow/python/eager/function.py\u001b[0m in \u001b[0;36m_filtered_call\u001b[0;34m(self, args, kwargs)\u001b[0m\n\u001b[1;32m   1663\u001b[0m          if isinstance(t, (ops.Tensor,\n\u001b[1;32m   1664\u001b[0m                            resource_variable_ops.BaseResourceVariable))),\n\u001b[0;32m-> 1665\u001b[0;31m         self.captured_inputs)\n\u001b[0m\u001b[1;32m   1666\u001b[0m \u001b[0;34m\u001b[0m\u001b[0m\n\u001b[1;32m   1667\u001b[0m   \u001b[0;32mdef\u001b[0m \u001b[0m_call_flat\u001b[0m\u001b[0;34m(\u001b[0m\u001b[0mself\u001b[0m\u001b[0;34m,\u001b[0m \u001b[0margs\u001b[0m\u001b[0;34m,\u001b[0m \u001b[0mcaptured_inputs\u001b[0m\u001b[0;34m,\u001b[0m \u001b[0mcancellation_manager\u001b[0m\u001b[0;34m=\u001b[0m\u001b[0;32mNone\u001b[0m\u001b[0;34m)\u001b[0m\u001b[0;34m:\u001b[0m\u001b[0;34m\u001b[0m\u001b[0;34m\u001b[0m\u001b[0m\n",
            "\u001b[0;32m/usr/local/lib/python3.6/dist-packages/tensorflow/python/eager/function.py\u001b[0m in \u001b[0;36m_call_flat\u001b[0;34m(self, args, captured_inputs, cancellation_manager)\u001b[0m\n\u001b[1;32m   1744\u001b[0m       \u001b[0;31m# No tape is watching; skip to running the function.\u001b[0m\u001b[0;34m\u001b[0m\u001b[0;34m\u001b[0m\u001b[0;34m\u001b[0m\u001b[0m\n\u001b[1;32m   1745\u001b[0m       return self._build_call_outputs(self._inference_function.call(\n\u001b[0;32m-> 1746\u001b[0;31m           ctx, args, cancellation_manager=cancellation_manager))\n\u001b[0m\u001b[1;32m   1747\u001b[0m     forward_backward = self._select_forward_and_backward_functions(\n\u001b[1;32m   1748\u001b[0m         \u001b[0margs\u001b[0m\u001b[0;34m,\u001b[0m\u001b[0;34m\u001b[0m\u001b[0;34m\u001b[0m\u001b[0m\n",
            "\u001b[0;32m/usr/local/lib/python3.6/dist-packages/tensorflow/python/eager/function.py\u001b[0m in \u001b[0;36mcall\u001b[0;34m(self, ctx, args, cancellation_manager)\u001b[0m\n\u001b[1;32m    596\u001b[0m               \u001b[0minputs\u001b[0m\u001b[0;34m=\u001b[0m\u001b[0margs\u001b[0m\u001b[0;34m,\u001b[0m\u001b[0;34m\u001b[0m\u001b[0;34m\u001b[0m\u001b[0m\n\u001b[1;32m    597\u001b[0m               \u001b[0mattrs\u001b[0m\u001b[0;34m=\u001b[0m\u001b[0mattrs\u001b[0m\u001b[0;34m,\u001b[0m\u001b[0;34m\u001b[0m\u001b[0;34m\u001b[0m\u001b[0m\n\u001b[0;32m--> 598\u001b[0;31m               ctx=ctx)\n\u001b[0m\u001b[1;32m    599\u001b[0m         \u001b[0;32melse\u001b[0m\u001b[0;34m:\u001b[0m\u001b[0;34m\u001b[0m\u001b[0;34m\u001b[0m\u001b[0m\n\u001b[1;32m    600\u001b[0m           outputs = execute.execute_with_cancellation(\n",
            "\u001b[0;32m/usr/local/lib/python3.6/dist-packages/tensorflow/python/eager/execute.py\u001b[0m in \u001b[0;36mquick_execute\u001b[0;34m(op_name, num_outputs, inputs, attrs, ctx, name)\u001b[0m\n\u001b[1;32m     58\u001b[0m     \u001b[0mctx\u001b[0m\u001b[0;34m.\u001b[0m\u001b[0mensure_initialized\u001b[0m\u001b[0;34m(\u001b[0m\u001b[0;34m)\u001b[0m\u001b[0;34m\u001b[0m\u001b[0;34m\u001b[0m\u001b[0m\n\u001b[1;32m     59\u001b[0m     tensors = pywrap_tfe.TFE_Py_Execute(ctx._handle, device_name, op_name,\n\u001b[0;32m---> 60\u001b[0;31m                                         inputs, attrs, num_outputs)\n\u001b[0m\u001b[1;32m     61\u001b[0m   \u001b[0;32mexcept\u001b[0m \u001b[0mcore\u001b[0m\u001b[0;34m.\u001b[0m\u001b[0m_NotOkStatusException\u001b[0m \u001b[0;32mas\u001b[0m \u001b[0me\u001b[0m\u001b[0;34m:\u001b[0m\u001b[0;34m\u001b[0m\u001b[0;34m\u001b[0m\u001b[0m\n\u001b[1;32m     62\u001b[0m     \u001b[0;32mif\u001b[0m \u001b[0mname\u001b[0m \u001b[0;32mis\u001b[0m \u001b[0;32mnot\u001b[0m \u001b[0;32mNone\u001b[0m\u001b[0;34m:\u001b[0m\u001b[0;34m\u001b[0m\u001b[0;34m\u001b[0m\u001b[0m\n",
            "\u001b[0;31mKeyboardInterrupt\u001b[0m: "
          ]
        }
      ]
    },
    {
      "cell_type": "code",
      "metadata": {
        "id": "YaBFrKPEHFK9",
        "colab_type": "code",
        "colab": {}
      },
      "source": [
        "def save_rgb_img(img, path):\n",
        "    \"\"\"\n",
        "    Save a rgb image\n",
        "    \"\"\"\n",
        "    fig = plt.figure()\n",
        "    ax = fig.add_subplot(1, 1, 1)\n",
        "    ax.imshow(img)\n",
        "    ax.axis(\"off\")\n",
        "    ax.set_title(\"Image\")\n",
        "\n",
        "    plt.savefig(path)\n",
        "    plt.close()"
      ],
      "execution_count": 0,
      "outputs": []
    },
    {
      "cell_type": "code",
      "metadata": {
        "id": "GPdYmYpG64Hk",
        "colab_type": "code",
        "colab": {}
      },
      "source": [
        "z_noise2 = np.random.normal(0, 1, size=(batch_size, z_dim))\n",
        "embedding_batch = embeddings_test[0:batch_size]\n",
        "fake_images, _ = stage1_gen.predict_on_batch([embedding_batch, z_noise2])\n",
        "\n",
        "# Save images\n",
        "for i, img in enumerate(fake_images[:10]):\n",
        "    save_rgb_img(img, \"results/gen_{}_{}.png\".format(epoch, i)"
      ],
      "execution_count": 0,
      "outputs": []
    },
    {
      "cell_type": "code",
      "metadata": {
        "id": "DR479_u7HIUq",
        "colab_type": "code",
        "colab": {}
      },
      "source": [
        "stage1_gen.save_weights(\"stage1_gen.h5\")\n",
        "stage1_dis.save_weights(\"stage1_dis.h5\")"
      ],
      "execution_count": 0,
      "outputs": []
    }
  ]
}
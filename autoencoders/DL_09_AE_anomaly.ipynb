{
  "nbformat": 4,
  "nbformat_minor": 0,
  "metadata": {
    "colab": {
      "name": "DL_09_AE_anomaly.ipynb",
      "provenance": [],
      "collapsed_sections": [],
      "include_colab_link": true
    },
    "kernelspec": {
      "name": "python3",
      "display_name": "Python 3"
    },
    "accelerator": "GPU"
  },
  "cells": [
    {
      "cell_type": "markdown",
      "metadata": {
        "id": "view-in-github",
        "colab_type": "text"
      },
      "source": [
        "<a href=\"https://colab.research.google.com/github/Pilo1961/Deep_Learning/blob/master/autoencoders/DL_09_AE_anomaly.ipynb\" target=\"_parent\"><img src=\"https://colab.research.google.com/assets/colab-badge.svg\" alt=\"Open In Colab\"/></a>"
      ]
    },
    {
      "cell_type": "code",
      "metadata": {
        "id": "jolv41Yx2ri8",
        "colab_type": "code",
        "colab": {}
      },
      "source": [
        "import numpy as np\n",
        "import matplotlib.pyplot as plt\n",
        "import pandas as pd\n",
        "from sklearn.preprocessing import StandardScaler\n",
        "from sklearn.model_selection import train_test_split"
      ],
      "execution_count": 0,
      "outputs": []
    },
    {
      "cell_type": "code",
      "metadata": {
        "id": "00VizCbu3074",
        "colab_type": "code",
        "colab": {}
      },
      "source": [
        "# GOALS:\n",
        "# - Train ourselves on unsupervised deep learning.\n",
        "# - Train ourselves on the use of autoencoders (AE).\n",
        "# - Use an AE to estimate latent representations of some numeric data.\n",
        "# - Use those latent representations to detect anomalies (abnormal data)."
      ],
      "execution_count": 0,
      "outputs": []
    },
    {
      "cell_type": "code",
      "metadata": {
        "id": "sNnrnlAm6fp-",
        "colab_type": "code",
        "colab": {}
      },
      "source": [
        "# Data set: https://www.kaggle.com/mlg-ulb/creditcardfraud\n",
        "# https://www.kaggle.com/mlg-ulb/creditcardfraud/download\n",
        "#\n",
        "# The datasets contains transactions made by credit cards in September 2013 by european cardholders.\n",
        "# This dataset presents transactions that occurred in two days, where we have 492 frauds out of 284,807 transactions.\n",
        "# The dataset is highly unbalanced, the positive class (frauds) account for 0.172% of all transactions.\n",
        "#\n",
        "# It contains only numerical input variables which are the result of a PCA transformation (privacy reasons).\n",
        "# Features V1, V2, … V28 are the principal components obtained with PCA, the only features which have not been transformed with PCA are\n",
        "# 'Time' and 'Amount'. Feature 'Time' contains the seconds elapsed between each transaction and the first transaction in the dataset.\n",
        "# The feature 'Amount' is the transaction Amount. Feature 'Class' is the response variable and it takes value 1 in case of fraud\n",
        "# and 0 otherwise."
      ],
      "execution_count": 0,
      "outputs": []
    },
    {
      "cell_type": "markdown",
      "metadata": {
        "id": "sUfvYquT7i74",
        "colab_type": "text"
      },
      "source": [
        "# Part 1: Load data"
      ]
    },
    {
      "cell_type": "code",
      "metadata": {
        "id": "w0T8Z5_O3mV7",
        "colab_type": "code",
        "outputId": "f064fdf3-b282-48d6-d673-1e54f4bc1b6f",
        "colab": {
          "base_uri": "https://localhost:8080/",
          "height": 52
        }
      },
      "source": [
        "# Load data\n",
        "df = pd.read_csv(\"creditcard.csv\")\n",
        "print(df.shape)\n",
        "\n"
      ],
      "execution_count": 0,
      "outputs": [
        {
          "output_type": "stream",
          "text": [
            "(284807, 31)\n"
          ],
          "name": "stdout"
        },
        {
          "output_type": "execute_result",
          "data": {
            "text/plain": [
              "False"
            ]
          },
          "metadata": {
            "tags": []
          },
          "execution_count": 4
        }
      ]
    },
    {
      "cell_type": "code",
      "metadata": {
        "id": "pBpVLYem1opn",
        "colab_type": "code",
        "outputId": "3c920fcc-c8cc-4408-fce9-753e935c127a",
        "colab": {
          "base_uri": "https://localhost:8080/",
          "height": 121
        }
      },
      "source": [
        "#load data from google drive\n",
        "from google.colab import drive\n",
        "drive.mount('/content/drive')\n",
        "path= \"/content/drive/My Drive/data/creditcard.csv\"\n",
        "df=pd.read_csv(path)"
      ],
      "execution_count": 2,
      "outputs": [
        {
          "output_type": "stream",
          "text": [
            "Go to this URL in a browser: https://accounts.google.com/o/oauth2/auth?client_id=947318989803-6bn6qk8qdgf4n4g3pfee6491hc0brc4i.apps.googleusercontent.com&redirect_uri=urn%3aietf%3awg%3aoauth%3a2.0%3aoob&response_type=code&scope=email%20https%3a%2f%2fwww.googleapis.com%2fauth%2fdocs.test%20https%3a%2f%2fwww.googleapis.com%2fauth%2fdrive%20https%3a%2f%2fwww.googleapis.com%2fauth%2fdrive.photos.readonly%20https%3a%2f%2fwww.googleapis.com%2fauth%2fpeopleapi.readonly\n",
            "\n",
            "Enter your authorization code:\n",
            "··········\n",
            "Mounted at /content/drive\n"
          ],
          "name": "stdout"
        }
      ]
    },
    {
      "cell_type": "code",
      "metadata": {
        "id": "wcJRKlw22r4c",
        "colab_type": "code",
        "outputId": "2373219c-d558-42ef-b4b2-0700198680fa",
        "colab": {
          "base_uri": "https://localhost:8080/",
          "height": 34
        }
      },
      "source": [
        "# Remueve entries with nan values\n",
        "df.dropna(inplace=True)\n",
        "df.isnull().values.any()"
      ],
      "execution_count": 3,
      "outputs": [
        {
          "output_type": "execute_result",
          "data": {
            "text/plain": [
              "False"
            ]
          },
          "metadata": {
            "tags": []
          },
          "execution_count": 3
        }
      ]
    },
    {
      "cell_type": "code",
      "metadata": {
        "id": "uLPwMzKF39We",
        "colab_type": "code",
        "outputId": "25271a7b-bd40-4868-f5f4-37c84648e62e",
        "colab": {
          "base_uri": "https://localhost:8080/",
          "height": 422
        }
      },
      "source": [
        "# Show a summary\n",
        "df"
      ],
      "execution_count": 4,
      "outputs": [
        {
          "output_type": "execute_result",
          "data": {
            "text/html": [
              "<div>\n",
              "<style scoped>\n",
              "    .dataframe tbody tr th:only-of-type {\n",
              "        vertical-align: middle;\n",
              "    }\n",
              "\n",
              "    .dataframe tbody tr th {\n",
              "        vertical-align: top;\n",
              "    }\n",
              "\n",
              "    .dataframe thead th {\n",
              "        text-align: right;\n",
              "    }\n",
              "</style>\n",
              "<table border=\"1\" class=\"dataframe\">\n",
              "  <thead>\n",
              "    <tr style=\"text-align: right;\">\n",
              "      <th></th>\n",
              "      <th>Time</th>\n",
              "      <th>V1</th>\n",
              "      <th>V2</th>\n",
              "      <th>V3</th>\n",
              "      <th>V4</th>\n",
              "      <th>V5</th>\n",
              "      <th>V6</th>\n",
              "      <th>V7</th>\n",
              "      <th>V8</th>\n",
              "      <th>V9</th>\n",
              "      <th>V10</th>\n",
              "      <th>V11</th>\n",
              "      <th>V12</th>\n",
              "      <th>V13</th>\n",
              "      <th>V14</th>\n",
              "      <th>V15</th>\n",
              "      <th>V16</th>\n",
              "      <th>V17</th>\n",
              "      <th>V18</th>\n",
              "      <th>V19</th>\n",
              "      <th>V20</th>\n",
              "      <th>V21</th>\n",
              "      <th>V22</th>\n",
              "      <th>V23</th>\n",
              "      <th>V24</th>\n",
              "      <th>V25</th>\n",
              "      <th>V26</th>\n",
              "      <th>V27</th>\n",
              "      <th>V28</th>\n",
              "      <th>Amount</th>\n",
              "      <th>Class</th>\n",
              "    </tr>\n",
              "  </thead>\n",
              "  <tbody>\n",
              "    <tr>\n",
              "      <th>0</th>\n",
              "      <td>0.0</td>\n",
              "      <td>-1.359807</td>\n",
              "      <td>-0.072781</td>\n",
              "      <td>2.536347</td>\n",
              "      <td>1.378155</td>\n",
              "      <td>-0.338321</td>\n",
              "      <td>0.462388</td>\n",
              "      <td>0.239599</td>\n",
              "      <td>0.098698</td>\n",
              "      <td>0.363787</td>\n",
              "      <td>0.090794</td>\n",
              "      <td>-0.551600</td>\n",
              "      <td>-0.617801</td>\n",
              "      <td>-0.991390</td>\n",
              "      <td>-0.311169</td>\n",
              "      <td>1.468177</td>\n",
              "      <td>-0.470401</td>\n",
              "      <td>0.207971</td>\n",
              "      <td>0.025791</td>\n",
              "      <td>0.403993</td>\n",
              "      <td>0.251412</td>\n",
              "      <td>-0.018307</td>\n",
              "      <td>0.277838</td>\n",
              "      <td>-0.110474</td>\n",
              "      <td>0.066928</td>\n",
              "      <td>0.128539</td>\n",
              "      <td>-0.189115</td>\n",
              "      <td>0.133558</td>\n",
              "      <td>-0.021053</td>\n",
              "      <td>149.62</td>\n",
              "      <td>0</td>\n",
              "    </tr>\n",
              "    <tr>\n",
              "      <th>1</th>\n",
              "      <td>0.0</td>\n",
              "      <td>1.191857</td>\n",
              "      <td>0.266151</td>\n",
              "      <td>0.166480</td>\n",
              "      <td>0.448154</td>\n",
              "      <td>0.060018</td>\n",
              "      <td>-0.082361</td>\n",
              "      <td>-0.078803</td>\n",
              "      <td>0.085102</td>\n",
              "      <td>-0.255425</td>\n",
              "      <td>-0.166974</td>\n",
              "      <td>1.612727</td>\n",
              "      <td>1.065235</td>\n",
              "      <td>0.489095</td>\n",
              "      <td>-0.143772</td>\n",
              "      <td>0.635558</td>\n",
              "      <td>0.463917</td>\n",
              "      <td>-0.114805</td>\n",
              "      <td>-0.183361</td>\n",
              "      <td>-0.145783</td>\n",
              "      <td>-0.069083</td>\n",
              "      <td>-0.225775</td>\n",
              "      <td>-0.638672</td>\n",
              "      <td>0.101288</td>\n",
              "      <td>-0.339846</td>\n",
              "      <td>0.167170</td>\n",
              "      <td>0.125895</td>\n",
              "      <td>-0.008983</td>\n",
              "      <td>0.014724</td>\n",
              "      <td>2.69</td>\n",
              "      <td>0</td>\n",
              "    </tr>\n",
              "    <tr>\n",
              "      <th>2</th>\n",
              "      <td>1.0</td>\n",
              "      <td>-1.358354</td>\n",
              "      <td>-1.340163</td>\n",
              "      <td>1.773209</td>\n",
              "      <td>0.379780</td>\n",
              "      <td>-0.503198</td>\n",
              "      <td>1.800499</td>\n",
              "      <td>0.791461</td>\n",
              "      <td>0.247676</td>\n",
              "      <td>-1.514654</td>\n",
              "      <td>0.207643</td>\n",
              "      <td>0.624501</td>\n",
              "      <td>0.066084</td>\n",
              "      <td>0.717293</td>\n",
              "      <td>-0.165946</td>\n",
              "      <td>2.345865</td>\n",
              "      <td>-2.890083</td>\n",
              "      <td>1.109969</td>\n",
              "      <td>-0.121359</td>\n",
              "      <td>-2.261857</td>\n",
              "      <td>0.524980</td>\n",
              "      <td>0.247998</td>\n",
              "      <td>0.771679</td>\n",
              "      <td>0.909412</td>\n",
              "      <td>-0.689281</td>\n",
              "      <td>-0.327642</td>\n",
              "      <td>-0.139097</td>\n",
              "      <td>-0.055353</td>\n",
              "      <td>-0.059752</td>\n",
              "      <td>378.66</td>\n",
              "      <td>0</td>\n",
              "    </tr>\n",
              "    <tr>\n",
              "      <th>3</th>\n",
              "      <td>1.0</td>\n",
              "      <td>-0.966272</td>\n",
              "      <td>-0.185226</td>\n",
              "      <td>1.792993</td>\n",
              "      <td>-0.863291</td>\n",
              "      <td>-0.010309</td>\n",
              "      <td>1.247203</td>\n",
              "      <td>0.237609</td>\n",
              "      <td>0.377436</td>\n",
              "      <td>-1.387024</td>\n",
              "      <td>-0.054952</td>\n",
              "      <td>-0.226487</td>\n",
              "      <td>0.178228</td>\n",
              "      <td>0.507757</td>\n",
              "      <td>-0.287924</td>\n",
              "      <td>-0.631418</td>\n",
              "      <td>-1.059647</td>\n",
              "      <td>-0.684093</td>\n",
              "      <td>1.965775</td>\n",
              "      <td>-1.232622</td>\n",
              "      <td>-0.208038</td>\n",
              "      <td>-0.108300</td>\n",
              "      <td>0.005274</td>\n",
              "      <td>-0.190321</td>\n",
              "      <td>-1.175575</td>\n",
              "      <td>0.647376</td>\n",
              "      <td>-0.221929</td>\n",
              "      <td>0.062723</td>\n",
              "      <td>0.061458</td>\n",
              "      <td>123.50</td>\n",
              "      <td>0</td>\n",
              "    </tr>\n",
              "    <tr>\n",
              "      <th>4</th>\n",
              "      <td>2.0</td>\n",
              "      <td>-1.158233</td>\n",
              "      <td>0.877737</td>\n",
              "      <td>1.548718</td>\n",
              "      <td>0.403034</td>\n",
              "      <td>-0.407193</td>\n",
              "      <td>0.095921</td>\n",
              "      <td>0.592941</td>\n",
              "      <td>-0.270533</td>\n",
              "      <td>0.817739</td>\n",
              "      <td>0.753074</td>\n",
              "      <td>-0.822843</td>\n",
              "      <td>0.538196</td>\n",
              "      <td>1.345852</td>\n",
              "      <td>-1.119670</td>\n",
              "      <td>0.175121</td>\n",
              "      <td>-0.451449</td>\n",
              "      <td>-0.237033</td>\n",
              "      <td>-0.038195</td>\n",
              "      <td>0.803487</td>\n",
              "      <td>0.408542</td>\n",
              "      <td>-0.009431</td>\n",
              "      <td>0.798278</td>\n",
              "      <td>-0.137458</td>\n",
              "      <td>0.141267</td>\n",
              "      <td>-0.206010</td>\n",
              "      <td>0.502292</td>\n",
              "      <td>0.219422</td>\n",
              "      <td>0.215153</td>\n",
              "      <td>69.99</td>\n",
              "      <td>0</td>\n",
              "    </tr>\n",
              "    <tr>\n",
              "      <th>...</th>\n",
              "      <td>...</td>\n",
              "      <td>...</td>\n",
              "      <td>...</td>\n",
              "      <td>...</td>\n",
              "      <td>...</td>\n",
              "      <td>...</td>\n",
              "      <td>...</td>\n",
              "      <td>...</td>\n",
              "      <td>...</td>\n",
              "      <td>...</td>\n",
              "      <td>...</td>\n",
              "      <td>...</td>\n",
              "      <td>...</td>\n",
              "      <td>...</td>\n",
              "      <td>...</td>\n",
              "      <td>...</td>\n",
              "      <td>...</td>\n",
              "      <td>...</td>\n",
              "      <td>...</td>\n",
              "      <td>...</td>\n",
              "      <td>...</td>\n",
              "      <td>...</td>\n",
              "      <td>...</td>\n",
              "      <td>...</td>\n",
              "      <td>...</td>\n",
              "      <td>...</td>\n",
              "      <td>...</td>\n",
              "      <td>...</td>\n",
              "      <td>...</td>\n",
              "      <td>...</td>\n",
              "      <td>...</td>\n",
              "    </tr>\n",
              "    <tr>\n",
              "      <th>284802</th>\n",
              "      <td>172786.0</td>\n",
              "      <td>-11.881118</td>\n",
              "      <td>10.071785</td>\n",
              "      <td>-9.834783</td>\n",
              "      <td>-2.066656</td>\n",
              "      <td>-5.364473</td>\n",
              "      <td>-2.606837</td>\n",
              "      <td>-4.918215</td>\n",
              "      <td>7.305334</td>\n",
              "      <td>1.914428</td>\n",
              "      <td>4.356170</td>\n",
              "      <td>-1.593105</td>\n",
              "      <td>2.711941</td>\n",
              "      <td>-0.689256</td>\n",
              "      <td>4.626942</td>\n",
              "      <td>-0.924459</td>\n",
              "      <td>1.107641</td>\n",
              "      <td>1.991691</td>\n",
              "      <td>0.510632</td>\n",
              "      <td>-0.682920</td>\n",
              "      <td>1.475829</td>\n",
              "      <td>0.213454</td>\n",
              "      <td>0.111864</td>\n",
              "      <td>1.014480</td>\n",
              "      <td>-0.509348</td>\n",
              "      <td>1.436807</td>\n",
              "      <td>0.250034</td>\n",
              "      <td>0.943651</td>\n",
              "      <td>0.823731</td>\n",
              "      <td>0.77</td>\n",
              "      <td>0</td>\n",
              "    </tr>\n",
              "    <tr>\n",
              "      <th>284803</th>\n",
              "      <td>172787.0</td>\n",
              "      <td>-0.732789</td>\n",
              "      <td>-0.055080</td>\n",
              "      <td>2.035030</td>\n",
              "      <td>-0.738589</td>\n",
              "      <td>0.868229</td>\n",
              "      <td>1.058415</td>\n",
              "      <td>0.024330</td>\n",
              "      <td>0.294869</td>\n",
              "      <td>0.584800</td>\n",
              "      <td>-0.975926</td>\n",
              "      <td>-0.150189</td>\n",
              "      <td>0.915802</td>\n",
              "      <td>1.214756</td>\n",
              "      <td>-0.675143</td>\n",
              "      <td>1.164931</td>\n",
              "      <td>-0.711757</td>\n",
              "      <td>-0.025693</td>\n",
              "      <td>-1.221179</td>\n",
              "      <td>-1.545556</td>\n",
              "      <td>0.059616</td>\n",
              "      <td>0.214205</td>\n",
              "      <td>0.924384</td>\n",
              "      <td>0.012463</td>\n",
              "      <td>-1.016226</td>\n",
              "      <td>-0.606624</td>\n",
              "      <td>-0.395255</td>\n",
              "      <td>0.068472</td>\n",
              "      <td>-0.053527</td>\n",
              "      <td>24.79</td>\n",
              "      <td>0</td>\n",
              "    </tr>\n",
              "    <tr>\n",
              "      <th>284804</th>\n",
              "      <td>172788.0</td>\n",
              "      <td>1.919565</td>\n",
              "      <td>-0.301254</td>\n",
              "      <td>-3.249640</td>\n",
              "      <td>-0.557828</td>\n",
              "      <td>2.630515</td>\n",
              "      <td>3.031260</td>\n",
              "      <td>-0.296827</td>\n",
              "      <td>0.708417</td>\n",
              "      <td>0.432454</td>\n",
              "      <td>-0.484782</td>\n",
              "      <td>0.411614</td>\n",
              "      <td>0.063119</td>\n",
              "      <td>-0.183699</td>\n",
              "      <td>-0.510602</td>\n",
              "      <td>1.329284</td>\n",
              "      <td>0.140716</td>\n",
              "      <td>0.313502</td>\n",
              "      <td>0.395652</td>\n",
              "      <td>-0.577252</td>\n",
              "      <td>0.001396</td>\n",
              "      <td>0.232045</td>\n",
              "      <td>0.578229</td>\n",
              "      <td>-0.037501</td>\n",
              "      <td>0.640134</td>\n",
              "      <td>0.265745</td>\n",
              "      <td>-0.087371</td>\n",
              "      <td>0.004455</td>\n",
              "      <td>-0.026561</td>\n",
              "      <td>67.88</td>\n",
              "      <td>0</td>\n",
              "    </tr>\n",
              "    <tr>\n",
              "      <th>284805</th>\n",
              "      <td>172788.0</td>\n",
              "      <td>-0.240440</td>\n",
              "      <td>0.530483</td>\n",
              "      <td>0.702510</td>\n",
              "      <td>0.689799</td>\n",
              "      <td>-0.377961</td>\n",
              "      <td>0.623708</td>\n",
              "      <td>-0.686180</td>\n",
              "      <td>0.679145</td>\n",
              "      <td>0.392087</td>\n",
              "      <td>-0.399126</td>\n",
              "      <td>-1.933849</td>\n",
              "      <td>-0.962886</td>\n",
              "      <td>-1.042082</td>\n",
              "      <td>0.449624</td>\n",
              "      <td>1.962563</td>\n",
              "      <td>-0.608577</td>\n",
              "      <td>0.509928</td>\n",
              "      <td>1.113981</td>\n",
              "      <td>2.897849</td>\n",
              "      <td>0.127434</td>\n",
              "      <td>0.265245</td>\n",
              "      <td>0.800049</td>\n",
              "      <td>-0.163298</td>\n",
              "      <td>0.123205</td>\n",
              "      <td>-0.569159</td>\n",
              "      <td>0.546668</td>\n",
              "      <td>0.108821</td>\n",
              "      <td>0.104533</td>\n",
              "      <td>10.00</td>\n",
              "      <td>0</td>\n",
              "    </tr>\n",
              "    <tr>\n",
              "      <th>284806</th>\n",
              "      <td>172792.0</td>\n",
              "      <td>-0.533413</td>\n",
              "      <td>-0.189733</td>\n",
              "      <td>0.703337</td>\n",
              "      <td>-0.506271</td>\n",
              "      <td>-0.012546</td>\n",
              "      <td>-0.649617</td>\n",
              "      <td>1.577006</td>\n",
              "      <td>-0.414650</td>\n",
              "      <td>0.486180</td>\n",
              "      <td>-0.915427</td>\n",
              "      <td>-1.040458</td>\n",
              "      <td>-0.031513</td>\n",
              "      <td>-0.188093</td>\n",
              "      <td>-0.084316</td>\n",
              "      <td>0.041333</td>\n",
              "      <td>-0.302620</td>\n",
              "      <td>-0.660377</td>\n",
              "      <td>0.167430</td>\n",
              "      <td>-0.256117</td>\n",
              "      <td>0.382948</td>\n",
              "      <td>0.261057</td>\n",
              "      <td>0.643078</td>\n",
              "      <td>0.376777</td>\n",
              "      <td>0.008797</td>\n",
              "      <td>-0.473649</td>\n",
              "      <td>-0.818267</td>\n",
              "      <td>-0.002415</td>\n",
              "      <td>0.013649</td>\n",
              "      <td>217.00</td>\n",
              "      <td>0</td>\n",
              "    </tr>\n",
              "  </tbody>\n",
              "</table>\n",
              "<p>284807 rows × 31 columns</p>\n",
              "</div>"
            ],
            "text/plain": [
              "            Time         V1         V2  ...       V28  Amount  Class\n",
              "0            0.0  -1.359807  -0.072781  ... -0.021053  149.62      0\n",
              "1            0.0   1.191857   0.266151  ...  0.014724    2.69      0\n",
              "2            1.0  -1.358354  -1.340163  ... -0.059752  378.66      0\n",
              "3            1.0  -0.966272  -0.185226  ...  0.061458  123.50      0\n",
              "4            2.0  -1.158233   0.877737  ...  0.215153   69.99      0\n",
              "...          ...        ...        ...  ...       ...     ...    ...\n",
              "284802  172786.0 -11.881118  10.071785  ...  0.823731    0.77      0\n",
              "284803  172787.0  -0.732789  -0.055080  ... -0.053527   24.79      0\n",
              "284804  172788.0   1.919565  -0.301254  ... -0.026561   67.88      0\n",
              "284805  172788.0  -0.240440   0.530483  ...  0.104533   10.00      0\n",
              "284806  172792.0  -0.533413  -0.189733  ...  0.013649  217.00      0\n",
              "\n",
              "[284807 rows x 31 columns]"
            ]
          },
          "metadata": {
            "tags": []
          },
          "execution_count": 4
        }
      ]
    },
    {
      "cell_type": "code",
      "metadata": {
        "id": "YTZQyeqW5pMv",
        "colab_type": "code",
        "outputId": "126e19dc-645a-4dfe-eef7-c325ac9907d1",
        "colab": {
          "base_uri": "https://localhost:8080/",
          "height": 67
        }
      },
      "source": [
        "# Note classes are not balanced at all\n",
        "classes_count = pd.value_counts(df['Class'], sort = True)\n",
        "classes_count"
      ],
      "execution_count": 5,
      "outputs": [
        {
          "output_type": "execute_result",
          "data": {
            "text/plain": [
              "0    284315\n",
              "1       492\n",
              "Name: Class, dtype: int64"
            ]
          },
          "metadata": {
            "tags": []
          },
          "execution_count": 5
        }
      ]
    },
    {
      "cell_type": "code",
      "metadata": {
        "id": "CvaOYla_57r_",
        "colab_type": "code",
        "outputId": "d21d2324-fca0-47e5-b938-30ac5075fe1b",
        "colab": {
          "base_uri": "https://localhost:8080/",
          "height": 168
        }
      },
      "source": [
        "# summary of class 0 (normal transactions)\n",
        "df[df.Class == 0].Amount.describe()"
      ],
      "execution_count": 6,
      "outputs": [
        {
          "output_type": "execute_result",
          "data": {
            "text/plain": [
              "count    284315.000000\n",
              "mean         88.291022\n",
              "std         250.105092\n",
              "min           0.000000\n",
              "25%           5.650000\n",
              "50%          22.000000\n",
              "75%          77.050000\n",
              "max       25691.160000\n",
              "Name: Amount, dtype: float64"
            ]
          },
          "metadata": {
            "tags": []
          },
          "execution_count": 6
        }
      ]
    },
    {
      "cell_type": "code",
      "metadata": {
        "id": "7e01yKxz8R5Y",
        "colab_type": "code",
        "outputId": "ff315751-7ec0-4b81-b7ef-b85785e7b807",
        "colab": {
          "base_uri": "https://localhost:8080/",
          "height": 168
        }
      },
      "source": [
        "# summary of class 1 (abnormal transactions)\n",
        "df[df.Class == 1].Amount.describe()"
      ],
      "execution_count": 7,
      "outputs": [
        {
          "output_type": "execute_result",
          "data": {
            "text/plain": [
              "count     492.000000\n",
              "mean      122.211321\n",
              "std       256.683288\n",
              "min         0.000000\n",
              "25%         1.000000\n",
              "50%         9.250000\n",
              "75%       105.890000\n",
              "max      2125.870000\n",
              "Name: Amount, dtype: float64"
            ]
          },
          "metadata": {
            "tags": []
          },
          "execution_count": 7
        }
      ]
    },
    {
      "cell_type": "code",
      "metadata": {
        "id": "Dkf6coQ094cu",
        "colab_type": "code",
        "outputId": "f9227fc4-c898-4552-a79f-689c728874ef",
        "colab": {
          "base_uri": "https://localhost:8080/",
          "height": 154
        }
      },
      "source": [
        "# Plot amount of normal and abnormal data\n",
        "plt.figure(figsize=(18, 3))\n",
        "\n",
        "plt.subplot(1, 2, 1)\n",
        "plt.title('Frauds')\n",
        "plt.hist(df[df.Class == 1].Amount, bins=50)\n",
        "plt.xlabel('Amount ($)')\n",
        "plt.ylabel('Number of transactions')\n",
        "plt.yscale('log')\n",
        "plt.grid()\n",
        "\n",
        "plt.subplot(1, 2, 2)\n",
        "plt.title('Normal')\n",
        "plt.hist(df[df.Class == 0].Amount, bins=50)\n",
        "plt.xlabel('Amount ($)')\n",
        "plt.ylabel('Number of transactions')\n",
        "plt.yscale('log')\n",
        "plt.grid()\n",
        "\n",
        "plt.show()"
      ],
      "execution_count": 8,
      "outputs": [
        {
          "output_type": "display_data",
          "data": {
            "image/png": "[encoded data removed]",
            "text/plain": [
              "<Figure size 1296x216 with 2 Axes>"
            ]
          },
          "metadata": {
            "tags": [],
            "needs_background": "light"
          }
        }
      ]
    },
    {
      "cell_type": "code",
      "metadata": {
        "id": "2RJCSkvz-PWl",
        "colab_type": "code",
        "outputId": "ae51c6d8-31aa-4cf5-f2a3-b32074e6101d",
        "colab": {
          "base_uri": "https://localhost:8080/",
          "height": 34
        }
      },
      "source": [
        "# Remove time\n",
        "df = df.drop(['Time'], axis=1)\n",
        "print(df.shape)"
      ],
      "execution_count": 9,
      "outputs": [
        {
          "output_type": "stream",
          "text": [
            "(284807, 30)\n"
          ],
          "name": "stdout"
        }
      ]
    },
    {
      "cell_type": "code",
      "metadata": {
        "id": "_XYgaYhZAs8f",
        "colab_type": "code",
        "outputId": "204e050a-44a0-403a-f511-1029607f16e0",
        "colab": {
          "base_uri": "https://localhost:8080/",
          "height": 50
        }
      },
      "source": [
        "# Extract into matrices values for normal transactions\n",
        "normal = df[df.Class == 0]\n",
        "normal = normal.drop(['Class'], axis=1)\n",
        "normal = normal.values\n",
        "print(normal.shape)\n",
        "\n",
        "# Extract into matrices values for normal transactions\n",
        "frauds = df[df.Class == 1]\n",
        "frauds = frauds.drop(['Class'], axis=1)\n",
        "frauds = frauds.values\n",
        "print(frauds.shape)"
      ],
      "execution_count": 10,
      "outputs": [
        {
          "output_type": "stream",
          "text": [
            "(284315, 29)\n",
            "(492, 29)\n"
          ],
          "name": "stdout"
        }
      ]
    },
    {
      "cell_type": "code",
      "metadata": {
        "id": "nkU39p68W3GZ",
        "colab_type": "code",
        "outputId": "0e416ac5-d5bf-4036-e1e6-fc1b53331d64",
        "colab": {
          "base_uri": "https://localhost:8080/",
          "height": 218
        }
      },
      "source": [
        "# Normalize data\n",
        "scaler = StandardScaler()\n",
        "normal = scaler.fit_transform(normal)\n",
        "frauds = scaler.transform(frauds)\n",
        "\n",
        "# See max and min values, so we can decide on output activations\n",
        "print(normal.min(axis=0))\n",
        "print(normal.max(axis=0))"
      ],
      "execution_count": 11,
      "outputs": [
        {
          "output_type": "stream",
          "text": [
            "[-29.23383553 -44.43954405 -33.1210661   -4.05573252 -83.82683084\n",
            " -19.67269346 -26.9547933  -63.04736881  -5.77875015 -14.1265026\n",
            "  -4.77604318 -16.02201219  -5.8207973  -20.51734046  -4.79911288\n",
            " -11.98281313 -22.82988537  -6.51040776  -8.88513979 -70.83041283\n",
            " -48.59368815 -15.107939   -72.09157992  -4.68293974 -19.77314077\n",
            "  -5.40075462 -56.43521184 -46.81853823  -0.35301631]\n",
            "[  1.26783021  11.55688816   6.42059588  12.06519875  25.6429718\n",
            "  55.11588798 102.28946604  16.11172234  14.31150875  22.73057889\n",
            "   9.97773414   8.28549613   7.16203997  11.72201079   9.70165636\n",
            "  20.48834873  12.33161046   6.10628824   6.89039166  51.23659381\n",
            "  31.55405666  14.5137363   36.24600145   7.56776948  14.44221515\n",
            "   7.29394756  79.06170547 102.70355447 102.36862343]\n"
          ],
          "name": "stdout"
        }
      ]
    },
    {
      "cell_type": "code",
      "metadata": {
        "id": "8F7ftw7IAteI",
        "colab_type": "code",
        "outputId": "fe9285f7-e771-4583-e947-8d32ff6ca978",
        "colab": {
          "base_uri": "https://localhost:8080/",
          "height": 50
        }
      },
      "source": [
        "# Split normal data into training and test data\n",
        "x_train, x_test = train_test_split(normal, test_size=0.2)\n",
        "\n",
        "print(x_train.shape)\n",
        "print(x_test.shape)"
      ],
      "execution_count": 12,
      "outputs": [
        {
          "output_type": "stream",
          "text": [
            "(227452, 29)\n",
            "(56863, 29)\n"
          ],
          "name": "stdout"
        }
      ]
    },
    {
      "cell_type": "code",
      "metadata": {
        "id": "UwInt_V6Wmf-",
        "colab_type": "code",
        "outputId": "0bb68521-67b5-4c38-fd53-ad4c905e97e4",
        "colab": {
          "base_uri": "https://localhost:8080/",
          "height": 84
        }
      },
      "source": [
        "\n",
        "print(frauds[:,28].mean())\n",
        "print(frauds[:,28].std())\n",
        "\n",
        "print(normal[:,28].mean())\n",
        "print(normal[:,28].std())"
      ],
      "execution_count": 13,
      "outputs": [
        {
          "output_type": "stream",
          "text": [
            "0.13562442118567758\n",
            "1.0252600108212675\n",
            "7.197520633765677e-18\n",
            "1.0\n"
          ],
          "name": "stdout"
        }
      ]
    },
    {
      "cell_type": "markdown",
      "metadata": {
        "id": "guS9jBYEGP4c",
        "colab_type": "text"
      },
      "source": [
        "# Part 2: Train a model"
      ]
    },
    {
      "cell_type": "code",
      "metadata": {
        "id": "RxnqQ_r9Eue5",
        "colab_type": "code",
        "colab": {}
      },
      "source": [
        "from tensorflow.keras.models import Model\n",
        "from tensorflow.keras.layers import Input, Dense, Dropout"
      ],
      "execution_count": 0,
      "outputs": []
    },
    {
      "cell_type": "code",
      "metadata": {
        "id": "YiAMDKSaHHG4",
        "colab_type": "code",
        "outputId": "ef577366-156c-4566-b417-30bab84fd43f",
        "colab": {
          "base_uri": "https://localhost:8080/",
          "height": 386
        }
      },
      "source": [
        "# Create model\n",
        "in_layer = Input(shape=(x_train.shape[1],))\n",
        "\n",
        "encoder = Dense(32, activation='relu')(in_layer)\n",
        "encoder = Dense(24,  activation='relu')(encoder)\n",
        "\n",
        "latent  = Dense(16,  activation='relu')(encoder)\n",
        "\n",
        "decoder = Dense(24, activation='relu')(latent)\n",
        "decoder = Dense(32, activation='relu')(decoder)\n",
        "out_layer = Dense(x_train.shape[1])(decoder)\n",
        "\n",
        "AE = Model(inputs=in_layer, outputs=out_layer)\n",
        "AE.summary()"
      ],
      "execution_count": 15,
      "outputs": [
        {
          "output_type": "stream",
          "text": [
            "Model: \"model\"\n",
            "_________________________________________________________________\n",
            "Layer (type)                 Output Shape              Param #   \n",
            "=================================================================\n",
            "input_1 (InputLayer)         [(None, 29)]              0         \n",
            "_________________________________________________________________\n",
            "dense (Dense)                (None, 32)                960       \n",
            "_________________________________________________________________\n",
            "dense_1 (Dense)              (None, 24)                792       \n",
            "_________________________________________________________________\n",
            "dense_2 (Dense)              (None, 16)                400       \n",
            "_________________________________________________________________\n",
            "dense_3 (Dense)              (None, 24)                408       \n",
            "_________________________________________________________________\n",
            "dense_4 (Dense)              (None, 32)                800       \n",
            "_________________________________________________________________\n",
            "dense_5 (Dense)              (None, 29)                957       \n",
            "=================================================================\n",
            "Total params: 4,317\n",
            "Trainable params: 4,317\n",
            "Non-trainable params: 0\n",
            "_________________________________________________________________\n"
          ],
          "name": "stdout"
        }
      ]
    },
    {
      "cell_type": "code",
      "metadata": {
        "id": "l3zGoiFzIblx",
        "colab_type": "code",
        "colab": {}
      },
      "source": [
        "# Compile\n",
        "AE.compile(optimizer='adam', loss='mse', metrics=['accuracy'])"
      ],
      "execution_count": 0,
      "outputs": []
    },
    {
      "cell_type": "code",
      "metadata": {
        "id": "vtxcI2utJFBa",
        "colab_type": "code",
        "outputId": "b5f84ded-c282-4bc8-b9a1-b06871985e29",
        "colab": {
          "base_uri": "https://localhost:8080/",
          "height": 1000
        }
      },
      "source": [
        "# Train it\n",
        "history = AE.fit(x_train, x_train, epochs=30, batch_size=64, validation_split=0.2)"
      ],
      "execution_count": 18,
      "outputs": [
        {
          "output_type": "stream",
          "text": [
            "Epoch 1/30\n",
            "2844/2844 [==============================] - 8s 3ms/step - loss: 0.4586 - accuracy: 0.3869 - val_loss: 0.2904 - val_accuracy: 0.4950\n",
            "Epoch 2/30\n",
            "2844/2844 [==============================] - 8s 3ms/step - loss: 0.2644 - accuracy: 0.5326 - val_loss: 0.2260 - val_accuracy: 0.5610\n",
            "Epoch 3/30\n",
            "2844/2844 [==============================] - 8s 3ms/step - loss: 0.2032 - accuracy: 0.6083 - val_loss: 0.1669 - val_accuracy: 0.6347\n",
            "Epoch 4/30\n",
            "2844/2844 [==============================] - 9s 3ms/step - loss: 0.1645 - accuracy: 0.6512 - val_loss: 0.1420 - val_accuracy: 0.6729\n",
            "Epoch 5/30\n",
            "2844/2844 [==============================] - 8s 3ms/step - loss: 0.1430 - accuracy: 0.6715 - val_loss: 0.1300 - val_accuracy: 0.6834\n",
            "Epoch 6/30\n",
            "2844/2844 [==============================] - 8s 3ms/step - loss: 0.1345 - accuracy: 0.6828 - val_loss: 0.1228 - val_accuracy: 0.6885\n",
            "Epoch 7/30\n",
            "2844/2844 [==============================] - 8s 3ms/step - loss: 0.1257 - accuracy: 0.6920 - val_loss: 0.1189 - val_accuracy: 0.6993\n",
            "Epoch 8/30\n",
            "2844/2844 [==============================] - 8s 3ms/step - loss: 0.1166 - accuracy: 0.7092 - val_loss: 0.1044 - val_accuracy: 0.7349\n",
            "Epoch 9/30\n",
            "2844/2844 [==============================] - 8s 3ms/step - loss: 0.1091 - accuracy: 0.7414 - val_loss: 0.0981 - val_accuracy: 0.7535\n",
            "Epoch 10/30\n",
            "2844/2844 [==============================] - 8s 3ms/step - loss: 0.0993 - accuracy: 0.7561 - val_loss: 0.0909 - val_accuracy: 0.7637\n",
            "Epoch 11/30\n",
            "2844/2844 [==============================] - 8s 3ms/step - loss: 0.0957 - accuracy: 0.7636 - val_loss: 0.1030 - val_accuracy: 0.7597\n",
            "Epoch 12/30\n",
            "2844/2844 [==============================] - 8s 3ms/step - loss: 0.0913 - accuracy: 0.7697 - val_loss: 0.0927 - val_accuracy: 0.7589\n",
            "Epoch 13/30\n",
            "2844/2844 [==============================] - 8s 3ms/step - loss: 0.0898 - accuracy: 0.7742 - val_loss: 0.0848 - val_accuracy: 0.7734\n",
            "Epoch 14/30\n",
            "2844/2844 [==============================] - 8s 3ms/step - loss: 0.0883 - accuracy: 0.7774 - val_loss: 0.0910 - val_accuracy: 0.7762\n",
            "Epoch 15/30\n",
            "2844/2844 [==============================] - 8s 3ms/step - loss: 0.0875 - accuracy: 0.7812 - val_loss: 0.0837 - val_accuracy: 0.7847\n",
            "Epoch 16/30\n",
            "2844/2844 [==============================] - 8s 3ms/step - loss: 0.0808 - accuracy: 0.7872 - val_loss: 0.0753 - val_accuracy: 0.7971\n",
            "Epoch 17/30\n",
            "2844/2844 [==============================] - 8s 3ms/step - loss: 0.0793 - accuracy: 0.7896 - val_loss: 0.0772 - val_accuracy: 0.7936\n",
            "Epoch 18/30\n",
            "2844/2844 [==============================] - 8s 3ms/step - loss: 0.0785 - accuracy: 0.7906 - val_loss: 0.0782 - val_accuracy: 0.7883\n",
            "Epoch 19/30\n",
            "2844/2844 [==============================] - 8s 3ms/step - loss: 0.0768 - accuracy: 0.7940 - val_loss: 0.0732 - val_accuracy: 0.7930\n",
            "Epoch 20/30\n",
            "2844/2844 [==============================] - 8s 3ms/step - loss: 0.0779 - accuracy: 0.7957 - val_loss: 0.0723 - val_accuracy: 0.8039\n",
            "Epoch 21/30\n",
            "2844/2844 [==============================] - 8s 3ms/step - loss: 0.0747 - accuracy: 0.7959 - val_loss: 0.0713 - val_accuracy: 0.7949\n",
            "Epoch 22/30\n",
            "2844/2844 [==============================] - 8s 3ms/step - loss: 0.0786 - accuracy: 0.7934 - val_loss: 0.0721 - val_accuracy: 0.7942\n",
            "Epoch 23/30\n",
            "2844/2844 [==============================] - 8s 3ms/step - loss: 0.0744 - accuracy: 0.7969 - val_loss: 0.0817 - val_accuracy: 0.7904\n",
            "Epoch 24/30\n",
            "2844/2844 [==============================] - 8s 3ms/step - loss: 0.0747 - accuracy: 0.7964 - val_loss: 0.0819 - val_accuracy: 0.7902\n",
            "Epoch 25/30\n",
            "2844/2844 [==============================] - 8s 3ms/step - loss: 0.0766 - accuracy: 0.7959 - val_loss: 0.0705 - val_accuracy: 0.7982\n",
            "Epoch 26/30\n",
            "2844/2844 [==============================] - 8s 3ms/step - loss: 0.0753 - accuracy: 0.7977 - val_loss: 0.0684 - val_accuracy: 0.8058\n",
            "Epoch 27/30\n",
            "2844/2844 [==============================] - 8s 3ms/step - loss: 0.0754 - accuracy: 0.7975 - val_loss: 0.0725 - val_accuracy: 0.7993\n",
            "Epoch 28/30\n",
            "2844/2844 [==============================] - 8s 3ms/step - loss: 0.0729 - accuracy: 0.8002 - val_loss: 0.0689 - val_accuracy: 0.8047\n",
            "Epoch 29/30\n",
            "2844/2844 [==============================] - 8s 3ms/step - loss: 0.0741 - accuracy: 0.7979 - val_loss: 0.0698 - val_accuracy: 0.8033\n",
            "Epoch 30/30\n",
            "2844/2844 [==============================] - 8s 3ms/step - loss: 0.0746 - accuracy: 0.7976 - val_loss: 0.0727 - val_accuracy: 0.7936\n"
          ],
          "name": "stdout"
        }
      ]
    },
    {
      "cell_type": "code",
      "metadata": {
        "id": "1zqtSfGYJQT3",
        "colab_type": "code",
        "outputId": "fc75442c-2f47-4909-8531-b92fa17f9f66",
        "colab": {
          "base_uri": "https://localhost:8080/",
          "height": 295
        }
      },
      "source": [
        "# Plot loss\n",
        "plt.figure(figsize=(18, 4))\n",
        "\n",
        "plt.subplot(1, 2, 1)\n",
        "plt.title('Loss')\n",
        "plt.plot(history.history['loss'], label='Training', linewidth=2)\n",
        "plt.plot(history.history['val_loss'], label='Validation', linewidth=2)\n",
        "plt.legend()\n",
        "plt.xlabel('Epoch')\n",
        "plt.ylabel('Loss')\n",
        "plt.grid(True)\n",
        "\n",
        "plt.subplot(1, 2, 2)\n",
        "plt.title('Accuracy')\n",
        "plt.plot(history.history['accuracy'], label='Training', linewidth=2)\n",
        "plt.plot(history.history['val_accuracy'], label='Validation', linewidth=2)\n",
        "plt.legend()\n",
        "plt.xlabel('Epoch')\n",
        "plt.ylabel('Accuracy')\n",
        "plt.grid(True)\n",
        "\n",
        "plt.show()"
      ],
      "execution_count": 0,
      "outputs": [
        {
          "output_type": "display_data",
          "data": {
            "image/png": "[encoded data removed]",
            "text/plain": [
              "<Figure size 1296x288 with 2 Axes>"
            ]
          },
          "metadata": {
            "tags": [],
            "needs_background": "light"
          }
        }
      ]
    },
    {
      "cell_type": "code",
      "metadata": {
        "id": "3tnm7OosKlnj",
        "colab_type": "code",
        "outputId": "ba5cbaa5-0c37-465b-d506-e0506405f23a",
        "colab": {
          "base_uri": "https://localhost:8080/",
          "height": 84
        }
      },
      "source": [
        "# Predict reconstruction error on training data\n",
        "x_train_hat = AE.predict(x_train)\n",
        "mse_train = np.mean(np.power(x_train - x_train_hat, 2), axis=1)\n",
        "\n",
        "print(f\"Min : {mse_train.min():0.6f}\")\n",
        "print(f\"Mean: {mse_train.mean():0.4f}\")\n",
        "print(f\"Stdd: {mse_train.std():0.2f}\")\n",
        "print(f\"Max : {mse_train.max():0.2f}\")"
      ],
      "execution_count": 71,
      "outputs": [
        {
          "output_type": "stream",
          "text": [
            "Min : 0.002876\n",
            "Mean: 0.1668\n",
            "Stdd: 1.09\n",
            "Max : 497.89\n"
          ],
          "name": "stdout"
        }
      ]
    },
    {
      "cell_type": "code",
      "metadata": {
        "id": "7lOpgZCtLfKi",
        "colab_type": "code",
        "outputId": "232409af-bb0e-4cd6-9981-5c23a5bcc054",
        "colab": {
          "base_uri": "https://localhost:8080/",
          "height": 84
        }
      },
      "source": [
        "# Predict reconstruction error on test data\n",
        "x_test_hat = AE.predict(x_test)\n",
        "mse_test = np.mean(np.power(x_test - x_test_hat, 2), axis=1)\n",
        "\n",
        "print(f\"Min : {mse_test.min():0.6f}\")\n",
        "print(f\"Mean: {mse_test.mean():0.4f}\")\n",
        "print(f\"Stdd: {mse_test.std():0.2f}\")\n",
        "print(f\"Max : {mse_test.max():0.2f}\")"
      ],
      "execution_count": 72,
      "outputs": [
        {
          "output_type": "stream",
          "text": [
            "Min : 0.003680\n",
            "Mean: 0.1624\n",
            "Stdd: 0.21\n",
            "Max : 26.86\n"
          ],
          "name": "stdout"
        }
      ]
    },
    {
      "cell_type": "code",
      "metadata": {
        "id": "XKooTgGNiJ7G",
        "colab_type": "code",
        "outputId": "0d4b399e-d653-4769-a73b-5c2f0d39bef5",
        "colab": {
          "base_uri": "https://localhost:8080/",
          "height": 84
        }
      },
      "source": [
        "# Predict reconstruction error on abnormal data\n",
        "frauds_hat = AE.predict(frauds)\n",
        "mse_frauds = np.mean(np.power(frauds - frauds_hat, 2), axis=1)\n",
        "\n",
        "print(f\"Min : {mse_frauds.min():0.6f}\")\n",
        "print(f\"Mean: {mse_frauds.mean():0.4f}\")\n",
        "print(f\"Stdd: {mse_frauds.std():0.2f}\")\n",
        "print(f\"Max : {mse_frauds.max():0.2f}\")"
      ],
      "execution_count": 73,
      "outputs": [
        {
          "output_type": "stream",
          "text": [
            "Min : 0.028342\n",
            "Mean: 5.3922\n",
            "Stdd: 13.54\n",
            "Max : 130.17\n"
          ],
          "name": "stdout"
        }
      ]
    },
    {
      "cell_type": "code",
      "metadata": {
        "id": "pXRQD9gmLgJ7",
        "colab_type": "code",
        "outputId": "4d5a3f71-f882-4a36-956e-803664f295ee",
        "colab": {
          "base_uri": "https://localhost:8080/",
          "height": 154
        }
      },
      "source": [
        "# Plot distribution of reconstruction errors\n",
        "plt.figure(figsize=(18, 3))\n",
        "\n",
        "plt.subplot(1, 2, 1)\n",
        "plt.title('Frauds')\n",
        "plt.hist(mse_frauds, bins=20)\n",
        "plt.xlabel('mse bins')\n",
        "plt.ylabel('frequency')\n",
        "plt.grid()\n",
        "\n",
        "plt.subplot(1, 2, 2)\n",
        "plt.title('Normal')\n",
        "plt.hist(mse_train, bins=20)\n",
        "plt.xlabel('mse bins')\n",
        "plt.ylabel('frequency')\n",
        "plt.grid()\n",
        "\n",
        "plt.show()"
      ],
      "execution_count": 74,
      "outputs": [
        {
          "output_type": "display_data",
          "data": {
            "image/png": "[encoded data removed]",
            "text/plain": [
              "<Figure size 1296x216 with 2 Axes>"
            ]
          },
          "metadata": {
            "tags": [],
            "needs_background": "light"
          }
        }
      ]
    },
    {
      "cell_type": "code",
      "metadata": {
        "id": "_i7xQs6R_w1V",
        "colab_type": "code",
        "colab": {}
      },
      "source": [
        "def print_anomaly(AE,x_train,x_test,frauds):\n",
        "  # Predict reconstruction error on training data\n",
        "  x_train_hat = AE.predict(x_train)\n",
        "  mse_train = np.mean(np.power(x_train - x_train_hat, 2), axis=1)\n",
        "\n",
        "  x_test_hat = AE.predict(x_test)\n",
        "  mse_test = np.mean(np.power(x_test - x_test_hat, 2), axis=1)\n",
        "                     \n",
        "  frauds_hat = AE.predict(frauds)\n",
        "  mse_frauds = np.mean(np.power(frauds - frauds_hat, 2), axis=1)\n",
        "\n",
        "  # Plot distribution of reconstruction errors\n",
        "  plt.figure(figsize=(18, 3))\n",
        "\n",
        "  plt.subplot(1, 2, 1)\n",
        "  plt.title('Frauds')\n",
        "  plt.hist(mse_frauds, bins=20)\n",
        "  plt.xlabel('mse bins')\n",
        "  plt.ylabel('frequency')\n",
        "  plt.grid()\n",
        "\n",
        "  plt.subplot(1, 2, 2)\n",
        "  plt.title('Normal')\n",
        "  plt.hist(mse_train, bins=20)\n",
        "  plt.xlabel('mse bins')\n",
        "  plt.ylabel('frequency')\n",
        "  plt.grid()\n",
        "\n",
        "  plt.show()\n"
      ],
      "execution_count": 0,
      "outputs": []
    },
    {
      "cell_type": "code",
      "metadata": {
        "id": "8j2aobZ6AjQA",
        "colab_type": "code",
        "colab": {
          "base_uri": "https://localhost:8080/",
          "height": 154
        },
        "outputId": "96f95443-3873-4d5b-afb9-1e5e58700a60"
      },
      "source": [
        "print_anomaly(AE,x_train,x_test,frauds)"
      ],
      "execution_count": 81,
      "outputs": [
        {
          "output_type": "display_data",
          "data": {
            "image/png": "[encoded data removed]",
            "text/plain": [
              "<Figure size 1296x216 with 2 Axes>"
            ]
          },
          "metadata": {
            "tags": [],
            "needs_background": "light"
          }
        }
      ]
    },
    {
      "cell_type": "markdown",
      "metadata": {
        "id": "l-RdU9DBkae-",
        "colab_type": "text"
      },
      "source": [
        "# Part 3: Latent space"
      ]
    },
    {
      "cell_type": "code",
      "metadata": {
        "id": "ADI8gVG3jACP",
        "colab_type": "code",
        "outputId": "39b12eb2-dccd-4de0-a672-535ecf6977f3",
        "colab": {
          "base_uri": "https://localhost:8080/",
          "height": 286
        }
      },
      "source": [
        "# Create a submodel using only the encoder part of previous model (output must be latent layer)\n",
        "encoder_model = Model(inputs=in_layer, outputs=latent)\n",
        "encoder_model.summary()"
      ],
      "execution_count": 0,
      "outputs": [
        {
          "output_type": "stream",
          "text": [
            "Model: \"model_7\"\n",
            "_________________________________________________________________\n",
            "Layer (type)                 Output Shape              Param #   \n",
            "=================================================================\n",
            "input_4 (InputLayer)         [(None, 29)]              0         \n",
            "_________________________________________________________________\n",
            "dense_26 (Dense)             (None, 32)                960       \n",
            "_________________________________________________________________\n",
            "dense_27 (Dense)             (None, 24)                792       \n",
            "_________________________________________________________________\n",
            "dense_28 (Dense)             (None, 16)                400       \n",
            "=================================================================\n",
            "Total params: 2,152\n",
            "Trainable params: 2,152\n",
            "Non-trainable params: 0\n",
            "_________________________________________________________________\n"
          ],
          "name": "stdout"
        }
      ]
    },
    {
      "cell_type": "code",
      "metadata": {
        "id": "gN_J8uzYjMpR",
        "colab_type": "code",
        "outputId": "f59e193b-f3ab-4861-b2e3-ab33983b383c",
        "colab": {
          "base_uri": "https://localhost:8080/",
          "height": 50
        }
      },
      "source": [
        "# Predict a latent representation for the test set and the frauds set\n",
        "latent_normal = encoder_model.predict(x_test)\n",
        "latent_frauds = encoder_model.predict(frauds)\n",
        "\n",
        "print(latent_normal.shape)\n",
        "print(latent_frauds.shape)"
      ],
      "execution_count": 0,
      "outputs": [
        {
          "output_type": "stream",
          "text": [
            "(56863, 16)\n",
            "(492, 16)\n"
          ],
          "name": "stdout"
        }
      ]
    },
    {
      "cell_type": "code",
      "metadata": {
        "id": "9wk0R2I2jbVj",
        "colab_type": "code",
        "outputId": "7468b84c-e925-4b17-e7af-fe1b07ec9051",
        "colab": {
          "base_uri": "https://localhost:8080/",
          "height": 241
        }
      },
      "source": [
        "# Plot distribution of latent space\n",
        "plt.figure(figsize=(16, 3))\n",
        "plt.subplot(1, 2, 1)\n",
        "plt.title('Normal')\n",
        "plt.boxplot(latent_normal)\n",
        "plt.xlabel('Latent space variables')\n",
        "plt.ylabel('Values distribution')\n",
        "plt.grid()\n",
        "plt.subplot(1, 2, 2)\n",
        "plt.title('Frauds')\n",
        "plt.boxplot(latent_frauds)\n",
        "plt.xlabel('Latent space variables')\n",
        "plt.ylabel('Values distribution')\n",
        "plt.grid()\n",
        "plt.show()"
      ],
      "execution_count": 0,
      "outputs": [
        {
          "output_type": "display_data",
          "data": {
            "image/png": "[encoded data removed]",
            "text/plain": [
              "<Figure size 1152x216 with 2 Axes>"
            ]
          },
          "metadata": {
            "tags": [],
            "needs_background": "light"
          }
        }
      ]
    },
    {
      "cell_type": "code",
      "metadata": {
        "id": "YzzZgJI34cyR",
        "colab_type": "code",
        "outputId": "115ade62-b220-47a8-a9b1-39d1f884592b",
        "colab": {
          "base_uri": "https://localhost:8080/",
          "height": 1000
        }
      },
      "source": [
        "# Create model\n",
        "in_layer = Input(shape=(x_train.shape[1],))\n",
        "\n",
        "encoder = Dense(32, activation='relu')(in_layer)\n",
        "encoder = Dense(24,  activation='relu')(encoder)\n",
        "\n",
        "latent  = Dense(8,  activation='relu')(encoder)\n",
        "\n",
        "decoder = Dense(24, activation='relu')(latent)\n",
        "decoder = Dense(32, activation='relu')(decoder)\n",
        "out_layer = Dense(x_train.shape[1])(decoder)\n",
        "\n",
        "AE = Model(inputs=in_layer, outputs=out_layer)\n",
        "AE.summary()\n",
        "\n",
        "# Compile\n",
        "AE.compile(optimizer='adam', loss='mse', metrics=['accuracy'])\n",
        "\n",
        "# Train it\n",
        "history = AE.fit(x_train, x_train, epochs=30, batch_size=64, validation_split=0.2)"
      ],
      "execution_count": 0,
      "outputs": [
        {
          "output_type": "stream",
          "text": [
            "Model: \"model_10\"\n",
            "_________________________________________________________________\n",
            "Layer (type)                 Output Shape              Param #   \n",
            "=================================================================\n",
            "input_7 (InputLayer)         [(None, 29)]              0         \n",
            "_________________________________________________________________\n",
            "dense_44 (Dense)             (None, 32)                960       \n",
            "_________________________________________________________________\n",
            "dense_45 (Dense)             (None, 24)                792       \n",
            "_________________________________________________________________\n",
            "dense_46 (Dense)             (None, 8)                 200       \n",
            "_________________________________________________________________\n",
            "dense_47 (Dense)             (None, 24)                216       \n",
            "_________________________________________________________________\n",
            "dense_48 (Dense)             (None, 32)                800       \n",
            "_________________________________________________________________\n",
            "dense_49 (Dense)             (None, 29)                957       \n",
            "=================================================================\n",
            "Total params: 3,925\n",
            "Trainable params: 3,925\n",
            "Non-trainable params: 0\n",
            "_________________________________________________________________\n",
            "Epoch 1/30\n",
            "2844/2844 [==============================] - 9s 3ms/step - loss: 0.5516 - accuracy: 0.3152 - val_loss: 0.4085 - val_accuracy: 0.3970\n",
            "Epoch 2/30\n",
            "2844/2844 [==============================] - 9s 3ms/step - loss: 0.3672 - accuracy: 0.4330 - val_loss: 0.3491 - val_accuracy: 0.4570\n",
            "Epoch 3/30\n",
            "2844/2844 [==============================] - 9s 3ms/step - loss: 0.3269 - accuracy: 0.4792 - val_loss: 0.3193 - val_accuracy: 0.4963\n",
            "Epoch 4/30\n",
            "2844/2844 [==============================] - 8s 3ms/step - loss: 0.3061 - accuracy: 0.5131 - val_loss: 0.3000 - val_accuracy: 0.5258\n",
            "Epoch 5/30\n",
            "2844/2844 [==============================] - 9s 3ms/step - loss: 0.2928 - accuracy: 0.5301 - val_loss: 0.2905 - val_accuracy: 0.5371\n",
            "Epoch 6/30\n",
            "2844/2844 [==============================] - 9s 3ms/step - loss: 0.2817 - accuracy: 0.5345 - val_loss: 0.2809 - val_accuracy: 0.5406\n",
            "Epoch 7/30\n",
            "2844/2844 [==============================] - 9s 3ms/step - loss: 0.2689 - accuracy: 0.5464 - val_loss: 0.2683 - val_accuracy: 0.5566\n",
            "Epoch 8/30\n",
            "2844/2844 [==============================] - 9s 3ms/step - loss: 0.2600 - accuracy: 0.5601 - val_loss: 0.2585 - val_accuracy: 0.5643\n",
            "Epoch 9/30\n",
            "2844/2844 [==============================] - 8s 3ms/step - loss: 0.2526 - accuracy: 0.5750 - val_loss: 0.2509 - val_accuracy: 0.5788\n",
            "Epoch 10/30\n",
            "2844/2844 [==============================] - 9s 3ms/step - loss: 0.2433 - accuracy: 0.5841 - val_loss: 0.2721 - val_accuracy: 0.5529\n",
            "Epoch 11/30\n",
            "2844/2844 [==============================] - 9s 3ms/step - loss: 0.2341 - accuracy: 0.5917 - val_loss: 0.2361 - val_accuracy: 0.5902\n",
            "Epoch 12/30\n",
            "2844/2844 [==============================] - 9s 3ms/step - loss: 0.2281 - accuracy: 0.6003 - val_loss: 0.2229 - val_accuracy: 0.6103\n",
            "Epoch 13/30\n",
            "2844/2844 [==============================] - 9s 3ms/step - loss: 0.2191 - accuracy: 0.6102 - val_loss: 0.2166 - val_accuracy: 0.6125\n",
            "Epoch 14/30\n",
            "2844/2844 [==============================] - 9s 3ms/step - loss: 0.2129 - accuracy: 0.6183 - val_loss: 0.2154 - val_accuracy: 0.6263\n",
            "Epoch 15/30\n",
            "2844/2844 [==============================] - 9s 3ms/step - loss: 0.2087 - accuracy: 0.6245 - val_loss: 0.2067 - val_accuracy: 0.6324\n",
            "Epoch 16/30\n",
            "2844/2844 [==============================] - 9s 3ms/step - loss: 0.2048 - accuracy: 0.6263 - val_loss: 0.2186 - val_accuracy: 0.6096\n",
            "Epoch 17/30\n",
            "2844/2844 [==============================] - 9s 3ms/step - loss: 0.2026 - accuracy: 0.6298 - val_loss: 0.2044 - val_accuracy: 0.6373\n",
            "Epoch 18/30\n",
            "2844/2844 [==============================] - 9s 3ms/step - loss: 0.2014 - accuracy: 0.6309 - val_loss: 0.2001 - val_accuracy: 0.6329\n",
            "Epoch 19/30\n",
            "2844/2844 [==============================] - 9s 3ms/step - loss: 0.1999 - accuracy: 0.6335 - val_loss: 0.1976 - val_accuracy: 0.6423\n",
            "Epoch 20/30\n",
            "2844/2844 [==============================] - 9s 3ms/step - loss: 0.1976 - accuracy: 0.6347 - val_loss: 0.1986 - val_accuracy: 0.6392\n",
            "Epoch 21/30\n",
            "2844/2844 [==============================] - 9s 3ms/step - loss: 0.1958 - accuracy: 0.6372 - val_loss: 0.1928 - val_accuracy: 0.6488\n",
            "Epoch 22/30\n",
            "2844/2844 [==============================] - 9s 3ms/step - loss: 0.1932 - accuracy: 0.6381 - val_loss: 0.1937 - val_accuracy: 0.6353\n",
            "Epoch 23/30\n",
            "2844/2844 [==============================] - 9s 3ms/step - loss: 0.1916 - accuracy: 0.6401 - val_loss: 0.1978 - val_accuracy: 0.6387\n",
            "Epoch 24/30\n",
            "2844/2844 [==============================] - 9s 3ms/step - loss: 0.1896 - accuracy: 0.6409 - val_loss: 0.1927 - val_accuracy: 0.6461\n",
            "Epoch 25/30\n",
            "2844/2844 [==============================] - 9s 3ms/step - loss: 0.1882 - accuracy: 0.6395 - val_loss: 0.1861 - val_accuracy: 0.6429\n",
            "Epoch 26/30\n",
            "2844/2844 [==============================] - 9s 3ms/step - loss: 0.1835 - accuracy: 0.6364 - val_loss: 0.1842 - val_accuracy: 0.6288\n",
            "Epoch 27/30\n",
            "2844/2844 [==============================] - 9s 3ms/step - loss: 0.1787 - accuracy: 0.6369 - val_loss: 0.1747 - val_accuracy: 0.6472\n",
            "Epoch 28/30\n",
            "2844/2844 [==============================] - 9s 3ms/step - loss: 0.1765 - accuracy: 0.6392 - val_loss: 0.1743 - val_accuracy: 0.6392\n",
            "Epoch 29/30\n",
            "2844/2844 [==============================] - 9s 3ms/step - loss: 0.1743 - accuracy: 0.6413 - val_loss: 0.1730 - val_accuracy: 0.6429\n",
            "Epoch 30/30\n",
            "2844/2844 [==============================] - 9s 3ms/step - loss: 0.1729 - accuracy: 0.6414 - val_loss: 0.1714 - val_accuracy: 0.6440\n"
          ],
          "name": "stdout"
        }
      ]
    },
    {
      "cell_type": "code",
      "metadata": {
        "id": "K3xoQeXU5IdJ",
        "colab_type": "code",
        "outputId": "b1f9201e-d4c9-4c7d-e4ee-6d0eed63cf67",
        "colab": {
          "base_uri": "https://localhost:8080/",
          "height": 286
        }
      },
      "source": [
        "# Create a submodel using only the encoder part of previous model (output must be latent layer)\n",
        "encoder_model = Model(inputs=in_layer, outputs=latent)\n",
        "encoder_model.summary()"
      ],
      "execution_count": 0,
      "outputs": [
        {
          "output_type": "stream",
          "text": [
            "Model: \"model_11\"\n",
            "_________________________________________________________________\n",
            "Layer (type)                 Output Shape              Param #   \n",
            "=================================================================\n",
            "input_7 (InputLayer)         [(None, 29)]              0         \n",
            "_________________________________________________________________\n",
            "dense_44 (Dense)             (None, 32)                960       \n",
            "_________________________________________________________________\n",
            "dense_45 (Dense)             (None, 24)                792       \n",
            "_________________________________________________________________\n",
            "dense_46 (Dense)             (None, 8)                 200       \n",
            "=================================================================\n",
            "Total params: 1,952\n",
            "Trainable params: 1,952\n",
            "Non-trainable params: 0\n",
            "_________________________________________________________________\n"
          ],
          "name": "stdout"
        }
      ]
    },
    {
      "cell_type": "code",
      "metadata": {
        "id": "igEmMngq5I25",
        "colab_type": "code",
        "outputId": "4635e1f6-f5fb-481d-a97f-e82bc1777ade",
        "colab": {
          "base_uri": "https://localhost:8080/",
          "height": 50
        }
      },
      "source": [
        "# Predict a latent representation for the test set and the frauds set\n",
        "latent_normal = encoder_model.predict(x_test)\n",
        "latent_frauds = encoder_model.predict(frauds)\n",
        "\n",
        "print(latent_normal.shape)\n",
        "print(latent_frauds.shape)"
      ],
      "execution_count": 0,
      "outputs": [
        {
          "output_type": "stream",
          "text": [
            "(56863, 8)\n",
            "(492, 8)\n"
          ],
          "name": "stdout"
        }
      ]
    },
    {
      "cell_type": "code",
      "metadata": {
        "id": "0HMMyESG5S3Y",
        "colab_type": "code",
        "outputId": "df3851ff-209c-41f1-e959-cea84f6083ba",
        "colab": {
          "base_uri": "https://localhost:8080/",
          "height": 241
        }
      },
      "source": [
        "# Plot distribution of latent space\n",
        "plt.figure(figsize=(16, 3))\n",
        "plt.subplot(1, 2, 1)\n",
        "plt.title('Normal')\n",
        "plt.boxplot(latent_normal)\n",
        "plt.xlabel('Latent space variables')\n",
        "plt.ylabel('Values distribution')\n",
        "plt.grid()\n",
        "plt.subplot(1, 2, 2)\n",
        "plt.title('Frauds')\n",
        "plt.boxplot(latent_frauds)\n",
        "plt.xlabel('Latent space variables')\n",
        "plt.ylabel('Values distribution')\n",
        "plt.grid()\n",
        "plt.show()"
      ],
      "execution_count": 0,
      "outputs": [
        {
          "output_type": "display_data",
          "data": {
            "image/png": "[encoded data removed]",
            "text/plain": [
              "<Figure size 1152x216 with 2 Axes>"
            ]
          },
          "metadata": {
            "tags": [],
            "needs_background": "light"
          }
        }
      ]
    },
    {
      "cell_type": "markdown",
      "metadata": {
        "id": "6H8rj1oOnfII",
        "colab_type": "text"
      },
      "source": [
        "#Espacio latente ralo\n",
        "\n",
        "Probamos con una capa previa de dropout"
      ]
    },
    {
      "cell_type": "code",
      "metadata": {
        "id": "AmrK8qYVlJK-",
        "colab_type": "code",
        "colab": {
          "base_uri": "https://localhost:8080/",
          "height": 1000
        },
        "outputId": "5425f24c-9801-4b0b-f126-67875eadcf60"
      },
      "source": [
        "# Create model\n",
        "in_layer = Input(shape=(x_train.shape[1],))\n",
        "\n",
        "encoder = Dense(32, activation='relu')(in_layer)\n",
        "encoder = Dense(24,  activation='relu')(encoder)\n",
        "encoder = Dropout(0.7)(encoder)\n",
        "latent  = Dense(32,  activation='relu')(encoder)\n",
        "\n",
        "decoder = Dense(24, activation='relu')(latent)\n",
        "decoder = Dense(32, activation='relu')(decoder)\n",
        "out_layer = Dense(x_train.shape[1])(decoder)\n",
        "\n",
        "AE = Model(inputs=in_layer, outputs=out_layer)\n",
        "AE.summary()\n",
        "\n",
        "# Compile\n",
        "AE.compile(optimizer='adam', loss='mse', metrics=['accuracy'])\n",
        "\n",
        "# Train it\n",
        "history = AE.fit(x_train, x_train, epochs=30, batch_size=64, validation_split=0.2)"
      ],
      "execution_count": 25,
      "outputs": [
        {
          "output_type": "stream",
          "text": [
            "Model: \"model_3\"\n",
            "_________________________________________________________________\n",
            "Layer (type)                 Output Shape              Param #   \n",
            "=================================================================\n",
            "input_4 (InputLayer)         [(None, 29)]              0         \n",
            "_________________________________________________________________\n",
            "dense_14 (Dense)             (None, 32)                960       \n",
            "_________________________________________________________________\n",
            "dense_15 (Dense)             (None, 24)                792       \n",
            "_________________________________________________________________\n",
            "dropout_1 (Dropout)          (None, 24)                0         \n",
            "_________________________________________________________________\n",
            "dense_16 (Dense)             (None, 32)                800       \n",
            "_________________________________________________________________\n",
            "dense_17 (Dense)             (None, 24)                792       \n",
            "_________________________________________________________________\n",
            "dense_18 (Dense)             (None, 32)                800       \n",
            "_________________________________________________________________\n",
            "dense_19 (Dense)             (None, 29)                957       \n",
            "=================================================================\n",
            "Total params: 5,101\n",
            "Trainable params: 5,101\n",
            "Non-trainable params: 0\n",
            "_________________________________________________________________\n",
            "Epoch 1/30\n",
            "2844/2844 [==============================] - 8s 3ms/step - loss: 0.8590 - accuracy: 0.1305 - val_loss: 0.7624 - val_accuracy: 0.2085\n",
            "Epoch 2/30\n",
            "2844/2844 [==============================] - 9s 3ms/step - loss: 0.7681 - accuracy: 0.1782 - val_loss: 0.7016 - val_accuracy: 0.2162\n",
            "Epoch 3/30\n",
            "2844/2844 [==============================] - 8s 3ms/step - loss: 0.7348 - accuracy: 0.1927 - val_loss: 0.7031 - val_accuracy: 0.2340\n",
            "Epoch 4/30\n",
            "2844/2844 [==============================] - 8s 3ms/step - loss: 0.7227 - accuracy: 0.1978 - val_loss: 0.7093 - val_accuracy: 0.2172\n",
            "Epoch 5/30\n",
            "2844/2844 [==============================] - 8s 3ms/step - loss: 0.7097 - accuracy: 0.2029 - val_loss: 0.7147 - val_accuracy: 0.2042\n",
            "Epoch 6/30\n",
            "2844/2844 [==============================] - 8s 3ms/step - loss: 0.6968 - accuracy: 0.2126 - val_loss: 0.7253 - val_accuracy: 0.2276\n",
            "Epoch 7/30\n",
            "2844/2844 [==============================] - 8s 3ms/step - loss: 0.6975 - accuracy: 0.2248 - val_loss: 0.7253 - val_accuracy: 0.2301\n",
            "Epoch 8/30\n",
            "2844/2844 [==============================] - 8s 3ms/step - loss: 0.6919 - accuracy: 0.2376 - val_loss: 0.7217 - val_accuracy: 0.2222\n",
            "Epoch 9/30\n",
            "2844/2844 [==============================] - 8s 3ms/step - loss: 0.6880 - accuracy: 0.2446 - val_loss: 0.7339 - val_accuracy: 0.2293\n",
            "Epoch 10/30\n",
            "2844/2844 [==============================] - 8s 3ms/step - loss: 0.6733 - accuracy: 0.2456 - val_loss: 0.7304 - val_accuracy: 0.2241\n",
            "Epoch 11/30\n",
            "2844/2844 [==============================] - 8s 3ms/step - loss: 0.6660 - accuracy: 0.2441 - val_loss: 0.7412 - val_accuracy: 0.2356\n",
            "Epoch 12/30\n",
            "2844/2844 [==============================] - 8s 3ms/step - loss: 0.6660 - accuracy: 0.2439 - val_loss: 0.7657 - val_accuracy: 0.2199\n",
            "Epoch 13/30\n",
            "2844/2844 [==============================] - 8s 3ms/step - loss: 0.6660 - accuracy: 0.2446 - val_loss: 0.7700 - val_accuracy: 0.2107\n",
            "Epoch 14/30\n",
            "2844/2844 [==============================] - 8s 3ms/step - loss: 0.6687 - accuracy: 0.2443 - val_loss: 0.7772 - val_accuracy: 0.2095\n",
            "Epoch 15/30\n",
            "2844/2844 [==============================] - 8s 3ms/step - loss: 0.6553 - accuracy: 0.2451 - val_loss: 0.7743 - val_accuracy: 0.2103\n",
            "Epoch 16/30\n",
            "2844/2844 [==============================] - 8s 3ms/step - loss: 0.6615 - accuracy: 0.2443 - val_loss: 0.7766 - val_accuracy: 0.1830\n",
            "Epoch 17/30\n",
            "2844/2844 [==============================] - 8s 3ms/step - loss: 0.6596 - accuracy: 0.2451 - val_loss: 0.7699 - val_accuracy: 0.2001\n",
            "Epoch 18/30\n",
            "2844/2844 [==============================] - 8s 3ms/step - loss: 0.6504 - accuracy: 0.2438 - val_loss: 0.7920 - val_accuracy: 0.1984\n",
            "Epoch 19/30\n",
            "2844/2844 [==============================] - 8s 3ms/step - loss: 0.6489 - accuracy: 0.2464 - val_loss: 0.7976 - val_accuracy: 0.1950\n",
            "Epoch 20/30\n",
            "2844/2844 [==============================] - 8s 3ms/step - loss: 0.6484 - accuracy: 0.2492 - val_loss: 0.7951 - val_accuracy: 0.1908\n",
            "Epoch 21/30\n",
            "2844/2844 [==============================] - 8s 3ms/step - loss: 0.6435 - accuracy: 0.2497 - val_loss: 0.8019 - val_accuracy: 0.1994\n",
            "Epoch 22/30\n",
            "2844/2844 [==============================] - 8s 3ms/step - loss: 0.6415 - accuracy: 0.2543 - val_loss: 0.7788 - val_accuracy: 0.1908\n",
            "Epoch 23/30\n",
            "2844/2844 [==============================] - 8s 3ms/step - loss: 0.6363 - accuracy: 0.2589 - val_loss: 0.7939 - val_accuracy: 0.2045\n",
            "Epoch 24/30\n",
            "2844/2844 [==============================] - 8s 3ms/step - loss: 0.6378 - accuracy: 0.2669 - val_loss: 0.7973 - val_accuracy: 0.1922\n",
            "Epoch 25/30\n",
            "2844/2844 [==============================] - 8s 3ms/step - loss: 0.6325 - accuracy: 0.2713 - val_loss: 0.7999 - val_accuracy: 0.1887\n",
            "Epoch 26/30\n",
            "2844/2844 [==============================] - 8s 3ms/step - loss: 0.6299 - accuracy: 0.2779 - val_loss: 0.7939 - val_accuracy: 0.2094\n",
            "Epoch 27/30\n",
            "2844/2844 [==============================] - 8s 3ms/step - loss: 0.6321 - accuracy: 0.2820 - val_loss: 0.7860 - val_accuracy: 0.2232\n",
            "Epoch 28/30\n",
            "2844/2844 [==============================] - 8s 3ms/step - loss: 0.6403 - accuracy: 0.2819 - val_loss: 0.7870 - val_accuracy: 0.1968\n",
            "Epoch 29/30\n",
            "2844/2844 [==============================] - 8s 3ms/step - loss: 0.6227 - accuracy: 0.2855 - val_loss: 0.7727 - val_accuracy: 0.2105\n",
            "Epoch 30/30\n",
            "2844/2844 [==============================] - 8s 3ms/step - loss: 0.6291 - accuracy: 0.2923 - val_loss: 0.7646 - val_accuracy: 0.2449\n"
          ],
          "name": "stdout"
        }
      ]
    },
    {
      "cell_type": "code",
      "metadata": {
        "id": "wMGKbUYKnUDY",
        "colab_type": "code",
        "colab": {
          "base_uri": "https://localhost:8080/",
          "height": 353
        },
        "outputId": "34f4cc6d-ce9e-4232-dcce-9017a3e2a2c5"
      },
      "source": [
        "# Create a submodel using only the encoder part of previous model (output must be latent layer)\n",
        "encoder_model = Model(inputs=in_layer, outputs=latent)\n",
        "encoder_model.summary()\n",
        "\n",
        "# Predict a latent representation for the test set and the frauds set\n",
        "latent_normal = encoder_model.predict(x_test)\n",
        "latent_frauds = encoder_model.predict(frauds)\n",
        "\n",
        "print(latent_normal.shape)\n",
        "print(latent_frauds.shape)"
      ],
      "execution_count": 26,
      "outputs": [
        {
          "output_type": "stream",
          "text": [
            "Model: \"model_4\"\n",
            "_________________________________________________________________\n",
            "Layer (type)                 Output Shape              Param #   \n",
            "=================================================================\n",
            "input_4 (InputLayer)         [(None, 29)]              0         \n",
            "_________________________________________________________________\n",
            "dense_14 (Dense)             (None, 32)                960       \n",
            "_________________________________________________________________\n",
            "dense_15 (Dense)             (None, 24)                792       \n",
            "_________________________________________________________________\n",
            "dropout_1 (Dropout)          (None, 24)                0         \n",
            "_________________________________________________________________\n",
            "dense_16 (Dense)             (None, 32)                800       \n",
            "=================================================================\n",
            "Total params: 2,552\n",
            "Trainable params: 2,552\n",
            "Non-trainable params: 0\n",
            "_________________________________________________________________\n",
            "(56863, 32)\n",
            "(492, 32)\n"
          ],
          "name": "stdout"
        }
      ]
    },
    {
      "cell_type": "code",
      "metadata": {
        "id": "6UuRgGX0lnvE",
        "colab_type": "code",
        "colab": {
          "base_uri": "https://localhost:8080/",
          "height": 170
        },
        "outputId": "2665e8aa-2a45-42bc-f773-c126e396af60"
      },
      "source": [
        "# Plot distribution of latent space\n",
        "plt.figure(figsize=(16, 3))\n",
        "plt.subplot(1, 2, 1)\n",
        "plt.title('Normal')\n",
        "plt.boxplot(latent_normal)\n",
        "plt.xlabel('Latent space variables')\n",
        "plt.ylabel('Values distribution')\n",
        "plt.grid()\n",
        "plt.subplot(1, 2, 2)\n",
        "plt.title('Frauds')\n",
        "plt.boxplot(latent_frauds)\n",
        "plt.xlabel('Latent space variables')\n",
        "plt.ylabel('Values distribution')\n",
        "plt.grid()\n",
        "plt.show()"
      ],
      "execution_count": 27,
      "outputs": [
        {
          "output_type": "display_data",
          "data": {
            "image/png": "[encoded data removed]",
            "text/plain": [
              "<Figure size 1152x216 with 2 Axes>"
            ]
          },
          "metadata": {
            "tags": [],
            "needs_background": "light"
          }
        }
      ]
    },
    {
      "cell_type": "markdown",
      "metadata": {
        "id": "m4BuwEmRnqwd",
        "colab_type": "text"
      },
      "source": [
        "Prueba con un regularizador de acitivadad"
      ]
    },
    {
      "cell_type": "code",
      "metadata": {
        "id": "W0eGkKZonurh",
        "colab_type": "code",
        "colab": {}
      },
      "source": [
        "from keras.regularizers import l1, l2, l1_l2"
      ],
      "execution_count": 0,
      "outputs": []
    },
    {
      "cell_type": "code",
      "metadata": {
        "id": "YtXXq_2Fn74v",
        "colab_type": "code",
        "colab": {
          "base_uri": "https://localhost:8080/",
          "height": 1000
        },
        "outputId": "98b50f16-f9ad-4bdf-a4f2-6248a6280a6a"
      },
      "source": [
        "# Create model\n",
        "in_layer = Input(shape=(x_train.shape[1],))\n",
        "\n",
        "encoder = Dense(32, activation='relu')(in_layer)\n",
        "encoder = Dense(24,  activation='relu')(encoder)\n",
        "#encoder = Dropout(0.7)(encoder)\n",
        "latent  = Dense(32,  activation='relu',activity_regularizer=l1(0.01))(encoder)\n",
        "\n",
        "decoder = Dense(24, activation='relu')(latent)\n",
        "decoder = Dense(32, activation='relu')(decoder)\n",
        "out_layer = Dense(x_train.shape[1])(decoder)\n",
        "\n",
        "AE = Model(inputs=in_layer, outputs=out_layer)\n",
        "AE.summary()\n",
        "\n",
        "# Compile\n",
        "AE.compile(optimizer='adam', loss='mse', metrics=['accuracy'])\n",
        "\n",
        "# Train it\n",
        "history = AE.fit(x_train, x_train, epochs=10, batch_size=64, validation_split=0.2)"
      ],
      "execution_count": 32,
      "outputs": [
        {
          "output_type": "stream",
          "text": [
            "Model: \"model_6\"\n",
            "_________________________________________________________________\n",
            "Layer (type)                 Output Shape              Param #   \n",
            "=================================================================\n",
            "input_7 (InputLayer)         [(None, 29)]              0         \n",
            "_________________________________________________________________\n",
            "dense_28 (Dense)             (None, 32)                960       \n",
            "_________________________________________________________________\n",
            "dense_29 (Dense)             (None, 24)                792       \n",
            "_________________________________________________________________\n",
            "dense_30 (Dense)             (None, 32)                800       \n",
            "_________________________________________________________________\n",
            "dense_31 (Dense)             (None, 24)                792       \n",
            "_________________________________________________________________\n",
            "dense_32 (Dense)             (None, 32)                800       \n",
            "_________________________________________________________________\n",
            "dense_33 (Dense)             (None, 29)                957       \n",
            "=================================================================\n",
            "Total params: 5,101\n",
            "Trainable params: 5,101\n",
            "Non-trainable params: 0\n",
            "_________________________________________________________________\n",
            "Epoch 1/30\n",
            "2844/2844 [==============================] - 9s 3ms/step - loss: 0.5212 - accuracy: 0.4017 - val_loss: 0.3514 - val_accuracy: 0.5031\n",
            "Epoch 2/30\n",
            "2844/2844 [==============================] - 9s 3ms/step - loss: 0.2981 - accuracy: 0.5576 - val_loss: 0.2760 - val_accuracy: 0.5801\n",
            "Epoch 3/30\n",
            "2844/2844 [==============================] - 9s 3ms/step - loss: 0.2266 - accuracy: 0.6250 - val_loss: 0.1877 - val_accuracy: 0.6570\n",
            "Epoch 4/30\n",
            "2844/2844 [==============================] - 9s 3ms/step - loss: 0.1776 - accuracy: 0.6684 - val_loss: 0.2592 - val_accuracy: 0.5501\n",
            "Epoch 5/30\n",
            "2844/2844 [==============================] - 9s 3ms/step - loss: 0.1533 - accuracy: 0.6842 - val_loss: 0.1325 - val_accuracy: 0.7000\n",
            "Epoch 6/30\n",
            "2844/2844 [==============================] - 9s 3ms/step - loss: 0.1380 - accuracy: 0.7005 - val_loss: 0.1149 - val_accuracy: 0.7330\n",
            "Epoch 7/30\n",
            "2844/2844 [==============================] - 9s 3ms/step - loss: 0.1088 - accuracy: 0.7480 - val_loss: 0.1032 - val_accuracy: 0.7570\n",
            "Epoch 8/30\n",
            "2844/2844 [==============================] - 9s 3ms/step - loss: 0.1023 - accuracy: 0.7568 - val_loss: 0.0919 - val_accuracy: 0.7611\n",
            "Epoch 9/30\n",
            "2844/2844 [==============================] - 9s 3ms/step - loss: 0.1029 - accuracy: 0.7608 - val_loss: 0.0854 - val_accuracy: 0.7717\n",
            "Epoch 10/30\n",
            "2844/2844 [==============================] - 9s 3ms/step - loss: 0.0939 - accuracy: 0.7672 - val_loss: 0.0850 - val_accuracy: 0.7796\n",
            "Epoch 11/30\n",
            "2844/2844 [==============================] - 9s 3ms/step - loss: 0.0967 - accuracy: 0.7667 - val_loss: 0.0779 - val_accuracy: 0.7898\n",
            "Epoch 12/30\n",
            "2844/2844 [==============================] - 9s 3ms/step - loss: 0.0734 - accuracy: 0.8327 - val_loss: 0.0488 - val_accuracy: 0.8805\n",
            "Epoch 13/30\n",
            "2844/2844 [==============================] - 9s 3ms/step - loss: 0.0633 - accuracy: 0.8722 - val_loss: 0.0473 - val_accuracy: 0.8947\n",
            "Epoch 14/30\n",
            "2844/2844 [==============================] - 8s 3ms/step - loss: 0.0704 - accuracy: 0.8700 - val_loss: 0.0435 - val_accuracy: 0.8978\n",
            "Epoch 15/30\n",
            "2844/2844 [==============================] - 9s 3ms/step - loss: 0.0564 - accuracy: 0.8807 - val_loss: 0.0432 - val_accuracy: 0.8992\n",
            "Epoch 16/30\n",
            "2844/2844 [==============================] - 9s 3ms/step - loss: 0.0675 - accuracy: 0.8702 - val_loss: 0.0535 - val_accuracy: 0.8678\n",
            "Epoch 17/30\n",
            "2844/2844 [==============================] - 9s 3ms/step - loss: 0.0536 - accuracy: 0.8833 - val_loss: 0.0402 - val_accuracy: 0.9111\n",
            "Epoch 18/30\n",
            "2844/2844 [==============================] - 9s 3ms/step - loss: 0.0573 - accuracy: 0.8808 - val_loss: 0.0542 - val_accuracy: 0.8693\n",
            "Epoch 19/30\n",
            "2844/2844 [==============================] - 9s 3ms/step - loss: 0.0510 - accuracy: 0.8860 - val_loss: 0.0376 - val_accuracy: 0.9072\n",
            "Epoch 20/30\n",
            "2844/2844 [==============================] - 9s 3ms/step - loss: 0.0489 - accuracy: 0.8874 - val_loss: 0.0378 - val_accuracy: 0.9082\n",
            "Epoch 21/30\n",
            "2844/2844 [==============================] - 9s 3ms/step - loss: 0.0455 - accuracy: 0.8941 - val_loss: 0.0345 - val_accuracy: 0.9164\n",
            "Epoch 22/30\n",
            "2844/2844 [==============================] - 9s 3ms/step - loss: 0.0518 - accuracy: 0.8859 - val_loss: 0.0973 - val_accuracy: 0.7644\n",
            "Epoch 23/30\n",
            "2844/2844 [==============================] - 9s 3ms/step - loss: 0.0448 - accuracy: 0.8956 - val_loss: 0.0341 - val_accuracy: 0.9101\n",
            "Epoch 24/30\n",
            "2844/2844 [==============================] - 9s 3ms/step - loss: 0.0452 - accuracy: 0.8955 - val_loss: 0.0471 - val_accuracy: 0.8610\n",
            "Epoch 25/30\n",
            "2844/2844 [==============================] - 9s 3ms/step - loss: 0.0456 - accuracy: 0.8932 - val_loss: 0.0381 - val_accuracy: 0.9091\n",
            "Epoch 26/30\n",
            "2844/2844 [==============================] - 9s 3ms/step - loss: 0.0435 - accuracy: 0.8966 - val_loss: 0.0320 - val_accuracy: 0.9213\n",
            "Epoch 27/30\n",
            "2844/2844 [==============================] - 9s 3ms/step - loss: 0.0429 - accuracy: 0.8979 - val_loss: 0.0413 - val_accuracy: 0.8833\n",
            "Epoch 28/30\n",
            "2844/2844 [==============================] - 9s 3ms/step - loss: 0.0437 - accuracy: 0.8962 - val_loss: 0.0334 - val_accuracy: 0.9043\n",
            "Epoch 29/30\n",
            "2844/2844 [==============================] - 9s 3ms/step - loss: 0.0434 - accuracy: 0.8939 - val_loss: 0.0349 - val_accuracy: 0.9011\n",
            "Epoch 30/30\n",
            "2844/2844 [==============================] - 9s 3ms/step - loss: 0.0396 - accuracy: 0.9000 - val_loss: 0.0304 - val_accuracy: 0.9236\n"
          ],
          "name": "stdout"
        }
      ]
    },
    {
      "cell_type": "code",
      "metadata": {
        "id": "M0I8Rsvsn8PX",
        "colab_type": "code",
        "colab": {}
      },
      "source": [
        "# Create a submodel using only the encoder part of previous model (output must be latent layer)\n",
        "encoder_model = Model(inputs=in_layer, outputs=latent)\n",
        "#encoder_model.summary()\n",
        "\n",
        "# Predict a latent representation for the test set and the frauds set\n",
        "latent_normal = encoder_model.predict(x_test)\n",
        "latent_frauds = encoder_model.predict(frauds)\n",
        "\n",
        "#generate graphics\n",
        "print_latent_space(latent_normal,latent_frauds)"
      ],
      "execution_count": 0,
      "outputs": []
    },
    {
      "cell_type": "code",
      "metadata": {
        "id": "fMtEJaCioQht",
        "colab_type": "code",
        "colab": {}
      },
      "source": [
        "def print_latent_space(latent_normal,latent_frauds):\n",
        "# Plot distribution of latent space\n",
        "  plt.figure(figsize=(16, 3))\n",
        "  plt.subplot(1, 2, 1)\n",
        "  plt.title('Normal')\n",
        "  plt.boxplot(latent_normal)\n",
        "  plt.xlabel('Latent space variables')  \n",
        "  plt.ylabel('Values distribution')\n",
        "  plt.grid()\n",
        "  plt.subplot(1, 2, 2)\n",
        "  plt.title('Frauds')\n",
        "  plt.boxplot(latent_frauds)\n",
        "  plt.xlabel('Latent space variables')\n",
        "  plt.ylabel('Values distribution')\n",
        "  plt.grid()\n",
        "  plt.show()"
      ],
      "execution_count": 0,
      "outputs": []
    },
    {
      "cell_type": "code",
      "metadata": {
        "id": "pU8aPIHuqgV1",
        "colab_type": "code",
        "colab": {
          "base_uri": "https://localhost:8080/",
          "height": 172
        },
        "outputId": "ef321af5-e4ca-4864-ad62-ccaceff1abdd"
      },
      "source": [
        "print_latent_space(latent_normal,latent_frauds)"
      ],
      "execution_count": 35,
      "outputs": [
        {
          "output_type": "display_data",
          "data": {
            "image/png": "[encoded data removed]",
            "text/plain": [
              "<Figure size 1152x216 with 2 Axes>"
            ]
          },
          "metadata": {
            "tags": [],
            "needs_background": "light"
          }
        }
      ]
    },
    {
      "cell_type": "code",
      "metadata": {
        "id": "pZFta66gqgct",
        "colab_type": "code",
        "colab": {
          "base_uri": "https://localhost:8080/",
          "height": 1000
        },
        "outputId": "a7a32684-8c9d-4510-bad4-ddbbddf04e19"
      },
      "source": [
        "# Create model\n",
        "in_layer = Input(shape=(x_train.shape[1],))\n",
        "\n",
        "encoder = Dense(32, activation='relu')(in_layer)\n",
        "encoder = Dense(24,  activation='relu')(encoder)\n",
        "latent  = Dense(32,  activation='relu',activity_regularizer=l1(0.1))(encoder)\n",
        "decoder = Dense(24, activation='relu')(latent)\n",
        "decoder = Dense(32, activation='relu')(decoder)\n",
        "out_layer = Dense(x_train.shape[1])(decoder)\n",
        "\n",
        "AE = Model(inputs=in_layer, outputs=out_layer)\n",
        "AE.summary()\n",
        "\n",
        "# Compile\n",
        "AE.compile(optimizer='adam', loss='mse', metrics=['accuracy'])\n",
        "\n",
        "# Train it\n",
        "history = AE.fit(x_train, x_train, epochs=30, batch_size=64, validation_split=0.2)"
      ],
      "execution_count": 79,
      "outputs": [
        {
          "output_type": "stream",
          "text": [
            "Model: \"model_33\"\n",
            "_________________________________________________________________\n",
            "Layer (type)                 Output Shape              Param #   \n",
            "=================================================================\n",
            "input_22 (InputLayer)        [(None, 29)]              0         \n",
            "_________________________________________________________________\n",
            "dense_114 (Dense)            (None, 32)                960       \n",
            "_________________________________________________________________\n",
            "dense_115 (Dense)            (None, 24)                792       \n",
            "_________________________________________________________________\n",
            "dense_116 (Dense)            (None, 32)                800       \n",
            "_________________________________________________________________\n",
            "dense_117 (Dense)            (None, 24)                792       \n",
            "_________________________________________________________________\n",
            "dense_118 (Dense)            (None, 32)                800       \n",
            "_________________________________________________________________\n",
            "dense_119 (Dense)            (None, 29)                957       \n",
            "=================================================================\n",
            "Total params: 5,101\n",
            "Trainable params: 5,101\n",
            "Non-trainable params: 0\n",
            "_________________________________________________________________\n",
            "Epoch 1/30\n",
            "2844/2844 [==============================] - 9s 3ms/step - loss: 0.8472 - accuracy: 0.1012 - val_loss: 0.7428 - val_accuracy: 0.1703\n",
            "Epoch 2/30\n",
            "2844/2844 [==============================] - 9s 3ms/step - loss: 0.7086 - accuracy: 0.1871 - val_loss: 0.6650 - val_accuracy: 0.2025\n",
            "Epoch 3/30\n",
            "2844/2844 [==============================] - 9s 3ms/step - loss: 0.6374 - accuracy: 0.2170 - val_loss: 0.5937 - val_accuracy: 0.2301\n",
            "Epoch 4/30\n",
            "2844/2844 [==============================] - 9s 3ms/step - loss: 0.5691 - accuracy: 0.2617 - val_loss: 0.5331 - val_accuracy: 0.2732\n",
            "Epoch 5/30\n",
            "2844/2844 [==============================] - 9s 3ms/step - loss: 0.5115 - accuracy: 0.3154 - val_loss: 0.4698 - val_accuracy: 0.3431\n",
            "Epoch 6/30\n",
            "2844/2844 [==============================] - 9s 3ms/step - loss: 0.4660 - accuracy: 0.3588 - val_loss: 0.4347 - val_accuracy: 0.3666\n",
            "Epoch 7/30\n",
            "2844/2844 [==============================] - 9s 3ms/step - loss: 0.4340 - accuracy: 0.3760 - val_loss: 0.4047 - val_accuracy: 0.3815\n",
            "Epoch 8/30\n",
            "2844/2844 [==============================] - 9s 3ms/step - loss: 0.4044 - accuracy: 0.3923 - val_loss: 0.3877 - val_accuracy: 0.4011\n",
            "Epoch 9/30\n",
            "2844/2844 [==============================] - 9s 3ms/step - loss: 0.3795 - accuracy: 0.4194 - val_loss: 0.3654 - val_accuracy: 0.4191\n",
            "Epoch 10/30\n",
            "2844/2844 [==============================] - 9s 3ms/step - loss: 0.3588 - accuracy: 0.4345 - val_loss: 0.3478 - val_accuracy: 0.4284\n",
            "Epoch 11/30\n",
            "2844/2844 [==============================] - 9s 3ms/step - loss: 0.3431 - accuracy: 0.4467 - val_loss: 0.3239 - val_accuracy: 0.4553\n",
            "Epoch 12/30\n",
            "2844/2844 [==============================] - 9s 3ms/step - loss: 0.3287 - accuracy: 0.4612 - val_loss: 0.3148 - val_accuracy: 0.4537\n",
            "Epoch 13/30\n",
            "2844/2844 [==============================] - 9s 3ms/step - loss: 0.3154 - accuracy: 0.4760 - val_loss: 0.3011 - val_accuracy: 0.4830\n",
            "Epoch 14/30\n",
            "2844/2844 [==============================] - 9s 3ms/step - loss: 0.3069 - accuracy: 0.4879 - val_loss: 0.3166 - val_accuracy: 0.4866\n",
            "Epoch 15/30\n",
            "2844/2844 [==============================] - 9s 3ms/step - loss: 0.3006 - accuracy: 0.4991 - val_loss: 0.2897 - val_accuracy: 0.5030\n",
            "Epoch 16/30\n",
            "2844/2844 [==============================] - 9s 3ms/step - loss: 0.2944 - accuracy: 0.5145 - val_loss: 0.2772 - val_accuracy: 0.5188\n",
            "Epoch 17/30\n",
            "2844/2844 [==============================] - 9s 3ms/step - loss: 0.2760 - accuracy: 0.5320 - val_loss: 0.2619 - val_accuracy: 0.5386\n",
            "Epoch 18/30\n",
            "2844/2844 [==============================] - 9s 3ms/step - loss: 0.2687 - accuracy: 0.5413 - val_loss: 0.2557 - val_accuracy: 0.5437\n",
            "Epoch 19/30\n",
            "2844/2844 [==============================] - 9s 3ms/step - loss: 0.2640 - accuracy: 0.5493 - val_loss: 0.2546 - val_accuracy: 0.5478\n",
            "Epoch 20/30\n",
            "2844/2844 [==============================] - 9s 3ms/step - loss: 0.2580 - accuracy: 0.5614 - val_loss: 0.2655 - val_accuracy: 0.5477\n",
            "Epoch 21/30\n",
            "2844/2844 [==============================] - 9s 3ms/step - loss: 0.2489 - accuracy: 0.5741 - val_loss: 0.2320 - val_accuracy: 0.5711\n",
            "Epoch 22/30\n",
            "2844/2844 [==============================] - 9s 3ms/step - loss: 0.2411 - accuracy: 0.5839 - val_loss: 0.2348 - val_accuracy: 0.5840\n",
            "Epoch 23/30\n",
            "2844/2844 [==============================] - 9s 3ms/step - loss: 0.2375 - accuracy: 0.5912 - val_loss: 0.2221 - val_accuracy: 0.5966\n",
            "Epoch 24/30\n",
            "2844/2844 [==============================] - 9s 3ms/step - loss: 0.2324 - accuracy: 0.5963 - val_loss: 0.2363 - val_accuracy: 0.5936\n",
            "Epoch 25/30\n",
            "2844/2844 [==============================] - 9s 3ms/step - loss: 0.2354 - accuracy: 0.5962 - val_loss: 0.2212 - val_accuracy: 0.5955\n",
            "Epoch 26/30\n",
            "2844/2844 [==============================] - 9s 3ms/step - loss: 0.2293 - accuracy: 0.6013 - val_loss: 0.2236 - val_accuracy: 0.5915\n",
            "Epoch 27/30\n",
            "2844/2844 [==============================] - 9s 3ms/step - loss: 0.2267 - accuracy: 0.6037 - val_loss: 0.2184 - val_accuracy: 0.5981\n",
            "Epoch 28/30\n",
            "2844/2844 [==============================] - 9s 3ms/step - loss: 0.2243 - accuracy: 0.6082 - val_loss: 0.2100 - val_accuracy: 0.6109\n",
            "Epoch 29/30\n",
            "2844/2844 [==============================] - 9s 3ms/step - loss: 0.2218 - accuracy: 0.6094 - val_loss: 0.2464 - val_accuracy: 0.5851\n",
            "Epoch 30/30\n",
            "2844/2844 [==============================] - 9s 3ms/step - loss: 0.2214 - accuracy: 0.6106 - val_loss: 0.4651 - val_accuracy: 0.4535\n"
          ],
          "name": "stdout"
        }
      ]
    },
    {
      "cell_type": "code",
      "metadata": {
        "id": "uLwUi4dMrTg8",
        "colab_type": "code",
        "colab": {
          "base_uri": "https://localhost:8080/",
          "height": 306
        },
        "outputId": "33381f60-c5f4-481c-8449-fa6669c8a432"
      },
      "source": [
        "# Create a submodel using only the encoder part of previous model (output must be latent layer)\n",
        "encoder_model = Model(inputs=in_layer, outputs=latent)\n",
        "#encoder_model.summary()\n",
        "\n",
        "# Predict a latent representation for the test set and the frauds set\n",
        "latent_normal = encoder_model.predict(x_test)\n",
        "latent_frauds = encoder_model.predict(frauds)\n",
        "\n",
        "#generate graphics\n",
        "print_latent_space(latent_normal,latent_frauds)\n",
        "print_anomaly(AE,x_train,x_test,frauds)"
      ],
      "execution_count": 83,
      "outputs": [
        {
          "output_type": "display_data",
          "data": {
            "image/png": "[encoded data removed]",
            "text/plain": [
              "<Figure size 1152x216 with 2 Axes>"
            ]
          },
          "metadata": {
            "tags": [],
            "needs_background": "light"
          }
        },
        {
          "output_type": "display_data",
          "data": {
            "image/png": "[encoded data removed]",
            "text/plain": [
              "<Figure size 1296x216 with 2 Axes>"
            ]
          },
          "metadata": {
            "tags": [],
            "needs_background": "light"
          }
        }
      ]
    },
    {
      "cell_type": "code",
      "metadata": {
        "id": "n-eC3tMetslJ",
        "colab_type": "code",
        "colab": {
          "base_uri": "https://localhost:8080/",
          "height": 1000
        },
        "outputId": "388428b3-472b-4ab9-e224-bc9a827d842c"
      },
      "source": [
        "# Create model\n",
        "in_layer = Input(shape=(x_train.shape[1],))\n",
        "\n",
        "encoder = Dense(64, activation='relu')(in_layer)\n",
        "encoder = Dense(32,  activation='tanh',activity_regularizer=l1(10e-5))(encoder)\n",
        "\n",
        "latent  = Dense(24,  activation='relu',activity_regularizer=l1(.01))(encoder)\n",
        "\n",
        "decoder = Dense(32, activation='relu')(latent)\n",
        "decoder = Dense(64, activation='tanh',activity_regularizer=l1(10e-5))(decoder)\n",
        "\n",
        "out_layer = Dense(x_train.shape[1])(decoder)\n",
        "\n",
        "AE = Model(inputs=in_layer, outputs=out_layer)\n",
        "AE.summary()\n",
        "\n",
        "# Compile\n",
        "AE.compile(optimizer='adam', loss='mse', metrics=['accuracy'])\n",
        "\n",
        "# Train it\n",
        "history = AE.fit(x_train, x_train, epochs=30, batch_size=64, validation_split=0.2)"
      ],
      "execution_count": 43,
      "outputs": [
        {
          "output_type": "stream",
          "text": [
            "Model: \"model_15\"\n",
            "_________________________________________________________________\n",
            "Layer (type)                 Output Shape              Param #   \n",
            "=================================================================\n",
            "input_12 (InputLayer)        [(None, 29)]              0         \n",
            "_________________________________________________________________\n",
            "dense_58 (Dense)             (None, 64)                1920      \n",
            "_________________________________________________________________\n",
            "dense_59 (Dense)             (None, 32)                2080      \n",
            "_________________________________________________________________\n",
            "dense_60 (Dense)             (None, 24)                792       \n",
            "_________________________________________________________________\n",
            "dense_61 (Dense)             (None, 32)                800       \n",
            "_________________________________________________________________\n",
            "dense_62 (Dense)             (None, 64)                2112      \n",
            "_________________________________________________________________\n",
            "dense_63 (Dense)             (None, 29)                1885      \n",
            "=================================================================\n",
            "Total params: 9,589\n",
            "Trainable params: 9,589\n",
            "Non-trainable params: 0\n",
            "_________________________________________________________________\n",
            "Epoch 1/30\n",
            "2844/2844 [==============================] - 11s 4ms/step - loss: 0.3475 - accuracy: 0.6628 - val_loss: 0.1605 - val_accuracy: 0.8361\n",
            "Epoch 2/30\n",
            "2844/2844 [==============================] - 11s 4ms/step - loss: 0.1393 - accuracy: 0.8595 - val_loss: 0.0862 - val_accuracy: 0.8867\n",
            "Epoch 3/30\n",
            "2844/2844 [==============================] - 11s 4ms/step - loss: 0.0877 - accuracy: 0.8819 - val_loss: 0.0583 - val_accuracy: 0.8988\n",
            "Epoch 4/30\n",
            "2844/2844 [==============================] - 10s 4ms/step - loss: 0.0697 - accuracy: 0.8905 - val_loss: 0.0442 - val_accuracy: 0.9152\n",
            "Epoch 5/30\n",
            "2844/2844 [==============================] - 10s 4ms/step - loss: 0.0618 - accuracy: 0.8926 - val_loss: 0.0505 - val_accuracy: 0.8775\n",
            "Epoch 6/30\n",
            "2844/2844 [==============================] - 10s 4ms/step - loss: 0.0567 - accuracy: 0.8971 - val_loss: 0.0438 - val_accuracy: 0.9000\n",
            "Epoch 7/30\n",
            "2844/2844 [==============================] - 10s 4ms/step - loss: 0.0540 - accuracy: 0.8974 - val_loss: 0.0360 - val_accuracy: 0.9075\n",
            "Epoch 8/30\n",
            "2844/2844 [==============================] - 10s 4ms/step - loss: 0.0523 - accuracy: 0.8974 - val_loss: 0.0318 - val_accuracy: 0.9212\n",
            "Epoch 9/30\n",
            "2844/2844 [==============================] - 10s 4ms/step - loss: 0.0500 - accuracy: 0.8979 - val_loss: 0.0334 - val_accuracy: 0.9132\n",
            "Epoch 10/30\n",
            "2844/2844 [==============================] - 11s 4ms/step - loss: 0.0484 - accuracy: 0.8989 - val_loss: 0.0384 - val_accuracy: 0.8967\n",
            "Epoch 11/30\n",
            "2844/2844 [==============================] - 11s 4ms/step - loss: 0.0491 - accuracy: 0.8982 - val_loss: 0.0310 - val_accuracy: 0.9149\n",
            "Epoch 12/30\n",
            "2844/2844 [==============================] - 10s 4ms/step - loss: 0.0457 - accuracy: 0.9016 - val_loss: 0.0295 - val_accuracy: 0.9157\n",
            "Epoch 13/30\n",
            "2844/2844 [==============================] - 10s 4ms/step - loss: 0.0474 - accuracy: 0.8975 - val_loss: 0.0356 - val_accuracy: 0.8959\n",
            "Epoch 14/30\n",
            "2844/2844 [==============================] - 10s 4ms/step - loss: 0.0460 - accuracy: 0.9004 - val_loss: 0.0291 - val_accuracy: 0.9163\n",
            "Epoch 15/30\n",
            "2844/2844 [==============================] - 10s 4ms/step - loss: 0.0471 - accuracy: 0.8994 - val_loss: 0.0251 - val_accuracy: 0.9294\n",
            "Epoch 16/30\n",
            "2844/2844 [==============================] - 10s 4ms/step - loss: 0.0442 - accuracy: 0.9026 - val_loss: 0.0950 - val_accuracy: 0.8137\n",
            "Epoch 17/30\n",
            "2844/2844 [==============================] - 10s 4ms/step - loss: 0.0466 - accuracy: 0.9002 - val_loss: 0.0435 - val_accuracy: 0.8692\n",
            "Epoch 18/30\n",
            "2844/2844 [==============================] - 10s 4ms/step - loss: 0.0432 - accuracy: 0.9007 - val_loss: 0.0728 - val_accuracy: 0.8384\n",
            "Epoch 19/30\n",
            "2844/2844 [==============================] - 10s 3ms/step - loss: 0.0459 - accuracy: 0.8987 - val_loss: 0.0261 - val_accuracy: 0.9250\n",
            "Epoch 20/30\n",
            "2844/2844 [==============================] - 10s 4ms/step - loss: 0.0413 - accuracy: 0.9048 - val_loss: 0.0285 - val_accuracy: 0.9138\n",
            "Epoch 21/30\n",
            "2844/2844 [==============================] - 10s 3ms/step - loss: 0.0392 - accuracy: 0.9059 - val_loss: 0.0298 - val_accuracy: 0.9067\n",
            "Epoch 22/30\n",
            "2844/2844 [==============================] - 10s 4ms/step - loss: 0.0419 - accuracy: 0.9026 - val_loss: 0.0670 - val_accuracy: 0.8311\n",
            "Epoch 23/30\n",
            "2844/2844 [==============================] - 10s 4ms/step - loss: 0.0420 - accuracy: 0.9006 - val_loss: 0.0259 - val_accuracy: 0.9231\n",
            "Epoch 24/30\n",
            "2844/2844 [==============================] - 10s 4ms/step - loss: 0.0398 - accuracy: 0.9044 - val_loss: 0.0604 - val_accuracy: 0.8455\n",
            "Epoch 25/30\n",
            "2844/2844 [==============================] - 10s 3ms/step - loss: 0.0405 - accuracy: 0.9033 - val_loss: 0.0446 - val_accuracy: 0.8825\n",
            "Epoch 26/30\n",
            "2844/2844 [==============================] - 10s 3ms/step - loss: 0.0393 - accuracy: 0.9051 - val_loss: 0.0350 - val_accuracy: 0.8938\n",
            "Epoch 27/30\n",
            "2844/2844 [==============================] - 10s 3ms/step - loss: 0.0388 - accuracy: 0.9047 - val_loss: 0.0676 - val_accuracy: 0.8649\n",
            "Epoch 28/30\n",
            "2844/2844 [==============================] - 10s 4ms/step - loss: 0.0386 - accuracy: 0.9046 - val_loss: 0.0269 - val_accuracy: 0.9132\n",
            "Epoch 29/30\n",
            "2844/2844 [==============================] - 10s 4ms/step - loss: 0.0425 - accuracy: 0.9046 - val_loss: 0.0312 - val_accuracy: 0.9051\n",
            "Epoch 30/30\n",
            "2844/2844 [==============================] - 10s 3ms/step - loss: 0.0392 - accuracy: 0.9039 - val_loss: 0.0515 - val_accuracy: 0.8803\n"
          ],
          "name": "stdout"
        }
      ]
    },
    {
      "cell_type": "code",
      "metadata": {
        "id": "U8B8ZUr7udFf",
        "colab_type": "code",
        "colab": {
          "base_uri": "https://localhost:8080/",
          "height": 170
        },
        "outputId": "59ee0d29-ef9e-4fe1-a98e-7dc531a7c666"
      },
      "source": [
        "# Create a submodel using only the encoder part of previous model (output must be latent layer)\n",
        "encoder_model = Model(inputs=in_layer, outputs=latent)\n",
        "#encoder_model.summary()\n",
        "\n",
        "# Predict a latent representation for the test set and the frauds set\n",
        "latent_normal = encoder_model.predict(x_test)\n",
        "latent_frauds = encoder_model.predict(frauds)\n",
        "\n",
        "#generate graphics\n",
        "print_latent_space(latent_normal,latent_frauds)"
      ],
      "execution_count": 44,
      "outputs": [
        {
          "output_type": "display_data",
          "data": {
            "image/png": "[encoded data removed]",
            "text/plain": [
              "<Figure size 1152x216 with 2 Axes>"
            ]
          },
          "metadata": {
            "tags": [],
            "needs_background": "light"
          }
        }
      ]
    },
    {
      "cell_type": "code",
      "metadata": {
        "id": "J2RJQ9Bfw0eJ",
        "colab_type": "code",
        "colab": {
          "base_uri": "https://localhost:8080/",
          "height": 1000
        },
        "outputId": "a008a1de-0a05-48e8-f8bb-47ed8aaf6fe6"
      },
      "source": [
        "# Create model\n",
        "in_layer = Input(shape=(x_train.shape[1],))\n",
        "\n",
        "encoder = Dense(64, activation='relu')(in_layer)\n",
        "encoder = Dense(32,  activation='tanh',activity_regularizer=l1(10e-5))(encoder)\n",
        "encoder = Dropout(0.5)(encoder)\n",
        "latent  = Dense(64,  activation='relu',activity_regularizer=l1(.01))(encoder)\n",
        "\n",
        "decoder = Dense(32, activation='relu')(latent)\n",
        "decoder = Dense(64, activation='tanh',activity_regularizer=l1(10e-5))(decoder)\n",
        "\n",
        "out_layer = Dense(x_train.shape[1])(decoder)\n",
        "\n",
        "AE = Model(inputs=in_layer, outputs=out_layer)\n",
        "AE.summary()\n",
        "\n",
        "# Compile\n",
        "AE.compile(optimizer='adam', loss='mse', metrics=['accuracy'])\n",
        "\n",
        "# Train it\n",
        "history = AE.fit(x_train, x_train, epochs=30, batch_size=64, validation_split=0.2)\n"
      ],
      "execution_count": 45,
      "outputs": [
        {
          "output_type": "stream",
          "text": [
            "Model: \"model_17\"\n",
            "_________________________________________________________________\n",
            "Layer (type)                 Output Shape              Param #   \n",
            "=================================================================\n",
            "input_13 (InputLayer)        [(None, 29)]              0         \n",
            "_________________________________________________________________\n",
            "dense_64 (Dense)             (None, 64)                1920      \n",
            "_________________________________________________________________\n",
            "dense_65 (Dense)             (None, 32)                2080      \n",
            "_________________________________________________________________\n",
            "dropout_2 (Dropout)          (None, 32)                0         \n",
            "_________________________________________________________________\n",
            "dense_66 (Dense)             (None, 64)                2112      \n",
            "_________________________________________________________________\n",
            "dense_67 (Dense)             (None, 32)                2080      \n",
            "_________________________________________________________________\n",
            "dense_68 (Dense)             (None, 64)                2112      \n",
            "_________________________________________________________________\n",
            "dense_69 (Dense)             (None, 29)                1885      \n",
            "=================================================================\n",
            "Total params: 12,189\n",
            "Trainable params: 12,189\n",
            "Non-trainable params: 0\n",
            "_________________________________________________________________\n",
            "Epoch 1/30\n",
            "2844/2844 [==============================] - 11s 4ms/step - loss: 0.5634 - accuracy: 0.4041 - val_loss: 0.2943 - val_accuracy: 0.6131\n",
            "Epoch 2/30\n",
            "2844/2844 [==============================] - 10s 4ms/step - loss: 0.4056 - accuracy: 0.5032 - val_loss: 0.2459 - val_accuracy: 0.6376\n",
            "Epoch 3/30\n",
            "2844/2844 [==============================] - 10s 4ms/step - loss: 0.3797 - accuracy: 0.5115 - val_loss: 0.2221 - val_accuracy: 0.6556\n",
            "Epoch 4/30\n",
            "2844/2844 [==============================] - 10s 4ms/step - loss: 0.3554 - accuracy: 0.5226 - val_loss: 0.1869 - val_accuracy: 0.6902\n",
            "Epoch 5/30\n",
            "2844/2844 [==============================] - 10s 4ms/step - loss: 0.3410 - accuracy: 0.5311 - val_loss: 0.1803 - val_accuracy: 0.6856\n",
            "Epoch 6/30\n",
            "2844/2844 [==============================] - 10s 4ms/step - loss: 0.3358 - accuracy: 0.5321 - val_loss: 0.1689 - val_accuracy: 0.6975\n",
            "Epoch 7/30\n",
            "2844/2844 [==============================] - 10s 4ms/step - loss: 0.3291 - accuracy: 0.5350 - val_loss: 0.1679 - val_accuracy: 0.6920\n",
            "Epoch 8/30\n",
            "2844/2844 [==============================] - 10s 4ms/step - loss: 0.3241 - accuracy: 0.5400 - val_loss: 0.1696 - val_accuracy: 0.6936\n",
            "Epoch 9/30\n",
            "2844/2844 [==============================] - 10s 4ms/step - loss: 0.3231 - accuracy: 0.5424 - val_loss: 0.1680 - val_accuracy: 0.6899\n",
            "Epoch 10/30\n",
            "2844/2844 [==============================] - 10s 4ms/step - loss: 0.3179 - accuracy: 0.5463 - val_loss: 0.1669 - val_accuracy: 0.6939\n",
            "Epoch 11/30\n",
            "2844/2844 [==============================] - 10s 4ms/step - loss: 0.3194 - accuracy: 0.5459 - val_loss: 0.1630 - val_accuracy: 0.6973\n",
            "Epoch 12/30\n",
            "2844/2844 [==============================] - 10s 4ms/step - loss: 0.3124 - accuracy: 0.5466 - val_loss: 0.1564 - val_accuracy: 0.6946\n",
            "Epoch 13/30\n",
            "2844/2844 [==============================] - 10s 4ms/step - loss: 0.3104 - accuracy: 0.5473 - val_loss: 0.1569 - val_accuracy: 0.7075\n",
            "Epoch 14/30\n",
            "2844/2844 [==============================] - 10s 4ms/step - loss: 0.3090 - accuracy: 0.5484 - val_loss: 0.1472 - val_accuracy: 0.7080\n",
            "Epoch 15/30\n",
            "2844/2844 [==============================] - 10s 4ms/step - loss: 0.3028 - accuracy: 0.5483 - val_loss: 0.1443 - val_accuracy: 0.6951\n",
            "Epoch 16/30\n",
            "2844/2844 [==============================] - 10s 4ms/step - loss: 0.2988 - accuracy: 0.5549 - val_loss: 0.1415 - val_accuracy: 0.7194\n",
            "Epoch 17/30\n",
            "2844/2844 [==============================] - 10s 4ms/step - loss: 0.2988 - accuracy: 0.5601 - val_loss: 0.1371 - val_accuracy: 0.7206\n",
            "Epoch 18/30\n",
            "2844/2844 [==============================] - 10s 4ms/step - loss: 0.2942 - accuracy: 0.5639 - val_loss: 0.1359 - val_accuracy: 0.7239\n",
            "Epoch 19/30\n",
            "2844/2844 [==============================] - 10s 4ms/step - loss: 0.2972 - accuracy: 0.5638 - val_loss: 0.1369 - val_accuracy: 0.7280\n",
            "Epoch 20/30\n",
            "2844/2844 [==============================] - 10s 4ms/step - loss: 0.2927 - accuracy: 0.5642 - val_loss: 0.1426 - val_accuracy: 0.7299\n",
            "Epoch 21/30\n",
            "2844/2844 [==============================] - 10s 4ms/step - loss: 0.2928 - accuracy: 0.5652 - val_loss: 0.1284 - val_accuracy: 0.7389\n",
            "Epoch 22/30\n",
            "2844/2844 [==============================] - 10s 4ms/step - loss: 0.2940 - accuracy: 0.5655 - val_loss: 0.1355 - val_accuracy: 0.7417\n",
            "Epoch 23/30\n",
            "2844/2844 [==============================] - 10s 4ms/step - loss: 0.2928 - accuracy: 0.5662 - val_loss: 0.1367 - val_accuracy: 0.7279\n",
            "Epoch 24/30\n",
            "2844/2844 [==============================] - 10s 4ms/step - loss: 0.2916 - accuracy: 0.5674 - val_loss: 0.1370 - val_accuracy: 0.7194\n",
            "Epoch 25/30\n",
            "2844/2844 [==============================] - 10s 4ms/step - loss: 0.2914 - accuracy: 0.5656 - val_loss: 0.1319 - val_accuracy: 0.7133\n",
            "Epoch 26/30\n",
            "2844/2844 [==============================] - 10s 4ms/step - loss: 0.2877 - accuracy: 0.5670 - val_loss: 0.1312 - val_accuracy: 0.7370\n",
            "Epoch 27/30\n",
            "2844/2844 [==============================] - 10s 4ms/step - loss: 0.2870 - accuracy: 0.5661 - val_loss: 0.1325 - val_accuracy: 0.7265\n",
            "Epoch 28/30\n",
            "2844/2844 [==============================] - 11s 4ms/step - loss: 0.2820 - accuracy: 0.5683 - val_loss: 0.1274 - val_accuracy: 0.7411\n",
            "Epoch 29/30\n",
            "2844/2844 [==============================] - 10s 4ms/step - loss: 0.2863 - accuracy: 0.5679 - val_loss: 0.1255 - val_accuracy: 0.7412\n",
            "Epoch 30/30\n",
            "2844/2844 [==============================] - 10s 4ms/step - loss: 0.2840 - accuracy: 0.5661 - val_loss: 0.1235 - val_accuracy: 0.7423\n"
          ],
          "name": "stdout"
        }
      ]
    },
    {
      "cell_type": "code",
      "metadata": {
        "id": "7SBqfvQLxV-d",
        "colab_type": "code",
        "colab": {
          "base_uri": "https://localhost:8080/",
          "height": 306
        },
        "outputId": "787d0e7c-16b3-4959-d5af-29f39fadf757"
      },
      "source": [
        "# Create a submodel using only the encoder part of previous model (output must be latent layer)\n",
        "encoder_model = Model(inputs=in_layer, outputs=latent)\n",
        "#encoder_model.summary()\n",
        "\n",
        "# Predict a latent representation for the test set and the frauds set\n",
        "latent_normal = encoder_model.predict(x_test)\n",
        "latent_frauds = encoder_model.predict(frauds)\n",
        "\n",
        "#generate graphics\n",
        "print_latent_space(latent_normal,latent_frauds)\n",
        "print_anomaly(AE,x_train,x_test,frauds)"
      ],
      "execution_count": 82,
      "outputs": [
        {
          "output_type": "display_data",
          "data": {
            "image/png": "[encoded data removed]",
            "text/plain": [
              "<Figure size 1152x216 with 2 Axes>"
            ]
          },
          "metadata": {
            "tags": [],
            "needs_background": "light"
          }
        },
        {
          "output_type": "display_data",
          "data": {
            "image/png": "[encoded data removed]",
            "text/plain": [
              "<Figure size 1296x216 with 2 Axes>"
            ]
          },
          "metadata": {
            "tags": [],
            "needs_background": "light"
          }
        }
      ]
    },
    {
      "cell_type": "code",
      "metadata": {
        "id": "a5fdNnJ_xZUX",
        "colab_type": "code",
        "colab": {
          "base_uri": "https://localhost:8080/",
          "height": 1000
        },
        "outputId": "bd5f9816-27b4-4d6a-829b-538a51f58e0c"
      },
      "source": [
        "# Create model\n",
        "in_layer = Input(shape=(x_train.shape[1],))\n",
        "\n",
        "encoder = Dense(128, activation='relu')(in_layer)\n",
        "encoder = Dense(32,  activation='tanh',activity_regularizer=l1(10e-5))(encoder)\n",
        "#encoder = Dropout(0.5)(encoder)\n",
        "latent  = Dense(24,  activation='relu',activity_regularizer=l1(.1))(encoder)\n",
        "\n",
        "decoder = Dense(32, activation='relu')(latent)\n",
        "decoder = Dense(128, activation='tanh',activity_regularizer=l1(10e-5))(decoder)\n",
        "\n",
        "out_layer = Dense(x_train.shape[1])(decoder)\n",
        "\n",
        "AE = Model(inputs=in_layer, outputs=out_layer)\n",
        "AE.summary()\n",
        "\n",
        "# Compile\n",
        "AE.compile(optimizer='adam', loss='mse', metrics=['accuracy'])\n",
        "\n",
        "# Train it\n",
        "history = AE.fit(x_train, x_train, epochs=30, batch_size=64, validation_split=0.2)\n",
        "\n",
        "# Create a submodel using only the encoder part of previous model (output must be latent layer)\n",
        "encoder_model = Model(inputs=in_layer, outputs=latent)\n",
        "#encoder_model.summary()\n",
        "\n",
        "# Predict a latent representation for the test set and the frauds set\n",
        "latent_normal = encoder_model.predict(x_test)\n",
        "latent_frauds = encoder_model.predict(frauds)\n",
        "\n",
        "#generate graphics\n",
        "print_latent_space(latent_normal,latent_frauds)"
      ],
      "execution_count": 57,
      "outputs": [
        {
          "output_type": "stream",
          "text": [
            "Model: \"model_23\"\n",
            "_________________________________________________________________\n",
            "Layer (type)                 Output Shape              Param #   \n",
            "=================================================================\n",
            "input_16 (InputLayer)        [(None, 29)]              0         \n",
            "_________________________________________________________________\n",
            "dense_82 (Dense)             (None, 128)               3840      \n",
            "_________________________________________________________________\n",
            "dense_83 (Dense)             (None, 32)                4128      \n",
            "_________________________________________________________________\n",
            "dense_84 (Dense)             (None, 24)                792       \n",
            "_________________________________________________________________\n",
            "dense_85 (Dense)             (None, 32)                800       \n",
            "_________________________________________________________________\n",
            "dense_86 (Dense)             (None, 128)               4224      \n",
            "_________________________________________________________________\n",
            "dense_87 (Dense)             (None, 29)                3741      \n",
            "=================================================================\n",
            "Total params: 17,525\n",
            "Trainable params: 17,525\n",
            "Non-trainable params: 0\n",
            "_________________________________________________________________\n",
            "Epoch 1/30\n",
            "2844/2844 [==============================] - 10s 4ms/step - loss: 0.7514 - accuracy: 0.1537 - val_loss: 0.6345 - val_accuracy: 0.1810\n",
            "Epoch 2/30\n",
            "2844/2844 [==============================] - 10s 4ms/step - loss: 0.5895 - accuracy: 0.2071 - val_loss: 0.5367 - val_accuracy: 0.2236\n",
            "Epoch 3/30\n",
            "2844/2844 [==============================] - 10s 3ms/step - loss: 0.5364 - accuracy: 0.2265 - val_loss: 0.5222 - val_accuracy: 0.2214\n",
            "Epoch 4/30\n",
            "2844/2844 [==============================] - 10s 3ms/step - loss: 0.5109 - accuracy: 0.2339 - val_loss: 0.4769 - val_accuracy: 0.2451\n",
            "Epoch 5/30\n",
            "2844/2844 [==============================] - 10s 4ms/step - loss: 0.4876 - accuracy: 0.2549 - val_loss: 0.4634 - val_accuracy: 0.2623\n",
            "Epoch 6/30\n",
            "2844/2844 [==============================] - 10s 3ms/step - loss: 0.4580 - accuracy: 0.2821 - val_loss: 0.4303 - val_accuracy: 0.3010\n",
            "Epoch 7/30\n",
            "2844/2844 [==============================] - 10s 3ms/step - loss: 0.4340 - accuracy: 0.3028 - val_loss: 0.4184 - val_accuracy: 0.3010\n",
            "Epoch 8/30\n",
            "2844/2844 [==============================] - 10s 4ms/step - loss: 0.4120 - accuracy: 0.3196 - val_loss: 0.4051 - val_accuracy: 0.3317\n",
            "Epoch 9/30\n",
            "2844/2844 [==============================] - 10s 4ms/step - loss: 0.3885 - accuracy: 0.3591 - val_loss: 0.3723 - val_accuracy: 0.3786\n",
            "Epoch 10/30\n",
            "2844/2844 [==============================] - 10s 3ms/step - loss: 0.3508 - accuracy: 0.4243 - val_loss: 0.3210 - val_accuracy: 0.4413\n",
            "Epoch 11/30\n",
            "2844/2844 [==============================] - 10s 3ms/step - loss: 0.3315 - accuracy: 0.4391 - val_loss: 0.3091 - val_accuracy: 0.4572\n",
            "Epoch 12/30\n",
            "2844/2844 [==============================] - 10s 4ms/step - loss: 0.3084 - accuracy: 0.4717 - val_loss: 0.2906 - val_accuracy: 0.4869\n",
            "Epoch 13/30\n",
            "2844/2844 [==============================] - 10s 4ms/step - loss: 0.3092 - accuracy: 0.4760 - val_loss: 0.2869 - val_accuracy: 0.4748\n",
            "Epoch 14/30\n",
            "2844/2844 [==============================] - 10s 3ms/step - loss: 0.2917 - accuracy: 0.4836 - val_loss: 0.2769 - val_accuracy: 0.4924\n",
            "Epoch 15/30\n",
            "2844/2844 [==============================] - 10s 3ms/step - loss: 0.2914 - accuracy: 0.4829 - val_loss: 0.2770 - val_accuracy: 0.4830\n",
            "Epoch 16/30\n",
            "2844/2844 [==============================] - 10s 3ms/step - loss: 0.2890 - accuracy: 0.4911 - val_loss: 0.2824 - val_accuracy: 0.4929\n",
            "Epoch 17/30\n",
            "2844/2844 [==============================] - 10s 4ms/step - loss: 0.2860 - accuracy: 0.4980 - val_loss: 0.2792 - val_accuracy: 0.5099\n",
            "Epoch 18/30\n",
            "2844/2844 [==============================] - 10s 3ms/step - loss: 0.2860 - accuracy: 0.5019 - val_loss: 0.2758 - val_accuracy: 0.5048\n",
            "Epoch 19/30\n",
            "2844/2844 [==============================] - 10s 3ms/step - loss: 0.2803 - accuracy: 0.5190 - val_loss: 0.2646 - val_accuracy: 0.5449\n",
            "Epoch 20/30\n",
            "2844/2844 [==============================] - 10s 3ms/step - loss: 0.2606 - accuracy: 0.5418 - val_loss: 0.2653 - val_accuracy: 0.5207\n",
            "Epoch 21/30\n",
            "2844/2844 [==============================] - 10s 4ms/step - loss: 0.2541 - accuracy: 0.5462 - val_loss: 0.2426 - val_accuracy: 0.5447\n",
            "Epoch 22/30\n",
            "2844/2844 [==============================] - 10s 4ms/step - loss: 0.2526 - accuracy: 0.5481 - val_loss: 0.2526 - val_accuracy: 0.5389\n",
            "Epoch 23/30\n",
            "2844/2844 [==============================] - 10s 3ms/step - loss: 0.2429 - accuracy: 0.5562 - val_loss: 0.2336 - val_accuracy: 0.5541\n",
            "Epoch 24/30\n",
            "2844/2844 [==============================] - 10s 3ms/step - loss: 0.2378 - accuracy: 0.5594 - val_loss: 0.2160 - val_accuracy: 0.5720\n",
            "Epoch 25/30\n",
            "2844/2844 [==============================] - 10s 4ms/step - loss: 0.2336 - accuracy: 0.5592 - val_loss: 0.2384 - val_accuracy: 0.5472\n",
            "Epoch 26/30\n",
            "2844/2844 [==============================] - 10s 3ms/step - loss: 0.2276 - accuracy: 0.5640 - val_loss: 0.2176 - val_accuracy: 0.5503\n",
            "Epoch 27/30\n",
            "2844/2844 [==============================] - 10s 3ms/step - loss: 0.2304 - accuracy: 0.5653 - val_loss: 0.2161 - val_accuracy: 0.5602\n",
            "Epoch 28/30\n",
            "2844/2844 [==============================] - 10s 3ms/step - loss: 0.2195 - accuracy: 0.5747 - val_loss: 0.2373 - val_accuracy: 0.5613\n",
            "Epoch 29/30\n",
            "2844/2844 [==============================] - 10s 3ms/step - loss: 0.2213 - accuracy: 0.5740 - val_loss: 0.2552 - val_accuracy: 0.5636\n",
            "Epoch 30/30\n",
            "2844/2844 [==============================] - 10s 3ms/step - loss: 0.2119 - accuracy: 0.5934 - val_loss: 0.1876 - val_accuracy: 0.6157\n"
          ],
          "name": "stdout"
        },
        {
          "output_type": "display_data",
          "data": {
            "image/png": "[encoded data removed]",
            "text/plain": [
              "<Figure size 1152x216 with 2 Axes>"
            ]
          },
          "metadata": {
            "tags": [],
            "needs_background": "light"
          }
        }
      ]
    },
    {
      "cell_type": "code",
      "metadata": {
        "id": "Rh12ZEW99Kpz",
        "colab_type": "code",
        "colab": {
          "base_uri": "https://localhost:8080/",
          "height": 1000
        },
        "outputId": "1652ba2f-05e1-453d-aea2-28a83bffc43f"
      },
      "source": [
        "# Create model\n",
        "in_layer = Input(shape=(x_train.shape[1],))\n",
        "\n",
        "encoder = Dense(64, activation='relu')(in_layer)\n",
        "encoder = Dense(32,  activation='tanh',activity_regularizer=l1(10e-5))(encoder)\n",
        "\n",
        "latent  = Dense(24,  activation='relu',activity_regularizer=l1_l2(l1=.08,l2=.01))(encoder)\n",
        "\n",
        "decoder = Dense(32, activation='relu')(latent)\n",
        "decoder = Dense(64, activation='tanh',activity_regularizer=l1(10e-5))(decoder)\n",
        "\n",
        "out_layer = Dense(x_train.shape[1])(decoder)\n",
        "\n",
        "AE = Model(inputs=in_layer, outputs=out_layer)\n",
        "AE.summary()\n",
        "\n",
        "# Compile\n",
        "AE.compile(optimizer='adam', loss='mse', metrics=['accuracy'])\n",
        "\n",
        "# Train it\n",
        "history = AE.fit(x_train, x_train, epochs=30, batch_size=64, validation_split=0.2)\n",
        "\n",
        "# Create a submodel using only the encoder part of previous model (output must be latent layer)\n",
        "encoder_model = Model(inputs=in_layer, outputs=latent)\n",
        "#encoder_model.summary()\n",
        "\n",
        "# Predict a latent representation for the test set and the frauds set\n",
        "latent_normal = encoder_model.predict(x_test)\n",
        "latent_frauds = encoder_model.predict(frauds)\n",
        "\n",
        "#generate graphics\n",
        "print_latent_space(latent_normal,latent_frauds)"
      ],
      "execution_count": 66,
      "outputs": [
        {
          "output_type": "stream",
          "text": [
            "Model: \"model_27\"\n",
            "_________________________________________________________________\n",
            "Layer (type)                 Output Shape              Param #   \n",
            "=================================================================\n",
            "input_19 (InputLayer)        [(None, 29)]              0         \n",
            "_________________________________________________________________\n",
            "dense_96 (Dense)             (None, 64)                1920      \n",
            "_________________________________________________________________\n",
            "dense_97 (Dense)             (None, 32)                2080      \n",
            "_________________________________________________________________\n",
            "dense_98 (Dense)             (None, 24)                792       \n",
            "_________________________________________________________________\n",
            "dense_99 (Dense)             (None, 32)                800       \n",
            "_________________________________________________________________\n",
            "dense_100 (Dense)            (None, 64)                2112      \n",
            "_________________________________________________________________\n",
            "dense_101 (Dense)            (None, 29)                1885      \n",
            "=================================================================\n",
            "Total params: 9,589\n",
            "Trainable params: 9,589\n",
            "Non-trainable params: 0\n",
            "_________________________________________________________________\n",
            "Epoch 1/30\n",
            "2844/2844 [==============================] - 11s 4ms/step - loss: 0.7175 - accuracy: 0.2184 - val_loss: 0.5740 - val_accuracy: 0.2476\n",
            "Epoch 2/30\n",
            "2844/2844 [==============================] - 11s 4ms/step - loss: 0.5513 - accuracy: 0.2812 - val_loss: 0.4941 - val_accuracy: 0.2907\n",
            "Epoch 3/30\n",
            "2844/2844 [==============================] - 11s 4ms/step - loss: 0.4674 - accuracy: 0.3319 - val_loss: 0.4147 - val_accuracy: 0.3353\n",
            "Epoch 4/30\n",
            "2844/2844 [==============================] - 11s 4ms/step - loss: 0.4182 - accuracy: 0.3545 - val_loss: 0.4345 - val_accuracy: 0.3133\n",
            "Epoch 5/30\n",
            "2844/2844 [==============================] - 11s 4ms/step - loss: 0.3825 - accuracy: 0.3787 - val_loss: 0.3409 - val_accuracy: 0.3988\n",
            "Epoch 6/30\n",
            "2844/2844 [==============================] - 11s 4ms/step - loss: 0.3479 - accuracy: 0.4041 - val_loss: 0.3280 - val_accuracy: 0.4046\n",
            "Epoch 7/30\n",
            "2844/2844 [==============================] - 11s 4ms/step - loss: 0.3200 - accuracy: 0.4259 - val_loss: 0.3030 - val_accuracy: 0.4307\n",
            "Epoch 8/30\n",
            "2844/2844 [==============================] - 11s 4ms/step - loss: 0.3047 - accuracy: 0.4457 - val_loss: 0.2894 - val_accuracy: 0.4513\n",
            "Epoch 9/30\n",
            "2844/2844 [==============================] - 11s 4ms/step - loss: 0.2980 - accuracy: 0.4554 - val_loss: 0.2892 - val_accuracy: 0.4547\n",
            "Epoch 10/30\n",
            "2844/2844 [==============================] - 11s 4ms/step - loss: 0.2915 - accuracy: 0.4666 - val_loss: 0.2625 - val_accuracy: 0.4731\n",
            "Epoch 11/30\n",
            "2844/2844 [==============================] - 11s 4ms/step - loss: 0.2705 - accuracy: 0.4779 - val_loss: 0.2476 - val_accuracy: 0.4879\n",
            "Epoch 12/30\n",
            "2844/2844 [==============================] - 11s 4ms/step - loss: 0.2665 - accuracy: 0.4824 - val_loss: 0.2463 - val_accuracy: 0.4930\n",
            "Epoch 13/30\n",
            "2844/2844 [==============================] - 11s 4ms/step - loss: 0.2607 - accuracy: 0.4921 - val_loss: 0.2490 - val_accuracy: 0.4956\n",
            "Epoch 14/30\n",
            "2844/2844 [==============================] - 11s 4ms/step - loss: 0.2576 - accuracy: 0.4974 - val_loss: 0.2448 - val_accuracy: 0.5035\n",
            "Epoch 15/30\n",
            "2844/2844 [==============================] - 11s 4ms/step - loss: 0.2555 - accuracy: 0.5038 - val_loss: 0.2397 - val_accuracy: 0.5066\n",
            "Epoch 16/30\n",
            "2844/2844 [==============================] - 10s 4ms/step - loss: 0.2573 - accuracy: 0.5077 - val_loss: 0.3321 - val_accuracy: 0.4591\n",
            "Epoch 17/30\n",
            "2844/2844 [==============================] - 10s 4ms/step - loss: 0.2581 - accuracy: 0.5124 - val_loss: 0.2417 - val_accuracy: 0.5147\n",
            "Epoch 18/30\n",
            "2844/2844 [==============================] - 10s 4ms/step - loss: 0.2560 - accuracy: 0.5167 - val_loss: 0.2537 - val_accuracy: 0.5092\n",
            "Epoch 19/30\n",
            "2844/2844 [==============================] - 11s 4ms/step - loss: 0.2515 - accuracy: 0.5223 - val_loss: 0.2387 - val_accuracy: 0.5248\n",
            "Epoch 20/30\n",
            "2844/2844 [==============================] - 11s 4ms/step - loss: 0.2498 - accuracy: 0.5256 - val_loss: 0.2326 - val_accuracy: 0.5344\n",
            "Epoch 21/30\n",
            "2844/2844 [==============================] - 10s 4ms/step - loss: 0.2487 - accuracy: 0.5290 - val_loss: 0.2407 - val_accuracy: 0.5285\n",
            "Epoch 22/30\n",
            "2844/2844 [==============================] - 11s 4ms/step - loss: 0.2457 - accuracy: 0.5325 - val_loss: 0.3020 - val_accuracy: 0.4900\n",
            "Epoch 23/30\n",
            "2844/2844 [==============================] - 10s 4ms/step - loss: 0.2443 - accuracy: 0.5339 - val_loss: 0.2749 - val_accuracy: 0.5236\n",
            "Epoch 24/30\n",
            "2844/2844 [==============================] - 10s 4ms/step - loss: 0.2435 - accuracy: 0.5394 - val_loss: 0.2234 - val_accuracy: 0.5479\n",
            "Epoch 25/30\n",
            "2844/2844 [==============================] - 11s 4ms/step - loss: 0.2193 - accuracy: 0.5675 - val_loss: 0.2002 - val_accuracy: 0.5795\n",
            "Epoch 26/30\n",
            "2844/2844 [==============================] - 11s 4ms/step - loss: 0.2077 - accuracy: 0.5841 - val_loss: 0.1867 - val_accuracy: 0.6001\n",
            "Epoch 27/30\n",
            "2844/2844 [==============================] - 11s 4ms/step - loss: 0.1979 - accuracy: 0.5978 - val_loss: 0.1807 - val_accuracy: 0.6058\n",
            "Epoch 28/30\n",
            "2844/2844 [==============================] - 10s 4ms/step - loss: 0.1966 - accuracy: 0.6000 - val_loss: 0.2029 - val_accuracy: 0.5848\n",
            "Epoch 29/30\n",
            "2844/2844 [==============================] - 10s 4ms/step - loss: 0.1933 - accuracy: 0.6056 - val_loss: 0.1865 - val_accuracy: 0.6021\n",
            "Epoch 30/30\n",
            "2844/2844 [==============================] - 10s 4ms/step - loss: 0.1926 - accuracy: 0.6066 - val_loss: 0.1759 - val_accuracy: 0.6160\n"
          ],
          "name": "stdout"
        },
        {
          "output_type": "display_data",
          "data": {
            "image/png": "[encoded data removed]",
            "text/plain": [
              "<Figure size 1152x216 with 2 Axes>"
            ]
          },
          "metadata": {
            "tags": [],
            "needs_background": "light"
          }
        }
      ]
    },
    {
      "cell_type": "code",
      "metadata": {
        "id": "KE4a_HMABbwf",
        "colab_type": "code",
        "colab": {
          "base_uri": "https://localhost:8080/",
          "height": 1000
        },
        "outputId": "6db2e48b-da9c-401e-ef83-104d943e53cf"
      },
      "source": [
        "# Create model\n",
        "in_layer = Input(shape=(x_train.shape[1],))\n",
        "\n",
        "encoder = Dense(64, activation='elu')(in_layer)\n",
        "encoder = Dense(32,  activation='tanh')(encoder)\n",
        "\n",
        "latent  = Dense(64,  activation='elu',activity_regularizer=l1(.1))(encoder)\n",
        "\n",
        "decoder = Dense(32, activation='tanh')(latent)\n",
        "decoder = Dense(64, activation='elu')(decoder)\n",
        "\n",
        "out_layer = Dense(x_train.shape[1])(decoder)\n",
        "\n",
        "AE = Model(inputs=in_layer, outputs=out_layer)\n",
        "AE.summary()\n",
        "\n",
        "# Compile\n",
        "AE.compile(optimizer='adam', loss='mse', metrics=['accuracy'])\n",
        "\n",
        "# Train it\n",
        "history = AE.fit(x_train, x_train, epochs=30, batch_size=64, validation_split=0.2)\n",
        "\n",
        "# Create a submodel using only the encoder part of previous model (output must be latent layer)\n",
        "encoder_model = Model(inputs=in_layer, outputs=latent)\n",
        "#encoder_model.summary()\n",
        "\n",
        "# Predict a latent representation for the test set and the frauds set\n",
        "latent_normal = encoder_model.predict(x_test)\n",
        "latent_frauds = encoder_model.predict(frauds)\n",
        "\n",
        "#generate graphics\n",
        "print_latent_space(latent_normal,latent_frauds)\n",
        "print_anomaly(AE,x_train,x_test,frauds)"
      ],
      "execution_count": 78,
      "outputs": [
        {
          "output_type": "stream",
          "text": [
            "Model: \"model_31\"\n",
            "_________________________________________________________________\n",
            "Layer (type)                 Output Shape              Param #   \n",
            "=================================================================\n",
            "input_21 (InputLayer)        [(None, 29)]              0         \n",
            "_________________________________________________________________\n",
            "dense_108 (Dense)            (None, 64)                1920      \n",
            "_________________________________________________________________\n",
            "dense_109 (Dense)            (None, 32)                2080      \n",
            "_________________________________________________________________\n",
            "dense_110 (Dense)            (None, 64)                2112      \n",
            "_________________________________________________________________\n",
            "dense_111 (Dense)            (None, 32)                2080      \n",
            "_________________________________________________________________\n",
            "dense_112 (Dense)            (None, 64)                2112      \n",
            "_________________________________________________________________\n",
            "dense_113 (Dense)            (None, 29)                1885      \n",
            "=================================================================\n",
            "Total params: 12,189\n",
            "Trainable params: 12,189\n",
            "Non-trainable params: 0\n",
            "_________________________________________________________________\n",
            "Epoch 1/30\n",
            "2844/2844 [==============================] - 9s 3ms/step - loss: 0.4763 - accuracy: 0.6081 - val_loss: 0.2397 - val_accuracy: 0.7378\n",
            "Epoch 2/30\n",
            "2844/2844 [==============================] - 9s 3ms/step - loss: 0.1948 - accuracy: 0.7886 - val_loss: 0.1523 - val_accuracy: 0.8218\n",
            "Epoch 3/30\n",
            "2844/2844 [==============================] - 9s 3ms/step - loss: 0.1336 - accuracy: 0.8646 - val_loss: 0.1172 - val_accuracy: 0.8745\n",
            "Epoch 4/30\n",
            "2844/2844 [==============================] - 9s 3ms/step - loss: 0.0934 - accuracy: 0.8955 - val_loss: 0.0529 - val_accuracy: 0.9262\n",
            "Epoch 5/30\n",
            "2844/2844 [==============================] - 9s 3ms/step - loss: 0.0642 - accuracy: 0.9178 - val_loss: 0.0588 - val_accuracy: 0.9132\n",
            "Epoch 6/30\n",
            "2844/2844 [==============================] - 9s 3ms/step - loss: 0.0599 - accuracy: 0.9221 - val_loss: 0.0343 - val_accuracy: 0.9445\n",
            "Epoch 7/30\n",
            "2844/2844 [==============================] - 9s 3ms/step - loss: 0.0550 - accuracy: 0.9268 - val_loss: 0.1201 - val_accuracy: 0.8572\n",
            "Epoch 8/30\n",
            "2844/2844 [==============================] - 9s 3ms/step - loss: 0.0541 - accuracy: 0.9220 - val_loss: 0.0321 - val_accuracy: 0.9583\n",
            "Epoch 9/30\n",
            "2844/2844 [==============================] - 9s 3ms/step - loss: 0.0456 - accuracy: 0.9322 - val_loss: 0.0323 - val_accuracy: 0.9398\n",
            "Epoch 10/30\n",
            "2844/2844 [==============================] - 9s 3ms/step - loss: 0.0457 - accuracy: 0.9260 - val_loss: 0.0238 - val_accuracy: 0.9615\n",
            "Epoch 11/30\n",
            "2844/2844 [==============================] - 9s 3ms/step - loss: 0.0421 - accuracy: 0.9283 - val_loss: 0.0342 - val_accuracy: 0.9230\n",
            "Epoch 12/30\n",
            "2844/2844 [==============================] - 9s 3ms/step - loss: 0.0450 - accuracy: 0.9225 - val_loss: 0.0477 - val_accuracy: 0.8721\n",
            "Epoch 13/30\n",
            "2844/2844 [==============================] - 9s 3ms/step - loss: 0.0426 - accuracy: 0.9270 - val_loss: 0.0274 - val_accuracy: 0.9386\n",
            "Epoch 14/30\n",
            "2844/2844 [==============================] - 9s 3ms/step - loss: 0.0430 - accuracy: 0.9262 - val_loss: 0.0456 - val_accuracy: 0.9080\n",
            "Epoch 15/30\n",
            "2844/2844 [==============================] - 9s 3ms/step - loss: 0.0413 - accuracy: 0.9362 - val_loss: 0.0855 - val_accuracy: 0.8170\n",
            "Epoch 16/30\n",
            "2844/2844 [==============================] - 9s 3ms/step - loss: 0.0383 - accuracy: 0.9237 - val_loss: 0.0389 - val_accuracy: 0.9136\n",
            "Epoch 17/30\n",
            "2844/2844 [==============================] - 9s 3ms/step - loss: 0.0380 - accuracy: 0.9259 - val_loss: 0.0434 - val_accuracy: 0.8803\n",
            "Epoch 18/30\n",
            "2844/2844 [==============================] - 9s 3ms/step - loss: 0.0375 - accuracy: 0.9310 - val_loss: 0.0190 - val_accuracy: 0.9578\n",
            "Epoch 19/30\n",
            "2844/2844 [==============================] - 9s 3ms/step - loss: 0.0359 - accuracy: 0.9278 - val_loss: 0.0186 - val_accuracy: 0.9626\n",
            "Epoch 20/30\n",
            "2844/2844 [==============================] - 9s 3ms/step - loss: 0.0384 - accuracy: 0.9235 - val_loss: 0.0174 - val_accuracy: 0.9624\n",
            "Epoch 21/30\n",
            "2844/2844 [==============================] - 9s 3ms/step - loss: 0.0367 - accuracy: 0.9279 - val_loss: 0.0429 - val_accuracy: 0.8884\n",
            "Epoch 22/30\n",
            "2844/2844 [==============================] - 9s 3ms/step - loss: 0.0336 - accuracy: 0.9280 - val_loss: 0.0250 - val_accuracy: 0.9265\n",
            "Epoch 23/30\n",
            "2844/2844 [==============================] - 9s 3ms/step - loss: 0.0375 - accuracy: 0.9291 - val_loss: 0.0516 - val_accuracy: 0.8243\n",
            "Epoch 24/30\n",
            "2844/2844 [==============================] - 9s 3ms/step - loss: 0.0376 - accuracy: 0.9242 - val_loss: 0.0313 - val_accuracy: 0.9274\n",
            "Epoch 25/30\n",
            "2844/2844 [==============================] - 9s 3ms/step - loss: 0.0376 - accuracy: 0.9244 - val_loss: 0.0192 - val_accuracy: 0.9498\n",
            "Epoch 26/30\n",
            "2844/2844 [==============================] - 9s 3ms/step - loss: 0.0361 - accuracy: 0.9310 - val_loss: 0.0317 - val_accuracy: 0.9239\n",
            "Epoch 27/30\n",
            "2844/2844 [==============================] - 9s 3ms/step - loss: 0.0328 - accuracy: 0.9321 - val_loss: 0.0249 - val_accuracy: 0.9265\n",
            "Epoch 28/30\n",
            "2844/2844 [==============================] - 9s 3ms/step - loss: 0.0314 - accuracy: 0.9300 - val_loss: 0.0291 - val_accuracy: 0.9272\n",
            "Epoch 29/30\n",
            "2844/2844 [==============================] - 9s 3ms/step - loss: 0.0357 - accuracy: 0.9217 - val_loss: 0.0205 - val_accuracy: 0.9452\n",
            "Epoch 30/30\n",
            "2844/2844 [==============================] - 9s 3ms/step - loss: 0.0355 - accuracy: 0.9291 - val_loss: 0.0266 - val_accuracy: 0.9350\n"
          ],
          "name": "stdout"
        },
        {
          "output_type": "display_data",
          "data": {
            "image/png": "[encoded data removed]",
            "text/plain": [
              "<Figure size 1152x216 with 2 Axes>"
            ]
          },
          "metadata": {
            "tags": [],
            "needs_background": "light"
          }
        },
        {
          "output_type": "display_data",
          "data": {
            "image/png": "[encoded data removed]",
            "text/plain": [
              "<Figure size 1296x216 with 2 Axes>"
            ]
          },
          "metadata": {
            "tags": [],
            "needs_background": "light"
          }
        }
      ]
    },
    {
      "cell_type": "code",
      "metadata": {
        "id": "qUcHqKUUjcOm",
        "colab_type": "code",
        "colab": {}
      },
      "source": [
        "  # == Q ==\n",
        "# 1. Diseña un AE que obtenga pérdida menor o igual 0.01 tanto en entrenamiento como validación.\n",
        "#    Reporta tu arquitectura.\n",
        "# 2. ¿Existe alguna relación entre la profundidad del AE y la pérdida final?\n",
        "# 3. ¿Existe alguna relación entre la profundidad del AE y la separación resultante\n",
        "#    entre los espacios latentes de los datos normales y anormales?\n",
        "# 4. ¿Existe alguna relación entre el número elementos en el espacio latente y la pérdida final?\n",
        "# 5. ¿Existe alguna relación entre el número elementos en el espacio latente y la separación resultante\n",
        "#    entre los espacios latentes de los datos normales y anormales?\n",
        "# 6. Intenta forzar el espacio latente para que sea ralo. Reporta tu mejor modelo y \n",
        "#    el desempeño que obtenga, tanto en pérdida como en capacidad de diferenciar datos anormales."
      ],
      "execution_count": 0,
      "outputs": []
    },
    {
      "cell_type": "code",
      "metadata": {
        "id": "PDABrWEXJsqe",
        "colab_type": "code",
        "colab": {}
      },
      "source": [
        ""
      ],
      "execution_count": 0,
      "outputs": []
    }
  ]
}
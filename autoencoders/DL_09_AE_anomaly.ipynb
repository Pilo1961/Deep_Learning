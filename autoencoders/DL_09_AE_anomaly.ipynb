{
  "nbformat": 4,
  "nbformat_minor": 0,
  "metadata": {
    "colab": {
      "name": "DL_09_AE_anomaly.ipynb",
      "provenance": [],
      "collapsed_sections": [],
      "include_colab_link": true
    },
    "kernelspec": {
      "name": "python3",
      "display_name": "Python 3"
    },
    "accelerator": "GPU"
  },
  "cells": [
    {
      "cell_type": "markdown",
      "metadata": {
        "id": "view-in-github",
        "colab_type": "text"
      },
      "source": [
        "<a href=\"https://colab.research.google.com/github/Pilo1961/Deep_Learning/blob/master/autoencoders/DL_09_AE_anomaly.ipynb\" target=\"_parent\"><img src=\"https://colab.research.google.com/assets/colab-badge.svg\" alt=\"Open In Colab\"/></a>"
      ]
    },
    {
      "cell_type": "code",
      "metadata": {
        "id": "jolv41Yx2ri8",
        "colab_type": "code",
        "colab": {}
      },
      "source": [
        "import numpy as np\n",
        "import matplotlib.pyplot as plt\n",
        "import pandas as pd\n",
        "from sklearn.preprocessing import StandardScaler\n",
        "from sklearn.model_selection import train_test_split"
      ],
      "execution_count": 0,
      "outputs": []
    },
    {
      "cell_type": "code",
      "metadata": {
        "id": "00VizCbu3074",
        "colab_type": "code",
        "colab": {}
      },
      "source": [
        "# GOALS:\n",
        "# - Train ourselves on unsupervised deep learning.\n",
        "# - Train ourselves on the use of autoencoders (AE).\n",
        "# - Use an AE to estimate latent representations of some numeric data.\n",
        "# - Use those latent representations to detect anomalies (abnormal data)."
      ],
      "execution_count": 0,
      "outputs": []
    },
    {
      "cell_type": "code",
      "metadata": {
        "id": "sNnrnlAm6fp-",
        "colab_type": "code",
        "colab": {}
      },
      "source": [
        "# Data set: https://www.kaggle.com/mlg-ulb/creditcardfraud\n",
        "# https://www.kaggle.com/mlg-ulb/creditcardfraud/download\n",
        "#\n",
        "# The datasets contains transactions made by credit cards in September 2013 by european cardholders.\n",
        "# This dataset presents transactions that occurred in two days, where we have 492 frauds out of 284,807 transactions.\n",
        "# The dataset is highly unbalanced, the positive class (frauds) account for 0.172% of all transactions.\n",
        "#\n",
        "# It contains only numerical input variables which are the result of a PCA transformation (privacy reasons).\n",
        "# Features V1, V2, … V28 are the principal components obtained with PCA, the only features which have not been transformed with PCA are\n",
        "# 'Time' and 'Amount'. Feature 'Time' contains the seconds elapsed between each transaction and the first transaction in the dataset.\n",
        "# The feature 'Amount' is the transaction Amount. Feature 'Class' is the response variable and it takes value 1 in case of fraud\n",
        "# and 0 otherwise."
      ],
      "execution_count": 0,
      "outputs": []
    },
    {
      "cell_type": "markdown",
      "metadata": {
        "id": "sUfvYquT7i74",
        "colab_type": "text"
      },
      "source": [
        "# Part 1: Load data"
      ]
    },
    {
      "cell_type": "code",
      "metadata": {
        "id": "w0T8Z5_O3mV7",
        "colab_type": "code",
        "outputId": "f064fdf3-b282-48d6-d673-1e54f4bc1b6f",
        "colab": {
          "base_uri": "https://localhost:8080/",
          "height": 52
        }
      },
      "source": [
        "# Load data\n",
        "df = pd.read_csv(\"creditcard.csv\")\n",
        "print(df.shape)\n",
        "\n"
      ],
      "execution_count": 0,
      "outputs": [
        {
          "output_type": "stream",
          "text": [
            "(284807, 31)\n"
          ],
          "name": "stdout"
        },
        {
          "output_type": "execute_result",
          "data": {
            "text/plain": [
              "False"
            ]
          },
          "metadata": {
            "tags": []
          },
          "execution_count": 4
        }
      ]
    },
    {
      "cell_type": "code",
      "metadata": {
        "id": "pBpVLYem1opn",
        "colab_type": "code",
        "colab": {
          "base_uri": "https://localhost:8080/",
          "height": 121
        },
        "outputId": "151bfe0c-dbcf-4654-d8e1-78d762a121bd"
      },
      "source": [
        "#load data from google drive\n",
        "from google.colab import drive\n",
        "drive.mount('/content/drive')\n",
        "path= \"/content/drive/My Drive/data/creditcard.csv\"\n",
        "df=pd.read_csv(path)"
      ],
      "execution_count": 7,
      "outputs": [
        {
          "output_type": "stream",
          "text": [
            "Go to this URL in a browser: https://accounts.google.com/o/oauth2/auth?client_id=947318989803-6bn6qk8qdgf4n4g3pfee6491hc0brc4i.apps.googleusercontent.com&redirect_uri=urn%3aietf%3awg%3aoauth%3a2.0%3aoob&response_type=code&scope=email%20https%3a%2f%2fwww.googleapis.com%2fauth%2fdocs.test%20https%3a%2f%2fwww.googleapis.com%2fauth%2fdrive%20https%3a%2f%2fwww.googleapis.com%2fauth%2fdrive.photos.readonly%20https%3a%2f%2fwww.googleapis.com%2fauth%2fpeopleapi.readonly\n",
            "\n",
            "Enter your authorization code:\n",
            "··········\n",
            "Mounted at /content/drive\n"
          ],
          "name": "stdout"
        }
      ]
    },
    {
      "cell_type": "code",
      "metadata": {
        "id": "wcJRKlw22r4c",
        "colab_type": "code",
        "colab": {
          "base_uri": "https://localhost:8080/",
          "height": 34
        },
        "outputId": "f47e9990-b638-40b3-a127-e0fde0c303fe"
      },
      "source": [
        "# Remueve entries with nan values\n",
        "df.dropna(inplace=True)\n",
        "df.isnull().values.any()"
      ],
      "execution_count": 10,
      "outputs": [
        {
          "output_type": "execute_result",
          "data": {
            "text/plain": [
              "False"
            ]
          },
          "metadata": {
            "tags": []
          },
          "execution_count": 10
        }
      ]
    },
    {
      "cell_type": "code",
      "metadata": {
        "id": "uLPwMzKF39We",
        "colab_type": "code",
        "outputId": "05c5f925-78d4-47ae-dea3-4fbb55ebfd0c",
        "colab": {
          "base_uri": "https://localhost:8080/",
          "height": 422
        }
      },
      "source": [
        "# Show a summary\n",
        "df"
      ],
      "execution_count": 11,
      "outputs": [
        {
          "output_type": "execute_result",
          "data": {
            "text/html": [
              "<div>\n",
              "<style scoped>\n",
              "    .dataframe tbody tr th:only-of-type {\n",
              "        vertical-align: middle;\n",
              "    }\n",
              "\n",
              "    .dataframe tbody tr th {\n",
              "        vertical-align: top;\n",
              "    }\n",
              "\n",
              "    .dataframe thead th {\n",
              "        text-align: right;\n",
              "    }\n",
              "</style>\n",
              "<table border=\"1\" class=\"dataframe\">\n",
              "  <thead>\n",
              "    <tr style=\"text-align: right;\">\n",
              "      <th></th>\n",
              "      <th>Time</th>\n",
              "      <th>V1</th>\n",
              "      <th>V2</th>\n",
              "      <th>V3</th>\n",
              "      <th>V4</th>\n",
              "      <th>V5</th>\n",
              "      <th>V6</th>\n",
              "      <th>V7</th>\n",
              "      <th>V8</th>\n",
              "      <th>V9</th>\n",
              "      <th>V10</th>\n",
              "      <th>V11</th>\n",
              "      <th>V12</th>\n",
              "      <th>V13</th>\n",
              "      <th>V14</th>\n",
              "      <th>V15</th>\n",
              "      <th>V16</th>\n",
              "      <th>V17</th>\n",
              "      <th>V18</th>\n",
              "      <th>V19</th>\n",
              "      <th>V20</th>\n",
              "      <th>V21</th>\n",
              "      <th>V22</th>\n",
              "      <th>V23</th>\n",
              "      <th>V24</th>\n",
              "      <th>V25</th>\n",
              "      <th>V26</th>\n",
              "      <th>V27</th>\n",
              "      <th>V28</th>\n",
              "      <th>Amount</th>\n",
              "      <th>Class</th>\n",
              "    </tr>\n",
              "  </thead>\n",
              "  <tbody>\n",
              "    <tr>\n",
              "      <th>0</th>\n",
              "      <td>0.0</td>\n",
              "      <td>-1.359807</td>\n",
              "      <td>-0.072781</td>\n",
              "      <td>2.536347</td>\n",
              "      <td>1.378155</td>\n",
              "      <td>-0.338321</td>\n",
              "      <td>0.462388</td>\n",
              "      <td>0.239599</td>\n",
              "      <td>0.098698</td>\n",
              "      <td>0.363787</td>\n",
              "      <td>0.090794</td>\n",
              "      <td>-0.551600</td>\n",
              "      <td>-0.617801</td>\n",
              "      <td>-0.991390</td>\n",
              "      <td>-0.311169</td>\n",
              "      <td>1.468177</td>\n",
              "      <td>-0.470401</td>\n",
              "      <td>0.207971</td>\n",
              "      <td>0.025791</td>\n",
              "      <td>0.403993</td>\n",
              "      <td>0.251412</td>\n",
              "      <td>-0.018307</td>\n",
              "      <td>0.277838</td>\n",
              "      <td>-0.110474</td>\n",
              "      <td>0.066928</td>\n",
              "      <td>0.128539</td>\n",
              "      <td>-0.189115</td>\n",
              "      <td>0.133558</td>\n",
              "      <td>-0.021053</td>\n",
              "      <td>149.62</td>\n",
              "      <td>0</td>\n",
              "    </tr>\n",
              "    <tr>\n",
              "      <th>1</th>\n",
              "      <td>0.0</td>\n",
              "      <td>1.191857</td>\n",
              "      <td>0.266151</td>\n",
              "      <td>0.166480</td>\n",
              "      <td>0.448154</td>\n",
              "      <td>0.060018</td>\n",
              "      <td>-0.082361</td>\n",
              "      <td>-0.078803</td>\n",
              "      <td>0.085102</td>\n",
              "      <td>-0.255425</td>\n",
              "      <td>-0.166974</td>\n",
              "      <td>1.612727</td>\n",
              "      <td>1.065235</td>\n",
              "      <td>0.489095</td>\n",
              "      <td>-0.143772</td>\n",
              "      <td>0.635558</td>\n",
              "      <td>0.463917</td>\n",
              "      <td>-0.114805</td>\n",
              "      <td>-0.183361</td>\n",
              "      <td>-0.145783</td>\n",
              "      <td>-0.069083</td>\n",
              "      <td>-0.225775</td>\n",
              "      <td>-0.638672</td>\n",
              "      <td>0.101288</td>\n",
              "      <td>-0.339846</td>\n",
              "      <td>0.167170</td>\n",
              "      <td>0.125895</td>\n",
              "      <td>-0.008983</td>\n",
              "      <td>0.014724</td>\n",
              "      <td>2.69</td>\n",
              "      <td>0</td>\n",
              "    </tr>\n",
              "    <tr>\n",
              "      <th>2</th>\n",
              "      <td>1.0</td>\n",
              "      <td>-1.358354</td>\n",
              "      <td>-1.340163</td>\n",
              "      <td>1.773209</td>\n",
              "      <td>0.379780</td>\n",
              "      <td>-0.503198</td>\n",
              "      <td>1.800499</td>\n",
              "      <td>0.791461</td>\n",
              "      <td>0.247676</td>\n",
              "      <td>-1.514654</td>\n",
              "      <td>0.207643</td>\n",
              "      <td>0.624501</td>\n",
              "      <td>0.066084</td>\n",
              "      <td>0.717293</td>\n",
              "      <td>-0.165946</td>\n",
              "      <td>2.345865</td>\n",
              "      <td>-2.890083</td>\n",
              "      <td>1.109969</td>\n",
              "      <td>-0.121359</td>\n",
              "      <td>-2.261857</td>\n",
              "      <td>0.524980</td>\n",
              "      <td>0.247998</td>\n",
              "      <td>0.771679</td>\n",
              "      <td>0.909412</td>\n",
              "      <td>-0.689281</td>\n",
              "      <td>-0.327642</td>\n",
              "      <td>-0.139097</td>\n",
              "      <td>-0.055353</td>\n",
              "      <td>-0.059752</td>\n",
              "      <td>378.66</td>\n",
              "      <td>0</td>\n",
              "    </tr>\n",
              "    <tr>\n",
              "      <th>3</th>\n",
              "      <td>1.0</td>\n",
              "      <td>-0.966272</td>\n",
              "      <td>-0.185226</td>\n",
              "      <td>1.792993</td>\n",
              "      <td>-0.863291</td>\n",
              "      <td>-0.010309</td>\n",
              "      <td>1.247203</td>\n",
              "      <td>0.237609</td>\n",
              "      <td>0.377436</td>\n",
              "      <td>-1.387024</td>\n",
              "      <td>-0.054952</td>\n",
              "      <td>-0.226487</td>\n",
              "      <td>0.178228</td>\n",
              "      <td>0.507757</td>\n",
              "      <td>-0.287924</td>\n",
              "      <td>-0.631418</td>\n",
              "      <td>-1.059647</td>\n",
              "      <td>-0.684093</td>\n",
              "      <td>1.965775</td>\n",
              "      <td>-1.232622</td>\n",
              "      <td>-0.208038</td>\n",
              "      <td>-0.108300</td>\n",
              "      <td>0.005274</td>\n",
              "      <td>-0.190321</td>\n",
              "      <td>-1.175575</td>\n",
              "      <td>0.647376</td>\n",
              "      <td>-0.221929</td>\n",
              "      <td>0.062723</td>\n",
              "      <td>0.061458</td>\n",
              "      <td>123.50</td>\n",
              "      <td>0</td>\n",
              "    </tr>\n",
              "    <tr>\n",
              "      <th>4</th>\n",
              "      <td>2.0</td>\n",
              "      <td>-1.158233</td>\n",
              "      <td>0.877737</td>\n",
              "      <td>1.548718</td>\n",
              "      <td>0.403034</td>\n",
              "      <td>-0.407193</td>\n",
              "      <td>0.095921</td>\n",
              "      <td>0.592941</td>\n",
              "      <td>-0.270533</td>\n",
              "      <td>0.817739</td>\n",
              "      <td>0.753074</td>\n",
              "      <td>-0.822843</td>\n",
              "      <td>0.538196</td>\n",
              "      <td>1.345852</td>\n",
              "      <td>-1.119670</td>\n",
              "      <td>0.175121</td>\n",
              "      <td>-0.451449</td>\n",
              "      <td>-0.237033</td>\n",
              "      <td>-0.038195</td>\n",
              "      <td>0.803487</td>\n",
              "      <td>0.408542</td>\n",
              "      <td>-0.009431</td>\n",
              "      <td>0.798278</td>\n",
              "      <td>-0.137458</td>\n",
              "      <td>0.141267</td>\n",
              "      <td>-0.206010</td>\n",
              "      <td>0.502292</td>\n",
              "      <td>0.219422</td>\n",
              "      <td>0.215153</td>\n",
              "      <td>69.99</td>\n",
              "      <td>0</td>\n",
              "    </tr>\n",
              "    <tr>\n",
              "      <th>...</th>\n",
              "      <td>...</td>\n",
              "      <td>...</td>\n",
              "      <td>...</td>\n",
              "      <td>...</td>\n",
              "      <td>...</td>\n",
              "      <td>...</td>\n",
              "      <td>...</td>\n",
              "      <td>...</td>\n",
              "      <td>...</td>\n",
              "      <td>...</td>\n",
              "      <td>...</td>\n",
              "      <td>...</td>\n",
              "      <td>...</td>\n",
              "      <td>...</td>\n",
              "      <td>...</td>\n",
              "      <td>...</td>\n",
              "      <td>...</td>\n",
              "      <td>...</td>\n",
              "      <td>...</td>\n",
              "      <td>...</td>\n",
              "      <td>...</td>\n",
              "      <td>...</td>\n",
              "      <td>...</td>\n",
              "      <td>...</td>\n",
              "      <td>...</td>\n",
              "      <td>...</td>\n",
              "      <td>...</td>\n",
              "      <td>...</td>\n",
              "      <td>...</td>\n",
              "      <td>...</td>\n",
              "      <td>...</td>\n",
              "    </tr>\n",
              "    <tr>\n",
              "      <th>284802</th>\n",
              "      <td>172786.0</td>\n",
              "      <td>-11.881118</td>\n",
              "      <td>10.071785</td>\n",
              "      <td>-9.834783</td>\n",
              "      <td>-2.066656</td>\n",
              "      <td>-5.364473</td>\n",
              "      <td>-2.606837</td>\n",
              "      <td>-4.918215</td>\n",
              "      <td>7.305334</td>\n",
              "      <td>1.914428</td>\n",
              "      <td>4.356170</td>\n",
              "      <td>-1.593105</td>\n",
              "      <td>2.711941</td>\n",
              "      <td>-0.689256</td>\n",
              "      <td>4.626942</td>\n",
              "      <td>-0.924459</td>\n",
              "      <td>1.107641</td>\n",
              "      <td>1.991691</td>\n",
              "      <td>0.510632</td>\n",
              "      <td>-0.682920</td>\n",
              "      <td>1.475829</td>\n",
              "      <td>0.213454</td>\n",
              "      <td>0.111864</td>\n",
              "      <td>1.014480</td>\n",
              "      <td>-0.509348</td>\n",
              "      <td>1.436807</td>\n",
              "      <td>0.250034</td>\n",
              "      <td>0.943651</td>\n",
              "      <td>0.823731</td>\n",
              "      <td>0.77</td>\n",
              "      <td>0</td>\n",
              "    </tr>\n",
              "    <tr>\n",
              "      <th>284803</th>\n",
              "      <td>172787.0</td>\n",
              "      <td>-0.732789</td>\n",
              "      <td>-0.055080</td>\n",
              "      <td>2.035030</td>\n",
              "      <td>-0.738589</td>\n",
              "      <td>0.868229</td>\n",
              "      <td>1.058415</td>\n",
              "      <td>0.024330</td>\n",
              "      <td>0.294869</td>\n",
              "      <td>0.584800</td>\n",
              "      <td>-0.975926</td>\n",
              "      <td>-0.150189</td>\n",
              "      <td>0.915802</td>\n",
              "      <td>1.214756</td>\n",
              "      <td>-0.675143</td>\n",
              "      <td>1.164931</td>\n",
              "      <td>-0.711757</td>\n",
              "      <td>-0.025693</td>\n",
              "      <td>-1.221179</td>\n",
              "      <td>-1.545556</td>\n",
              "      <td>0.059616</td>\n",
              "      <td>0.214205</td>\n",
              "      <td>0.924384</td>\n",
              "      <td>0.012463</td>\n",
              "      <td>-1.016226</td>\n",
              "      <td>-0.606624</td>\n",
              "      <td>-0.395255</td>\n",
              "      <td>0.068472</td>\n",
              "      <td>-0.053527</td>\n",
              "      <td>24.79</td>\n",
              "      <td>0</td>\n",
              "    </tr>\n",
              "    <tr>\n",
              "      <th>284804</th>\n",
              "      <td>172788.0</td>\n",
              "      <td>1.919565</td>\n",
              "      <td>-0.301254</td>\n",
              "      <td>-3.249640</td>\n",
              "      <td>-0.557828</td>\n",
              "      <td>2.630515</td>\n",
              "      <td>3.031260</td>\n",
              "      <td>-0.296827</td>\n",
              "      <td>0.708417</td>\n",
              "      <td>0.432454</td>\n",
              "      <td>-0.484782</td>\n",
              "      <td>0.411614</td>\n",
              "      <td>0.063119</td>\n",
              "      <td>-0.183699</td>\n",
              "      <td>-0.510602</td>\n",
              "      <td>1.329284</td>\n",
              "      <td>0.140716</td>\n",
              "      <td>0.313502</td>\n",
              "      <td>0.395652</td>\n",
              "      <td>-0.577252</td>\n",
              "      <td>0.001396</td>\n",
              "      <td>0.232045</td>\n",
              "      <td>0.578229</td>\n",
              "      <td>-0.037501</td>\n",
              "      <td>0.640134</td>\n",
              "      <td>0.265745</td>\n",
              "      <td>-0.087371</td>\n",
              "      <td>0.004455</td>\n",
              "      <td>-0.026561</td>\n",
              "      <td>67.88</td>\n",
              "      <td>0</td>\n",
              "    </tr>\n",
              "    <tr>\n",
              "      <th>284805</th>\n",
              "      <td>172788.0</td>\n",
              "      <td>-0.240440</td>\n",
              "      <td>0.530483</td>\n",
              "      <td>0.702510</td>\n",
              "      <td>0.689799</td>\n",
              "      <td>-0.377961</td>\n",
              "      <td>0.623708</td>\n",
              "      <td>-0.686180</td>\n",
              "      <td>0.679145</td>\n",
              "      <td>0.392087</td>\n",
              "      <td>-0.399126</td>\n",
              "      <td>-1.933849</td>\n",
              "      <td>-0.962886</td>\n",
              "      <td>-1.042082</td>\n",
              "      <td>0.449624</td>\n",
              "      <td>1.962563</td>\n",
              "      <td>-0.608577</td>\n",
              "      <td>0.509928</td>\n",
              "      <td>1.113981</td>\n",
              "      <td>2.897849</td>\n",
              "      <td>0.127434</td>\n",
              "      <td>0.265245</td>\n",
              "      <td>0.800049</td>\n",
              "      <td>-0.163298</td>\n",
              "      <td>0.123205</td>\n",
              "      <td>-0.569159</td>\n",
              "      <td>0.546668</td>\n",
              "      <td>0.108821</td>\n",
              "      <td>0.104533</td>\n",
              "      <td>10.00</td>\n",
              "      <td>0</td>\n",
              "    </tr>\n",
              "    <tr>\n",
              "      <th>284806</th>\n",
              "      <td>172792.0</td>\n",
              "      <td>-0.533413</td>\n",
              "      <td>-0.189733</td>\n",
              "      <td>0.703337</td>\n",
              "      <td>-0.506271</td>\n",
              "      <td>-0.012546</td>\n",
              "      <td>-0.649617</td>\n",
              "      <td>1.577006</td>\n",
              "      <td>-0.414650</td>\n",
              "      <td>0.486180</td>\n",
              "      <td>-0.915427</td>\n",
              "      <td>-1.040458</td>\n",
              "      <td>-0.031513</td>\n",
              "      <td>-0.188093</td>\n",
              "      <td>-0.084316</td>\n",
              "      <td>0.041333</td>\n",
              "      <td>-0.302620</td>\n",
              "      <td>-0.660377</td>\n",
              "      <td>0.167430</td>\n",
              "      <td>-0.256117</td>\n",
              "      <td>0.382948</td>\n",
              "      <td>0.261057</td>\n",
              "      <td>0.643078</td>\n",
              "      <td>0.376777</td>\n",
              "      <td>0.008797</td>\n",
              "      <td>-0.473649</td>\n",
              "      <td>-0.818267</td>\n",
              "      <td>-0.002415</td>\n",
              "      <td>0.013649</td>\n",
              "      <td>217.00</td>\n",
              "      <td>0</td>\n",
              "    </tr>\n",
              "  </tbody>\n",
              "</table>\n",
              "<p>284807 rows × 31 columns</p>\n",
              "</div>"
            ],
            "text/plain": [
              "            Time         V1         V2  ...       V28  Amount  Class\n",
              "0            0.0  -1.359807  -0.072781  ... -0.021053  149.62      0\n",
              "1            0.0   1.191857   0.266151  ...  0.014724    2.69      0\n",
              "2            1.0  -1.358354  -1.340163  ... -0.059752  378.66      0\n",
              "3            1.0  -0.966272  -0.185226  ...  0.061458  123.50      0\n",
              "4            2.0  -1.158233   0.877737  ...  0.215153   69.99      0\n",
              "...          ...        ...        ...  ...       ...     ...    ...\n",
              "284802  172786.0 -11.881118  10.071785  ...  0.823731    0.77      0\n",
              "284803  172787.0  -0.732789  -0.055080  ... -0.053527   24.79      0\n",
              "284804  172788.0   1.919565  -0.301254  ... -0.026561   67.88      0\n",
              "284805  172788.0  -0.240440   0.530483  ...  0.104533   10.00      0\n",
              "284806  172792.0  -0.533413  -0.189733  ...  0.013649  217.00      0\n",
              "\n",
              "[284807 rows x 31 columns]"
            ]
          },
          "metadata": {
            "tags": []
          },
          "execution_count": 11
        }
      ]
    },
    {
      "cell_type": "code",
      "metadata": {
        "id": "YTZQyeqW5pMv",
        "colab_type": "code",
        "outputId": "bac9403e-8c26-41f6-9e6f-0117e7206699",
        "colab": {
          "base_uri": "https://localhost:8080/",
          "height": 67
        }
      },
      "source": [
        "# Note classes are not balanced at all\n",
        "classes_count = pd.value_counts(df['Class'], sort = True)\n",
        "classes_count"
      ],
      "execution_count": 12,
      "outputs": [
        {
          "output_type": "execute_result",
          "data": {
            "text/plain": [
              "0    284315\n",
              "1       492\n",
              "Name: Class, dtype: int64"
            ]
          },
          "metadata": {
            "tags": []
          },
          "execution_count": 12
        }
      ]
    },
    {
      "cell_type": "code",
      "metadata": {
        "id": "CvaOYla_57r_",
        "colab_type": "code",
        "outputId": "de3bef1d-46df-4edd-c5f6-5dfbb19ff860",
        "colab": {
          "base_uri": "https://localhost:8080/",
          "height": 168
        }
      },
      "source": [
        "# summary of class 0 (normal transactions)\n",
        "df[df.Class == 0].Amount.describe()"
      ],
      "execution_count": 13,
      "outputs": [
        {
          "output_type": "execute_result",
          "data": {
            "text/plain": [
              "count    284315.000000\n",
              "mean         88.291022\n",
              "std         250.105092\n",
              "min           0.000000\n",
              "25%           5.650000\n",
              "50%          22.000000\n",
              "75%          77.050000\n",
              "max       25691.160000\n",
              "Name: Amount, dtype: float64"
            ]
          },
          "metadata": {
            "tags": []
          },
          "execution_count": 13
        }
      ]
    },
    {
      "cell_type": "code",
      "metadata": {
        "id": "7e01yKxz8R5Y",
        "colab_type": "code",
        "outputId": "680a7b3f-0789-4811-ec58-ff756ea00e85",
        "colab": {
          "base_uri": "https://localhost:8080/",
          "height": 168
        }
      },
      "source": [
        "# summary of class 1 (abnormal transactions)\n",
        "df[df.Class == 1].Amount.describe()"
      ],
      "execution_count": 14,
      "outputs": [
        {
          "output_type": "execute_result",
          "data": {
            "text/plain": [
              "count     492.000000\n",
              "mean      122.211321\n",
              "std       256.683288\n",
              "min         0.000000\n",
              "25%         1.000000\n",
              "50%         9.250000\n",
              "75%       105.890000\n",
              "max      2125.870000\n",
              "Name: Amount, dtype: float64"
            ]
          },
          "metadata": {
            "tags": []
          },
          "execution_count": 14
        }
      ]
    },
    {
      "cell_type": "code",
      "metadata": {
        "id": "Dkf6coQ094cu",
        "colab_type": "code",
        "outputId": "222aa4a6-477b-4023-d543-244fd9af5f30",
        "colab": {
          "base_uri": "https://localhost:8080/",
          "height": 241
        }
      },
      "source": [
        "# Plot amount of normal and abnormal data\n",
        "plt.figure(figsize=(18, 3))\n",
        "\n",
        "plt.subplot(1, 2, 1)\n",
        "plt.title('Frauds')\n",
        "plt.hist(df[df.Class == 1].Amount, bins=50)\n",
        "plt.xlabel('Amount ($)')\n",
        "plt.ylabel('Number of transactions')\n",
        "plt.yscale('log')\n",
        "plt.grid()\n",
        "\n",
        "plt.subplot(1, 2, 2)\n",
        "plt.title('Normal')\n",
        "plt.hist(df[df.Class == 0].Amount, bins=50)\n",
        "plt.xlabel('Amount ($)')\n",
        "plt.ylabel('Number of transactions')\n",
        "plt.yscale('log')\n",
        "plt.grid()\n",
        "\n",
        "plt.show()"
      ],
      "execution_count": 15,
      "outputs": [
        {
          "output_type": "display_data",
          "data": {
            "image/png": "[encoded data removed]",
            "text/plain": [
              "<Figure size 1296x216 with 2 Axes>"
            ]
          },
          "metadata": {
            "tags": [],
            "needs_background": "light"
          }
        }
      ]
    },
    {
      "cell_type": "code",
      "metadata": {
        "id": "2RJCSkvz-PWl",
        "colab_type": "code",
        "outputId": "82027a3d-44fd-452b-a364-c8d24728c28f",
        "colab": {
          "base_uri": "https://localhost:8080/",
          "height": 34
        }
      },
      "source": [
        "# Remove time\n",
        "df = df.drop(['Time'], axis=1)\n",
        "print(df.shape)"
      ],
      "execution_count": 16,
      "outputs": [
        {
          "output_type": "stream",
          "text": [
            "(284807, 30)\n"
          ],
          "name": "stdout"
        }
      ]
    },
    {
      "cell_type": "code",
      "metadata": {
        "id": "_XYgaYhZAs8f",
        "colab_type": "code",
        "outputId": "28840547-7e08-403c-b6d6-4729a8ded0fe",
        "colab": {
          "base_uri": "https://localhost:8080/",
          "height": 50
        }
      },
      "source": [
        "# Extract into matrices values for normal transactions\n",
        "normal = df[df.Class == 0]\n",
        "normal = normal.drop(['Class'], axis=1)\n",
        "normal = normal.values\n",
        "print(normal.shape)\n",
        "\n",
        "# Extract into matrices values for normal transactions\n",
        "frauds = df[df.Class == 1]\n",
        "frauds = frauds.drop(['Class'], axis=1)\n",
        "frauds = frauds.values\n",
        "print(frauds.shape)"
      ],
      "execution_count": 17,
      "outputs": [
        {
          "output_type": "stream",
          "text": [
            "(284315, 29)\n",
            "(492, 29)\n"
          ],
          "name": "stdout"
        }
      ]
    },
    {
      "cell_type": "code",
      "metadata": {
        "id": "nkU39p68W3GZ",
        "colab_type": "code",
        "outputId": "d645999c-8ce5-4d72-a356-7b01bea276a8",
        "colab": {
          "base_uri": "https://localhost:8080/",
          "height": 218
        }
      },
      "source": [
        "# Normalize data\n",
        "scaler = StandardScaler()\n",
        "normal = scaler.fit_transform(normal)\n",
        "frauds = scaler.transform(frauds)\n",
        "\n",
        "# See max and min values, so we can decide on output activations\n",
        "print(normal.min(axis=0))\n",
        "print(normal.max(axis=0))"
      ],
      "execution_count": 18,
      "outputs": [
        {
          "output_type": "stream",
          "text": [
            "[-29.23383553 -44.43954405 -33.1210661   -4.05573252 -83.82683084\n",
            " -19.67269346 -26.9547933  -63.04736881  -5.77875015 -14.1265026\n",
            "  -4.77604318 -16.02201219  -5.8207973  -20.51734046  -4.79911288\n",
            " -11.98281313 -22.82988537  -6.51040776  -8.88513979 -70.83041283\n",
            " -48.59368815 -15.107939   -72.09157992  -4.68293974 -19.77314077\n",
            "  -5.40075462 -56.43521184 -46.81853823  -0.35301631]\n",
            "[  1.26783021  11.55688816   6.42059588  12.06519875  25.6429718\n",
            "  55.11588798 102.28946604  16.11172234  14.31150875  22.73057889\n",
            "   9.97773414   8.28549613   7.16203997  11.72201079   9.70165636\n",
            "  20.48834873  12.33161046   6.10628824   6.89039166  51.23659381\n",
            "  31.55405666  14.5137363   36.24600145   7.56776948  14.44221515\n",
            "   7.29394756  79.06170547 102.70355447 102.36862343]\n"
          ],
          "name": "stdout"
        }
      ]
    },
    {
      "cell_type": "code",
      "metadata": {
        "id": "8F7ftw7IAteI",
        "colab_type": "code",
        "outputId": "230efc04-e103-451e-86fc-f8d1b74040dc",
        "colab": {
          "base_uri": "https://localhost:8080/",
          "height": 50
        }
      },
      "source": [
        "# Split normal data into training and test data\n",
        "x_train, x_test = train_test_split(normal, test_size=0.2)\n",
        "\n",
        "print(x_train.shape)\n",
        "print(x_test.shape)"
      ],
      "execution_count": 19,
      "outputs": [
        {
          "output_type": "stream",
          "text": [
            "(227452, 29)\n",
            "(56863, 29)\n"
          ],
          "name": "stdout"
        }
      ]
    },
    {
      "cell_type": "markdown",
      "metadata": {
        "id": "guS9jBYEGP4c",
        "colab_type": "text"
      },
      "source": [
        "# Part 2: Train a model"
      ]
    },
    {
      "cell_type": "code",
      "metadata": {
        "id": "RxnqQ_r9Eue5",
        "colab_type": "code",
        "colab": {}
      },
      "source": [
        "from tensorflow.keras.models import Model\n",
        "from tensorflow.keras.layers import Input, Dense"
      ],
      "execution_count": 0,
      "outputs": []
    },
    {
      "cell_type": "code",
      "metadata": {
        "id": "YiAMDKSaHHG4",
        "colab_type": "code",
        "outputId": "a6f38d5b-0088-4fb7-d401-e210172fef27",
        "colab": {
          "base_uri": "https://localhost:8080/",
          "height": 386
        }
      },
      "source": [
        "# Create model\n",
        "in_layer = Input(shape=(x_train.shape[1],))\n",
        "\n",
        "encoder = Dense(32, activation='relu')(in_layer)\n",
        "encoder = Dense(24,  activation='relu')(encoder)\n",
        "\n",
        "latent  = Dense(16,  activation='relu')(encoder)\n",
        "\n",
        "decoder = Dense(24, activation='relu')(latent)\n",
        "decoder = Dense(32, activation='relu')(decoder)\n",
        "out_layer = Dense(x_train.shape[1])(decoder)\n",
        "\n",
        "AE = Model(inputs=in_layer, outputs=out_layer)\n",
        "AE.summary()\n",
        "\n",
        "# Compile\n",
        "AE.compile(optimizer='adam', loss='mse', metrics=['accuracy'])\n",
        "\n",
        "# Train it\n",
        "history = AE.fit(x_train, x_train, epochs=30, batch_size=64, validation_split=0.2)"
      ],
      "execution_count": 21,
      "outputs": [
        {
          "output_type": "stream",
          "text": [
            "Model: \"model\"\n",
            "_________________________________________________________________\n",
            "Layer (type)                 Output Shape              Param #   \n",
            "=================================================================\n",
            "input_1 (InputLayer)         [(None, 29)]              0         \n",
            "_________________________________________________________________\n",
            "dense (Dense)                (None, 32)                960       \n",
            "_________________________________________________________________\n",
            "dense_1 (Dense)              (None, 24)                792       \n",
            "_________________________________________________________________\n",
            "dense_2 (Dense)              (None, 16)                400       \n",
            "_________________________________________________________________\n",
            "dense_3 (Dense)              (None, 24)                408       \n",
            "_________________________________________________________________\n",
            "dense_4 (Dense)              (None, 32)                800       \n",
            "_________________________________________________________________\n",
            "dense_5 (Dense)              (None, 29)                957       \n",
            "=================================================================\n",
            "Total params: 4,317\n",
            "Trainable params: 4,317\n",
            "Non-trainable params: 0\n",
            "_________________________________________________________________\n"
          ],
          "name": "stdout"
        }
      ]
    },
    {
      "cell_type": "code",
      "metadata": {
        "id": "l3zGoiFzIblx",
        "colab_type": "code",
        "colab": {}
      },
      "source": [
        "# Compile\n",
        "AE.compile(optimizer='adam', loss='mse', metrics=['accuracy'])"
      ],
      "execution_count": 0,
      "outputs": []
    },
    {
      "cell_type": "code",
      "metadata": {
        "id": "vtxcI2utJFBa",
        "colab_type": "code",
        "outputId": "e4fc5977-dcc8-47f3-e8ee-e5b9466ffbad",
        "colab": {
          "base_uri": "https://localhost:8080/",
          "height": 1000
        }
      },
      "source": [
        "# Train it\n",
        "history = AE.fit(x_train, x_train, epochs=30, batch_size=64, validation_split=0.2)"
      ],
      "execution_count": 23,
      "outputs": [
        {
          "output_type": "stream",
          "text": [
            "Epoch 1/30\n",
            "2844/2844 [==============================] - 9s 3ms/step - loss: 0.4558 - accuracy: 0.4331 - val_loss: 0.2580 - val_accuracy: 0.5910\n",
            "Epoch 2/30\n",
            "2844/2844 [==============================] - 9s 3ms/step - loss: 0.2117 - accuracy: 0.6329 - val_loss: 0.1830 - val_accuracy: 0.6538\n",
            "Epoch 3/30\n",
            "2844/2844 [==============================] - 9s 3ms/step - loss: 0.1710 - accuracy: 0.6681 - val_loss: 0.1641 - val_accuracy: 0.6733\n",
            "Epoch 4/30\n",
            "2844/2844 [==============================] - 9s 3ms/step - loss: 0.1492 - accuracy: 0.6895 - val_loss: 0.1361 - val_accuracy: 0.7052\n",
            "Epoch 5/30\n",
            "2844/2844 [==============================] - 9s 3ms/step - loss: 0.1295 - accuracy: 0.7190 - val_loss: 0.1133 - val_accuracy: 0.7429\n",
            "Epoch 6/30\n",
            "2844/2844 [==============================] - 8s 3ms/step - loss: 0.1112 - accuracy: 0.7370 - val_loss: 0.1158 - val_accuracy: 0.7123\n",
            "Epoch 7/30\n",
            "2844/2844 [==============================] - 9s 3ms/step - loss: 0.1024 - accuracy: 0.7433 - val_loss: 0.0945 - val_accuracy: 0.7500\n",
            "Epoch 8/30\n",
            "2844/2844 [==============================] - 8s 3ms/step - loss: 0.0947 - accuracy: 0.7477 - val_loss: 0.0878 - val_accuracy: 0.7538\n",
            "Epoch 9/30\n",
            "2844/2844 [==============================] - 9s 3ms/step - loss: 0.0903 - accuracy: 0.7493 - val_loss: 0.0845 - val_accuracy: 0.7623\n",
            "Epoch 10/30\n",
            "2844/2844 [==============================] - 9s 3ms/step - loss: 0.0859 - accuracy: 0.7515 - val_loss: 0.0805 - val_accuracy: 0.7590\n",
            "Epoch 11/30\n",
            "2844/2844 [==============================] - 9s 3ms/step - loss: 0.0841 - accuracy: 0.7525 - val_loss: 0.0815 - val_accuracy: 0.7556\n",
            "Epoch 12/30\n",
            "2844/2844 [==============================] - 9s 3ms/step - loss: 0.0979 - accuracy: 0.7239 - val_loss: 0.1203 - val_accuracy: 0.6656\n",
            "Epoch 13/30\n",
            "2844/2844 [==============================] - 9s 3ms/step - loss: 0.1157 - accuracy: 0.6742 - val_loss: 0.1100 - val_accuracy: 0.6824\n",
            "Epoch 14/30\n",
            "2844/2844 [==============================] - 9s 3ms/step - loss: 0.1147 - accuracy: 0.6795 - val_loss: 0.1090 - val_accuracy: 0.6908\n",
            "Epoch 15/30\n",
            "2844/2844 [==============================] - 9s 3ms/step - loss: 0.1112 - accuracy: 0.6854 - val_loss: 0.1086 - val_accuracy: 0.6909\n",
            "Epoch 16/30\n",
            "2844/2844 [==============================] - 9s 3ms/step - loss: 0.1102 - accuracy: 0.6909 - val_loss: 0.1112 - val_accuracy: 0.6930\n",
            "Epoch 17/30\n",
            "2844/2844 [==============================] - 9s 3ms/step - loss: 0.1092 - accuracy: 0.6967 - val_loss: 0.1057 - val_accuracy: 0.7050\n",
            "Epoch 18/30\n",
            "2844/2844 [==============================] - 9s 3ms/step - loss: 0.1081 - accuracy: 0.7016 - val_loss: 0.1087 - val_accuracy: 0.7115\n",
            "Epoch 19/30\n",
            "2844/2844 [==============================] - 9s 3ms/step - loss: 0.1075 - accuracy: 0.7031 - val_loss: 0.1073 - val_accuracy: 0.7019\n",
            "Epoch 20/30\n",
            "2844/2844 [==============================] - 9s 3ms/step - loss: 0.1073 - accuracy: 0.7037 - val_loss: 0.1041 - val_accuracy: 0.7131\n",
            "Epoch 21/30\n",
            "2844/2844 [==============================] - 9s 3ms/step - loss: 0.1067 - accuracy: 0.7041 - val_loss: 0.1116 - val_accuracy: 0.6965\n",
            "Epoch 22/30\n",
            "2844/2844 [==============================] - 9s 3ms/step - loss: 0.1074 - accuracy: 0.7027 - val_loss: 0.1041 - val_accuracy: 0.7068\n",
            "Epoch 23/30\n",
            "2844/2844 [==============================] - 9s 3ms/step - loss: 0.1075 - accuracy: 0.7041 - val_loss: 0.1055 - val_accuracy: 0.7100\n",
            "Epoch 24/30\n",
            "2844/2844 [==============================] - 9s 3ms/step - loss: 0.1047 - accuracy: 0.7080 - val_loss: 0.1524 - val_accuracy: 0.6209\n",
            "Epoch 25/30\n",
            "2844/2844 [==============================] - 9s 3ms/step - loss: 0.1061 - accuracy: 0.7065 - val_loss: 0.0989 - val_accuracy: 0.7119\n",
            "Epoch 26/30\n",
            "2844/2844 [==============================] - 9s 3ms/step - loss: 0.1011 - accuracy: 0.7095 - val_loss: 0.0922 - val_accuracy: 0.7121\n",
            "Epoch 27/30\n",
            "2844/2844 [==============================] - 9s 3ms/step - loss: 0.0855 - accuracy: 0.7497 - val_loss: 0.0827 - val_accuracy: 0.7581\n",
            "Epoch 28/30\n",
            "2844/2844 [==============================] - 9s 3ms/step - loss: 0.0802 - accuracy: 0.7614 - val_loss: 0.0761 - val_accuracy: 0.7722\n",
            "Epoch 29/30\n",
            "2844/2844 [==============================] - 9s 3ms/step - loss: 0.0780 - accuracy: 0.7654 - val_loss: 0.0731 - val_accuracy: 0.7743\n",
            "Epoch 30/30\n",
            "2844/2844 [==============================] - 9s 3ms/step - loss: 0.0768 - accuracy: 0.7693 - val_loss: 0.0822 - val_accuracy: 0.7481\n"
          ],
          "name": "stdout"
        }
      ]
    },
    {
      "cell_type": "code",
      "metadata": {
        "id": "1zqtSfGYJQT3",
        "colab_type": "code",
        "outputId": "2429d5d3-3c68-4243-c532-4793b9f24608",
        "colab": {
          "base_uri": "https://localhost:8080/",
          "height": 295
        }
      },
      "source": [
        "# Plot loss\n",
        "plt.figure(figsize=(18, 4))\n",
        "\n",
        "plt.subplot(1, 2, 1)\n",
        "plt.title('Loss')\n",
        "plt.plot(history.history['loss'], label='Training', linewidth=2)\n",
        "plt.plot(history.history['val_loss'], label='Validation', linewidth=2)\n",
        "plt.legend()\n",
        "plt.xlabel('Epoch')\n",
        "plt.ylabel('Loss')\n",
        "plt.grid(True)\n",
        "\n",
        "plt.subplot(1, 2, 2)\n",
        "plt.title('Accuracy')\n",
        "plt.plot(history.history['accuracy'], label='Training', linewidth=2)\n",
        "plt.plot(history.history['val_accuracy'], label='Validation', linewidth=2)\n",
        "plt.legend()\n",
        "plt.xlabel('Epoch')\n",
        "plt.ylabel('Accuracy')\n",
        "plt.grid(True)\n",
        "\n",
        "plt.show()"
      ],
      "execution_count": 24,
      "outputs": [
        {
          "output_type": "display_data",
          "data": {
            "image/png": "[encoded data removed]",
            "text/plain": [
              "<Figure size 1296x288 with 2 Axes>"
            ]
          },
          "metadata": {
            "tags": [],
            "needs_background": "light"
          }
        }
      ]
    },
    {
      "cell_type": "code",
      "metadata": {
        "id": "3tnm7OosKlnj",
        "colab_type": "code",
        "outputId": "1156b588-175c-442b-bcbd-df7d53029ed2",
        "colab": {
          "base_uri": "https://localhost:8080/",
          "height": 84
        }
      },
      "source": [
        "# Predict reconstruction error on training data\n",
        "x_train_hat = AE.predict(x_train)\n",
        "mse_train = np.mean(np.power(x_train - x_train_hat, 2), axis=1)\n",
        "\n",
        "print(f\"Min : {mse_train.min():0.6f}\")\n",
        "print(f\"Mean: {mse_train.mean():0.4f}\")\n",
        "print(f\"Stdd: {mse_train.std():0.2f}\")\n",
        "print(f\"Max : {mse_train.max():0.2f}\")"
      ],
      "execution_count": 25,
      "outputs": [
        {
          "output_type": "stream",
          "text": [
            "Min : 0.001140\n",
            "Mean: 0.0821\n",
            "Stdd: 0.19\n",
            "Max : 23.48\n"
          ],
          "name": "stdout"
        }
      ]
    },
    {
      "cell_type": "code",
      "metadata": {
        "id": "7lOpgZCtLfKi",
        "colab_type": "code",
        "outputId": "db03ed2e-e03f-4865-af1b-4b49f0fd19ba",
        "colab": {
          "base_uri": "https://localhost:8080/",
          "height": 84
        }
      },
      "source": [
        "# Predict reconstruction error on test data\n",
        "x_test_hat = AE.predict(x_test)\n",
        "mse_test = np.mean(np.power(x_test - x_test_hat, 2), axis=1)\n",
        "\n",
        "print(f\"Min : {mse_test.min():0.6f}\")\n",
        "print(f\"Mean: {mse_test.mean():0.4f}\")\n",
        "print(f\"Stdd: {mse_test.std():0.2f}\")\n",
        "print(f\"Max : {mse_test.max():0.2f}\")"
      ],
      "execution_count": 26,
      "outputs": [
        {
          "output_type": "stream",
          "text": [
            "Min : 0.001317\n",
            "Mean: 0.0837\n",
            "Stdd: 0.26\n",
            "Max : 44.56\n"
          ],
          "name": "stdout"
        }
      ]
    },
    {
      "cell_type": "code",
      "metadata": {
        "id": "XKooTgGNiJ7G",
        "colab_type": "code",
        "outputId": "81f3b59c-ad67-4951-a2b0-8f9537528e4d",
        "colab": {
          "base_uri": "https://localhost:8080/",
          "height": 84
        }
      },
      "source": [
        "# Predict reconstruction error on abnormal data\n",
        "frauds_hat = AE.predict(frauds)\n",
        "mse_frauds = np.mean(np.power(frauds - frauds_hat, 2), axis=1)\n",
        "\n",
        "print(f\"Min : {mse_frauds.min():0.6f}\")\n",
        "print(f\"Mean: {mse_frauds.mean():0.4f}\")\n",
        "print(f\"Stdd: {mse_frauds.std():0.2f}\")\n",
        "print(f\"Max : {mse_frauds.max():0.2f}\")"
      ],
      "execution_count": 27,
      "outputs": [
        {
          "output_type": "stream",
          "text": [
            "Min : 0.003452\n",
            "Mean: 6.1836\n",
            "Stdd: 14.78\n",
            "Max : 128.11\n"
          ],
          "name": "stdout"
        }
      ]
    },
    {
      "cell_type": "code",
      "metadata": {
        "id": "pXRQD9gmLgJ7",
        "colab_type": "code",
        "outputId": "e8e3e0c4-14bc-4937-b1de-df9ec0c9afcb",
        "colab": {
          "base_uri": "https://localhost:8080/",
          "height": 241
        }
      },
      "source": [
        "# Plot distribution of reconstruction errors\n",
        "plt.figure(figsize=(18, 3))\n",
        "\n",
        "plt.subplot(1, 2, 1)\n",
        "plt.title('Frauds')\n",
        "plt.hist(mse_frauds, bins=20)\n",
        "plt.xlabel('mse bins')\n",
        "plt.ylabel('frequency')\n",
        "plt.grid()\n",
        "\n",
        "plt.subplot(1, 2, 2)\n",
        "plt.title('Normal')\n",
        "plt.hist(mse_train, bins=20)\n",
        "plt.xlabel('mse bins')\n",
        "plt.ylabel('frequency')\n",
        "plt.grid()\n",
        "\n",
        "plt.show()"
      ],
      "execution_count": 28,
      "outputs": [
        {
          "output_type": "display_data",
          "data": {
            "image/png": "[encoded data removed]",
            "text/plain": [
              "<Figure size 1296x216 with 2 Axes>"
            ]
          },
          "metadata": {
            "tags": [],
            "needs_background": "light"
          }
        }
      ]
    },
    {
      "cell_type": "markdown",
      "metadata": {
        "id": "l-RdU9DBkae-",
        "colab_type": "text"
      },
      "source": [
        "# Part 3: Latent space"
      ]
    },
    {
      "cell_type": "code",
      "metadata": {
        "id": "ADI8gVG3jACP",
        "colab_type": "code",
        "outputId": "b0879548-028c-4517-bf30-fb8fb9e65cfe",
        "colab": {
          "base_uri": "https://localhost:8080/",
          "height": 286
        }
      },
      "source": [
        "# Create a submodel using only the encoder part of previous model (output must be latent layer)\n",
        "encoder_model = Model(inputs=in_layer, outputs=latent)\n",
        "encoder_model.summary()"
      ],
      "execution_count": 29,
      "outputs": [
        {
          "output_type": "stream",
          "text": [
            "Model: \"model_1\"\n",
            "_________________________________________________________________\n",
            "Layer (type)                 Output Shape              Param #   \n",
            "=================================================================\n",
            "input_1 (InputLayer)         [(None, 29)]              0         \n",
            "_________________________________________________________________\n",
            "dense (Dense)                (None, 32)                960       \n",
            "_________________________________________________________________\n",
            "dense_1 (Dense)              (None, 24)                792       \n",
            "_________________________________________________________________\n",
            "dense_2 (Dense)              (None, 16)                400       \n",
            "=================================================================\n",
            "Total params: 2,152\n",
            "Trainable params: 2,152\n",
            "Non-trainable params: 0\n",
            "_________________________________________________________________\n"
          ],
          "name": "stdout"
        }
      ]
    },
    {
      "cell_type": "code",
      "metadata": {
        "id": "gN_J8uzYjMpR",
        "colab_type": "code",
        "outputId": "4974b993-a3a3-4f62-a7ea-c771485c0b61",
        "colab": {
          "base_uri": "https://localhost:8080/",
          "height": 50
        }
      },
      "source": [
        "# Predict a latent representation for the test set and the frauds set\n",
        "latent_normal = encoder_model.predict(x_test)\n",
        "latent_frauds = encoder_model.predict(frauds)\n",
        "\n",
        "print(latent_normal.shape)\n",
        "print(latent_frauds.shape)"
      ],
      "execution_count": 30,
      "outputs": [
        {
          "output_type": "stream",
          "text": [
            "(56863, 16)\n",
            "(492, 16)\n"
          ],
          "name": "stdout"
        }
      ]
    },
    {
      "cell_type": "code",
      "metadata": {
        "id": "9wk0R2I2jbVj",
        "colab_type": "code",
        "outputId": "3905ccba-e695-428e-e75e-76f249731f7d",
        "colab": {
          "base_uri": "https://localhost:8080/",
          "height": 241
        }
      },
      "source": [
        "# Plot distribution of latent space\n",
        "plt.figure(figsize=(16, 3))\n",
        "plt.subplot(1, 2, 1)\n",
        "plt.title('Normal')\n",
        "plt.boxplot(latent_normal)\n",
        "plt.xlabel('Latent space variables')\n",
        "plt.ylabel('Values distribution')\n",
        "plt.grid()\n",
        "plt.subplot(1, 2, 2)\n",
        "plt.title('Frauds')\n",
        "plt.boxplot(latent_frauds)\n",
        "plt.xlabel('Latent space variables')\n",
        "plt.ylabel('Values distribution')\n",
        "plt.grid()\n",
        "plt.show()"
      ],
      "execution_count": 31,
      "outputs": [
        {
          "output_type": "display_data",
          "data": {
            "image/png": "[encoded data removed]",
            "text/plain": [
              "<Figure size 1152x216 with 2 Axes>"
            ]
          },
          "metadata": {
            "tags": [],
            "needs_background": "light"
          }
        }
      ]
    },
    {
      "cell_type": "code",
      "metadata": {
        "id": "YzzZgJI34cyR",
        "colab_type": "code",
        "colab": {
          "base_uri": "https://localhost:8080/",
          "height": 1000
        },
        "outputId": "be1faf43-b94f-4a3a-9c4e-a64ee07b38b3"
      },
      "source": [
        "# Create model\n",
        "in_layer = Input(shape=(x_train.shape[1],))\n",
        "\n",
        "encoder = Dense(32, activation='relu')(in_layer)\n",
        "encoder = Dense(128,  activation='relu')(encoder)\n",
        "encoder = Dense(32,  activation='relu')(encoder)\n",
        "encoder = Dense(24,  activation='relu')(encoder)\n",
        "\n",
        "latent  = Dense(16,  activation='relu')(encoder)\n",
        "\n",
        "decoder = Dense(16,  activation='relu')(latent)\n",
        "decoder = Dense(24, activation='relu')(decoder)\n",
        "decoder = Dense(24, activation='relu')(decoder)\n",
        "decoder = Dense(32, activation='relu')(decoder)\n",
        "out_layer = Dense(x_train.shape[1])(decoder)\n",
        "\n",
        "AE = Model(inputs=in_layer, outputs=out_layer)\n",
        "AE.summary()\n",
        "\n",
        "# Compile\n",
        "AE.compile(optimizer='adam', loss='mse', metrics=['accuracy'])\n",
        "\n",
        "# Train it\n",
        "history = AE.fit(x_train, x_train, epochs=30, batch_size=64, validation_split=0.2)"
      ],
      "execution_count": 36,
      "outputs": [
        {
          "output_type": "stream",
          "text": [
            "Model: \"model_4\"\n",
            "_________________________________________________________________\n",
            "Layer (type)                 Output Shape              Param #   \n",
            "=================================================================\n",
            "input_3 (InputLayer)         [(None, 29)]              0         \n",
            "_________________________________________________________________\n",
            "dense_16 (Dense)             (None, 32)                960       \n",
            "_________________________________________________________________\n",
            "dense_17 (Dense)             (None, 128)               4224      \n",
            "_________________________________________________________________\n",
            "dense_18 (Dense)             (None, 32)                4128      \n",
            "_________________________________________________________________\n",
            "dense_19 (Dense)             (None, 24)                792       \n",
            "_________________________________________________________________\n",
            "dense_20 (Dense)             (None, 16)                400       \n",
            "_________________________________________________________________\n",
            "dense_21 (Dense)             (None, 16)                272       \n",
            "_________________________________________________________________\n",
            "dense_22 (Dense)             (None, 24)                408       \n",
            "_________________________________________________________________\n",
            "dense_23 (Dense)             (None, 24)                600       \n",
            "_________________________________________________________________\n",
            "dense_24 (Dense)             (None, 32)                800       \n",
            "_________________________________________________________________\n",
            "dense_25 (Dense)             (None, 29)                957       \n",
            "=================================================================\n",
            "Total params: 13,541\n",
            "Trainable params: 13,541\n",
            "Non-trainable params: 0\n",
            "_________________________________________________________________\n",
            "Epoch 1/30\n",
            "2844/2844 [==============================] - 10s 4ms/step - loss: 0.5427 - accuracy: 0.3535 - val_loss: 0.3802 - val_accuracy: 0.4671\n",
            "Epoch 2/30\n",
            "2844/2844 [==============================] - 10s 3ms/step - loss: 0.3213 - accuracy: 0.4997 - val_loss: 0.2784 - val_accuracy: 0.5356\n",
            "Epoch 3/30\n",
            "2844/2844 [==============================] - 10s 3ms/step - loss: 0.2611 - accuracy: 0.5553 - val_loss: 0.2559 - val_accuracy: 0.5670\n",
            "Epoch 4/30\n",
            "2844/2844 [==============================] - 10s 3ms/step - loss: 0.2216 - accuracy: 0.6031 - val_loss: 0.2083 - val_accuracy: 0.6314\n",
            "Epoch 5/30\n",
            "2844/2844 [==============================] - 9s 3ms/step - loss: 0.1927 - accuracy: 0.6371 - val_loss: 0.1886 - val_accuracy: 0.6348\n",
            "Epoch 6/30\n",
            "2844/2844 [==============================] - 10s 3ms/step - loss: 0.1774 - accuracy: 0.6561 - val_loss: 0.1692 - val_accuracy: 0.6551\n",
            "Epoch 7/30\n",
            "2844/2844 [==============================] - 10s 3ms/step - loss: 0.1597 - accuracy: 0.6775 - val_loss: 0.1484 - val_accuracy: 0.6953\n",
            "Epoch 8/30\n",
            "2844/2844 [==============================] - 10s 3ms/step - loss: 0.1423 - accuracy: 0.7023 - val_loss: 0.1324 - val_accuracy: 0.7235\n",
            "Epoch 9/30\n",
            "2844/2844 [==============================] - 10s 3ms/step - loss: 0.1268 - accuracy: 0.7310 - val_loss: 0.1424 - val_accuracy: 0.7273\n",
            "Epoch 10/30\n",
            "2844/2844 [==============================] - 10s 3ms/step - loss: 0.1212 - accuracy: 0.7406 - val_loss: 0.1169 - val_accuracy: 0.7314\n",
            "Epoch 11/30\n",
            "2844/2844 [==============================] - 10s 3ms/step - loss: 0.1129 - accuracy: 0.7475 - val_loss: 0.1108 - val_accuracy: 0.7432\n",
            "Epoch 12/30\n",
            "2844/2844 [==============================] - 10s 4ms/step - loss: 0.1081 - accuracy: 0.7516 - val_loss: 0.1103 - val_accuracy: 0.7527\n",
            "Epoch 13/30\n",
            "2844/2844 [==============================] - 10s 3ms/step - loss: 0.1017 - accuracy: 0.7592 - val_loss: 0.0952 - val_accuracy: 0.7622\n",
            "Epoch 14/30\n",
            "2844/2844 [==============================] - 10s 3ms/step - loss: 0.0957 - accuracy: 0.7670 - val_loss: 0.0943 - val_accuracy: 0.7671\n",
            "Epoch 15/30\n",
            "2844/2844 [==============================] - 10s 4ms/step - loss: 0.0911 - accuracy: 0.7751 - val_loss: 0.0860 - val_accuracy: 0.7813\n",
            "Epoch 16/30\n",
            "2844/2844 [==============================] - 10s 4ms/step - loss: 0.0848 - accuracy: 0.7855 - val_loss: 0.0750 - val_accuracy: 0.8077\n",
            "Epoch 17/30\n",
            "2844/2844 [==============================] - 10s 3ms/step - loss: 0.0797 - accuracy: 0.7973 - val_loss: 0.0714 - val_accuracy: 0.8085\n",
            "Epoch 18/30\n",
            "2844/2844 [==============================] - 10s 3ms/step - loss: 0.0761 - accuracy: 0.8037 - val_loss: 0.0683 - val_accuracy: 0.8158\n",
            "Epoch 19/30\n",
            "2844/2844 [==============================] - 10s 4ms/step - loss: 0.0737 - accuracy: 0.8092 - val_loss: 0.0658 - val_accuracy: 0.8283\n",
            "Epoch 20/30\n",
            "2844/2844 [==============================] - 10s 4ms/step - loss: 0.0708 - accuracy: 0.8146 - val_loss: 0.0654 - val_accuracy: 0.8199\n",
            "Epoch 21/30\n",
            "2844/2844 [==============================] - 10s 4ms/step - loss: 0.0698 - accuracy: 0.8169 - val_loss: 0.0648 - val_accuracy: 0.8288\n",
            "Epoch 22/30\n",
            "2844/2844 [==============================] - 10s 4ms/step - loss: 0.0671 - accuracy: 0.8186 - val_loss: 0.0629 - val_accuracy: 0.8246\n",
            "Epoch 23/30\n",
            "2844/2844 [==============================] - 10s 4ms/step - loss: 0.0669 - accuracy: 0.8201 - val_loss: 0.0646 - val_accuracy: 0.8167\n",
            "Epoch 24/30\n",
            "2844/2844 [==============================] - 10s 3ms/step - loss: 0.0661 - accuracy: 0.8220 - val_loss: 0.0592 - val_accuracy: 0.8352\n",
            "Epoch 25/30\n",
            "2844/2844 [==============================] - 10s 3ms/step - loss: 0.0635 - accuracy: 0.8254 - val_loss: 0.0636 - val_accuracy: 0.8151\n",
            "Epoch 26/30\n",
            "2844/2844 [==============================] - 10s 4ms/step - loss: 0.0630 - accuracy: 0.8267 - val_loss: 0.0584 - val_accuracy: 0.8385\n",
            "Epoch 27/30\n",
            "2844/2844 [==============================] - 12s 4ms/step - loss: 0.0620 - accuracy: 0.8285 - val_loss: 0.0698 - val_accuracy: 0.8092\n",
            "Epoch 28/30\n",
            "2844/2844 [==============================] - 11s 4ms/step - loss: 0.0619 - accuracy: 0.8289 - val_loss: 0.0626 - val_accuracy: 0.8211\n",
            "Epoch 29/30\n",
            "2844/2844 [==============================] - 10s 4ms/step - loss: 0.0621 - accuracy: 0.8294 - val_loss: 0.0560 - val_accuracy: 0.8414\n",
            "Epoch 30/30\n",
            "2844/2844 [==============================] - 10s 4ms/step - loss: 0.0588 - accuracy: 0.8327 - val_loss: 0.0593 - val_accuracy: 0.8280\n"
          ],
          "name": "stdout"
        }
      ]
    },
    {
      "cell_type": "code",
      "metadata": {
        "id": "K3xoQeXU5IdJ",
        "colab_type": "code",
        "colab": {
          "base_uri": "https://localhost:8080/",
          "height": 353
        },
        "outputId": "11223f1b-e9f4-40b2-83f5-c7a8e13fc380"
      },
      "source": [
        "# Create a submodel using only the encoder part of previous model (output must be latent layer)\n",
        "encoder_model = Model(inputs=in_layer, outputs=latent)\n",
        "encoder_model.summary()"
      ],
      "execution_count": 37,
      "outputs": [
        {
          "output_type": "stream",
          "text": [
            "Model: \"model_5\"\n",
            "_________________________________________________________________\n",
            "Layer (type)                 Output Shape              Param #   \n",
            "=================================================================\n",
            "input_3 (InputLayer)         [(None, 29)]              0         \n",
            "_________________________________________________________________\n",
            "dense_16 (Dense)             (None, 32)                960       \n",
            "_________________________________________________________________\n",
            "dense_17 (Dense)             (None, 128)               4224      \n",
            "_________________________________________________________________\n",
            "dense_18 (Dense)             (None, 32)                4128      \n",
            "_________________________________________________________________\n",
            "dense_19 (Dense)             (None, 24)                792       \n",
            "_________________________________________________________________\n",
            "dense_20 (Dense)             (None, 16)                400       \n",
            "=================================================================\n",
            "Total params: 10,504\n",
            "Trainable params: 10,504\n",
            "Non-trainable params: 0\n",
            "_________________________________________________________________\n"
          ],
          "name": "stdout"
        }
      ]
    },
    {
      "cell_type": "code",
      "metadata": {
        "id": "igEmMngq5I25",
        "colab_type": "code",
        "colab": {
          "base_uri": "https://localhost:8080/",
          "height": 50
        },
        "outputId": "ddc08de5-31ff-4e6a-ffa7-999bf16c6d14"
      },
      "source": [
        "# Predict a latent representation for the test set and the frauds set\n",
        "latent_normal = encoder_model.predict(x_test)\n",
        "latent_frauds = encoder_model.predict(frauds)\n",
        "\n",
        "print(latent_normal.shape)\n",
        "print(latent_frauds.shape)"
      ],
      "execution_count": 38,
      "outputs": [
        {
          "output_type": "stream",
          "text": [
            "(56863, 16)\n",
            "(492, 16)\n"
          ],
          "name": "stdout"
        }
      ]
    },
    {
      "cell_type": "code",
      "metadata": {
        "id": "0HMMyESG5S3Y",
        "colab_type": "code",
        "colab": {
          "base_uri": "https://localhost:8080/",
          "height": 241
        },
        "outputId": "c4bed47e-c12e-4ebc-a60e-0f9b4534c8df"
      },
      "source": [
        "# Plot distribution of latent space\n",
        "plt.figure(figsize=(16, 3))\n",
        "plt.subplot(1, 2, 1)\n",
        "plt.title('Normal')\n",
        "plt.boxplot(latent_normal)\n",
        "plt.xlabel('Latent space variables')\n",
        "plt.ylabel('Values distribution')\n",
        "plt.grid()\n",
        "plt.subplot(1, 2, 2)\n",
        "plt.title('Frauds')\n",
        "plt.boxplot(latent_frauds)\n",
        "plt.xlabel('Latent space variables')\n",
        "plt.ylabel('Values distribution')\n",
        "plt.grid()\n",
        "plt.show()"
      ],
      "execution_count": 39,
      "outputs": [
        {
          "output_type": "display_data",
          "data": {
            "image/png": "[encoded data removed]",
            "text/plain": [
              "<Figure size 1152x216 with 2 Axes>"
            ]
          },
          "metadata": {
            "tags": [],
            "needs_background": "light"
          }
        }
      ]
    },
    {
      "cell_type": "code",
      "metadata": {
        "id": "qUcHqKUUjcOm",
        "colab_type": "code",
        "colab": {}
      },
      "source": [
        "# == Q ==\n",
        "# 1. Diseña un AE que obtenga pérdida menor o igual 0.01 tanto en entrenamiento como validación.\n",
        "#    Reporta tu arquitectura.\n",
        "# 2. ¿Existe alguna relación entre la profundidad del AE y la pérdida final?\n",
        "# 3. ¿Existe alguna relación entre la profundidad del AE y la separación resultante\n",
        "#    entre los espacios latentes de los datos normales y anormales?\n",
        "# 4. ¿Existe alguna relación entre el número elementos en el espacio latente y la pérdida final?\n",
        "# 5. ¿Existe alguna relación entre el número elementos en el espacio latente y la separación resultante\n",
        "#    entre los espacios latentes de los datos normales y anormales?\n",
        "# 6. Intenta forzar el espacio latente para que sea ralo. Reporta tu mejor modelo y \n",
        "#    el desempeño que obtenga, tanto en pérdida como en capacidad de diferenciar datos anormales."
      ],
      "execution_count": 0,
      "outputs": []
    }
  ]
}
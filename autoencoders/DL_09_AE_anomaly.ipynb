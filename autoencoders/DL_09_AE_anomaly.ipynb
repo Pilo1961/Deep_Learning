{
  "nbformat": 4,
  "nbformat_minor": 0,
  "metadata": {
    "colab": {
      "name": "DL_09_AE_anomaly.ipynb",
      "provenance": [],
      "collapsed_sections": [],
      "include_colab_link": true
    },
    "kernelspec": {
      "name": "python3",
      "display_name": "Python 3"
    },
    "accelerator": "GPU"
  },
  "cells": [
    {
      "cell_type": "markdown",
      "metadata": {
        "id": "view-in-github",
        "colab_type": "text"
      },
      "source": [
        "<a href=\"https://colab.research.google.com/github/Pilo1961/Deep_Learning/blob/master/autoencoders/DL_09_AE_anomaly.ipynb\" target=\"_parent\"><img src=\"https://colab.research.google.com/assets/colab-badge.svg\" alt=\"Open In Colab\"/></a>"
      ]
    },
    {
      "cell_type": "code",
      "metadata": {
        "id": "jolv41Yx2ri8",
        "colab_type": "code",
        "colab": {}
      },
      "source": [
        "import numpy as np\n",
        "import matplotlib.pyplot as plt\n",
        "import pandas as pd\n",
        "from sklearn.preprocessing import StandardScaler\n",
        "from sklearn.model_selection import train_test_split"
      ],
      "execution_count": 0,
      "outputs": []
    },
    {
      "cell_type": "code",
      "metadata": {
        "id": "00VizCbu3074",
        "colab_type": "code",
        "colab": {}
      },
      "source": [
        "# GOALS:\n",
        "# - Train ourselves on unsupervised deep learning.\n",
        "# - Train ourselves on the use of autoencoders (AE).\n",
        "# - Use an AE to estimate latent representations of some numeric data.\n",
        "# - Use those latent representations to detect anomalies (abnormal data)."
      ],
      "execution_count": 0,
      "outputs": []
    },
    {
      "cell_type": "code",
      "metadata": {
        "id": "sNnrnlAm6fp-",
        "colab_type": "code",
        "colab": {}
      },
      "source": [
        "# Data set: https://www.kaggle.com/mlg-ulb/creditcardfraud\n",
        "# https://www.kaggle.com/mlg-ulb/creditcardfraud/download\n",
        "#\n",
        "# The datasets contains transactions made by credit cards in September 2013 by european cardholders.\n",
        "# This dataset presents transactions that occurred in two days, where we have 492 frauds out of 284,807 transactions.\n",
        "# The dataset is highly unbalanced, the positive class (frauds) account for 0.172% of all transactions.\n",
        "#\n",
        "# It contains only numerical input variables which are the result of a PCA transformation (privacy reasons).\n",
        "# Features V1, V2, … V28 are the principal components obtained with PCA, the only features which have not been transformed with PCA are\n",
        "# 'Time' and 'Amount'. Feature 'Time' contains the seconds elapsed between each transaction and the first transaction in the dataset.\n",
        "# The feature 'Amount' is the transaction Amount. Feature 'Class' is the response variable and it takes value 1 in case of fraud\n",
        "# and 0 otherwise."
      ],
      "execution_count": 0,
      "outputs": []
    },
    {
      "cell_type": "markdown",
      "metadata": {
        "id": "sUfvYquT7i74",
        "colab_type": "text"
      },
      "source": [
        "# Part 1: Load data"
      ]
    },
    {
      "cell_type": "code",
      "metadata": {
        "id": "w0T8Z5_O3mV7",
        "colab_type": "code",
        "outputId": "f064fdf3-b282-48d6-d673-1e54f4bc1b6f",
        "colab": {
          "base_uri": "https://localhost:8080/",
          "height": 52
        }
      },
      "source": [
        "# Load data\n",
        "df = pd.read_csv(\"creditcard.csv\")\n",
        "print(df.shape)\n",
        "\n"
      ],
      "execution_count": 0,
      "outputs": [
        {
          "output_type": "stream",
          "text": [
            "(284807, 31)\n"
          ],
          "name": "stdout"
        },
        {
          "output_type": "execute_result",
          "data": {
            "text/plain": [
              "False"
            ]
          },
          "metadata": {
            "tags": []
          },
          "execution_count": 4
        }
      ]
    },
    {
      "cell_type": "code",
      "metadata": {
        "id": "pBpVLYem1opn",
        "colab_type": "code",
        "colab": {
          "base_uri": "https://localhost:8080/",
          "height": 34
        },
        "outputId": "2e843c2b-15b8-4531-888f-e9e0f72119f4"
      },
      "source": [
        "#load data from google drive\n",
        "from google.colab import drive\n",
        "drive.mount('/content/drive')\n",
        "path= \"/content/drive/My Drive/data/creditcard.csv\"\n",
        "df=pd.read_csv(path)"
      ],
      "execution_count": 72,
      "outputs": [
        {
          "output_type": "stream",
          "text": [
            "Drive already mounted at /content/drive; to attempt to forcibly remount, call drive.mount(\"/content/drive\", force_remount=True).\n"
          ],
          "name": "stdout"
        }
      ]
    },
    {
      "cell_type": "code",
      "metadata": {
        "id": "wcJRKlw22r4c",
        "colab_type": "code",
        "colab": {
          "base_uri": "https://localhost:8080/",
          "height": 34
        },
        "outputId": "ea8c02ed-a441-4429-f2fa-64b7fc74f612"
      },
      "source": [
        "# Remueve entries with nan values\n",
        "df.dropna(inplace=True)\n",
        "df.isnull().values.any()"
      ],
      "execution_count": 73,
      "outputs": [
        {
          "output_type": "execute_result",
          "data": {
            "text/plain": [
              "False"
            ]
          },
          "metadata": {
            "tags": []
          },
          "execution_count": 73
        }
      ]
    },
    {
      "cell_type": "code",
      "metadata": {
        "id": "uLPwMzKF39We",
        "colab_type": "code",
        "outputId": "4fb5fc39-4a46-41c8-dcd7-3a8de0d7af67",
        "colab": {
          "base_uri": "https://localhost:8080/",
          "height": 422
        }
      },
      "source": [
        "# Show a summary\n",
        "df"
      ],
      "execution_count": 75,
      "outputs": [
        {
          "output_type": "execute_result",
          "data": {
            "text/html": [
              "<div>\n",
              "<style scoped>\n",
              "    .dataframe tbody tr th:only-of-type {\n",
              "        vertical-align: middle;\n",
              "    }\n",
              "\n",
              "    .dataframe tbody tr th {\n",
              "        vertical-align: top;\n",
              "    }\n",
              "\n",
              "    .dataframe thead th {\n",
              "        text-align: right;\n",
              "    }\n",
              "</style>\n",
              "<table border=\"1\" class=\"dataframe\">\n",
              "  <thead>\n",
              "    <tr style=\"text-align: right;\">\n",
              "      <th></th>\n",
              "      <th>Time</th>\n",
              "      <th>V1</th>\n",
              "      <th>V2</th>\n",
              "      <th>V3</th>\n",
              "      <th>V4</th>\n",
              "      <th>V5</th>\n",
              "      <th>V6</th>\n",
              "      <th>V7</th>\n",
              "      <th>V8</th>\n",
              "      <th>V9</th>\n",
              "      <th>V10</th>\n",
              "      <th>V11</th>\n",
              "      <th>V12</th>\n",
              "      <th>V13</th>\n",
              "      <th>V14</th>\n",
              "      <th>V15</th>\n",
              "      <th>V16</th>\n",
              "      <th>V17</th>\n",
              "      <th>V18</th>\n",
              "      <th>V19</th>\n",
              "      <th>V20</th>\n",
              "      <th>V21</th>\n",
              "      <th>V22</th>\n",
              "      <th>V23</th>\n",
              "      <th>V24</th>\n",
              "      <th>V25</th>\n",
              "      <th>V26</th>\n",
              "      <th>V27</th>\n",
              "      <th>V28</th>\n",
              "      <th>Amount</th>\n",
              "      <th>Class</th>\n",
              "    </tr>\n",
              "  </thead>\n",
              "  <tbody>\n",
              "    <tr>\n",
              "      <th>0</th>\n",
              "      <td>0.0</td>\n",
              "      <td>-1.359807</td>\n",
              "      <td>-0.072781</td>\n",
              "      <td>2.536347</td>\n",
              "      <td>1.378155</td>\n",
              "      <td>-0.338321</td>\n",
              "      <td>0.462388</td>\n",
              "      <td>0.239599</td>\n",
              "      <td>0.098698</td>\n",
              "      <td>0.363787</td>\n",
              "      <td>0.090794</td>\n",
              "      <td>-0.551600</td>\n",
              "      <td>-0.617801</td>\n",
              "      <td>-0.991390</td>\n",
              "      <td>-0.311169</td>\n",
              "      <td>1.468177</td>\n",
              "      <td>-0.470401</td>\n",
              "      <td>0.207971</td>\n",
              "      <td>0.025791</td>\n",
              "      <td>0.403993</td>\n",
              "      <td>0.251412</td>\n",
              "      <td>-0.018307</td>\n",
              "      <td>0.277838</td>\n",
              "      <td>-0.110474</td>\n",
              "      <td>0.066928</td>\n",
              "      <td>0.128539</td>\n",
              "      <td>-0.189115</td>\n",
              "      <td>0.133558</td>\n",
              "      <td>-0.021053</td>\n",
              "      <td>149.62</td>\n",
              "      <td>0</td>\n",
              "    </tr>\n",
              "    <tr>\n",
              "      <th>1</th>\n",
              "      <td>0.0</td>\n",
              "      <td>1.191857</td>\n",
              "      <td>0.266151</td>\n",
              "      <td>0.166480</td>\n",
              "      <td>0.448154</td>\n",
              "      <td>0.060018</td>\n",
              "      <td>-0.082361</td>\n",
              "      <td>-0.078803</td>\n",
              "      <td>0.085102</td>\n",
              "      <td>-0.255425</td>\n",
              "      <td>-0.166974</td>\n",
              "      <td>1.612727</td>\n",
              "      <td>1.065235</td>\n",
              "      <td>0.489095</td>\n",
              "      <td>-0.143772</td>\n",
              "      <td>0.635558</td>\n",
              "      <td>0.463917</td>\n",
              "      <td>-0.114805</td>\n",
              "      <td>-0.183361</td>\n",
              "      <td>-0.145783</td>\n",
              "      <td>-0.069083</td>\n",
              "      <td>-0.225775</td>\n",
              "      <td>-0.638672</td>\n",
              "      <td>0.101288</td>\n",
              "      <td>-0.339846</td>\n",
              "      <td>0.167170</td>\n",
              "      <td>0.125895</td>\n",
              "      <td>-0.008983</td>\n",
              "      <td>0.014724</td>\n",
              "      <td>2.69</td>\n",
              "      <td>0</td>\n",
              "    </tr>\n",
              "    <tr>\n",
              "      <th>2</th>\n",
              "      <td>1.0</td>\n",
              "      <td>-1.358354</td>\n",
              "      <td>-1.340163</td>\n",
              "      <td>1.773209</td>\n",
              "      <td>0.379780</td>\n",
              "      <td>-0.503198</td>\n",
              "      <td>1.800499</td>\n",
              "      <td>0.791461</td>\n",
              "      <td>0.247676</td>\n",
              "      <td>-1.514654</td>\n",
              "      <td>0.207643</td>\n",
              "      <td>0.624501</td>\n",
              "      <td>0.066084</td>\n",
              "      <td>0.717293</td>\n",
              "      <td>-0.165946</td>\n",
              "      <td>2.345865</td>\n",
              "      <td>-2.890083</td>\n",
              "      <td>1.109969</td>\n",
              "      <td>-0.121359</td>\n",
              "      <td>-2.261857</td>\n",
              "      <td>0.524980</td>\n",
              "      <td>0.247998</td>\n",
              "      <td>0.771679</td>\n",
              "      <td>0.909412</td>\n",
              "      <td>-0.689281</td>\n",
              "      <td>-0.327642</td>\n",
              "      <td>-0.139097</td>\n",
              "      <td>-0.055353</td>\n",
              "      <td>-0.059752</td>\n",
              "      <td>378.66</td>\n",
              "      <td>0</td>\n",
              "    </tr>\n",
              "    <tr>\n",
              "      <th>3</th>\n",
              "      <td>1.0</td>\n",
              "      <td>-0.966272</td>\n",
              "      <td>-0.185226</td>\n",
              "      <td>1.792993</td>\n",
              "      <td>-0.863291</td>\n",
              "      <td>-0.010309</td>\n",
              "      <td>1.247203</td>\n",
              "      <td>0.237609</td>\n",
              "      <td>0.377436</td>\n",
              "      <td>-1.387024</td>\n",
              "      <td>-0.054952</td>\n",
              "      <td>-0.226487</td>\n",
              "      <td>0.178228</td>\n",
              "      <td>0.507757</td>\n",
              "      <td>-0.287924</td>\n",
              "      <td>-0.631418</td>\n",
              "      <td>-1.059647</td>\n",
              "      <td>-0.684093</td>\n",
              "      <td>1.965775</td>\n",
              "      <td>-1.232622</td>\n",
              "      <td>-0.208038</td>\n",
              "      <td>-0.108300</td>\n",
              "      <td>0.005274</td>\n",
              "      <td>-0.190321</td>\n",
              "      <td>-1.175575</td>\n",
              "      <td>0.647376</td>\n",
              "      <td>-0.221929</td>\n",
              "      <td>0.062723</td>\n",
              "      <td>0.061458</td>\n",
              "      <td>123.50</td>\n",
              "      <td>0</td>\n",
              "    </tr>\n",
              "    <tr>\n",
              "      <th>4</th>\n",
              "      <td>2.0</td>\n",
              "      <td>-1.158233</td>\n",
              "      <td>0.877737</td>\n",
              "      <td>1.548718</td>\n",
              "      <td>0.403034</td>\n",
              "      <td>-0.407193</td>\n",
              "      <td>0.095921</td>\n",
              "      <td>0.592941</td>\n",
              "      <td>-0.270533</td>\n",
              "      <td>0.817739</td>\n",
              "      <td>0.753074</td>\n",
              "      <td>-0.822843</td>\n",
              "      <td>0.538196</td>\n",
              "      <td>1.345852</td>\n",
              "      <td>-1.119670</td>\n",
              "      <td>0.175121</td>\n",
              "      <td>-0.451449</td>\n",
              "      <td>-0.237033</td>\n",
              "      <td>-0.038195</td>\n",
              "      <td>0.803487</td>\n",
              "      <td>0.408542</td>\n",
              "      <td>-0.009431</td>\n",
              "      <td>0.798278</td>\n",
              "      <td>-0.137458</td>\n",
              "      <td>0.141267</td>\n",
              "      <td>-0.206010</td>\n",
              "      <td>0.502292</td>\n",
              "      <td>0.219422</td>\n",
              "      <td>0.215153</td>\n",
              "      <td>69.99</td>\n",
              "      <td>0</td>\n",
              "    </tr>\n",
              "    <tr>\n",
              "      <th>...</th>\n",
              "      <td>...</td>\n",
              "      <td>...</td>\n",
              "      <td>...</td>\n",
              "      <td>...</td>\n",
              "      <td>...</td>\n",
              "      <td>...</td>\n",
              "      <td>...</td>\n",
              "      <td>...</td>\n",
              "      <td>...</td>\n",
              "      <td>...</td>\n",
              "      <td>...</td>\n",
              "      <td>...</td>\n",
              "      <td>...</td>\n",
              "      <td>...</td>\n",
              "      <td>...</td>\n",
              "      <td>...</td>\n",
              "      <td>...</td>\n",
              "      <td>...</td>\n",
              "      <td>...</td>\n",
              "      <td>...</td>\n",
              "      <td>...</td>\n",
              "      <td>...</td>\n",
              "      <td>...</td>\n",
              "      <td>...</td>\n",
              "      <td>...</td>\n",
              "      <td>...</td>\n",
              "      <td>...</td>\n",
              "      <td>...</td>\n",
              "      <td>...</td>\n",
              "      <td>...</td>\n",
              "      <td>...</td>\n",
              "    </tr>\n",
              "    <tr>\n",
              "      <th>284802</th>\n",
              "      <td>172786.0</td>\n",
              "      <td>-11.881118</td>\n",
              "      <td>10.071785</td>\n",
              "      <td>-9.834783</td>\n",
              "      <td>-2.066656</td>\n",
              "      <td>-5.364473</td>\n",
              "      <td>-2.606837</td>\n",
              "      <td>-4.918215</td>\n",
              "      <td>7.305334</td>\n",
              "      <td>1.914428</td>\n",
              "      <td>4.356170</td>\n",
              "      <td>-1.593105</td>\n",
              "      <td>2.711941</td>\n",
              "      <td>-0.689256</td>\n",
              "      <td>4.626942</td>\n",
              "      <td>-0.924459</td>\n",
              "      <td>1.107641</td>\n",
              "      <td>1.991691</td>\n",
              "      <td>0.510632</td>\n",
              "      <td>-0.682920</td>\n",
              "      <td>1.475829</td>\n",
              "      <td>0.213454</td>\n",
              "      <td>0.111864</td>\n",
              "      <td>1.014480</td>\n",
              "      <td>-0.509348</td>\n",
              "      <td>1.436807</td>\n",
              "      <td>0.250034</td>\n",
              "      <td>0.943651</td>\n",
              "      <td>0.823731</td>\n",
              "      <td>0.77</td>\n",
              "      <td>0</td>\n",
              "    </tr>\n",
              "    <tr>\n",
              "      <th>284803</th>\n",
              "      <td>172787.0</td>\n",
              "      <td>-0.732789</td>\n",
              "      <td>-0.055080</td>\n",
              "      <td>2.035030</td>\n",
              "      <td>-0.738589</td>\n",
              "      <td>0.868229</td>\n",
              "      <td>1.058415</td>\n",
              "      <td>0.024330</td>\n",
              "      <td>0.294869</td>\n",
              "      <td>0.584800</td>\n",
              "      <td>-0.975926</td>\n",
              "      <td>-0.150189</td>\n",
              "      <td>0.915802</td>\n",
              "      <td>1.214756</td>\n",
              "      <td>-0.675143</td>\n",
              "      <td>1.164931</td>\n",
              "      <td>-0.711757</td>\n",
              "      <td>-0.025693</td>\n",
              "      <td>-1.221179</td>\n",
              "      <td>-1.545556</td>\n",
              "      <td>0.059616</td>\n",
              "      <td>0.214205</td>\n",
              "      <td>0.924384</td>\n",
              "      <td>0.012463</td>\n",
              "      <td>-1.016226</td>\n",
              "      <td>-0.606624</td>\n",
              "      <td>-0.395255</td>\n",
              "      <td>0.068472</td>\n",
              "      <td>-0.053527</td>\n",
              "      <td>24.79</td>\n",
              "      <td>0</td>\n",
              "    </tr>\n",
              "    <tr>\n",
              "      <th>284804</th>\n",
              "      <td>172788.0</td>\n",
              "      <td>1.919565</td>\n",
              "      <td>-0.301254</td>\n",
              "      <td>-3.249640</td>\n",
              "      <td>-0.557828</td>\n",
              "      <td>2.630515</td>\n",
              "      <td>3.031260</td>\n",
              "      <td>-0.296827</td>\n",
              "      <td>0.708417</td>\n",
              "      <td>0.432454</td>\n",
              "      <td>-0.484782</td>\n",
              "      <td>0.411614</td>\n",
              "      <td>0.063119</td>\n",
              "      <td>-0.183699</td>\n",
              "      <td>-0.510602</td>\n",
              "      <td>1.329284</td>\n",
              "      <td>0.140716</td>\n",
              "      <td>0.313502</td>\n",
              "      <td>0.395652</td>\n",
              "      <td>-0.577252</td>\n",
              "      <td>0.001396</td>\n",
              "      <td>0.232045</td>\n",
              "      <td>0.578229</td>\n",
              "      <td>-0.037501</td>\n",
              "      <td>0.640134</td>\n",
              "      <td>0.265745</td>\n",
              "      <td>-0.087371</td>\n",
              "      <td>0.004455</td>\n",
              "      <td>-0.026561</td>\n",
              "      <td>67.88</td>\n",
              "      <td>0</td>\n",
              "    </tr>\n",
              "    <tr>\n",
              "      <th>284805</th>\n",
              "      <td>172788.0</td>\n",
              "      <td>-0.240440</td>\n",
              "      <td>0.530483</td>\n",
              "      <td>0.702510</td>\n",
              "      <td>0.689799</td>\n",
              "      <td>-0.377961</td>\n",
              "      <td>0.623708</td>\n",
              "      <td>-0.686180</td>\n",
              "      <td>0.679145</td>\n",
              "      <td>0.392087</td>\n",
              "      <td>-0.399126</td>\n",
              "      <td>-1.933849</td>\n",
              "      <td>-0.962886</td>\n",
              "      <td>-1.042082</td>\n",
              "      <td>0.449624</td>\n",
              "      <td>1.962563</td>\n",
              "      <td>-0.608577</td>\n",
              "      <td>0.509928</td>\n",
              "      <td>1.113981</td>\n",
              "      <td>2.897849</td>\n",
              "      <td>0.127434</td>\n",
              "      <td>0.265245</td>\n",
              "      <td>0.800049</td>\n",
              "      <td>-0.163298</td>\n",
              "      <td>0.123205</td>\n",
              "      <td>-0.569159</td>\n",
              "      <td>0.546668</td>\n",
              "      <td>0.108821</td>\n",
              "      <td>0.104533</td>\n",
              "      <td>10.00</td>\n",
              "      <td>0</td>\n",
              "    </tr>\n",
              "    <tr>\n",
              "      <th>284806</th>\n",
              "      <td>172792.0</td>\n",
              "      <td>-0.533413</td>\n",
              "      <td>-0.189733</td>\n",
              "      <td>0.703337</td>\n",
              "      <td>-0.506271</td>\n",
              "      <td>-0.012546</td>\n",
              "      <td>-0.649617</td>\n",
              "      <td>1.577006</td>\n",
              "      <td>-0.414650</td>\n",
              "      <td>0.486180</td>\n",
              "      <td>-0.915427</td>\n",
              "      <td>-1.040458</td>\n",
              "      <td>-0.031513</td>\n",
              "      <td>-0.188093</td>\n",
              "      <td>-0.084316</td>\n",
              "      <td>0.041333</td>\n",
              "      <td>-0.302620</td>\n",
              "      <td>-0.660377</td>\n",
              "      <td>0.167430</td>\n",
              "      <td>-0.256117</td>\n",
              "      <td>0.382948</td>\n",
              "      <td>0.261057</td>\n",
              "      <td>0.643078</td>\n",
              "      <td>0.376777</td>\n",
              "      <td>0.008797</td>\n",
              "      <td>-0.473649</td>\n",
              "      <td>-0.818267</td>\n",
              "      <td>-0.002415</td>\n",
              "      <td>0.013649</td>\n",
              "      <td>217.00</td>\n",
              "      <td>0</td>\n",
              "    </tr>\n",
              "  </tbody>\n",
              "</table>\n",
              "<p>284807 rows × 31 columns</p>\n",
              "</div>"
            ],
            "text/plain": [
              "            Time         V1         V2  ...       V28  Amount  Class\n",
              "0            0.0  -1.359807  -0.072781  ... -0.021053  149.62      0\n",
              "1            0.0   1.191857   0.266151  ...  0.014724    2.69      0\n",
              "2            1.0  -1.358354  -1.340163  ... -0.059752  378.66      0\n",
              "3            1.0  -0.966272  -0.185226  ...  0.061458  123.50      0\n",
              "4            2.0  -1.158233   0.877737  ...  0.215153   69.99      0\n",
              "...          ...        ...        ...  ...       ...     ...    ...\n",
              "284802  172786.0 -11.881118  10.071785  ...  0.823731    0.77      0\n",
              "284803  172787.0  -0.732789  -0.055080  ... -0.053527   24.79      0\n",
              "284804  172788.0   1.919565  -0.301254  ... -0.026561   67.88      0\n",
              "284805  172788.0  -0.240440   0.530483  ...  0.104533   10.00      0\n",
              "284806  172792.0  -0.533413  -0.189733  ...  0.013649  217.00      0\n",
              "\n",
              "[284807 rows x 31 columns]"
            ]
          },
          "metadata": {
            "tags": []
          },
          "execution_count": 75
        }
      ]
    },
    {
      "cell_type": "code",
      "metadata": {
        "id": "YTZQyeqW5pMv",
        "colab_type": "code",
        "outputId": "a7782592-a56b-4eef-eac0-d2947ef9e551",
        "colab": {
          "base_uri": "https://localhost:8080/",
          "height": 67
        }
      },
      "source": [
        "# Note classes are not balanced at all\n",
        "classes_count = pd.value_counts(df['Class'], sort = True)\n",
        "classes_count"
      ],
      "execution_count": 76,
      "outputs": [
        {
          "output_type": "execute_result",
          "data": {
            "text/plain": [
              "0    284315\n",
              "1       492\n",
              "Name: Class, dtype: int64"
            ]
          },
          "metadata": {
            "tags": []
          },
          "execution_count": 76
        }
      ]
    },
    {
      "cell_type": "code",
      "metadata": {
        "id": "CvaOYla_57r_",
        "colab_type": "code",
        "outputId": "d6e544c9-81bf-4ee8-c64d-bafe11bc83ae",
        "colab": {
          "base_uri": "https://localhost:8080/",
          "height": 168
        }
      },
      "source": [
        "# summary of class 0 (normal transactions)\n",
        "df[df.Class == 0].Amount.describe()"
      ],
      "execution_count": 77,
      "outputs": [
        {
          "output_type": "execute_result",
          "data": {
            "text/plain": [
              "count    284315.000000\n",
              "mean         88.291022\n",
              "std         250.105092\n",
              "min           0.000000\n",
              "25%           5.650000\n",
              "50%          22.000000\n",
              "75%          77.050000\n",
              "max       25691.160000\n",
              "Name: Amount, dtype: float64"
            ]
          },
          "metadata": {
            "tags": []
          },
          "execution_count": 77
        }
      ]
    },
    {
      "cell_type": "code",
      "metadata": {
        "id": "7e01yKxz8R5Y",
        "colab_type": "code",
        "outputId": "b19524e9-6f3d-400f-d51b-8a8387813276",
        "colab": {
          "base_uri": "https://localhost:8080/",
          "height": 168
        }
      },
      "source": [
        "# summary of class 1 (abnormal transactions)\n",
        "df[df.Class == 1].Amount.describe()"
      ],
      "execution_count": 78,
      "outputs": [
        {
          "output_type": "execute_result",
          "data": {
            "text/plain": [
              "count     492.000000\n",
              "mean      122.211321\n",
              "std       256.683288\n",
              "min         0.000000\n",
              "25%         1.000000\n",
              "50%         9.250000\n",
              "75%       105.890000\n",
              "max      2125.870000\n",
              "Name: Amount, dtype: float64"
            ]
          },
          "metadata": {
            "tags": []
          },
          "execution_count": 78
        }
      ]
    },
    {
      "cell_type": "code",
      "metadata": {
        "id": "Dkf6coQ094cu",
        "colab_type": "code",
        "outputId": "e29d566f-5a31-45e8-ed34-5a444be2a915",
        "colab": {
          "base_uri": "https://localhost:8080/",
          "height": 241
        }
      },
      "source": [
        "# Plot amount of normal and abnormal data\n",
        "plt.figure(figsize=(18, 3))\n",
        "\n",
        "plt.subplot(1, 2, 1)\n",
        "plt.title('Frauds')\n",
        "plt.hist(df[df.Class == 1].Amount, bins=50)\n",
        "plt.xlabel('Amount ($)')\n",
        "plt.ylabel('Number of transactions')\n",
        "plt.yscale('log')\n",
        "plt.grid()\n",
        "\n",
        "plt.subplot(1, 2, 2)\n",
        "plt.title('Normal')\n",
        "plt.hist(df[df.Class == 0].Amount, bins=50)\n",
        "plt.xlabel('Amount ($)')\n",
        "plt.ylabel('Number of transactions')\n",
        "plt.yscale('log')\n",
        "plt.grid()\n",
        "\n",
        "plt.show()"
      ],
      "execution_count": 79,
      "outputs": [
        {
          "output_type": "display_data",
          "data": {
            "image/png": "[encoded data removed]",
            "text/plain": [
              "<Figure size 1296x216 with 2 Axes>"
            ]
          },
          "metadata": {
            "tags": [],
            "needs_background": "light"
          }
        }
      ]
    },
    {
      "cell_type": "code",
      "metadata": {
        "id": "2RJCSkvz-PWl",
        "colab_type": "code",
        "outputId": "fd62fac1-396e-4251-c78e-63c3263998bf",
        "colab": {
          "base_uri": "https://localhost:8080/",
          "height": 34
        }
      },
      "source": [
        "# Remove time\n",
        "df = df.drop(['Time'], axis=1)\n",
        "print(df.shape)"
      ],
      "execution_count": 80,
      "outputs": [
        {
          "output_type": "stream",
          "text": [
            "(284807, 30)\n"
          ],
          "name": "stdout"
        }
      ]
    },
    {
      "cell_type": "code",
      "metadata": {
        "id": "_XYgaYhZAs8f",
        "colab_type": "code",
        "outputId": "31877237-d1ee-4720-883a-7d986753d37c",
        "colab": {
          "base_uri": "https://localhost:8080/",
          "height": 50
        }
      },
      "source": [
        "# Extract into matrices values for normal transactions\n",
        "normal = df[df.Class == 0]\n",
        "normal = normal.drop(['Class'], axis=1)\n",
        "normal = normal.values\n",
        "print(normal.shape)\n",
        "\n",
        "# Extract into matrices values for normal transactions\n",
        "frauds = df[df.Class == 1]\n",
        "frauds = frauds.drop(['Class'], axis=1)\n",
        "frauds = frauds.values\n",
        "print(frauds.shape)"
      ],
      "execution_count": 81,
      "outputs": [
        {
          "output_type": "stream",
          "text": [
            "(284315, 29)\n",
            "(492, 29)\n"
          ],
          "name": "stdout"
        }
      ]
    },
    {
      "cell_type": "code",
      "metadata": {
        "id": "nkU39p68W3GZ",
        "colab_type": "code",
        "outputId": "21ce731a-5725-4b30-c125-ce2f9bcf768d",
        "colab": {
          "base_uri": "https://localhost:8080/",
          "height": 202
        }
      },
      "source": [
        "# Normalize data\n",
        "scaler = StandardScaler()\n",
        "normal = scaler.fit_transform(normal)\n",
        "frauds = scaler.transform(frauds)\n",
        "\n",
        "# See max and min values, so we can decide on output activations\n",
        "print(normal.min(axis=0))\n",
        "print(normal.max(axis=0))"
      ],
      "execution_count": 91,
      "outputs": [
        {
          "output_type": "stream",
          "text": [
            "[-29.23383553 -44.43954405 -33.1210661   -4.05573252 -83.82683084\n",
            " -19.67269346 -26.9547933  -63.04736881  -5.77875015 -14.1265026\n",
            "  -4.77604318 -16.02201219  -5.8207973  -20.51734046  -4.79911288\n",
            " -11.98281313 -22.82988537  -6.51040776  -8.88513979 -70.83041283\n",
            " -48.59368815 -15.107939   -72.09157992  -4.68293974 -19.77314077\n",
            "  -5.40075462 -56.43521184 -46.81853823  -0.35301631]\n",
            "[ 1.10069259 13.4853723   1.53350565  8.66309234  8.1724759   4.86626364\n",
            "  4.91419332 17.22941348  3.07430748  3.85137353 11.98820426  1.44312899\n",
            "  2.82921339  3.82423488  2.7005899   3.70809885  8.97698509  4.5900718\n",
            "  6.44242389 14.37433949 37.95517235 11.55504894  8.79454205  1.8014154\n",
            "  4.2412112   5.69290956  7.6345747   5.39945554  8.14690554]\n"
          ],
          "name": "stdout"
        }
      ]
    },
    {
      "cell_type": "code",
      "metadata": {
        "id": "8F7ftw7IAteI",
        "colab_type": "code",
        "outputId": "b7e9ce6b-e085-4256-d9dd-06f0c7b34a25",
        "colab": {
          "base_uri": "https://localhost:8080/",
          "height": 50
        }
      },
      "source": [
        "# Split normal data into training and test data\n",
        "x_train, x_test = train_test_split(normal, test_size=0.2)\n",
        "\n",
        "print(x_train.shape)\n",
        "print(x_test.shape)"
      ],
      "execution_count": 83,
      "outputs": [
        {
          "output_type": "stream",
          "text": [
            "(227452, 29)\n",
            "(56863, 29)\n"
          ],
          "name": "stdout"
        }
      ]
    },
    {
      "cell_type": "code",
      "metadata": {
        "id": "UwInt_V6Wmf-",
        "colab_type": "code",
        "colab": {
          "base_uri": "https://localhost:8080/",
          "height": 84
        },
        "outputId": "79d032fb-30d1-4981-e8f3-32b284ecc54e"
      },
      "source": [
        "\n",
        "print(frauds[:,28].mean())\n",
        "print(frauds[:,28].std())\n",
        "\n",
        "print(normal[:,28].mean())\n",
        "print(normal[:,28].std())"
      ],
      "execution_count": 106,
      "outputs": [
        {
          "output_type": "stream",
          "text": [
            "0.13562442118567758\n",
            "1.0252600108212675\n",
            "7.197520633765677e-18\n",
            "1.0\n"
          ],
          "name": "stdout"
        }
      ]
    },
    {
      "cell_type": "markdown",
      "metadata": {
        "id": "guS9jBYEGP4c",
        "colab_type": "text"
      },
      "source": [
        "# Part 2: Train a model"
      ]
    },
    {
      "cell_type": "code",
      "metadata": {
        "id": "RxnqQ_r9Eue5",
        "colab_type": "code",
        "colab": {}
      },
      "source": [
        "from tensorflow.keras.models import Model\n",
        "from tensorflow.keras.layers import Input, Dense"
      ],
      "execution_count": 0,
      "outputs": []
    },
    {
      "cell_type": "code",
      "metadata": {
        "id": "YiAMDKSaHHG4",
        "colab_type": "code",
        "outputId": "35648b93-b935-4d29-c3c1-7769a6aea233",
        "colab": {
          "base_uri": "https://localhost:8080/",
          "height": 386
        }
      },
      "source": [
        "# Create model\n",
        "in_layer = Input(shape=(x_train.shape[1],))\n",
        "\n",
        "encoder = Dense(32, activation='relu')(in_layer)\n",
        "encoder = Dense(24,  activation='relu')(encoder)\n",
        "\n",
        "latent  = Dense(16,  activation='relu')(encoder)\n",
        "\n",
        "decoder = Dense(24, activation='relu')(latent)\n",
        "decoder = Dense(32, activation='relu')(decoder)\n",
        "out_layer = Dense(x_train.shape[1])(decoder)\n",
        "\n",
        "AE = Model(inputs=in_layer, outputs=out_layer)\n",
        "AE.summary()"
      ],
      "execution_count": 107,
      "outputs": [
        {
          "output_type": "stream",
          "text": [
            "Model: \"model_12\"\n",
            "_________________________________________________________________\n",
            "Layer (type)                 Output Shape              Param #   \n",
            "=================================================================\n",
            "input_8 (InputLayer)         [(None, 29)]              0         \n",
            "_________________________________________________________________\n",
            "dense_50 (Dense)             (None, 32)                960       \n",
            "_________________________________________________________________\n",
            "dense_51 (Dense)             (None, 24)                792       \n",
            "_________________________________________________________________\n",
            "dense_52 (Dense)             (None, 16)                400       \n",
            "_________________________________________________________________\n",
            "dense_53 (Dense)             (None, 24)                408       \n",
            "_________________________________________________________________\n",
            "dense_54 (Dense)             (None, 32)                800       \n",
            "_________________________________________________________________\n",
            "dense_55 (Dense)             (None, 29)                957       \n",
            "=================================================================\n",
            "Total params: 4,317\n",
            "Trainable params: 4,317\n",
            "Non-trainable params: 0\n",
            "_________________________________________________________________\n"
          ],
          "name": "stdout"
        }
      ]
    },
    {
      "cell_type": "code",
      "metadata": {
        "id": "l3zGoiFzIblx",
        "colab_type": "code",
        "colab": {}
      },
      "source": [
        "# Compile\n",
        "AE.compile(optimizer='adam', loss='mse', metrics=['accuracy'])"
      ],
      "execution_count": 0,
      "outputs": []
    },
    {
      "cell_type": "code",
      "metadata": {
        "id": "vtxcI2utJFBa",
        "colab_type": "code",
        "outputId": "b6007379-a18b-4408-d405-1ad41883046d",
        "colab": {
          "base_uri": "https://localhost:8080/",
          "height": 1000
        }
      },
      "source": [
        "# Train it\n",
        "history = AE.fit(x_train, x_train, epochs=30, batch_size=64, validation_split=0.2)"
      ],
      "execution_count": 55,
      "outputs": [
        {
          "output_type": "stream",
          "text": [
            "Epoch 1/30\n",
            "2844/2844 [==============================] - 9s 3ms/step - loss: 0.0546 - accuracy: 0.8603 - val_loss: 0.0491 - val_accuracy: 0.8726\n",
            "Epoch 2/30\n",
            "2844/2844 [==============================] - 9s 3ms/step - loss: 0.0534 - accuracy: 0.8623 - val_loss: 0.0484 - val_accuracy: 0.8668\n",
            "Epoch 3/30\n",
            "2844/2844 [==============================] - 9s 3ms/step - loss: 0.0527 - accuracy: 0.8619 - val_loss: 0.0470 - val_accuracy: 0.8780\n",
            "Epoch 4/30\n",
            "2844/2844 [==============================] - 8s 3ms/step - loss: 0.0528 - accuracy: 0.8621 - val_loss: 0.0474 - val_accuracy: 0.8727\n",
            "Epoch 5/30\n",
            "2844/2844 [==============================] - 9s 3ms/step - loss: 0.0511 - accuracy: 0.8666 - val_loss: 0.0512 - val_accuracy: 0.8531\n",
            "Epoch 6/30\n",
            "2844/2844 [==============================] - 8s 3ms/step - loss: 0.0536 - accuracy: 0.8617 - val_loss: 0.0446 - val_accuracy: 0.8786\n",
            "Epoch 7/30\n",
            "2844/2844 [==============================] - 9s 3ms/step - loss: 0.0522 - accuracy: 0.8655 - val_loss: 0.0448 - val_accuracy: 0.8723\n",
            "Epoch 8/30\n",
            "2844/2844 [==============================] - 9s 3ms/step - loss: 0.0500 - accuracy: 0.8652 - val_loss: 0.0433 - val_accuracy: 0.8783\n",
            "Epoch 9/30\n",
            "2844/2844 [==============================] - 9s 3ms/step - loss: 0.0490 - accuracy: 0.8649 - val_loss: 0.0490 - val_accuracy: 0.8658\n",
            "Epoch 10/30\n",
            "2844/2844 [==============================] - 9s 3ms/step - loss: 0.0490 - accuracy: 0.8648 - val_loss: 0.0412 - val_accuracy: 0.8787\n",
            "Epoch 11/30\n",
            "2844/2844 [==============================] - 9s 3ms/step - loss: 0.0496 - accuracy: 0.8638 - val_loss: 0.0427 - val_accuracy: 0.8774\n",
            "Epoch 12/30\n",
            "2844/2844 [==============================] - 9s 3ms/step - loss: 0.0475 - accuracy: 0.8655 - val_loss: 0.0424 - val_accuracy: 0.8626\n",
            "Epoch 13/30\n",
            "2844/2844 [==============================] - 9s 3ms/step - loss: 0.0506 - accuracy: 0.8652 - val_loss: 0.0433 - val_accuracy: 0.8672\n",
            "Epoch 14/30\n",
            "2844/2844 [==============================] - 9s 3ms/step - loss: 0.0454 - accuracy: 0.8689 - val_loss: 0.0412 - val_accuracy: 0.8705\n",
            "Epoch 15/30\n",
            "2844/2844 [==============================] - 9s 3ms/step - loss: 0.0446 - accuracy: 0.8693 - val_loss: 0.0409 - val_accuracy: 0.8799\n",
            "Epoch 16/30\n",
            "2844/2844 [==============================] - 9s 3ms/step - loss: 0.0440 - accuracy: 0.8699 - val_loss: 0.0385 - val_accuracy: 0.8858\n",
            "Epoch 17/30\n",
            "2844/2844 [==============================] - 9s 3ms/step - loss: 0.0445 - accuracy: 0.8693 - val_loss: 0.0440 - val_accuracy: 0.8663\n",
            "Epoch 18/30\n",
            "2844/2844 [==============================] - 9s 3ms/step - loss: 0.0453 - accuracy: 0.8693 - val_loss: 0.0418 - val_accuracy: 0.8597\n",
            "Epoch 19/30\n",
            "2844/2844 [==============================] - 9s 3ms/step - loss: 0.0433 - accuracy: 0.8710 - val_loss: 0.0413 - val_accuracy: 0.8683\n",
            "Epoch 20/30\n",
            "2844/2844 [==============================] - 9s 3ms/step - loss: 0.0432 - accuracy: 0.8701 - val_loss: 0.0378 - val_accuracy: 0.8832\n",
            "Epoch 21/30\n",
            "2844/2844 [==============================] - 9s 3ms/step - loss: 0.0446 - accuracy: 0.8671 - val_loss: 0.0806 - val_accuracy: 0.8061\n",
            "Epoch 22/30\n",
            "2844/2844 [==============================] - 9s 3ms/step - loss: 0.0775 - accuracy: 0.7986 - val_loss: 0.0758 - val_accuracy: 0.8020\n",
            "Epoch 23/30\n",
            "2844/2844 [==============================] - 9s 3ms/step - loss: 0.0740 - accuracy: 0.8016 - val_loss: 0.0705 - val_accuracy: 0.8063\n",
            "Epoch 24/30\n",
            "2844/2844 [==============================] - 9s 3ms/step - loss: 0.0709 - accuracy: 0.8090 - val_loss: 0.0560 - val_accuracy: 0.8395\n",
            "Epoch 25/30\n",
            "2844/2844 [==============================] - 9s 3ms/step - loss: 0.0555 - accuracy: 0.8446 - val_loss: 0.0486 - val_accuracy: 0.8595\n",
            "Epoch 26/30\n",
            "2844/2844 [==============================] - 9s 3ms/step - loss: 0.0499 - accuracy: 0.8534 - val_loss: 0.0557 - val_accuracy: 0.8169\n",
            "Epoch 27/30\n",
            "2844/2844 [==============================] - 9s 3ms/step - loss: 0.0502 - accuracy: 0.8536 - val_loss: 0.0466 - val_accuracy: 0.8598\n",
            "Epoch 28/30\n",
            "2844/2844 [==============================] - 9s 3ms/step - loss: 0.0470 - accuracy: 0.8580 - val_loss: 0.0436 - val_accuracy: 0.8623\n",
            "Epoch 29/30\n",
            "2844/2844 [==============================] - 9s 3ms/step - loss: 0.0479 - accuracy: 0.8572 - val_loss: 0.0406 - val_accuracy: 0.8758\n",
            "Epoch 30/30\n",
            "2844/2844 [==============================] - 9s 3ms/step - loss: 0.0463 - accuracy: 0.8592 - val_loss: 0.0423 - val_accuracy: 0.8607\n"
          ],
          "name": "stdout"
        }
      ]
    },
    {
      "cell_type": "code",
      "metadata": {
        "id": "1zqtSfGYJQT3",
        "colab_type": "code",
        "outputId": "fc75442c-2f47-4909-8531-b92fa17f9f66",
        "colab": {
          "base_uri": "https://localhost:8080/",
          "height": 295
        }
      },
      "source": [
        "# Plot loss\n",
        "plt.figure(figsize=(18, 4))\n",
        "\n",
        "plt.subplot(1, 2, 1)\n",
        "plt.title('Loss')\n",
        "plt.plot(history.history['loss'], label='Training', linewidth=2)\n",
        "plt.plot(history.history['val_loss'], label='Validation', linewidth=2)\n",
        "plt.legend()\n",
        "plt.xlabel('Epoch')\n",
        "plt.ylabel('Loss')\n",
        "plt.grid(True)\n",
        "\n",
        "plt.subplot(1, 2, 2)\n",
        "plt.title('Accuracy')\n",
        "plt.plot(history.history['accuracy'], label='Training', linewidth=2)\n",
        "plt.plot(history.history['val_accuracy'], label='Validation', linewidth=2)\n",
        "plt.legend()\n",
        "plt.xlabel('Epoch')\n",
        "plt.ylabel('Accuracy')\n",
        "plt.grid(True)\n",
        "\n",
        "plt.show()"
      ],
      "execution_count": 56,
      "outputs": [
        {
          "output_type": "display_data",
          "data": {
            "image/png": "[encoded data removed]",
            "text/plain": [
              "<Figure size 1296x288 with 2 Axes>"
            ]
          },
          "metadata": {
            "tags": [],
            "needs_background": "light"
          }
        }
      ]
    },
    {
      "cell_type": "code",
      "metadata": {
        "id": "3tnm7OosKlnj",
        "colab_type": "code",
        "outputId": "87d946a2-3c15-4b89-fa9e-6657e6dcac35",
        "colab": {
          "base_uri": "https://localhost:8080/",
          "height": 84
        }
      },
      "source": [
        "# Predict reconstruction error on training data\n",
        "x_train_hat = AE.predict(x_train)\n",
        "mse_train = np.mean(np.power(x_train - x_train_hat, 2), axis=1)\n",
        "\n",
        "print(f\"Min : {mse_train.min():0.6f}\")\n",
        "print(f\"Mean: {mse_train.mean():0.4f}\")\n",
        "print(f\"Stdd: {mse_train.std():0.2f}\")\n",
        "print(f\"Max : {mse_train.max():0.2f}\")"
      ],
      "execution_count": 57,
      "outputs": [
        {
          "output_type": "stream",
          "text": [
            "Min : 0.001025\n",
            "Mean: 0.0428\n",
            "Stdd: 0.47\n",
            "Max : 53.19\n"
          ],
          "name": "stdout"
        }
      ]
    },
    {
      "cell_type": "code",
      "metadata": {
        "id": "7lOpgZCtLfKi",
        "colab_type": "code",
        "outputId": "55629673-2f12-4dd4-ccb1-3b95e7217019",
        "colab": {
          "base_uri": "https://localhost:8080/",
          "height": 84
        }
      },
      "source": [
        "# Predict reconstruction error on test data\n",
        "x_test_hat = AE.predict(x_test)\n",
        "mse_test = np.mean(np.power(x_test - x_test_hat, 2), axis=1)\n",
        "\n",
        "print(f\"Min : {mse_test.min():0.6f}\")\n",
        "print(f\"Mean: {mse_test.mean():0.4f}\")\n",
        "print(f\"Stdd: {mse_test.std():0.2f}\")\n",
        "print(f\"Max : {mse_test.max():0.2f}\")"
      ],
      "execution_count": 58,
      "outputs": [
        {
          "output_type": "stream",
          "text": [
            "Min : 0.001051\n",
            "Mean: 0.0474\n",
            "Stdd: 0.67\n",
            "Max : 51.76\n"
          ],
          "name": "stdout"
        }
      ]
    },
    {
      "cell_type": "code",
      "metadata": {
        "id": "XKooTgGNiJ7G",
        "colab_type": "code",
        "outputId": "a0fcc926-1d17-4ce6-b2b2-a36f627b599f",
        "colab": {
          "base_uri": "https://localhost:8080/",
          "height": 84
        }
      },
      "source": [
        "# Predict reconstruction error on abnormal data\n",
        "frauds_hat = AE.predict(frauds)\n",
        "mse_frauds = np.mean(np.power(frauds - frauds_hat, 2), axis=1)\n",
        "\n",
        "print(f\"Min : {mse_frauds.min():0.6f}\")\n",
        "print(f\"Mean: {mse_frauds.mean():0.4f}\")\n",
        "print(f\"Stdd: {mse_frauds.std():0.2f}\")\n",
        "print(f\"Max : {mse_frauds.max():0.2f}\")"
      ],
      "execution_count": 59,
      "outputs": [
        {
          "output_type": "stream",
          "text": [
            "Min : 0.001911\n",
            "Mean: 20.6190\n",
            "Stdd: 25.31\n",
            "Max : 80.47\n"
          ],
          "name": "stdout"
        }
      ]
    },
    {
      "cell_type": "code",
      "metadata": {
        "id": "pXRQD9gmLgJ7",
        "colab_type": "code",
        "outputId": "e76a7544-3c25-4d91-a7e7-8a68d76d769e",
        "colab": {
          "base_uri": "https://localhost:8080/",
          "height": 241
        }
      },
      "source": [
        "# Plot distribution of reconstruction errors\n",
        "plt.figure(figsize=(18, 3))\n",
        "\n",
        "plt.subplot(1, 2, 1)\n",
        "plt.title('Frauds')\n",
        "plt.hist(mse_frauds, bins=20)\n",
        "plt.xlabel('mse bins')\n",
        "plt.ylabel('frequency')\n",
        "plt.grid()\n",
        "\n",
        "plt.subplot(1, 2, 2)\n",
        "plt.title('Normal')\n",
        "plt.hist(mse_train, bins=20)\n",
        "plt.xlabel('mse bins')\n",
        "plt.ylabel('frequency')\n",
        "plt.grid()\n",
        "\n",
        "plt.show()"
      ],
      "execution_count": 60,
      "outputs": [
        {
          "output_type": "display_data",
          "data": {
            "image/png": "[encoded data removed]",
            "text/plain": [
              "<Figure size 1296x216 with 2 Axes>"
            ]
          },
          "metadata": {
            "tags": [],
            "needs_background": "light"
          }
        }
      ]
    },
    {
      "cell_type": "markdown",
      "metadata": {
        "id": "l-RdU9DBkae-",
        "colab_type": "text"
      },
      "source": [
        "# Part 3: Latent space"
      ]
    },
    {
      "cell_type": "code",
      "metadata": {
        "id": "ADI8gVG3jACP",
        "colab_type": "code",
        "outputId": "39b12eb2-dccd-4de0-a672-535ecf6977f3",
        "colab": {
          "base_uri": "https://localhost:8080/",
          "height": 286
        }
      },
      "source": [
        "# Create a submodel using only the encoder part of previous model (output must be latent layer)\n",
        "encoder_model = Model(inputs=in_layer, outputs=latent)\n",
        "encoder_model.summary()"
      ],
      "execution_count": 61,
      "outputs": [
        {
          "output_type": "stream",
          "text": [
            "Model: \"model_7\"\n",
            "_________________________________________________________________\n",
            "Layer (type)                 Output Shape              Param #   \n",
            "=================================================================\n",
            "input_4 (InputLayer)         [(None, 29)]              0         \n",
            "_________________________________________________________________\n",
            "dense_26 (Dense)             (None, 32)                960       \n",
            "_________________________________________________________________\n",
            "dense_27 (Dense)             (None, 24)                792       \n",
            "_________________________________________________________________\n",
            "dense_28 (Dense)             (None, 16)                400       \n",
            "=================================================================\n",
            "Total params: 2,152\n",
            "Trainable params: 2,152\n",
            "Non-trainable params: 0\n",
            "_________________________________________________________________\n"
          ],
          "name": "stdout"
        }
      ]
    },
    {
      "cell_type": "code",
      "metadata": {
        "id": "gN_J8uzYjMpR",
        "colab_type": "code",
        "outputId": "f59e193b-f3ab-4861-b2e3-ab33983b383c",
        "colab": {
          "base_uri": "https://localhost:8080/",
          "height": 50
        }
      },
      "source": [
        "# Predict a latent representation for the test set and the frauds set\n",
        "latent_normal = encoder_model.predict(x_test)\n",
        "latent_frauds = encoder_model.predict(frauds)\n",
        "\n",
        "print(latent_normal.shape)\n",
        "print(latent_frauds.shape)"
      ],
      "execution_count": 62,
      "outputs": [
        {
          "output_type": "stream",
          "text": [
            "(56863, 16)\n",
            "(492, 16)\n"
          ],
          "name": "stdout"
        }
      ]
    },
    {
      "cell_type": "code",
      "metadata": {
        "id": "9wk0R2I2jbVj",
        "colab_type": "code",
        "outputId": "7468b84c-e925-4b17-e7af-fe1b07ec9051",
        "colab": {
          "base_uri": "https://localhost:8080/",
          "height": 241
        }
      },
      "source": [
        "# Plot distribution of latent space\n",
        "plt.figure(figsize=(16, 3))\n",
        "plt.subplot(1, 2, 1)\n",
        "plt.title('Normal')\n",
        "plt.boxplot(latent_normal)\n",
        "plt.xlabel('Latent space variables')\n",
        "plt.ylabel('Values distribution')\n",
        "plt.grid()\n",
        "plt.subplot(1, 2, 2)\n",
        "plt.title('Frauds')\n",
        "plt.boxplot(latent_frauds)\n",
        "plt.xlabel('Latent space variables')\n",
        "plt.ylabel('Values distribution')\n",
        "plt.grid()\n",
        "plt.show()"
      ],
      "execution_count": 63,
      "outputs": [
        {
          "output_type": "display_data",
          "data": {
            "image/png": "[encoded data removed]",
            "text/plain": [
              "<Figure size 1152x216 with 2 Axes>"
            ]
          },
          "metadata": {
            "tags": [],
            "needs_background": "light"
          }
        }
      ]
    },
    {
      "cell_type": "code",
      "metadata": {
        "id": "YzzZgJI34cyR",
        "colab_type": "code",
        "colab": {
          "base_uri": "https://localhost:8080/",
          "height": 1000
        },
        "outputId": "115ade62-b220-47a8-a9b1-39d1f884592b"
      },
      "source": [
        "# Create model\n",
        "in_layer = Input(shape=(x_train.shape[1],))\n",
        "\n",
        "encoder = Dense(32, activation='relu')(in_layer)\n",
        "encoder = Dense(24,  activation='relu')(encoder)\n",
        "\n",
        "latent  = Dense(8,  activation='relu')(encoder)\n",
        "\n",
        "decoder = Dense(24, activation='relu')(latent)\n",
        "decoder = Dense(32, activation='relu')(decoder)\n",
        "out_layer = Dense(x_train.shape[1])(decoder)\n",
        "\n",
        "AE = Model(inputs=in_layer, outputs=out_layer)\n",
        "AE.summary()\n",
        "\n",
        "# Compile\n",
        "AE.compile(optimizer='adam', loss='mse', metrics=['accuracy'])\n",
        "\n",
        "# Train it\n",
        "history = AE.fit(x_train, x_train, epochs=30, batch_size=64, validation_split=0.2)"
      ],
      "execution_count": 66,
      "outputs": [
        {
          "output_type": "stream",
          "text": [
            "Model: \"model_10\"\n",
            "_________________________________________________________________\n",
            "Layer (type)                 Output Shape              Param #   \n",
            "=================================================================\n",
            "input_7 (InputLayer)         [(None, 29)]              0         \n",
            "_________________________________________________________________\n",
            "dense_44 (Dense)             (None, 32)                960       \n",
            "_________________________________________________________________\n",
            "dense_45 (Dense)             (None, 24)                792       \n",
            "_________________________________________________________________\n",
            "dense_46 (Dense)             (None, 8)                 200       \n",
            "_________________________________________________________________\n",
            "dense_47 (Dense)             (None, 24)                216       \n",
            "_________________________________________________________________\n",
            "dense_48 (Dense)             (None, 32)                800       \n",
            "_________________________________________________________________\n",
            "dense_49 (Dense)             (None, 29)                957       \n",
            "=================================================================\n",
            "Total params: 3,925\n",
            "Trainable params: 3,925\n",
            "Non-trainable params: 0\n",
            "_________________________________________________________________\n",
            "Epoch 1/30\n",
            "2844/2844 [==============================] - 9s 3ms/step - loss: 0.5516 - accuracy: 0.3152 - val_loss: 0.4085 - val_accuracy: 0.3970\n",
            "Epoch 2/30\n",
            "2844/2844 [==============================] - 9s 3ms/step - loss: 0.3672 - accuracy: 0.4330 - val_loss: 0.3491 - val_accuracy: 0.4570\n",
            "Epoch 3/30\n",
            "2844/2844 [==============================] - 9s 3ms/step - loss: 0.3269 - accuracy: 0.4792 - val_loss: 0.3193 - val_accuracy: 0.4963\n",
            "Epoch 4/30\n",
            "2844/2844 [==============================] - 8s 3ms/step - loss: 0.3061 - accuracy: 0.5131 - val_loss: 0.3000 - val_accuracy: 0.5258\n",
            "Epoch 5/30\n",
            "2844/2844 [==============================] - 9s 3ms/step - loss: 0.2928 - accuracy: 0.5301 - val_loss: 0.2905 - val_accuracy: 0.5371\n",
            "Epoch 6/30\n",
            "2844/2844 [==============================] - 9s 3ms/step - loss: 0.2817 - accuracy: 0.5345 - val_loss: 0.2809 - val_accuracy: 0.5406\n",
            "Epoch 7/30\n",
            "2844/2844 [==============================] - 9s 3ms/step - loss: 0.2689 - accuracy: 0.5464 - val_loss: 0.2683 - val_accuracy: 0.5566\n",
            "Epoch 8/30\n",
            "2844/2844 [==============================] - 9s 3ms/step - loss: 0.2600 - accuracy: 0.5601 - val_loss: 0.2585 - val_accuracy: 0.5643\n",
            "Epoch 9/30\n",
            "2844/2844 [==============================] - 8s 3ms/step - loss: 0.2526 - accuracy: 0.5750 - val_loss: 0.2509 - val_accuracy: 0.5788\n",
            "Epoch 10/30\n",
            "2844/2844 [==============================] - 9s 3ms/step - loss: 0.2433 - accuracy: 0.5841 - val_loss: 0.2721 - val_accuracy: 0.5529\n",
            "Epoch 11/30\n",
            "2844/2844 [==============================] - 9s 3ms/step - loss: 0.2341 - accuracy: 0.5917 - val_loss: 0.2361 - val_accuracy: 0.5902\n",
            "Epoch 12/30\n",
            "2844/2844 [==============================] - 9s 3ms/step - loss: 0.2281 - accuracy: 0.6003 - val_loss: 0.2229 - val_accuracy: 0.6103\n",
            "Epoch 13/30\n",
            "2844/2844 [==============================] - 9s 3ms/step - loss: 0.2191 - accuracy: 0.6102 - val_loss: 0.2166 - val_accuracy: 0.6125\n",
            "Epoch 14/30\n",
            "2844/2844 [==============================] - 9s 3ms/step - loss: 0.2129 - accuracy: 0.6183 - val_loss: 0.2154 - val_accuracy: 0.6263\n",
            "Epoch 15/30\n",
            "2844/2844 [==============================] - 9s 3ms/step - loss: 0.2087 - accuracy: 0.6245 - val_loss: 0.2067 - val_accuracy: 0.6324\n",
            "Epoch 16/30\n",
            "2844/2844 [==============================] - 9s 3ms/step - loss: 0.2048 - accuracy: 0.6263 - val_loss: 0.2186 - val_accuracy: 0.6096\n",
            "Epoch 17/30\n",
            "2844/2844 [==============================] - 9s 3ms/step - loss: 0.2026 - accuracy: 0.6298 - val_loss: 0.2044 - val_accuracy: 0.6373\n",
            "Epoch 18/30\n",
            "2844/2844 [==============================] - 9s 3ms/step - loss: 0.2014 - accuracy: 0.6309 - val_loss: 0.2001 - val_accuracy: 0.6329\n",
            "Epoch 19/30\n",
            "2844/2844 [==============================] - 9s 3ms/step - loss: 0.1999 - accuracy: 0.6335 - val_loss: 0.1976 - val_accuracy: 0.6423\n",
            "Epoch 20/30\n",
            "2844/2844 [==============================] - 9s 3ms/step - loss: 0.1976 - accuracy: 0.6347 - val_loss: 0.1986 - val_accuracy: 0.6392\n",
            "Epoch 21/30\n",
            "2844/2844 [==============================] - 9s 3ms/step - loss: 0.1958 - accuracy: 0.6372 - val_loss: 0.1928 - val_accuracy: 0.6488\n",
            "Epoch 22/30\n",
            "2844/2844 [==============================] - 9s 3ms/step - loss: 0.1932 - accuracy: 0.6381 - val_loss: 0.1937 - val_accuracy: 0.6353\n",
            "Epoch 23/30\n",
            "2844/2844 [==============================] - 9s 3ms/step - loss: 0.1916 - accuracy: 0.6401 - val_loss: 0.1978 - val_accuracy: 0.6387\n",
            "Epoch 24/30\n",
            "2844/2844 [==============================] - 9s 3ms/step - loss: 0.1896 - accuracy: 0.6409 - val_loss: 0.1927 - val_accuracy: 0.6461\n",
            "Epoch 25/30\n",
            "2844/2844 [==============================] - 9s 3ms/step - loss: 0.1882 - accuracy: 0.6395 - val_loss: 0.1861 - val_accuracy: 0.6429\n",
            "Epoch 26/30\n",
            "2844/2844 [==============================] - 9s 3ms/step - loss: 0.1835 - accuracy: 0.6364 - val_loss: 0.1842 - val_accuracy: 0.6288\n",
            "Epoch 27/30\n",
            "2844/2844 [==============================] - 9s 3ms/step - loss: 0.1787 - accuracy: 0.6369 - val_loss: 0.1747 - val_accuracy: 0.6472\n",
            "Epoch 28/30\n",
            "2844/2844 [==============================] - 9s 3ms/step - loss: 0.1765 - accuracy: 0.6392 - val_loss: 0.1743 - val_accuracy: 0.6392\n",
            "Epoch 29/30\n",
            "2844/2844 [==============================] - 9s 3ms/step - loss: 0.1743 - accuracy: 0.6413 - val_loss: 0.1730 - val_accuracy: 0.6429\n",
            "Epoch 30/30\n",
            "2844/2844 [==============================] - 9s 3ms/step - loss: 0.1729 - accuracy: 0.6414 - val_loss: 0.1714 - val_accuracy: 0.6440\n"
          ],
          "name": "stdout"
        }
      ]
    },
    {
      "cell_type": "code",
      "metadata": {
        "id": "K3xoQeXU5IdJ",
        "colab_type": "code",
        "colab": {
          "base_uri": "https://localhost:8080/",
          "height": 286
        },
        "outputId": "b1f9201e-d4c9-4c7d-e4ee-6d0eed63cf67"
      },
      "source": [
        "# Create a submodel using only the encoder part of previous model (output must be latent layer)\n",
        "encoder_model = Model(inputs=in_layer, outputs=latent)\n",
        "encoder_model.summary()"
      ],
      "execution_count": 67,
      "outputs": [
        {
          "output_type": "stream",
          "text": [
            "Model: \"model_11\"\n",
            "_________________________________________________________________\n",
            "Layer (type)                 Output Shape              Param #   \n",
            "=================================================================\n",
            "input_7 (InputLayer)         [(None, 29)]              0         \n",
            "_________________________________________________________________\n",
            "dense_44 (Dense)             (None, 32)                960       \n",
            "_________________________________________________________________\n",
            "dense_45 (Dense)             (None, 24)                792       \n",
            "_________________________________________________________________\n",
            "dense_46 (Dense)             (None, 8)                 200       \n",
            "=================================================================\n",
            "Total params: 1,952\n",
            "Trainable params: 1,952\n",
            "Non-trainable params: 0\n",
            "_________________________________________________________________\n"
          ],
          "name": "stdout"
        }
      ]
    },
    {
      "cell_type": "code",
      "metadata": {
        "id": "igEmMngq5I25",
        "colab_type": "code",
        "colab": {
          "base_uri": "https://localhost:8080/",
          "height": 50
        },
        "outputId": "4635e1f6-f5fb-481d-a97f-e82bc1777ade"
      },
      "source": [
        "# Predict a latent representation for the test set and the frauds set\n",
        "latent_normal = encoder_model.predict(x_test)\n",
        "latent_frauds = encoder_model.predict(frauds)\n",
        "\n",
        "print(latent_normal.shape)\n",
        "print(latent_frauds.shape)"
      ],
      "execution_count": 68,
      "outputs": [
        {
          "output_type": "stream",
          "text": [
            "(56863, 8)\n",
            "(492, 8)\n"
          ],
          "name": "stdout"
        }
      ]
    },
    {
      "cell_type": "code",
      "metadata": {
        "id": "0HMMyESG5S3Y",
        "colab_type": "code",
        "colab": {
          "base_uri": "https://localhost:8080/",
          "height": 241
        },
        "outputId": "df3851ff-209c-41f1-e959-cea84f6083ba"
      },
      "source": [
        "# Plot distribution of latent space\n",
        "plt.figure(figsize=(16, 3))\n",
        "plt.subplot(1, 2, 1)\n",
        "plt.title('Normal')\n",
        "plt.boxplot(latent_normal)\n",
        "plt.xlabel('Latent space variables')\n",
        "plt.ylabel('Values distribution')\n",
        "plt.grid()\n",
        "plt.subplot(1, 2, 2)\n",
        "plt.title('Frauds')\n",
        "plt.boxplot(latent_frauds)\n",
        "plt.xlabel('Latent space variables')\n",
        "plt.ylabel('Values distribution')\n",
        "plt.grid()\n",
        "plt.show()"
      ],
      "execution_count": 69,
      "outputs": [
        {
          "output_type": "display_data",
          "data": {
            "image/png": "[encoded data removed]",
            "text/plain": [
              "<Figure size 1152x216 with 2 Axes>"
            ]
          },
          "metadata": {
            "tags": [],
            "needs_background": "light"
          }
        }
      ]
    },
    {
      "cell_type": "code",
      "metadata": {
        "id": "qUcHqKUUjcOm",
        "colab_type": "code",
        "colab": {}
      },
      "source": [
        "# == Q ==\n",
        "# 1. Diseña un AE que obtenga pérdida menor o igual 0.01 tanto en entrenamiento como validación.\n",
        "#    Reporta tu arquitectura.\n",
        "# 2. ¿Existe alguna relación entre la profundidad del AE y la pérdida final?\n",
        "# 3. ¿Existe alguna relación entre la profundidad del AE y la separación resultante\n",
        "#    entre los espacios latentes de los datos normales y anormales?\n",
        "# 4. ¿Existe alguna relación entre el número elementos en el espacio latente y la pérdida final?\n",
        "# 5. ¿Existe alguna relación entre el número elementos en el espacio latente y la separación resultante\n",
        "#    entre los espacios latentes de los datos normales y anormales?\n",
        "# 6. Intenta forzar el espacio latente para que sea ralo. Reporta tu mejor modelo y \n",
        "#    el desempeño que obtenga, tanto en pérdida como en capacidad de diferenciar datos anormales."
      ],
      "execution_count": 0,
      "outputs": []
    }
  ]
}
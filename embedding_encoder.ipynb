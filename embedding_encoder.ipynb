{
  "nbformat": 4,
  "nbformat_minor": 0,
  "metadata": {
    "colab": {
      "name": "embedding_encoder.ipynb",
      "provenance": [],
      "authorship_tag": "ABX9TyPNqXAv1AvNnFGb20WV5dlz",
      "include_colab_link": true
    },
    "kernelspec": {
      "name": "python3",
      "display_name": "Python 3"
    },
    "accelerator": "GPU"
  },
  "cells": [
    {
      "cell_type": "markdown",
      "metadata": {
        "id": "view-in-github",
        "colab_type": "text"
      },
      "source": [
        "<a href=\"https://colab.research.google.com/github/Pilo1961/Deep_Learning/blob/master/embedding_encoder.ipynb\" target=\"_parent\"><img src=\"https://colab.research.google.com/assets/colab-badge.svg\" alt=\"Open In Colab\"/></a>"
      ]
    },
    {
      "cell_type": "code",
      "metadata": {
        "id": "Da7V6mjR5cy9",
        "colab_type": "code",
        "colab": {
          "base_uri": "https://localhost:8080/",
          "height": 121
        },
        "outputId": "1a0b4f92-4713-4476-d9a4-0726b92728bd"
      },
      "source": [
        "# mount drive \n",
        "from google.colab import drive\n",
        "drive.mount('/content/drive')"
      ],
      "execution_count": 1,
      "outputs": [
        {
          "output_type": "stream",
          "text": [
            "Go to this URL in a browser: https://accounts.google.com/o/oauth2/auth?client_id=947318989803-6bn6qk8qdgf4n4g3pfee6491hc0brc4i.apps.googleusercontent.com&redirect_uri=urn%3aietf%3awg%3aoauth%3a2.0%3aoob&response_type=code&scope=email%20https%3a%2f%2fwww.googleapis.com%2fauth%2fdocs.test%20https%3a%2f%2fwww.googleapis.com%2fauth%2fdrive%20https%3a%2f%2fwww.googleapis.com%2fauth%2fdrive.photos.readonly%20https%3a%2f%2fwww.googleapis.com%2fauth%2fpeopleapi.readonly\n",
            "\n",
            "Enter your authorization code:\n",
            "··········\n",
            "Mounted at /content/drive\n"
          ],
          "name": "stdout"
        }
      ]
    },
    {
      "cell_type": "code",
      "metadata": {
        "id": "o5VViq7s6b4r",
        "colab_type": "code",
        "colab": {}
      },
      "source": [
        "import pandas as pd\n",
        "import numpy as np"
      ],
      "execution_count": 0,
      "outputs": []
    },
    {
      "cell_type": "code",
      "metadata": {
        "id": "MeuS-1q75h80",
        "colab_type": "code",
        "colab": {}
      },
      "source": [
        "import pickle\n",
        "with open(\"/content/drive/My Drive/embeddings_jp/infersent.pkl\", 'rb') as f:\n",
        "  embedding = pickle.load(f) "
      ],
      "execution_count": 0,
      "outputs": []
    },
    {
      "cell_type": "code",
      "metadata": {
        "id": "BRtT6XH56AJf",
        "colab_type": "code",
        "colab": {}
      },
      "source": [
        "def train_test(df):\n",
        "  x_train = df[df.index % 5 != 0]     # Excludes every 5th row starting from 0\n",
        "  x_test = df[df.index % 5 == 0]      # Selects every 5th row starting from 0\n",
        "  return x_train, x_test"
      ],
      "execution_count": 0,
      "outputs": []
    },
    {
      "cell_type": "code",
      "metadata": {
        "id": "5KJYz9wO6KAS",
        "colab_type": "code",
        "colab": {
          "base_uri": "https://localhost:8080/",
          "height": 50
        },
        "outputId": "b28bd5a7-c1ec-4602-d434-ce7addecfc40"
      },
      "source": [
        "df_emb=pd.DataFrame(embedding)\n",
        "df_emb.head()\n",
        "\n",
        "emb_train, emb_test= train_test(df_emb)\n",
        "print(emb_train.shape)\n",
        "print(emb_test.shape)"
      ],
      "execution_count": 4,
      "outputs": [
        {
          "output_type": "stream",
          "text": [
            "(32364, 4096)\n",
            "(8091, 4096)\n"
          ],
          "name": "stdout"
        }
      ]
    },
    {
      "cell_type": "code",
      "metadata": {
        "id": "b51MIXm66Kg7",
        "colab_type": "code",
        "colab": {
          "base_uri": "https://localhost:8080/",
          "height": 34
        },
        "outputId": "abe0781c-474e-4256-f8f7-8e7a24dbcc8c"
      },
      "source": [
        "from tensorflow.keras.losses import binary_crossentropy\n",
        "from keras.optimizers import adam\n",
        "from keras import backend as K\n",
        "from tensorflow.keras.models import Sequential, Model\n",
        "import tensorflow as tf\n",
        "tf.config.experimental_run_functions_eagerly(True)\n",
        "from tensorflow.keras.layers import concatenate, Embedding, Dense, Dropout, Reshape, UpSampling2D, Conv2D, BatchNormalization, Activation, Input, Concatenate, LeakyReLU, Flatten, Lambda"
      ],
      "execution_count": 5,
      "outputs": [
        {
          "output_type": "stream",
          "text": [
            "Using TensorFlow backend.\n"
          ],
          "name": "stderr"
        }
      ]
    },
    {
      "cell_type": "code",
      "metadata": {
        "id": "hSXimOKG6j5c",
        "colab_type": "code",
        "colab": {}
      },
      "source": [
        "def KL_loss(y_true, y_pred):\n",
        "    mean = y_pred[:, :128]\n",
        "    logsigma = y_pred[:, :128]\n",
        "    loss = -logsigma + .5 * (-1 + K.exp(2. * logsigma) + K.square(mean))\n",
        "    loss = K.mean(loss)\n",
        "    return loss"
      ],
      "execution_count": 0,
      "outputs": []
    },
    {
      "cell_type": "code",
      "metadata": {
        "id": "egbUpYje6nRf",
        "colab_type": "code",
        "colab": {
          "base_uri": "https://localhost:8080/",
          "height": 252
        },
        "outputId": "4ca2d3c8-6a4a-4205-9f9b-c26a37809b51"
      },
      "source": [
        "latent_len=1024\n",
        "\n",
        "# AUX function -- Sampler\n",
        "def sample_z(args):\n",
        "    mean, var = args\n",
        "    batch_size = tf.shape(mean)[0]\n",
        "    eps = tf.random.normal(shape=(batch_size, latent_len))\n",
        "    return mean + tf.exp(var) * eps\n",
        "\n",
        "# Esto se debe de ir a models\n",
        "#def create_embedding_compressor(len_embedding=20):\n",
        "'''\n",
        "Crea la red discrimidaora de la primera etapa\n",
        "'''\n",
        "# Q(z|x) -- Define encoder\n",
        "in_layer = Input(shape=(4096,), name='INPUT')\n",
        "h_q = Dense(1024, activation='relu', name='H_Q')(in_layer)\n",
        "\n",
        "mu = Dense(latent_len, activation='linear', name='MU')(h_q)\n",
        "log_sigma = Dense(latent_len, activation='linear', name='SIGMA')(h_q)\n",
        "\n",
        "# Espacio latente\n",
        "z = Lambda(sample_z, name='Z')([mu, log_sigma])\n",
        "\n",
        "# P(x|z) -- Define decoder\n",
        "decode_in_layer = Input(shape=(latent_len,), name='IN_DECOD')\n",
        "decode_hidden = Dense(1024, activation='relu', name='H_P')(decode_in_layer)\n",
        "decode_out_layer = Dense(4096, activation='sigmoid', name='OUT')(decode_hidden)\n",
        "\n",
        "encoder = Model(in_layer, z, name='ENCODER')\n",
        "decoder = Model(decode_in_layer, decode_out_layer, name='DECODER')\n",
        "\n",
        "# Create full Variational Autoencoder\n",
        "out_layer = decoder(encoder(in_layer))\n",
        "vae = Model(in_layer, out_layer, name='VAE')\n",
        "\n",
        "vae.summary()\n",
        "\n",
        "\n",
        "#return Model(inputs=[input_layer],outputs=[emb])\n"
      ],
      "execution_count": 11,
      "outputs": [
        {
          "output_type": "stream",
          "text": [
            "Model: \"VAE\"\n",
            "_________________________________________________________________\n",
            "Layer (type)                 Output Shape              Param #   \n",
            "=================================================================\n",
            "INPUT (InputLayer)           [(None, 4096)]            0         \n",
            "_________________________________________________________________\n",
            "ENCODER (Model)              (None, 1024)              6294528   \n",
            "_________________________________________________________________\n",
            "DECODER (Model)              (None, 4096)              5248000   \n",
            "=================================================================\n",
            "Total params: 11,542,528\n",
            "Trainable params: 11,542,528\n",
            "Non-trainable params: 0\n",
            "_________________________________________________________________\n"
          ],
          "name": "stdout"
        }
      ]
    },
    {
      "cell_type": "code",
      "metadata": {
        "id": "YTuz5NJc8Fwm",
        "colab_type": "code",
        "colab": {
          "base_uri": "https://localhost:8080/",
          "height": 252
        },
        "outputId": "a4d97c00-39bb-4711-fe2c-d90779ba17ff"
      },
      "source": [
        "latent_len=1024\n",
        "# Q(z|x) -- Define encoder\n",
        "in_layer = Input(shape=(4096,), name='INPUT')\n",
        "h_q = Dense(latent_len, activation='relu', name='H_Q')(in_layer)\n",
        "\n",
        "decode_in_layer = Input(shape=(latent_len,), name='IN_DECOD')\n",
        "decode_out_layer = Dense(4096, activation='sigmoid', name='OUT')(decode_in_layer)\n",
        "\n",
        "encoder = Model(in_layer, h_q, name='ENCODER')\n",
        "decoder = Model(decode_in_layer, decode_out_layer, name='DECODER')\n",
        "\n",
        "# Create full Variational Autoencoder\n",
        "out_layer = decoder(encoder(in_layer))\n",
        "vae = Model(in_layer, out_layer, name='VAE')\n",
        "\n",
        "vae.summary()\n",
        "\n"
      ],
      "execution_count": 31,
      "outputs": [
        {
          "output_type": "stream",
          "text": [
            "Model: \"VAE\"\n",
            "_________________________________________________________________\n",
            "Layer (type)                 Output Shape              Param #   \n",
            "=================================================================\n",
            "INPUT (InputLayer)           [(None, 4096)]            0         \n",
            "_________________________________________________________________\n",
            "ENCODER (Model)              (None, 1024)              4195328   \n",
            "_________________________________________________________________\n",
            "DECODER (Model)              (None, 4096)              4198400   \n",
            "=================================================================\n",
            "Total params: 8,393,728\n",
            "Trainable params: 8,393,728\n",
            "Non-trainable params: 0\n",
            "_________________________________________________________________\n"
          ],
          "name": "stdout"
        }
      ]
    },
    {
      "cell_type": "code",
      "metadata": {
        "id": "y7qHHNE26qTa",
        "colab_type": "code",
        "colab": {}
      },
      "source": [
        "# AUX -- VAE custom loss (DKL + BCE)\n",
        "def vae_loss(x, x_hat):\n",
        "\n",
        "    # E[log P(X|z)] - BCE\n",
        "    reconst = binary_crossentropy(tf.keras.backend.flatten(x), tf.keras.backend.flatten(x_hat))\n",
        "    # D_KL(Q(z|X) || P(z|X))\n",
        "    dkl = -0.5 * tf.reduce_sum(1 + log_sigma - tf.square(mu) - tf.exp(log_sigma), axis=-1)\n",
        "    return reconst + 0.00003 * dkl"
      ],
      "execution_count": 0,
      "outputs": []
    },
    {
      "cell_type": "code",
      "metadata": {
        "id": "n7Fn0r-t6to_",
        "colab_type": "code",
        "colab": {
          "base_uri": "https://localhost:8080/",
          "height": 1000
        },
        "outputId": "613d98ba-aef2-4733-c4ff-8950cefa590a"
      },
      "source": [
        "# Compile and train\n",
        "batch_size=100\n",
        "vae.compile(optimizer='adam', loss='mse', experimental_run_tf_function=False)\n",
        "history = vae.fit(emb_train, emb_train, epochs=50, batch_size=batch_size, validation_split=0.2)"
      ],
      "execution_count": 32,
      "outputs": [
        {
          "output_type": "stream",
          "text": [
            "Epoch 1/50\n",
            "259/259 [==============================] - 3s 12ms/step - loss: 0.0084 - val_loss: 0.0044\n",
            "Epoch 2/50\n",
            "259/259 [==============================] - 3s 11ms/step - loss: 0.0043 - val_loss: 0.0043\n",
            "Epoch 3/50\n",
            "259/259 [==============================] - 3s 11ms/step - loss: 0.0042 - val_loss: 0.0042\n",
            "Epoch 4/50\n",
            "259/259 [==============================] - 3s 12ms/step - loss: 0.0041 - val_loss: 0.0041\n",
            "Epoch 5/50\n",
            "259/259 [==============================] - 3s 12ms/step - loss: 0.0040 - val_loss: 0.0040\n",
            "Epoch 6/50\n",
            "259/259 [==============================] - 3s 12ms/step - loss: 0.0039 - val_loss: 0.0039\n",
            "Epoch 7/50\n",
            "259/259 [==============================] - 3s 12ms/step - loss: 0.0039 - val_loss: 0.0039\n",
            "Epoch 8/50\n",
            "259/259 [==============================] - 3s 12ms/step - loss: 0.0038 - val_loss: 0.0037\n",
            "Epoch 9/50\n",
            "259/259 [==============================] - 3s 12ms/step - loss: 0.0036 - val_loss: 0.0035\n",
            "Epoch 10/50\n",
            "259/259 [==============================] - 3s 12ms/step - loss: 0.0034 - val_loss: 0.0033\n",
            "Epoch 11/50\n",
            "259/259 [==============================] - 3s 12ms/step - loss: 0.0030 - val_loss: 0.0025\n",
            "Epoch 12/50\n",
            "259/259 [==============================] - 3s 12ms/step - loss: 0.0015 - val_loss: 0.0012\n",
            "Epoch 13/50\n",
            "259/259 [==============================] - 3s 11ms/step - loss: 0.0011 - val_loss: 0.0010\n",
            "Epoch 14/50\n",
            "259/259 [==============================] - 3s 12ms/step - loss: 9.9967e-04 - val_loss: 9.7638e-04\n",
            "Epoch 15/50\n",
            "259/259 [==============================] - 3s 11ms/step - loss: 9.4930e-04 - val_loss: 9.3859e-04\n",
            "Epoch 16/50\n",
            "259/259 [==============================] - 3s 11ms/step - loss: 9.1707e-04 - val_loss: 9.1478e-04\n",
            "Epoch 17/50\n",
            "259/259 [==============================] - 3s 11ms/step - loss: 8.9187e-04 - val_loss: 8.8986e-04\n",
            "Epoch 18/50\n",
            "259/259 [==============================] - 3s 11ms/step - loss: 8.7053e-04 - val_loss: 8.7109e-04\n",
            "Epoch 19/50\n",
            "259/259 [==============================] - 3s 11ms/step - loss: 8.5216e-04 - val_loss: 8.5512e-04\n",
            "Epoch 20/50\n",
            "259/259 [==============================] - 3s 11ms/step - loss: 8.3552e-04 - val_loss: 8.4062e-04\n",
            "Epoch 21/50\n",
            "259/259 [==============================] - 3s 12ms/step - loss: 8.2070e-04 - val_loss: 8.3223e-04\n",
            "Epoch 22/50\n",
            "259/259 [==============================] - 3s 12ms/step - loss: 8.0703e-04 - val_loss: 8.1743e-04\n",
            "Epoch 23/50\n",
            "259/259 [==============================] - 3s 12ms/step - loss: 7.9417e-04 - val_loss: 8.0437e-04\n",
            "Epoch 24/50\n",
            "259/259 [==============================] - 3s 12ms/step - loss: 7.8328e-04 - val_loss: 7.9318e-04\n",
            "Epoch 25/50\n",
            "259/259 [==============================] - 3s 12ms/step - loss: 7.7249e-04 - val_loss: 7.8431e-04\n",
            "Epoch 26/50\n",
            "259/259 [==============================] - 3s 11ms/step - loss: 7.6264e-04 - val_loss: 7.7687e-04\n",
            "Epoch 27/50\n",
            "259/259 [==============================] - 3s 12ms/step - loss: 7.5350e-04 - val_loss: 7.6853e-04\n",
            "Epoch 28/50\n",
            "259/259 [==============================] - 3s 12ms/step - loss: 7.4533e-04 - val_loss: 7.6103e-04\n",
            "Epoch 29/50\n",
            "259/259 [==============================] - 3s 11ms/step - loss: 7.3704e-04 - val_loss: 7.5353e-04\n",
            "Epoch 30/50\n",
            "259/259 [==============================] - 3s 11ms/step - loss: 7.2917e-04 - val_loss: 7.4681e-04\n",
            "Epoch 31/50\n",
            "259/259 [==============================] - 3s 12ms/step - loss: 7.2214e-04 - val_loss: 7.4139e-04\n",
            "Epoch 32/50\n",
            "259/259 [==============================] - 3s 12ms/step - loss: 7.1538e-04 - val_loss: 7.3413e-04\n",
            "Epoch 33/50\n",
            "259/259 [==============================] - 3s 12ms/step - loss: 7.0915e-04 - val_loss: 7.2863e-04\n",
            "Epoch 34/50\n",
            "259/259 [==============================] - 3s 12ms/step - loss: 7.0254e-04 - val_loss: 7.2516e-04\n",
            "Epoch 35/50\n",
            "259/259 [==============================] - 3s 12ms/step - loss: 6.9678e-04 - val_loss: 7.1898e-04\n",
            "Epoch 36/50\n",
            "259/259 [==============================] - 3s 12ms/step - loss: 6.9137e-04 - val_loss: 7.1416e-04\n",
            "Epoch 37/50\n",
            "259/259 [==============================] - 3s 12ms/step - loss: 6.8628e-04 - val_loss: 7.0993e-04\n",
            "Epoch 38/50\n",
            "259/259 [==============================] - 3s 12ms/step - loss: 6.8125e-04 - val_loss: 7.0589e-04\n",
            "Epoch 39/50\n",
            "259/259 [==============================] - 3s 12ms/step - loss: 6.7610e-04 - val_loss: 7.0137e-04\n",
            "Epoch 40/50\n",
            "259/259 [==============================] - 3s 12ms/step - loss: 6.7139e-04 - val_loss: 6.9790e-04\n",
            "Epoch 41/50\n",
            "259/259 [==============================] - 3s 12ms/step - loss: 6.6709e-04 - val_loss: 6.9306e-04\n",
            "Epoch 42/50\n",
            "259/259 [==============================] - 3s 12ms/step - loss: 6.6241e-04 - val_loss: 6.8943e-04\n",
            "Epoch 43/50\n",
            "259/259 [==============================] - 3s 11ms/step - loss: 6.5810e-04 - val_loss: 6.8623e-04\n",
            "Epoch 44/50\n",
            "259/259 [==============================] - 3s 12ms/step - loss: 6.5429e-04 - val_loss: 6.8314e-04\n",
            "Epoch 45/50\n",
            "259/259 [==============================] - 3s 12ms/step - loss: 6.5060e-04 - val_loss: 6.7935e-04\n",
            "Epoch 46/50\n",
            "259/259 [==============================] - 3s 12ms/step - loss: 6.4765e-04 - val_loss: 6.7681e-04\n",
            "Epoch 47/50\n",
            "259/259 [==============================] - 3s 12ms/step - loss: 6.4332e-04 - val_loss: 6.7344e-04\n",
            "Epoch 48/50\n",
            "259/259 [==============================] - 3s 12ms/step - loss: 6.4004e-04 - val_loss: 6.7061e-04\n",
            "Epoch 49/50\n",
            "259/259 [==============================] - 3s 11ms/step - loss: 6.3666e-04 - val_loss: 6.6833e-04\n",
            "Epoch 50/50\n",
            "259/259 [==============================] - 3s 12ms/step - loss: 6.3364e-04 - val_loss: 6.6613e-04\n"
          ],
          "name": "stdout"
        }
      ]
    },
    {
      "cell_type": "code",
      "metadata": {
        "id": "x9m3hCmr6wnW",
        "colab_type": "code",
        "colab": {}
      },
      "source": [
        "import matplotlib.pyplot as plt\n",
        "\n",
        "# Plot distribution of latent space\n",
        "x_test_encoded = encoder.predict(emb_test, batch_size=100)\n",
        "x_train_encoded = encoder.predict(emb_train, batch_size=100)"
      ],
      "execution_count": 0,
      "outputs": []
    },
    {
      "cell_type": "code",
      "metadata": {
        "id": "kLUH99Ub-kjD",
        "colab_type": "code",
        "colab": {
          "base_uri": "https://localhost:8080/",
          "height": 151
        },
        "outputId": "92c5fe58-5970-4639-d6e2-577e6d0a9cac"
      },
      "source": [
        "x_test_encoded[:,:5]"
      ],
      "execution_count": 34,
      "outputs": [
        {
          "output_type": "execute_result",
          "data": {
            "text/plain": [
              "array([[0.10368969, 0.12826093, 0.17225644, 0.25430372, 0.6978054 ],\n",
              "       [0.        , 0.4913183 , 0.42970124, 0.2662955 , 0.6191561 ],\n",
              "       [0.        , 0.18445027, 0.32199034, 0.36835104, 0.        ],\n",
              "       ...,\n",
              "       [0.        , 0.34447354, 0.29852533, 0.        , 0.        ],\n",
              "       [0.7424813 , 0.9852868 , 0.03696638, 0.16963893, 0.93767846],\n",
              "       [0.        , 0.6991482 , 0.14024022, 0.3291487 , 0.9058262 ]],\n",
              "      dtype=float32)"
            ]
          },
          "metadata": {
            "tags": []
          },
          "execution_count": 34
        }
      ]
    },
    {
      "cell_type": "code",
      "metadata": {
        "id": "-jPc2nCeA58n",
        "colab_type": "code",
        "colab": {
          "base_uri": "https://localhost:8080/",
          "height": 34
        },
        "outputId": "07716c90-acb6-42db-e84b-78ffec9a65bd"
      },
      "source": [
        "x_train_encoded.shape"
      ],
      "execution_count": 35,
      "outputs": [
        {
          "output_type": "execute_result",
          "data": {
            "text/plain": [
              "(32364, 1024)"
            ]
          },
          "metadata": {
            "tags": []
          },
          "execution_count": 35
        }
      ]
    },
    {
      "cell_type": "code",
      "metadata": {
        "id": "tx5JIUOK-kpG",
        "colab_type": "code",
        "colab": {
          "base_uri": "https://localhost:8080/",
          "height": 177
        },
        "outputId": "365b6476-b930-43b9-a089-dabe39ccabf3"
      },
      "source": [
        "plt.figure(figsize=(32, 3))\n",
        "plt.boxplot(x_test_encoded[:,:150])\n",
        "plt.xlabel('Latent space variables')\n",
        "plt.ylabel('Values distribution')\n",
        "plt.grid()\n",
        "plt.show()"
      ],
      "execution_count": 36,
      "outputs": [
        {
          "output_type": "display_data",
          "data": {
            "image/png": "[encoded data removed]",
            "text/plain": [
              "<Figure size 2304x216 with 1 Axes>"
            ]
          },
          "metadata": {
            "tags": [],
            "needs_background": "light"
          }
        }
      ]
    },
    {
      "cell_type": "code",
      "metadata": {
        "id": "NNEvDAXj_PJG",
        "colab_type": "code",
        "colab": {}
      },
      "source": [
        "  with open(\"/content/drive/My Drive/embeddings_jp/infersent_1024_encoding.pkl\", 'wb') as f:\n",
        "    pickle.dump(x_train_encoded,f) "
      ],
      "execution_count": 0,
      "outputs": []
    },
    {
      "cell_type": "code",
      "metadata": {
        "id": "quw9YTtLAiZY",
        "colab_type": "code",
        "colab": {}
      },
      "source": [
        ""
      ],
      "execution_count": 0,
      "outputs": []
    }
  ]
}